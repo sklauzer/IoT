{
 "cells": [
  {
   "cell_type": "code",
   "execution_count": 1,
   "metadata": {},
   "outputs": [],
   "source": [
    "import pandas as pd\n",
    "import csv\n",
    "import os"
   ]
  },
  {
   "cell_type": "code",
   "execution_count": 3,
   "metadata": {},
   "outputs": [
    {
     "name": "stdout",
     "output_type": "stream",
     "text": [
      "Spaltennamen:\n",
      "date_time;device_id;tmp;hum;CO2;VOC;vis;IR;WIFI;BLE;rssi;channel_rssi;snr;gateway;channel_index;spreading_factor;bandwidth;f_cnt\n"
     ]
    }
   ],
   "source": [
    "\n",
    "# Öffne die DAT-Datei\n",
    "with open('hka-aqm-n/hka-aqm-n002_2022_09_01.dat', 'r') as f:\n",
    "    # Verwende den CSV-Reader, um die erste Zeile der Datei zu lesen und die Spaltennamen zu extrahieren\n",
    "    csv_reader = csv.reader(f, delimiter='\\t')  # Annahme: Tabulator als Trennzeichen\n",
    "    next(csv_reader)\n",
    "\n",
    "    # Lese die erste Zeile (die Spaltennamen)\n",
    "    spaltennamen = next(csv_reader)\n",
    "\n",
    "# Gib die Spaltennamen aus\n",
    "print(\"Spaltennamen:\")\n",
    "for name in spaltennamen:\n",
    "    print(name)"
   ]
  },
  {
   "cell_type": "code",
   "execution_count": 7,
   "metadata": {},
   "outputs": [
    {
     "name": "stdout",
     "output_type": "stream",
     "text": [
      "   date_time;device_id;tmp;hum;CO2;VOC;vis;IR;WIFI;BLE;rssi;channel_rssi;snr;gateway;channel_index;spreading_factor;bandwidth;f_cnt\n",
      "0   2022-09-01 14:17:33; hka-aqm-n002;  23.41;  55...                                                                              \n",
      "1   2022-09-01 14:32:39; hka-aqm-n002;  23.79;  53...                                                                              \n",
      "2   2022-09-01 14:33:45; hka-aqm-n002;  23.84;  53...                                                                              \n",
      "3   2022-09-01 14:37:45; hka-aqm-n002;  23.88;  53...                                                                              \n",
      "4   2022-09-01 14:39:05; hka-aqm-n002;  23.90;  53...                                                                              \n",
      "5   2022-09-01 14:43:45; hka-aqm-n002;  23.94;  52...                                                                              \n",
      "6   2022-09-01 14:58:51; hka-aqm-n002;  24.03;  51...                                                                              \n",
      "7   2022-09-01 15:13:57; hka-aqm-n002;  24.06;  49...                                                                              \n",
      "8   2022-09-01 15:29:06; hka-aqm-n002;  24.09;  48...                                                                              \n",
      "9   2022-09-01 15:44:13; hka-aqm-n002;  24.10;  48...                                                                              \n",
      "10  2022-09-01 15:59:19; hka-aqm-n002;  24.11;  48...                                                                              \n",
      "11  2022-09-01 16:14:25; hka-aqm-n002;  24.12;  49...                                                                              \n",
      "12  2022-09-01 16:29:32; hka-aqm-n002;  24.10;  49...                                                                              \n",
      "13  2022-09-01 16:44:38; hka-aqm-n002;  24.11;  49...                                                                              \n",
      "14  2022-09-01 16:59:46; hka-aqm-n002;  24.10;  49...                                                                              \n",
      "15  2022-09-01 17:05:06; hka-aqm-n002;  24.11;  49...                                                                              \n",
      "16  2022-09-01 17:20:12; hka-aqm-n002;  24.12;  49...                                                                              \n",
      "17  2022-09-01 17:34:24; hka-aqm-n002;  24.16;  49...                                                                              \n",
      "18  2022-09-01 17:49:37; hka-aqm-n002;  24.17;  49...                                                                              \n",
      "19  2022-09-01 18:04:43; hka-aqm-n002;  24.13;  48...                                                                              \n",
      "20  2022-09-01 18:50:02; hka-aqm-n002;  24.04;  49...                                                                              \n",
      "21  2022-09-01 19:05:08; hka-aqm-n002;  24.00;  49...                                                                              \n",
      "22  2022-09-01 19:20:15; hka-aqm-n002;  24.00;  50...                                                                              \n",
      "23  2022-09-01 19:35:21; hka-aqm-n002;  23.96;  50...                                                                              \n",
      "24  2022-09-01 19:50:27; hka-aqm-n002;  23.95;  50...                                                                              \n",
      "25  2022-09-01 20:05:34; hka-aqm-n002;  23.92;  51...                                                                              \n",
      "26  2022-09-01 20:20:40; hka-aqm-n002;  23.90;  51...                                                                              \n",
      "27  2022-09-01 20:35:47; hka-aqm-n002;  23.90;  51...                                                                              \n",
      "28  2022-09-01 20:51:00; hka-aqm-n002;  23.87;  51...                                                                              \n",
      "29  2022-09-01 21:06:13; hka-aqm-n002;  23.86;  51...                                                                              \n",
      "30  2022-09-01 21:21:26; hka-aqm-n002;  23.84;  50...                                                                              \n",
      "31  2022-09-01 21:36:39; hka-aqm-n002;  23.82;  50...                                                                              \n",
      "32  2022-09-01 21:51:54; hka-aqm-n002;  23.80;  50...                                                                              \n",
      "33  2022-09-01 22:07:14; hka-aqm-n002;  23.81;  50...                                                                              \n",
      "34  2022-09-01 22:22:20; hka-aqm-n002;  23.82;  50...                                                                              \n",
      "35  2022-09-01 22:37:26; hka-aqm-n002;  23.83;  50...                                                                              \n",
      "36  2022-09-01 22:52:33; hka-aqm-n002;  23.82;  51...                                                                              \n",
      "37  2022-09-01 23:07:39; hka-aqm-n002;  23.84;  51...                                                                              \n",
      "38  2022-09-01 23:22:48; hka-aqm-n002;  23.84;  51...                                                                              \n",
      "39  2022-09-01 23:37:54; hka-aqm-n002;  23.84;  51...                                                                              \n",
      "40  2022-09-01 23:53:00; hka-aqm-n002;  23.84;  50...                                                                              \n"
     ]
    }
   ],
   "source": [
    "df = pd.read_csv('hka-aqm-n/hka-aqm-n002_2022_09_01.dat', delimiter='\\t', skiprows=1)\n",
    "print(df)"
   ]
  },
  {
   "cell_type": "markdown",
   "metadata": {},
   "source": [
    "---"
   ]
  },
  {
   "cell_type": "code",
   "execution_count": null,
   "metadata": {},
   "outputs": [],
   "source": [
    "\n"
   ]
  }
 ],
 "metadata": {
  "kernelspec": {
   "display_name": "base",
   "language": "python",
   "name": "python3"
  },
  "language_info": {
   "codemirror_mode": {
    "name": "ipython",
    "version": 3
   },
   "file_extension": ".py",
   "mimetype": "text/x-python",
   "name": "python",
   "nbconvert_exporter": "python",
   "pygments_lexer": "ipython3",
   "version": "3.11.7"
  }
 },
 "nbformat": 4,
 "nbformat_minor": 2
}
