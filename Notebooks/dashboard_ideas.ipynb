{
 "cells": [
  {
   "cell_type": "code",
   "execution_count": 1,
   "metadata": {},
   "outputs": [],
   "source": [
    "import os\n",
    "import sys\n",
    "import subprocess\n",
    "\n",
    "current_dir = os.getcwd()\n",
    "git_root = subprocess.check_output([\"git\", \"rev-parse\", \"--show-toplevel\"], cwd=current_dir)\n",
    "git_root = git_root.decode(\"utf-8\").strip()\n",
    "os.chdir(git_root)\n",
    "new_dir = os.getcwd()\n",
    "sys.path.append(git_root)"
   ]
  },
  {
   "cell_type": "code",
   "execution_count": 13,
   "metadata": {},
   "outputs": [],
   "source": [
    "import pandas as pd\n",
    "import datetime\n",
    "import plotly.graph_objects as go"
   ]
  },
  {
   "cell_type": "code",
   "execution_count": 14,
   "metadata": {},
   "outputs": [],
   "source": [
    "df = pd.read_parquet(\"data/processed/data_building_n.parquet\")"
   ]
  },
  {
   "cell_type": "code",
   "execution_count": 15,
   "metadata": {},
   "outputs": [],
   "source": [
    "room = '002'\n",
    "simulation_date = pd.to_datetime(\"2024-06-07 23:59:59\")\n",
    "\n",
    "df_room = df[(df[\"room\"]==room) & (df[\"date_time\"] <= simulation_date)]\n",
    "df_room = df_room.sort_values(\"date_time\", ascending=False)"
   ]
  },
  {
   "cell_type": "code",
   "execution_count": 16,
   "metadata": {},
   "outputs": [
    {
     "data": {
      "text/html": [
       "<div>\n",
       "<style scoped>\n",
       "    .dataframe tbody tr th:only-of-type {\n",
       "        vertical-align: middle;\n",
       "    }\n",
       "\n",
       "    .dataframe tbody tr th {\n",
       "        vertical-align: top;\n",
       "    }\n",
       "\n",
       "    .dataframe thead th {\n",
       "        text-align: right;\n",
       "    }\n",
       "</style>\n",
       "<table border=\"1\" class=\"dataframe\">\n",
       "  <thead>\n",
       "    <tr style=\"text-align: right;\">\n",
       "      <th></th>\n",
       "      <th>date_time</th>\n",
       "      <th>tmp</th>\n",
       "      <th>hum</th>\n",
       "      <th>CO2</th>\n",
       "      <th>VOC</th>\n",
       "      <th>floor</th>\n",
       "      <th>date</th>\n",
       "      <th>month</th>\n",
       "      <th>hour</th>\n",
       "      <th>day_of_week</th>\n",
       "      <th>is_weekend</th>\n",
       "      <th>season</th>\n",
       "      <th>outside_tmp</th>\n",
       "      <th>outside_hum</th>\n",
       "      <th>outside_rain</th>\n",
       "      <th>outside_snowfall</th>\n",
       "      <th>outside_wind_speed</th>\n",
       "      <th>outside_pressure</th>\n",
       "    </tr>\n",
       "    <tr>\n",
       "      <th>room</th>\n",
       "      <th></th>\n",
       "      <th></th>\n",
       "      <th></th>\n",
       "      <th></th>\n",
       "      <th></th>\n",
       "      <th></th>\n",
       "      <th></th>\n",
       "      <th></th>\n",
       "      <th></th>\n",
       "      <th></th>\n",
       "      <th></th>\n",
       "      <th></th>\n",
       "      <th></th>\n",
       "      <th></th>\n",
       "      <th></th>\n",
       "      <th></th>\n",
       "      <th></th>\n",
       "      <th></th>\n",
       "    </tr>\n",
       "  </thead>\n",
       "  <tbody>\n",
       "    <tr>\n",
       "      <th>202</th>\n",
       "      <td>27198</td>\n",
       "      <td>27198</td>\n",
       "      <td>27198</td>\n",
       "      <td>27198</td>\n",
       "      <td>27198</td>\n",
       "      <td>27198</td>\n",
       "      <td>27198</td>\n",
       "      <td>27198</td>\n",
       "      <td>27198</td>\n",
       "      <td>27198</td>\n",
       "      <td>27198</td>\n",
       "      <td>27198</td>\n",
       "      <td>27198</td>\n",
       "      <td>27198</td>\n",
       "      <td>27198</td>\n",
       "      <td>27198</td>\n",
       "      <td>27198</td>\n",
       "      <td>27198</td>\n",
       "    </tr>\n",
       "    <tr>\n",
       "      <th>214</th>\n",
       "      <td>24825</td>\n",
       "      <td>24825</td>\n",
       "      <td>24825</td>\n",
       "      <td>24825</td>\n",
       "      <td>24825</td>\n",
       "      <td>24825</td>\n",
       "      <td>24825</td>\n",
       "      <td>24825</td>\n",
       "      <td>24825</td>\n",
       "      <td>24825</td>\n",
       "      <td>24825</td>\n",
       "      <td>24825</td>\n",
       "      <td>24825</td>\n",
       "      <td>24825</td>\n",
       "      <td>24825</td>\n",
       "      <td>24825</td>\n",
       "      <td>24825</td>\n",
       "      <td>24825</td>\n",
       "    </tr>\n",
       "    <tr>\n",
       "      <th>203</th>\n",
       "      <td>24695</td>\n",
       "      <td>24695</td>\n",
       "      <td>24695</td>\n",
       "      <td>24695</td>\n",
       "      <td>24695</td>\n",
       "      <td>24695</td>\n",
       "      <td>24695</td>\n",
       "      <td>24695</td>\n",
       "      <td>24695</td>\n",
       "      <td>24695</td>\n",
       "      <td>24695</td>\n",
       "      <td>24695</td>\n",
       "      <td>24695</td>\n",
       "      <td>24695</td>\n",
       "      <td>24695</td>\n",
       "      <td>24695</td>\n",
       "      <td>24695</td>\n",
       "      <td>24695</td>\n",
       "    </tr>\n",
       "    <tr>\n",
       "      <th>002</th>\n",
       "      <td>23689</td>\n",
       "      <td>23689</td>\n",
       "      <td>23689</td>\n",
       "      <td>23689</td>\n",
       "      <td>23689</td>\n",
       "      <td>23689</td>\n",
       "      <td>23689</td>\n",
       "      <td>23689</td>\n",
       "      <td>23689</td>\n",
       "      <td>23689</td>\n",
       "      <td>23689</td>\n",
       "      <td>23689</td>\n",
       "      <td>23689</td>\n",
       "      <td>23689</td>\n",
       "      <td>23689</td>\n",
       "      <td>23689</td>\n",
       "      <td>23689</td>\n",
       "      <td>23689</td>\n",
       "    </tr>\n",
       "    <tr>\n",
       "      <th>108</th>\n",
       "      <td>19320</td>\n",
       "      <td>19320</td>\n",
       "      <td>19320</td>\n",
       "      <td>19320</td>\n",
       "      <td>19320</td>\n",
       "      <td>19320</td>\n",
       "      <td>19320</td>\n",
       "      <td>19320</td>\n",
       "      <td>19320</td>\n",
       "      <td>19320</td>\n",
       "      <td>19320</td>\n",
       "      <td>19320</td>\n",
       "      <td>19320</td>\n",
       "      <td>19320</td>\n",
       "      <td>19320</td>\n",
       "      <td>19320</td>\n",
       "      <td>19320</td>\n",
       "      <td>19320</td>\n",
       "    </tr>\n",
       "    <tr>\n",
       "      <th>113</th>\n",
       "      <td>18522</td>\n",
       "      <td>18522</td>\n",
       "      <td>18522</td>\n",
       "      <td>18522</td>\n",
       "      <td>18522</td>\n",
       "      <td>18522</td>\n",
       "      <td>18522</td>\n",
       "      <td>18522</td>\n",
       "      <td>18522</td>\n",
       "      <td>18522</td>\n",
       "      <td>18522</td>\n",
       "      <td>18522</td>\n",
       "      <td>18522</td>\n",
       "      <td>18522</td>\n",
       "      <td>18522</td>\n",
       "      <td>18522</td>\n",
       "      <td>18522</td>\n",
       "      <td>18522</td>\n",
       "    </tr>\n",
       "    <tr>\n",
       "      <th>112</th>\n",
       "      <td>18490</td>\n",
       "      <td>18490</td>\n",
       "      <td>18490</td>\n",
       "      <td>18490</td>\n",
       "      <td>18490</td>\n",
       "      <td>18490</td>\n",
       "      <td>18490</td>\n",
       "      <td>18490</td>\n",
       "      <td>18490</td>\n",
       "      <td>18490</td>\n",
       "      <td>18490</td>\n",
       "      <td>18490</td>\n",
       "      <td>18490</td>\n",
       "      <td>18490</td>\n",
       "      <td>18490</td>\n",
       "      <td>18490</td>\n",
       "      <td>18490</td>\n",
       "      <td>18490</td>\n",
       "    </tr>\n",
       "    <tr>\n",
       "      <th>003</th>\n",
       "      <td>16140</td>\n",
       "      <td>16140</td>\n",
       "      <td>16140</td>\n",
       "      <td>16140</td>\n",
       "      <td>16140</td>\n",
       "      <td>16140</td>\n",
       "      <td>16140</td>\n",
       "      <td>16140</td>\n",
       "      <td>16140</td>\n",
       "      <td>16140</td>\n",
       "      <td>16140</td>\n",
       "      <td>16140</td>\n",
       "      <td>16140</td>\n",
       "      <td>16140</td>\n",
       "      <td>16140</td>\n",
       "      <td>16140</td>\n",
       "      <td>16140</td>\n",
       "      <td>16140</td>\n",
       "    </tr>\n",
       "    <tr>\n",
       "      <th>007</th>\n",
       "      <td>13218</td>\n",
       "      <td>13218</td>\n",
       "      <td>13218</td>\n",
       "      <td>13218</td>\n",
       "      <td>13218</td>\n",
       "      <td>13218</td>\n",
       "      <td>13218</td>\n",
       "      <td>13218</td>\n",
       "      <td>13218</td>\n",
       "      <td>13218</td>\n",
       "      <td>13218</td>\n",
       "      <td>13218</td>\n",
       "      <td>13218</td>\n",
       "      <td>13218</td>\n",
       "      <td>13218</td>\n",
       "      <td>13218</td>\n",
       "      <td>13218</td>\n",
       "      <td>13218</td>\n",
       "    </tr>\n",
       "    <tr>\n",
       "      <th>311</th>\n",
       "      <td>11888</td>\n",
       "      <td>11888</td>\n",
       "      <td>11888</td>\n",
       "      <td>11888</td>\n",
       "      <td>11888</td>\n",
       "      <td>11888</td>\n",
       "      <td>11888</td>\n",
       "      <td>11888</td>\n",
       "      <td>11888</td>\n",
       "      <td>11888</td>\n",
       "      <td>11888</td>\n",
       "      <td>11888</td>\n",
       "      <td>11888</td>\n",
       "      <td>11888</td>\n",
       "      <td>11888</td>\n",
       "      <td>11888</td>\n",
       "      <td>11888</td>\n",
       "      <td>11888</td>\n",
       "    </tr>\n",
       "    <tr>\n",
       "      <th>204</th>\n",
       "      <td>11843</td>\n",
       "      <td>11843</td>\n",
       "      <td>11843</td>\n",
       "      <td>11843</td>\n",
       "      <td>11843</td>\n",
       "      <td>11843</td>\n",
       "      <td>11843</td>\n",
       "      <td>11843</td>\n",
       "      <td>11843</td>\n",
       "      <td>11843</td>\n",
       "      <td>11843</td>\n",
       "      <td>11843</td>\n",
       "      <td>11843</td>\n",
       "      <td>11843</td>\n",
       "      <td>11843</td>\n",
       "      <td>11843</td>\n",
       "      <td>11843</td>\n",
       "      <td>11843</td>\n",
       "    </tr>\n",
       "    <tr>\n",
       "      <th>308</th>\n",
       "      <td>8590</td>\n",
       "      <td>8590</td>\n",
       "      <td>8590</td>\n",
       "      <td>8590</td>\n",
       "      <td>8590</td>\n",
       "      <td>8590</td>\n",
       "      <td>8590</td>\n",
       "      <td>8590</td>\n",
       "      <td>8590</td>\n",
       "      <td>8590</td>\n",
       "      <td>8590</td>\n",
       "      <td>8590</td>\n",
       "      <td>8590</td>\n",
       "      <td>8590</td>\n",
       "      <td>8590</td>\n",
       "      <td>8590</td>\n",
       "      <td>8590</td>\n",
       "      <td>8590</td>\n",
       "    </tr>\n",
       "    <tr>\n",
       "      <th>109</th>\n",
       "      <td>6289</td>\n",
       "      <td>6289</td>\n",
       "      <td>6289</td>\n",
       "      <td>6289</td>\n",
       "      <td>6289</td>\n",
       "      <td>6289</td>\n",
       "      <td>6289</td>\n",
       "      <td>6289</td>\n",
       "      <td>6289</td>\n",
       "      <td>6289</td>\n",
       "      <td>6289</td>\n",
       "      <td>6289</td>\n",
       "      <td>6289</td>\n",
       "      <td>6289</td>\n",
       "      <td>6289</td>\n",
       "      <td>6289</td>\n",
       "      <td>6289</td>\n",
       "      <td>6289</td>\n",
       "    </tr>\n",
       "    <tr>\n",
       "      <th>012</th>\n",
       "      <td>6226</td>\n",
       "      <td>6226</td>\n",
       "      <td>6226</td>\n",
       "      <td>6226</td>\n",
       "      <td>6226</td>\n",
       "      <td>6226</td>\n",
       "      <td>6226</td>\n",
       "      <td>6226</td>\n",
       "      <td>6226</td>\n",
       "      <td>6226</td>\n",
       "      <td>6226</td>\n",
       "      <td>6226</td>\n",
       "      <td>6226</td>\n",
       "      <td>6226</td>\n",
       "      <td>6226</td>\n",
       "      <td>6226</td>\n",
       "      <td>6226</td>\n",
       "      <td>6226</td>\n",
       "    </tr>\n",
       "    <tr>\n",
       "      <th>005</th>\n",
       "      <td>5794</td>\n",
       "      <td>5794</td>\n",
       "      <td>5794</td>\n",
       "      <td>5794</td>\n",
       "      <td>5794</td>\n",
       "      <td>5794</td>\n",
       "      <td>5794</td>\n",
       "      <td>5794</td>\n",
       "      <td>5794</td>\n",
       "      <td>5794</td>\n",
       "      <td>5794</td>\n",
       "      <td>5794</td>\n",
       "      <td>5794</td>\n",
       "      <td>5794</td>\n",
       "      <td>5794</td>\n",
       "      <td>5794</td>\n",
       "      <td>5794</td>\n",
       "      <td>5794</td>\n",
       "    </tr>\n",
       "    <tr>\n",
       "      <th>013</th>\n",
       "      <td>5312</td>\n",
       "      <td>5312</td>\n",
       "      <td>5312</td>\n",
       "      <td>5312</td>\n",
       "      <td>5312</td>\n",
       "      <td>5312</td>\n",
       "      <td>5312</td>\n",
       "      <td>5312</td>\n",
       "      <td>5312</td>\n",
       "      <td>5312</td>\n",
       "      <td>5312</td>\n",
       "      <td>5312</td>\n",
       "      <td>5312</td>\n",
       "      <td>5312</td>\n",
       "      <td>5312</td>\n",
       "      <td>5312</td>\n",
       "      <td>5312</td>\n",
       "      <td>5312</td>\n",
       "    </tr>\n",
       "    <tr>\n",
       "      <th>011</th>\n",
       "      <td>4151</td>\n",
       "      <td>4151</td>\n",
       "      <td>4151</td>\n",
       "      <td>4151</td>\n",
       "      <td>4151</td>\n",
       "      <td>4151</td>\n",
       "      <td>4151</td>\n",
       "      <td>4151</td>\n",
       "      <td>4151</td>\n",
       "      <td>4151</td>\n",
       "      <td>4151</td>\n",
       "      <td>4151</td>\n",
       "      <td>4151</td>\n",
       "      <td>4151</td>\n",
       "      <td>4151</td>\n",
       "      <td>4151</td>\n",
       "      <td>4151</td>\n",
       "      <td>4151</td>\n",
       "    </tr>\n",
       "    <tr>\n",
       "      <th>004</th>\n",
       "      <td>3867</td>\n",
       "      <td>3867</td>\n",
       "      <td>3867</td>\n",
       "      <td>3867</td>\n",
       "      <td>3867</td>\n",
       "      <td>3867</td>\n",
       "      <td>3867</td>\n",
       "      <td>3867</td>\n",
       "      <td>3867</td>\n",
       "      <td>3867</td>\n",
       "      <td>3867</td>\n",
       "      <td>3867</td>\n",
       "      <td>3867</td>\n",
       "      <td>3867</td>\n",
       "      <td>3867</td>\n",
       "      <td>3867</td>\n",
       "      <td>3867</td>\n",
       "      <td>3867</td>\n",
       "    </tr>\n",
       "    <tr>\n",
       "      <th>010</th>\n",
       "      <td>3811</td>\n",
       "      <td>3811</td>\n",
       "      <td>3811</td>\n",
       "      <td>3811</td>\n",
       "      <td>3811</td>\n",
       "      <td>3811</td>\n",
       "      <td>3811</td>\n",
       "      <td>3811</td>\n",
       "      <td>3811</td>\n",
       "      <td>3811</td>\n",
       "      <td>3811</td>\n",
       "      <td>3811</td>\n",
       "      <td>3811</td>\n",
       "      <td>3811</td>\n",
       "      <td>3811</td>\n",
       "      <td>3811</td>\n",
       "      <td>3811</td>\n",
       "      <td>3811</td>\n",
       "    </tr>\n",
       "    <tr>\n",
       "      <th>009</th>\n",
       "      <td>3752</td>\n",
       "      <td>3752</td>\n",
       "      <td>3752</td>\n",
       "      <td>3752</td>\n",
       "      <td>3752</td>\n",
       "      <td>3752</td>\n",
       "      <td>3752</td>\n",
       "      <td>3752</td>\n",
       "      <td>3752</td>\n",
       "      <td>3752</td>\n",
       "      <td>3752</td>\n",
       "      <td>3752</td>\n",
       "      <td>3752</td>\n",
       "      <td>3752</td>\n",
       "      <td>3752</td>\n",
       "      <td>3752</td>\n",
       "      <td>3752</td>\n",
       "      <td>3752</td>\n",
       "    </tr>\n",
       "    <tr>\n",
       "      <th>208</th>\n",
       "      <td>3270</td>\n",
       "      <td>3270</td>\n",
       "      <td>3270</td>\n",
       "      <td>3270</td>\n",
       "      <td>3270</td>\n",
       "      <td>3270</td>\n",
       "      <td>3270</td>\n",
       "      <td>3270</td>\n",
       "      <td>3270</td>\n",
       "      <td>3270</td>\n",
       "      <td>3270</td>\n",
       "      <td>3270</td>\n",
       "      <td>3270</td>\n",
       "      <td>3270</td>\n",
       "      <td>3270</td>\n",
       "      <td>3270</td>\n",
       "      <td>3270</td>\n",
       "      <td>3270</td>\n",
       "    </tr>\n",
       "  </tbody>\n",
       "</table>\n",
       "</div>"
      ],
      "text/plain": [
       "      date_time    tmp    hum    CO2    VOC  floor   date  month   hour  \\\n",
       "room                                                                      \n",
       "202       27198  27198  27198  27198  27198  27198  27198  27198  27198   \n",
       "214       24825  24825  24825  24825  24825  24825  24825  24825  24825   \n",
       "203       24695  24695  24695  24695  24695  24695  24695  24695  24695   \n",
       "002       23689  23689  23689  23689  23689  23689  23689  23689  23689   \n",
       "108       19320  19320  19320  19320  19320  19320  19320  19320  19320   \n",
       "113       18522  18522  18522  18522  18522  18522  18522  18522  18522   \n",
       "112       18490  18490  18490  18490  18490  18490  18490  18490  18490   \n",
       "003       16140  16140  16140  16140  16140  16140  16140  16140  16140   \n",
       "007       13218  13218  13218  13218  13218  13218  13218  13218  13218   \n",
       "311       11888  11888  11888  11888  11888  11888  11888  11888  11888   \n",
       "204       11843  11843  11843  11843  11843  11843  11843  11843  11843   \n",
       "308        8590   8590   8590   8590   8590   8590   8590   8590   8590   \n",
       "109        6289   6289   6289   6289   6289   6289   6289   6289   6289   \n",
       "012        6226   6226   6226   6226   6226   6226   6226   6226   6226   \n",
       "005        5794   5794   5794   5794   5794   5794   5794   5794   5794   \n",
       "013        5312   5312   5312   5312   5312   5312   5312   5312   5312   \n",
       "011        4151   4151   4151   4151   4151   4151   4151   4151   4151   \n",
       "004        3867   3867   3867   3867   3867   3867   3867   3867   3867   \n",
       "010        3811   3811   3811   3811   3811   3811   3811   3811   3811   \n",
       "009        3752   3752   3752   3752   3752   3752   3752   3752   3752   \n",
       "208        3270   3270   3270   3270   3270   3270   3270   3270   3270   \n",
       "\n",
       "      day_of_week  is_weekend  season  outside_tmp  outside_hum  outside_rain  \\\n",
       "room                                                                            \n",
       "202         27198       27198   27198        27198        27198         27198   \n",
       "214         24825       24825   24825        24825        24825         24825   \n",
       "203         24695       24695   24695        24695        24695         24695   \n",
       "002         23689       23689   23689        23689        23689         23689   \n",
       "108         19320       19320   19320        19320        19320         19320   \n",
       "113         18522       18522   18522        18522        18522         18522   \n",
       "112         18490       18490   18490        18490        18490         18490   \n",
       "003         16140       16140   16140        16140        16140         16140   \n",
       "007         13218       13218   13218        13218        13218         13218   \n",
       "311         11888       11888   11888        11888        11888         11888   \n",
       "204         11843       11843   11843        11843        11843         11843   \n",
       "308          8590        8590    8590         8590         8590          8590   \n",
       "109          6289        6289    6289         6289         6289          6289   \n",
       "012          6226        6226    6226         6226         6226          6226   \n",
       "005          5794        5794    5794         5794         5794          5794   \n",
       "013          5312        5312    5312         5312         5312          5312   \n",
       "011          4151        4151    4151         4151         4151          4151   \n",
       "004          3867        3867    3867         3867         3867          3867   \n",
       "010          3811        3811    3811         3811         3811          3811   \n",
       "009          3752        3752    3752         3752         3752          3752   \n",
       "208          3270        3270    3270         3270         3270          3270   \n",
       "\n",
       "      outside_snowfall  outside_wind_speed  outside_pressure  \n",
       "room                                                          \n",
       "202              27198               27198             27198  \n",
       "214              24825               24825             24825  \n",
       "203              24695               24695             24695  \n",
       "002              23689               23689             23689  \n",
       "108              19320               19320             19320  \n",
       "113              18522               18522             18522  \n",
       "112              18490               18490             18490  \n",
       "003              16140               16140             16140  \n",
       "007              13218               13218             13218  \n",
       "311              11888               11888             11888  \n",
       "204              11843               11843             11843  \n",
       "308               8590                8590              8590  \n",
       "109               6289                6289              6289  \n",
       "012               6226                6226              6226  \n",
       "005               5794                5794              5794  \n",
       "013               5312                5312              5312  \n",
       "011               4151                4151              4151  \n",
       "004               3867                3867              3867  \n",
       "010               3811                3811              3811  \n",
       "009               3752                3752              3752  \n",
       "208               3270                3270              3270  "
      ]
     },
     "execution_count": 16,
     "metadata": {},
     "output_type": "execute_result"
    }
   ],
   "source": [
    "group = df.groupby(\"room\").count()\n",
    "group.sort_values(\"tmp\", ascending=False)"
   ]
  },
  {
   "cell_type": "code",
   "execution_count": 6,
   "metadata": {},
   "outputs": [
    {
     "name": "stdout",
     "output_type": "stream",
     "text": [
      "Room 002 - Simulation date: 2024-06-07 23:59:59\n",
      "Temperature: nan°C (min: nan°C, max: nan°C)\n",
      "CO2: nan ppm (min: nan ppm, max: nan ppm)\n",
      "Humidity: nan% (min: nan%, max: nan%)\n",
      "VOC: nan ppb (min: nan ppb, max: nan ppb)\n"
     ]
    }
   ],
   "source": [
    "# Metrics over the last 24 hours\n",
    "tmp_max = round(df_room[df_room[\"date_time\"] >= simulation_date - datetime.timedelta(days=1)][\"tmp\"].max(), 2)\n",
    "tmp_min = round(df_room[df_room[\"date_time\"] >= simulation_date - datetime.timedelta(days=1)][\"tmp\"].min(), 2)\n",
    "tmp_avg = round(df_room[df_room[\"date_time\"] >= simulation_date - datetime.timedelta(days=1)][\"tmp\"].mean(), 2)\n",
    "\n",
    "co2_max = round(df_room[df_room[\"date_time\"] >= simulation_date - datetime.timedelta(days=1)][\"CO2\"].max(), 2)\n",
    "co2_min = round(df_room[df_room[\"date_time\"] >= simulation_date - datetime.timedelta(days=1)][\"CO2\"].min(), 2)\n",
    "co2_mean = round(df_room[df_room[\"date_time\"] >= simulation_date - datetime.timedelta(days=1)][\"CO2\"].mean(), 2)\n",
    "\n",
    "hum_max = round(df_room[df_room[\"date_time\"] >= simulation_date - datetime.timedelta(days=1)][\"hum\"].max(), 2)\n",
    "hum_min = round(df_room[df_room[\"date_time\"] >= simulation_date - datetime.timedelta(days=1)][\"hum\"].min(), 2)\n",
    "hum_mean = round(df_room[df_room[\"date_time\"] >= simulation_date - datetime.timedelta(days=1)][\"hum\"].mean(), 2)\n",
    "\n",
    "voc_max = round(df_room[df_room[\"date_time\"] >= simulation_date - datetime.timedelta(days=1)][\"VOC\"].max(), 2)\n",
    "voc_min = round(df_room[df_room[\"date_time\"] >= simulation_date - datetime.timedelta(days=1)][\"VOC\"].min(), 2)\n",
    "voc_mean = round(df_room[df_room[\"date_time\"] >= simulation_date - datetime.timedelta(days=1)][\"VOC\"].mean(), 2)\n",
    "\n",
    "# Print all values\n",
    "print(f\"Room {room} - Simulation date: {simulation_date}\")\n",
    "print(f\"Temperature: {tmp_avg}°C (min: {tmp_min}°C, max: {tmp_max}°C)\")\n",
    "print(f\"CO2: {co2_mean} ppm (min: {co2_min} ppm, max: {co2_max} ppm)\")\n",
    "print(f\"Humidity: {hum_mean}% (min: {hum_min}%, max: {hum_max}%)\")\n",
    "print(f\"VOC: {voc_mean} ppb (min: {voc_min} ppb, max: {voc_max} ppb)\")\n"
   ]
  },
  {
   "cell_type": "code",
   "execution_count": 21,
   "metadata": {},
   "outputs": [
    {
     "ename": "KeyError",
     "evalue": "\"None of [Index([515, 513, 513, 515, 516, 514, 516, 522, 520, 522,\\n       ...\\n       570, 565, 562, 565, 573, 571, 569, 573, 574, 585],\\n      dtype='int64', length=23689)] are in the [columns]\"",
     "output_type": "error",
     "traceback": [
      "\u001b[0;31m---------------------------------------------------------------------------\u001b[0m",
      "\u001b[0;31mKeyError\u001b[0m                                  Traceback (most recent call last)",
      "\u001b[0;32m/var/folders/4v/7n25rgnx2zz8qd1csgnh63vw0000gn/T/ipykernel_95242/2757003103.py\u001b[0m in \u001b[0;36m<module>\u001b[0;34m\u001b[0m\n\u001b[0;32m----> 1\u001b[0;31m \u001b[0mdf_room\u001b[0m\u001b[0;34m[\u001b[0m\u001b[0mdf_room\u001b[0m\u001b[0;34m.\u001b[0m\u001b[0mCO2\u001b[0m\u001b[0;34m]\u001b[0m\u001b[0;34m\u001b[0m\u001b[0;34m\u001b[0m\u001b[0m\n\u001b[0m",
      "\u001b[0;32m/opt/anaconda3/lib/python3.9/site-packages/pandas/core/frame.py\u001b[0m in \u001b[0;36m__getitem__\u001b[0;34m(self, key)\u001b[0m\n\u001b[1;32m   4106\u001b[0m             \u001b[0;32mif\u001b[0m \u001b[0mis_iterator\u001b[0m\u001b[0;34m(\u001b[0m\u001b[0mkey\u001b[0m\u001b[0;34m)\u001b[0m\u001b[0;34m:\u001b[0m\u001b[0;34m\u001b[0m\u001b[0;34m\u001b[0m\u001b[0m\n\u001b[1;32m   4107\u001b[0m                 \u001b[0mkey\u001b[0m \u001b[0;34m=\u001b[0m \u001b[0mlist\u001b[0m\u001b[0;34m(\u001b[0m\u001b[0mkey\u001b[0m\u001b[0;34m)\u001b[0m\u001b[0;34m\u001b[0m\u001b[0;34m\u001b[0m\u001b[0m\n\u001b[0;32m-> 4108\u001b[0;31m             \u001b[0mindexer\u001b[0m \u001b[0;34m=\u001b[0m \u001b[0mself\u001b[0m\u001b[0;34m.\u001b[0m\u001b[0mcolumns\u001b[0m\u001b[0;34m.\u001b[0m\u001b[0m_get_indexer_strict\u001b[0m\u001b[0;34m(\u001b[0m\u001b[0mkey\u001b[0m\u001b[0;34m,\u001b[0m \u001b[0;34m\"columns\"\u001b[0m\u001b[0;34m)\u001b[0m\u001b[0;34m[\u001b[0m\u001b[0;36m1\u001b[0m\u001b[0;34m]\u001b[0m\u001b[0;34m\u001b[0m\u001b[0;34m\u001b[0m\u001b[0m\n\u001b[0m\u001b[1;32m   4109\u001b[0m \u001b[0;34m\u001b[0m\u001b[0m\n\u001b[1;32m   4110\u001b[0m         \u001b[0;31m# take() does not accept boolean indexers\u001b[0m\u001b[0;34m\u001b[0m\u001b[0;34m\u001b[0m\u001b[0m\n",
      "\u001b[0;32m/opt/anaconda3/lib/python3.9/site-packages/pandas/core/indexes/base.py\u001b[0m in \u001b[0;36m_get_indexer_strict\u001b[0;34m(self, key, axis_name)\u001b[0m\n\u001b[1;32m   6198\u001b[0m             \u001b[0mkeyarr\u001b[0m\u001b[0;34m,\u001b[0m \u001b[0mindexer\u001b[0m\u001b[0;34m,\u001b[0m \u001b[0mnew_indexer\u001b[0m \u001b[0;34m=\u001b[0m \u001b[0mself\u001b[0m\u001b[0;34m.\u001b[0m\u001b[0m_reindex_non_unique\u001b[0m\u001b[0;34m(\u001b[0m\u001b[0mkeyarr\u001b[0m\u001b[0;34m)\u001b[0m\u001b[0;34m\u001b[0m\u001b[0;34m\u001b[0m\u001b[0m\n\u001b[1;32m   6199\u001b[0m \u001b[0;34m\u001b[0m\u001b[0m\n\u001b[0;32m-> 6200\u001b[0;31m         \u001b[0mself\u001b[0m\u001b[0;34m.\u001b[0m\u001b[0m_raise_if_missing\u001b[0m\u001b[0;34m(\u001b[0m\u001b[0mkeyarr\u001b[0m\u001b[0;34m,\u001b[0m \u001b[0mindexer\u001b[0m\u001b[0;34m,\u001b[0m \u001b[0maxis_name\u001b[0m\u001b[0;34m)\u001b[0m\u001b[0;34m\u001b[0m\u001b[0;34m\u001b[0m\u001b[0m\n\u001b[0m\u001b[1;32m   6201\u001b[0m \u001b[0;34m\u001b[0m\u001b[0m\n\u001b[1;32m   6202\u001b[0m         \u001b[0mkeyarr\u001b[0m \u001b[0;34m=\u001b[0m \u001b[0mself\u001b[0m\u001b[0;34m.\u001b[0m\u001b[0mtake\u001b[0m\u001b[0;34m(\u001b[0m\u001b[0mindexer\u001b[0m\u001b[0;34m)\u001b[0m\u001b[0;34m\u001b[0m\u001b[0;34m\u001b[0m\u001b[0m\n",
      "\u001b[0;32m/opt/anaconda3/lib/python3.9/site-packages/pandas/core/indexes/base.py\u001b[0m in \u001b[0;36m_raise_if_missing\u001b[0;34m(self, key, indexer, axis_name)\u001b[0m\n\u001b[1;32m   6247\u001b[0m         \u001b[0;32mif\u001b[0m \u001b[0mnmissing\u001b[0m\u001b[0;34m:\u001b[0m\u001b[0;34m\u001b[0m\u001b[0;34m\u001b[0m\u001b[0m\n\u001b[1;32m   6248\u001b[0m             \u001b[0;32mif\u001b[0m \u001b[0mnmissing\u001b[0m \u001b[0;34m==\u001b[0m \u001b[0mlen\u001b[0m\u001b[0;34m(\u001b[0m\u001b[0mindexer\u001b[0m\u001b[0;34m)\u001b[0m\u001b[0;34m:\u001b[0m\u001b[0;34m\u001b[0m\u001b[0;34m\u001b[0m\u001b[0m\n\u001b[0;32m-> 6249\u001b[0;31m                 \u001b[0;32mraise\u001b[0m \u001b[0mKeyError\u001b[0m\u001b[0;34m(\u001b[0m\u001b[0;34mf\"None of [{key}] are in the [{axis_name}]\"\u001b[0m\u001b[0;34m)\u001b[0m\u001b[0;34m\u001b[0m\u001b[0;34m\u001b[0m\u001b[0m\n\u001b[0m\u001b[1;32m   6250\u001b[0m \u001b[0;34m\u001b[0m\u001b[0m\n\u001b[1;32m   6251\u001b[0m             \u001b[0mnot_found\u001b[0m \u001b[0;34m=\u001b[0m \u001b[0mlist\u001b[0m\u001b[0;34m(\u001b[0m\u001b[0mensure_index\u001b[0m\u001b[0;34m(\u001b[0m\u001b[0mkey\u001b[0m\u001b[0;34m)\u001b[0m\u001b[0;34m[\u001b[0m\u001b[0mmissing_mask\u001b[0m\u001b[0;34m.\u001b[0m\u001b[0mnonzero\u001b[0m\u001b[0;34m(\u001b[0m\u001b[0;34m)\u001b[0m\u001b[0;34m[\u001b[0m\u001b[0;36m0\u001b[0m\u001b[0;34m]\u001b[0m\u001b[0;34m]\u001b[0m\u001b[0;34m.\u001b[0m\u001b[0munique\u001b[0m\u001b[0;34m(\u001b[0m\u001b[0;34m)\u001b[0m\u001b[0;34m)\u001b[0m\u001b[0;34m\u001b[0m\u001b[0;34m\u001b[0m\u001b[0m\n",
      "\u001b[0;31mKeyError\u001b[0m: \"None of [Index([515, 513, 513, 515, 516, 514, 516, 522, 520, 522,\\n       ...\\n       570, 565, 562, 565, 573, 571, 569, 573, 574, 585],\\n      dtype='int64', length=23689)] are in the [columns]\""
     ]
    }
   ],
   "source": [
    "df_room[df_room.CO2 > 1000]"
   ]
  },
  {
   "cell_type": "code",
   "execution_count": 7,
   "metadata": {},
   "outputs": [
    {
     "data": {
      "application/vnd.plotly.v1+json": {
       "config": {
        "plotlyServerURL": "https://plot.ly"
       },
       "data": [
        {
         "line": {
          "color": "rgb(20, 20, 20, 1)",
          "width": 3
         },
         "mode": "lines",
         "name": "CO2",
         "type": "scatter",
         "x": [
          "2023-01-17T00:00:00",
          "2023-01-18T00:00:00",
          "2023-01-19T00:00:00",
          "2023-01-20T00:00:00",
          "2023-01-21T00:00:00",
          "2023-01-22T00:00:00",
          "2023-01-23T00:00:00"
         ],
         "y": [
          571.12,
          482.78,
          482.62,
          509.26,
          468.56,
          475.39,
          485.89
         ]
        }
       ],
       "layout": {
        "dragmode": false,
        "height": 400,
        "hoverlabel": {
         "bgcolor": "rgb(100, 100, 100, 1)",
         "bordercolor": "rgb(20, 20, 20, 1)",
         "font": {
          "color": "rgb(255, 255, 255, 1)"
         }
        },
        "hovermode": "x",
        "paper_bgcolor": "white",
        "plot_bgcolor": "white",
        "shapes": [
         {
          "fillcolor": "green",
          "line": {
           "width": 0
          },
          "opacity": 0.1,
          "type": "rect",
          "x0": "2023-01-17T00:00:00",
          "x1": "2023-01-23T00:00:00",
          "y0": 0,
          "y1": 850
         },
         {
          "fillcolor": "yellow",
          "line": {
           "width": 0
          },
          "opacity": 0.1,
          "type": "rect",
          "x0": "2023-01-17T00:00:00",
          "x1": "2023-01-23T00:00:00",
          "y0": 850,
          "y1": 1200
         },
         {
          "fillcolor": "red",
          "line": {
           "width": 0
          },
          "opacity": 0.1,
          "type": "rect",
          "x0": "2023-01-17T00:00:00",
          "x1": "2023-01-23T00:00:00",
          "y0": 1200,
          "y1": 10000
         }
        ],
        "template": {
         "data": {
          "bar": [
           {
            "error_x": {
             "color": "#2a3f5f"
            },
            "error_y": {
             "color": "#2a3f5f"
            },
            "marker": {
             "line": {
              "color": "#E5ECF6",
              "width": 0.5
             },
             "pattern": {
              "fillmode": "overlay",
              "size": 10,
              "solidity": 0.2
             }
            },
            "type": "bar"
           }
          ],
          "barpolar": [
           {
            "marker": {
             "line": {
              "color": "#E5ECF6",
              "width": 0.5
             },
             "pattern": {
              "fillmode": "overlay",
              "size": 10,
              "solidity": 0.2
             }
            },
            "type": "barpolar"
           }
          ],
          "carpet": [
           {
            "aaxis": {
             "endlinecolor": "#2a3f5f",
             "gridcolor": "white",
             "linecolor": "white",
             "minorgridcolor": "white",
             "startlinecolor": "#2a3f5f"
            },
            "baxis": {
             "endlinecolor": "#2a3f5f",
             "gridcolor": "white",
             "linecolor": "white",
             "minorgridcolor": "white",
             "startlinecolor": "#2a3f5f"
            },
            "type": "carpet"
           }
          ],
          "choropleth": [
           {
            "colorbar": {
             "outlinewidth": 0,
             "ticks": ""
            },
            "type": "choropleth"
           }
          ],
          "contour": [
           {
            "colorbar": {
             "outlinewidth": 0,
             "ticks": ""
            },
            "colorscale": [
             [
              0,
              "#0d0887"
             ],
             [
              0.1111111111111111,
              "#46039f"
             ],
             [
              0.2222222222222222,
              "#7201a8"
             ],
             [
              0.3333333333333333,
              "#9c179e"
             ],
             [
              0.4444444444444444,
              "#bd3786"
             ],
             [
              0.5555555555555556,
              "#d8576b"
             ],
             [
              0.6666666666666666,
              "#ed7953"
             ],
             [
              0.7777777777777778,
              "#fb9f3a"
             ],
             [
              0.8888888888888888,
              "#fdca26"
             ],
             [
              1,
              "#f0f921"
             ]
            ],
            "type": "contour"
           }
          ],
          "contourcarpet": [
           {
            "colorbar": {
             "outlinewidth": 0,
             "ticks": ""
            },
            "type": "contourcarpet"
           }
          ],
          "heatmap": [
           {
            "colorbar": {
             "outlinewidth": 0,
             "ticks": ""
            },
            "colorscale": [
             [
              0,
              "#0d0887"
             ],
             [
              0.1111111111111111,
              "#46039f"
             ],
             [
              0.2222222222222222,
              "#7201a8"
             ],
             [
              0.3333333333333333,
              "#9c179e"
             ],
             [
              0.4444444444444444,
              "#bd3786"
             ],
             [
              0.5555555555555556,
              "#d8576b"
             ],
             [
              0.6666666666666666,
              "#ed7953"
             ],
             [
              0.7777777777777778,
              "#fb9f3a"
             ],
             [
              0.8888888888888888,
              "#fdca26"
             ],
             [
              1,
              "#f0f921"
             ]
            ],
            "type": "heatmap"
           }
          ],
          "heatmapgl": [
           {
            "colorbar": {
             "outlinewidth": 0,
             "ticks": ""
            },
            "colorscale": [
             [
              0,
              "#0d0887"
             ],
             [
              0.1111111111111111,
              "#46039f"
             ],
             [
              0.2222222222222222,
              "#7201a8"
             ],
             [
              0.3333333333333333,
              "#9c179e"
             ],
             [
              0.4444444444444444,
              "#bd3786"
             ],
             [
              0.5555555555555556,
              "#d8576b"
             ],
             [
              0.6666666666666666,
              "#ed7953"
             ],
             [
              0.7777777777777778,
              "#fb9f3a"
             ],
             [
              0.8888888888888888,
              "#fdca26"
             ],
             [
              1,
              "#f0f921"
             ]
            ],
            "type": "heatmapgl"
           }
          ],
          "histogram": [
           {
            "marker": {
             "pattern": {
              "fillmode": "overlay",
              "size": 10,
              "solidity": 0.2
             }
            },
            "type": "histogram"
           }
          ],
          "histogram2d": [
           {
            "colorbar": {
             "outlinewidth": 0,
             "ticks": ""
            },
            "colorscale": [
             [
              0,
              "#0d0887"
             ],
             [
              0.1111111111111111,
              "#46039f"
             ],
             [
              0.2222222222222222,
              "#7201a8"
             ],
             [
              0.3333333333333333,
              "#9c179e"
             ],
             [
              0.4444444444444444,
              "#bd3786"
             ],
             [
              0.5555555555555556,
              "#d8576b"
             ],
             [
              0.6666666666666666,
              "#ed7953"
             ],
             [
              0.7777777777777778,
              "#fb9f3a"
             ],
             [
              0.8888888888888888,
              "#fdca26"
             ],
             [
              1,
              "#f0f921"
             ]
            ],
            "type": "histogram2d"
           }
          ],
          "histogram2dcontour": [
           {
            "colorbar": {
             "outlinewidth": 0,
             "ticks": ""
            },
            "colorscale": [
             [
              0,
              "#0d0887"
             ],
             [
              0.1111111111111111,
              "#46039f"
             ],
             [
              0.2222222222222222,
              "#7201a8"
             ],
             [
              0.3333333333333333,
              "#9c179e"
             ],
             [
              0.4444444444444444,
              "#bd3786"
             ],
             [
              0.5555555555555556,
              "#d8576b"
             ],
             [
              0.6666666666666666,
              "#ed7953"
             ],
             [
              0.7777777777777778,
              "#fb9f3a"
             ],
             [
              0.8888888888888888,
              "#fdca26"
             ],
             [
              1,
              "#f0f921"
             ]
            ],
            "type": "histogram2dcontour"
           }
          ],
          "mesh3d": [
           {
            "colorbar": {
             "outlinewidth": 0,
             "ticks": ""
            },
            "type": "mesh3d"
           }
          ],
          "parcoords": [
           {
            "line": {
             "colorbar": {
              "outlinewidth": 0,
              "ticks": ""
             }
            },
            "type": "parcoords"
           }
          ],
          "pie": [
           {
            "automargin": true,
            "type": "pie"
           }
          ],
          "scatter": [
           {
            "fillpattern": {
             "fillmode": "overlay",
             "size": 10,
             "solidity": 0.2
            },
            "type": "scatter"
           }
          ],
          "scatter3d": [
           {
            "line": {
             "colorbar": {
              "outlinewidth": 0,
              "ticks": ""
             }
            },
            "marker": {
             "colorbar": {
              "outlinewidth": 0,
              "ticks": ""
             }
            },
            "type": "scatter3d"
           }
          ],
          "scattercarpet": [
           {
            "marker": {
             "colorbar": {
              "outlinewidth": 0,
              "ticks": ""
             }
            },
            "type": "scattercarpet"
           }
          ],
          "scattergeo": [
           {
            "marker": {
             "colorbar": {
              "outlinewidth": 0,
              "ticks": ""
             }
            },
            "type": "scattergeo"
           }
          ],
          "scattergl": [
           {
            "marker": {
             "colorbar": {
              "outlinewidth": 0,
              "ticks": ""
             }
            },
            "type": "scattergl"
           }
          ],
          "scattermapbox": [
           {
            "marker": {
             "colorbar": {
              "outlinewidth": 0,
              "ticks": ""
             }
            },
            "type": "scattermapbox"
           }
          ],
          "scatterpolar": [
           {
            "marker": {
             "colorbar": {
              "outlinewidth": 0,
              "ticks": ""
             }
            },
            "type": "scatterpolar"
           }
          ],
          "scatterpolargl": [
           {
            "marker": {
             "colorbar": {
              "outlinewidth": 0,
              "ticks": ""
             }
            },
            "type": "scatterpolargl"
           }
          ],
          "scatterternary": [
           {
            "marker": {
             "colorbar": {
              "outlinewidth": 0,
              "ticks": ""
             }
            },
            "type": "scatterternary"
           }
          ],
          "surface": [
           {
            "colorbar": {
             "outlinewidth": 0,
             "ticks": ""
            },
            "colorscale": [
             [
              0,
              "#0d0887"
             ],
             [
              0.1111111111111111,
              "#46039f"
             ],
             [
              0.2222222222222222,
              "#7201a8"
             ],
             [
              0.3333333333333333,
              "#9c179e"
             ],
             [
              0.4444444444444444,
              "#bd3786"
             ],
             [
              0.5555555555555556,
              "#d8576b"
             ],
             [
              0.6666666666666666,
              "#ed7953"
             ],
             [
              0.7777777777777778,
              "#fb9f3a"
             ],
             [
              0.8888888888888888,
              "#fdca26"
             ],
             [
              1,
              "#f0f921"
             ]
            ],
            "type": "surface"
           }
          ],
          "table": [
           {
            "cells": {
             "fill": {
              "color": "#EBF0F8"
             },
             "line": {
              "color": "white"
             }
            },
            "header": {
             "fill": {
              "color": "#C8D4E3"
             },
             "line": {
              "color": "white"
             }
            },
            "type": "table"
           }
          ]
         },
         "layout": {
          "annotationdefaults": {
           "arrowcolor": "#2a3f5f",
           "arrowhead": 0,
           "arrowwidth": 1
          },
          "autotypenumbers": "strict",
          "coloraxis": {
           "colorbar": {
            "outlinewidth": 0,
            "ticks": ""
           }
          },
          "colorscale": {
           "diverging": [
            [
             0,
             "#8e0152"
            ],
            [
             0.1,
             "#c51b7d"
            ],
            [
             0.2,
             "#de77ae"
            ],
            [
             0.3,
             "#f1b6da"
            ],
            [
             0.4,
             "#fde0ef"
            ],
            [
             0.5,
             "#f7f7f7"
            ],
            [
             0.6,
             "#e6f5d0"
            ],
            [
             0.7,
             "#b8e186"
            ],
            [
             0.8,
             "#7fbc41"
            ],
            [
             0.9,
             "#4d9221"
            ],
            [
             1,
             "#276419"
            ]
           ],
           "sequential": [
            [
             0,
             "#0d0887"
            ],
            [
             0.1111111111111111,
             "#46039f"
            ],
            [
             0.2222222222222222,
             "#7201a8"
            ],
            [
             0.3333333333333333,
             "#9c179e"
            ],
            [
             0.4444444444444444,
             "#bd3786"
            ],
            [
             0.5555555555555556,
             "#d8576b"
            ],
            [
             0.6666666666666666,
             "#ed7953"
            ],
            [
             0.7777777777777778,
             "#fb9f3a"
            ],
            [
             0.8888888888888888,
             "#fdca26"
            ],
            [
             1,
             "#f0f921"
            ]
           ],
           "sequentialminus": [
            [
             0,
             "#0d0887"
            ],
            [
             0.1111111111111111,
             "#46039f"
            ],
            [
             0.2222222222222222,
             "#7201a8"
            ],
            [
             0.3333333333333333,
             "#9c179e"
            ],
            [
             0.4444444444444444,
             "#bd3786"
            ],
            [
             0.5555555555555556,
             "#d8576b"
            ],
            [
             0.6666666666666666,
             "#ed7953"
            ],
            [
             0.7777777777777778,
             "#fb9f3a"
            ],
            [
             0.8888888888888888,
             "#fdca26"
            ],
            [
             1,
             "#f0f921"
            ]
           ]
          },
          "colorway": [
           "#636efa",
           "#EF553B",
           "#00cc96",
           "#ab63fa",
           "#FFA15A",
           "#19d3f3",
           "#FF6692",
           "#B6E880",
           "#FF97FF",
           "#FECB52"
          ],
          "font": {
           "color": "#2a3f5f"
          },
          "geo": {
           "bgcolor": "white",
           "lakecolor": "white",
           "landcolor": "#E5ECF6",
           "showlakes": true,
           "showland": true,
           "subunitcolor": "white"
          },
          "hoverlabel": {
           "align": "left"
          },
          "hovermode": "closest",
          "mapbox": {
           "style": "light"
          },
          "paper_bgcolor": "white",
          "plot_bgcolor": "#E5ECF6",
          "polar": {
           "angularaxis": {
            "gridcolor": "white",
            "linecolor": "white",
            "ticks": ""
           },
           "bgcolor": "#E5ECF6",
           "radialaxis": {
            "gridcolor": "white",
            "linecolor": "white",
            "ticks": ""
           }
          },
          "scene": {
           "xaxis": {
            "backgroundcolor": "#E5ECF6",
            "gridcolor": "white",
            "gridwidth": 2,
            "linecolor": "white",
            "showbackground": true,
            "ticks": "",
            "zerolinecolor": "white"
           },
           "yaxis": {
            "backgroundcolor": "#E5ECF6",
            "gridcolor": "white",
            "gridwidth": 2,
            "linecolor": "white",
            "showbackground": true,
            "ticks": "",
            "zerolinecolor": "white"
           },
           "zaxis": {
            "backgroundcolor": "#E5ECF6",
            "gridcolor": "white",
            "gridwidth": 2,
            "linecolor": "white",
            "showbackground": true,
            "ticks": "",
            "zerolinecolor": "white"
           }
          },
          "shapedefaults": {
           "line": {
            "color": "#2a3f5f"
           }
          },
          "ternary": {
           "aaxis": {
            "gridcolor": "white",
            "linecolor": "white",
            "ticks": ""
           },
           "baxis": {
            "gridcolor": "white",
            "linecolor": "white",
            "ticks": ""
           },
           "bgcolor": "#E5ECF6",
           "caxis": {
            "gridcolor": "white",
            "linecolor": "white",
            "ticks": ""
           }
          },
          "title": {
           "x": 0.05
          },
          "xaxis": {
           "automargin": true,
           "gridcolor": "white",
           "linecolor": "white",
           "ticks": "",
           "title": {
            "standoff": 15
           },
           "zerolinecolor": "white",
           "zerolinewidth": 2
          },
          "yaxis": {
           "automargin": true,
           "gridcolor": "white",
           "linecolor": "white",
           "ticks": "",
           "title": {
            "standoff": 15
           },
           "zerolinecolor": "white",
           "zerolinewidth": 2
          }
         }
        },
        "width": 800,
        "xaxis": {
         "fixedrange": true,
         "linecolor": "rgba(0, 0, 0, 0)",
         "linewidth": 40,
         "showgrid": false,
         "showline": true,
         "tickfont": {
          "color": "rgba(0, 0, 0, 0.6)"
         },
         "title": {
          "text": ""
         }
        },
        "yaxis": {
         "dtick": 500,
         "fixedrange": true,
         "gridcolor": "rgba(128, 128, 128, 0.2)",
         "griddash": "dot",
         "gridwidth": 1,
         "linecolor": "rgba(0, 0, 0, 0)",
         "linewidth": 20,
         "range": [
          0,
          1000
         ],
         "showgrid": true,
         "showline": true,
         "tickfont": {
          "color": "rgba(0, 0, 0, 0.6)"
         },
         "ticksuffix": " ppm",
         "title": {
          "text": ""
         }
        }
       }
      }
     },
     "metadata": {},
     "output_type": "display_data"
    }
   ],
   "source": [
    "search_start = pd.to_datetime(\"2023-01-17 00:00:00\")\n",
    "search_end = pd.to_datetime(\"2023-01-23 23:59:59\")\n",
    "sensor_selected = \"CO2\"\n",
    "\n",
    "import utils.dashboard\n",
    "\n",
    "utils.dashboard.get_main_fig(df_room, search_start, search_end, \"CO2\")\n",
    "\n",
    "# #----- Filter Data to only show the selected time range -----------------------------------------------------\n",
    "# df_data = df_room[(df_room[\"date_time\"] >= search_start) & (df_room[\"date_time\"] <= search_end)]\n",
    "# df_data = df_data.sort_values(\"date_time\", ascending=True)\n",
    "# df_data = df_data.set_index(\"date_time\")\n",
    "\n",
    "# #----- Ensure Data is numeric ---------------------------------------------------------------------------------\n",
    "# df_data = df_data[[sensor_selected]]\n",
    "\n",
    "# #----- Resample Data to show the correct time range ---------------------------------------------------------\n",
    "# time_diff = search_end - search_start\n",
    "\n",
    "# if time_diff <= datetime.timedelta(days=1):\n",
    "#     date_range = pd.date_range(start=search_start.strftime(\"%Y-%m-%d %H\"), end=search_end.strftime(\"%Y-%m-%d %H\"), freq=\"H\")\n",
    "#     df_data = df_data.resample(\"H\").mean().reindex(date_range)\n",
    "\n",
    "# elif time_diff > datetime.timedelta(days=1) and time_diff <= datetime.timedelta(days=6):\n",
    "#     date_range = pd.date_range(start=search_start.strftime(\"%Y-%m-%d %H\"), end=search_end.strftime(\"%Y-%m-%d %H\"), freq=\"H\")\n",
    "#     df_data = df_data.resample(\"H\").mean().reindex(date_range)\n",
    "\n",
    "# elif time_diff > datetime.timedelta(days=6):\n",
    "#     date_range = pd.date_range(start=search_start.date(), end=search_end.date(), freq=\"D\")\n",
    "#     df_data = df_data.resample(\"D\").mean().reindex(date_range)\n",
    "    \n",
    "# df_data[sensor_selected] = df_data[sensor_selected].round(2)\n",
    "\n",
    "\n",
    "# #----- Define Parameters for the Plot ----------------------------------------------------------------------------\n",
    "# params = {\"tmp\": {\"ticksuffix\": \"°\", \"dtick\": 2, \"yrange\": 10, \"linecolor\": \"rgb(74, 85, 162)\", \"hoverbackground\": \"rgb(74, 85, 162, 0.5)\", \"hovercolor\": \"rgb(255, 255, 255, 1)\"},\n",
    "#         \"hum\": {\"ticksuffix\": \"%\", \"dtick\": 10, \"yrange\": 30, \"linecolor\": \"rgb(74, 85, 162)\", \"hoverbackground\": \"rgb(74, 85, 162, 0.5)\", \"hovercolor\": \"rgb(255, 255, 255, 1)\"},\n",
    "#         \"CO2\": {\"ticksuffix\": \" ppm\", \"dtick\": 500, \"yrange\": 300, \"linecolor\": \"rgb(20, 20, 20, 1)\", \"hoverbackground\": \"rgb(100, 100, 100, 1)\", \"hovercolor\": \"rgb(255, 255, 255, 1)\"},}\n",
    "\n",
    "# params_sensor = params.get(sensor_selected)\n",
    "\n",
    "\n",
    "# #===== Create Plot ==============================================================================================\n",
    "# fig = go.Figure()\n",
    "\n",
    "# #----- Add Boxes for different CO2 Levels ------------------------------------------------------------------------\n",
    "# if sensor_selected == \"CO2\":\n",
    "#     fig.add_shape(type=\"rect\",\n",
    "#     x0=min(df_data.index), y0=0, x1=max(df_data.index), y1=850,\n",
    "#     fillcolor=\"green\", opacity=0.1, line_width=0)\n",
    "\n",
    "#     fig.add_shape(type=\"rect\",\n",
    "#         x0=min(df_data.index), y0=850, x1=max(df_data.index), y1=1200,\n",
    "#         fillcolor=\"yellow\", opacity=0.1, line_width=0)\n",
    "\n",
    "#     fig.add_shape(type=\"rect\",\n",
    "#         x0=min(df_data.index), y0=1200, x1=max(df_data.index), y1=10000,\n",
    "#         fillcolor=\"red\", opacity=0.1, line_width=0)\n",
    "\n",
    "# #----- Add main line -------------------------------------------------------------------------------------------\n",
    "# fig.add_trace(go.Scatter(\n",
    "#     x=df_data.index,\n",
    "#     y=df_data[sensor_selected],\n",
    "#     mode='lines',\n",
    "#     line=dict(color=params_sensor.get(\"linecolor\"), width=3),\n",
    "#     name=sensor_selected\n",
    "# ))\n",
    "\n",
    "# #----- Define Scale of the Plot ---------------------------------------------------------------------------------\n",
    "# y_min = df_data[sensor_selected].min(skipna=True)\n",
    "# y_max = df_data[sensor_selected].max(skipna=True)\n",
    "\n",
    "# midpoint = (y_min + y_max) / 2\n",
    "# half_range = max((y_max - y_min) / 2, params_sensor.get(\"yrange\") / 2)\n",
    "\n",
    "# y_range_min = midpoint - half_range\n",
    "# y_range_max = midpoint + half_range\n",
    "\n",
    "# y_range_min = (y_range_min // params_sensor.get(\"dtick\")) * params_sensor.get(\"dtick\")\n",
    "# y_range_max = ((y_range_max // params_sensor.get(\"dtick\")) + 1) * params_sensor.get(\"dtick\")\n",
    "\n",
    "\n",
    "# #----- Style the Plot --------------------------------------------------------------------------------------------\n",
    "# fig.update_layout(\n",
    "#     dragmode=False,\n",
    "#     hovermode='x',\n",
    "#     hoverlabel=dict(\n",
    "#         bgcolor=params_sensor.get(\"hoverbackground\"),\n",
    "#         bordercolor=params_sensor.get(\"linecolor\"),\n",
    "#         font=dict(color=params_sensor.get(\"hovercolor\"))\n",
    "#     ),\n",
    "\n",
    "#     xaxis=dict(\n",
    "#         fixedrange=True,\n",
    "#         showgrid=False,\n",
    "#         showline=True,\n",
    "#         linecolor='rgba(0, 0, 0, 0)',\n",
    "#         linewidth=40,\n",
    "#         tickfont=dict(color='rgba(0, 0, 0, 0.6)'),\n",
    "#         title=\"\"\n",
    "#     ),\n",
    "\n",
    "#     yaxis=dict(\n",
    "#         fixedrange=True,\n",
    "#         gridcolor='rgba(128, 128, 128, 0.2)',\n",
    "#         gridwidth=1,\n",
    "#         griddash='dot',\n",
    "#         showgrid=True,\n",
    "#         showline=True,\n",
    "#         linecolor='rgba(0, 0, 0, 0)',\n",
    "#         linewidth=20,\n",
    "#         range=[y_range_min, y_range_max],\n",
    "#         dtick=params_sensor.get(\"dtick\"),\n",
    "#         ticksuffix=params_sensor.get(\"ticksuffix\"),   \n",
    "#         tickfont=dict(color='rgba(0, 0, 0, 0.6)'),\n",
    "#         title=\"\"\n",
    "    \n",
    "#     ),\n",
    "        \n",
    "#     plot_bgcolor='white',  # Hintergrundfarbe des Plots\n",
    "#     paper_bgcolor='white',  # Hintergrundfarbe des gesamten Bildes\n",
    "#     width=800,\n",
    "#     height=400,\n",
    "\n",
    "# )\n",
    "\n",
    "\n",
    "\n",
    "# # Plot anzeigen\n",
    "# fig.show()"
   ]
  },
  {
   "cell_type": "markdown",
   "metadata": {},
   "source": [
    "# System Status"
   ]
  },
  {
   "cell_type": "code",
   "execution_count": 8,
   "metadata": {},
   "outputs": [
    {
     "name": "stdout",
     "output_type": "stream",
     "text": [
      "System Status: Critical\n"
     ]
    }
   ],
   "source": [
    "time_diff = simulation_date - df_room[\"date_time\"].max()\n",
    "if time_diff <= pd.Timedelta(days=1):\n",
    "    status = \"Good\"\n",
    "elif pd.Timedelta(days=1) < time_diff <= pd.Timedelta(days=2):\n",
    "    status = \"Warning\"\n",
    "else:\n",
    "    status = \"Critical\"\n",
    "\n",
    "print(\"System Status:\", status)"
   ]
  },
  {
   "cell_type": "markdown",
   "metadata": {},
   "source": [
    "# Room quantile"
   ]
  },
  {
   "cell_type": "code",
   "execution_count": 9,
   "metadata": {},
   "outputs": [],
   "source": [
    "import pandas as pd\n",
    "import plotly.graph_objects as go\n",
    "\n",
    "# Beispiel-Daten\n",
    "room=\"112\"\n"
   ]
  },
  {
   "cell_type": "code",
   "execution_count": 10,
   "metadata": {},
   "outputs": [],
   "source": [
    "import numpy as np"
   ]
  },
  {
   "cell_type": "code",
   "execution_count": 11,
   "metadata": {},
   "outputs": [],
   "source": [
    "dark_blue = \"rgb(74, 85, 162)\"\n",
    "medium_blue = \"rgb(120, 149, 203)\"\n",
    "light_blue = \"rgb(197, 223, 248)\"\n",
    "white = \"rgb(255, 255, 255)\"\n",
    "grey = \"rgb(128, 128, 128)\"\n",
    "light_grey = \"rgb(200, 200, 200)\""
   ]
  },
  {
   "cell_type": "code",
   "execution_count": 12,
   "metadata": {},
   "outputs": [
    {
     "data": {
      "application/vnd.plotly.v1+json": {
       "config": {
        "plotlyServerURL": "https://plot.ly"
       },
       "data": [
        {
         "gauge": {
          "axis": {
           "range": [
            21.48260553790286,
            25.44793579565067
           ],
           "tickfont": {
            "color": "black",
            "size": 20
           }
          },
          "bar": {
           "color": "rgb(74, 85, 162)",
           "thickness": 0.4
          },
          "bgcolor": "white",
          "bordercolor": "white",
          "borderwidth": 2,
          "steps": [
           {
            "color": "rgb(197, 223, 248)",
            "range": [
             21.48260553790286,
             25.44793579565067
            ],
            "thickness": 0.4
           }
          ],
          "threshold": {
           "line": {
            "color": "rgb(74, 85, 162)",
            "width": 1
           },
           "thickness": 0.4,
           "value": 23.492674125168236
          }
         },
         "mode": "gauge+number",
         "number": {
          "font": {
           "size": 40
          }
         },
         "type": "indicator",
         "value": 23.492674125168236
        }
       ],
       "layout": {
        "font": {
         "size": 12
        },
        "height": 300,
        "margin": {
         "b": 0,
         "l": 30,
         "r": 30,
         "t": 0
        },
        "template": {
         "data": {
          "bar": [
           {
            "error_x": {
             "color": "#2a3f5f"
            },
            "error_y": {
             "color": "#2a3f5f"
            },
            "marker": {
             "line": {
              "color": "#E5ECF6",
              "width": 0.5
             },
             "pattern": {
              "fillmode": "overlay",
              "size": 10,
              "solidity": 0.2
             }
            },
            "type": "bar"
           }
          ],
          "barpolar": [
           {
            "marker": {
             "line": {
              "color": "#E5ECF6",
              "width": 0.5
             },
             "pattern": {
              "fillmode": "overlay",
              "size": 10,
              "solidity": 0.2
             }
            },
            "type": "barpolar"
           }
          ],
          "carpet": [
           {
            "aaxis": {
             "endlinecolor": "#2a3f5f",
             "gridcolor": "white",
             "linecolor": "white",
             "minorgridcolor": "white",
             "startlinecolor": "#2a3f5f"
            },
            "baxis": {
             "endlinecolor": "#2a3f5f",
             "gridcolor": "white",
             "linecolor": "white",
             "minorgridcolor": "white",
             "startlinecolor": "#2a3f5f"
            },
            "type": "carpet"
           }
          ],
          "choropleth": [
           {
            "colorbar": {
             "outlinewidth": 0,
             "ticks": ""
            },
            "type": "choropleth"
           }
          ],
          "contour": [
           {
            "colorbar": {
             "outlinewidth": 0,
             "ticks": ""
            },
            "colorscale": [
             [
              0,
              "#0d0887"
             ],
             [
              0.1111111111111111,
              "#46039f"
             ],
             [
              0.2222222222222222,
              "#7201a8"
             ],
             [
              0.3333333333333333,
              "#9c179e"
             ],
             [
              0.4444444444444444,
              "#bd3786"
             ],
             [
              0.5555555555555556,
              "#d8576b"
             ],
             [
              0.6666666666666666,
              "#ed7953"
             ],
             [
              0.7777777777777778,
              "#fb9f3a"
             ],
             [
              0.8888888888888888,
              "#fdca26"
             ],
             [
              1,
              "#f0f921"
             ]
            ],
            "type": "contour"
           }
          ],
          "contourcarpet": [
           {
            "colorbar": {
             "outlinewidth": 0,
             "ticks": ""
            },
            "type": "contourcarpet"
           }
          ],
          "heatmap": [
           {
            "colorbar": {
             "outlinewidth": 0,
             "ticks": ""
            },
            "colorscale": [
             [
              0,
              "#0d0887"
             ],
             [
              0.1111111111111111,
              "#46039f"
             ],
             [
              0.2222222222222222,
              "#7201a8"
             ],
             [
              0.3333333333333333,
              "#9c179e"
             ],
             [
              0.4444444444444444,
              "#bd3786"
             ],
             [
              0.5555555555555556,
              "#d8576b"
             ],
             [
              0.6666666666666666,
              "#ed7953"
             ],
             [
              0.7777777777777778,
              "#fb9f3a"
             ],
             [
              0.8888888888888888,
              "#fdca26"
             ],
             [
              1,
              "#f0f921"
             ]
            ],
            "type": "heatmap"
           }
          ],
          "heatmapgl": [
           {
            "colorbar": {
             "outlinewidth": 0,
             "ticks": ""
            },
            "colorscale": [
             [
              0,
              "#0d0887"
             ],
             [
              0.1111111111111111,
              "#46039f"
             ],
             [
              0.2222222222222222,
              "#7201a8"
             ],
             [
              0.3333333333333333,
              "#9c179e"
             ],
             [
              0.4444444444444444,
              "#bd3786"
             ],
             [
              0.5555555555555556,
              "#d8576b"
             ],
             [
              0.6666666666666666,
              "#ed7953"
             ],
             [
              0.7777777777777778,
              "#fb9f3a"
             ],
             [
              0.8888888888888888,
              "#fdca26"
             ],
             [
              1,
              "#f0f921"
             ]
            ],
            "type": "heatmapgl"
           }
          ],
          "histogram": [
           {
            "marker": {
             "pattern": {
              "fillmode": "overlay",
              "size": 10,
              "solidity": 0.2
             }
            },
            "type": "histogram"
           }
          ],
          "histogram2d": [
           {
            "colorbar": {
             "outlinewidth": 0,
             "ticks": ""
            },
            "colorscale": [
             [
              0,
              "#0d0887"
             ],
             [
              0.1111111111111111,
              "#46039f"
             ],
             [
              0.2222222222222222,
              "#7201a8"
             ],
             [
              0.3333333333333333,
              "#9c179e"
             ],
             [
              0.4444444444444444,
              "#bd3786"
             ],
             [
              0.5555555555555556,
              "#d8576b"
             ],
             [
              0.6666666666666666,
              "#ed7953"
             ],
             [
              0.7777777777777778,
              "#fb9f3a"
             ],
             [
              0.8888888888888888,
              "#fdca26"
             ],
             [
              1,
              "#f0f921"
             ]
            ],
            "type": "histogram2d"
           }
          ],
          "histogram2dcontour": [
           {
            "colorbar": {
             "outlinewidth": 0,
             "ticks": ""
            },
            "colorscale": [
             [
              0,
              "#0d0887"
             ],
             [
              0.1111111111111111,
              "#46039f"
             ],
             [
              0.2222222222222222,
              "#7201a8"
             ],
             [
              0.3333333333333333,
              "#9c179e"
             ],
             [
              0.4444444444444444,
              "#bd3786"
             ],
             [
              0.5555555555555556,
              "#d8576b"
             ],
             [
              0.6666666666666666,
              "#ed7953"
             ],
             [
              0.7777777777777778,
              "#fb9f3a"
             ],
             [
              0.8888888888888888,
              "#fdca26"
             ],
             [
              1,
              "#f0f921"
             ]
            ],
            "type": "histogram2dcontour"
           }
          ],
          "mesh3d": [
           {
            "colorbar": {
             "outlinewidth": 0,
             "ticks": ""
            },
            "type": "mesh3d"
           }
          ],
          "parcoords": [
           {
            "line": {
             "colorbar": {
              "outlinewidth": 0,
              "ticks": ""
             }
            },
            "type": "parcoords"
           }
          ],
          "pie": [
           {
            "automargin": true,
            "type": "pie"
           }
          ],
          "scatter": [
           {
            "fillpattern": {
             "fillmode": "overlay",
             "size": 10,
             "solidity": 0.2
            },
            "type": "scatter"
           }
          ],
          "scatter3d": [
           {
            "line": {
             "colorbar": {
              "outlinewidth": 0,
              "ticks": ""
             }
            },
            "marker": {
             "colorbar": {
              "outlinewidth": 0,
              "ticks": ""
             }
            },
            "type": "scatter3d"
           }
          ],
          "scattercarpet": [
           {
            "marker": {
             "colorbar": {
              "outlinewidth": 0,
              "ticks": ""
             }
            },
            "type": "scattercarpet"
           }
          ],
          "scattergeo": [
           {
            "marker": {
             "colorbar": {
              "outlinewidth": 0,
              "ticks": ""
             }
            },
            "type": "scattergeo"
           }
          ],
          "scattergl": [
           {
            "marker": {
             "colorbar": {
              "outlinewidth": 0,
              "ticks": ""
             }
            },
            "type": "scattergl"
           }
          ],
          "scattermapbox": [
           {
            "marker": {
             "colorbar": {
              "outlinewidth": 0,
              "ticks": ""
             }
            },
            "type": "scattermapbox"
           }
          ],
          "scatterpolar": [
           {
            "marker": {
             "colorbar": {
              "outlinewidth": 0,
              "ticks": ""
             }
            },
            "type": "scatterpolar"
           }
          ],
          "scatterpolargl": [
           {
            "marker": {
             "colorbar": {
              "outlinewidth": 0,
              "ticks": ""
             }
            },
            "type": "scatterpolargl"
           }
          ],
          "scatterternary": [
           {
            "marker": {
             "colorbar": {
              "outlinewidth": 0,
              "ticks": ""
             }
            },
            "type": "scatterternary"
           }
          ],
          "surface": [
           {
            "colorbar": {
             "outlinewidth": 0,
             "ticks": ""
            },
            "colorscale": [
             [
              0,
              "#0d0887"
             ],
             [
              0.1111111111111111,
              "#46039f"
             ],
             [
              0.2222222222222222,
              "#7201a8"
             ],
             [
              0.3333333333333333,
              "#9c179e"
             ],
             [
              0.4444444444444444,
              "#bd3786"
             ],
             [
              0.5555555555555556,
              "#d8576b"
             ],
             [
              0.6666666666666666,
              "#ed7953"
             ],
             [
              0.7777777777777778,
              "#fb9f3a"
             ],
             [
              0.8888888888888888,
              "#fdca26"
             ],
             [
              1,
              "#f0f921"
             ]
            ],
            "type": "surface"
           }
          ],
          "table": [
           {
            "cells": {
             "fill": {
              "color": "#EBF0F8"
             },
             "line": {
              "color": "white"
             }
            },
            "header": {
             "fill": {
              "color": "#C8D4E3"
             },
             "line": {
              "color": "white"
             }
            },
            "type": "table"
           }
          ]
         },
         "layout": {
          "annotationdefaults": {
           "arrowcolor": "#2a3f5f",
           "arrowhead": 0,
           "arrowwidth": 1
          },
          "autotypenumbers": "strict",
          "coloraxis": {
           "colorbar": {
            "outlinewidth": 0,
            "ticks": ""
           }
          },
          "colorscale": {
           "diverging": [
            [
             0,
             "#8e0152"
            ],
            [
             0.1,
             "#c51b7d"
            ],
            [
             0.2,
             "#de77ae"
            ],
            [
             0.3,
             "#f1b6da"
            ],
            [
             0.4,
             "#fde0ef"
            ],
            [
             0.5,
             "#f7f7f7"
            ],
            [
             0.6,
             "#e6f5d0"
            ],
            [
             0.7,
             "#b8e186"
            ],
            [
             0.8,
             "#7fbc41"
            ],
            [
             0.9,
             "#4d9221"
            ],
            [
             1,
             "#276419"
            ]
           ],
           "sequential": [
            [
             0,
             "#0d0887"
            ],
            [
             0.1111111111111111,
             "#46039f"
            ],
            [
             0.2222222222222222,
             "#7201a8"
            ],
            [
             0.3333333333333333,
             "#9c179e"
            ],
            [
             0.4444444444444444,
             "#bd3786"
            ],
            [
             0.5555555555555556,
             "#d8576b"
            ],
            [
             0.6666666666666666,
             "#ed7953"
            ],
            [
             0.7777777777777778,
             "#fb9f3a"
            ],
            [
             0.8888888888888888,
             "#fdca26"
            ],
            [
             1,
             "#f0f921"
            ]
           ],
           "sequentialminus": [
            [
             0,
             "#0d0887"
            ],
            [
             0.1111111111111111,
             "#46039f"
            ],
            [
             0.2222222222222222,
             "#7201a8"
            ],
            [
             0.3333333333333333,
             "#9c179e"
            ],
            [
             0.4444444444444444,
             "#bd3786"
            ],
            [
             0.5555555555555556,
             "#d8576b"
            ],
            [
             0.6666666666666666,
             "#ed7953"
            ],
            [
             0.7777777777777778,
             "#fb9f3a"
            ],
            [
             0.8888888888888888,
             "#fdca26"
            ],
            [
             1,
             "#f0f921"
            ]
           ]
          },
          "colorway": [
           "#636efa",
           "#EF553B",
           "#00cc96",
           "#ab63fa",
           "#FFA15A",
           "#19d3f3",
           "#FF6692",
           "#B6E880",
           "#FF97FF",
           "#FECB52"
          ],
          "font": {
           "color": "#2a3f5f"
          },
          "geo": {
           "bgcolor": "white",
           "lakecolor": "white",
           "landcolor": "#E5ECF6",
           "showlakes": true,
           "showland": true,
           "subunitcolor": "white"
          },
          "hoverlabel": {
           "align": "left"
          },
          "hovermode": "closest",
          "mapbox": {
           "style": "light"
          },
          "paper_bgcolor": "white",
          "plot_bgcolor": "#E5ECF6",
          "polar": {
           "angularaxis": {
            "gridcolor": "white",
            "linecolor": "white",
            "ticks": ""
           },
           "bgcolor": "#E5ECF6",
           "radialaxis": {
            "gridcolor": "white",
            "linecolor": "white",
            "ticks": ""
           }
          },
          "scene": {
           "xaxis": {
            "backgroundcolor": "#E5ECF6",
            "gridcolor": "white",
            "gridwidth": 2,
            "linecolor": "white",
            "showbackground": true,
            "ticks": "",
            "zerolinecolor": "white"
           },
           "yaxis": {
            "backgroundcolor": "#E5ECF6",
            "gridcolor": "white",
            "gridwidth": 2,
            "linecolor": "white",
            "showbackground": true,
            "ticks": "",
            "zerolinecolor": "white"
           },
           "zaxis": {
            "backgroundcolor": "#E5ECF6",
            "gridcolor": "white",
            "gridwidth": 2,
            "linecolor": "white",
            "showbackground": true,
            "ticks": "",
            "zerolinecolor": "white"
           }
          },
          "shapedefaults": {
           "line": {
            "color": "#2a3f5f"
           }
          },
          "ternary": {
           "aaxis": {
            "gridcolor": "white",
            "linecolor": "white",
            "ticks": ""
           },
           "baxis": {
            "gridcolor": "white",
            "linecolor": "white",
            "ticks": ""
           },
           "bgcolor": "#E5ECF6",
           "caxis": {
            "gridcolor": "white",
            "linecolor": "white",
            "ticks": ""
           }
          },
          "title": {
           "x": 0.05
          },
          "xaxis": {
           "automargin": true,
           "gridcolor": "white",
           "linecolor": "white",
           "ticks": "",
           "title": {
            "standoff": 15
           },
           "zerolinecolor": "white",
           "zerolinewidth": 2
          },
          "yaxis": {
           "automargin": true,
           "gridcolor": "white",
           "linecolor": "white",
           "ticks": "",
           "title": {
            "standoff": 15
           },
           "zerolinecolor": "white",
           "zerolinewidth": 2
          }
         }
        },
        "width": 300
       }
      }
     },
     "metadata": {},
     "output_type": "display_data"
    },
    {
     "name": "stdout",
     "output_type": "stream",
     "text": [
      "70\n"
     ]
    }
   ],
   "source": [
    "import utils.dashboard\n",
    "fig, percentile= utils.dashboard.get_tacho(df, \"311\", \"tmp\", main_color=dark_blue, light_color=light_blue)\n",
    "fig.show()\n",
    "print(percentile)\n"
   ]
  }
 ],
 "metadata": {
  "kernelspec": {
   "display_name": "base",
   "language": "python",
   "name": "python3"
  },
  "language_info": {
   "codemirror_mode": {
    "name": "ipython",
    "version": 3
   },
   "file_extension": ".py",
   "mimetype": "text/x-python",
   "name": "python",
   "nbconvert_exporter": "python",
   "pygments_lexer": "ipython3",
   "version": "3.9.7"
  }
 },
 "nbformat": 4,
 "nbformat_minor": 2
}
