{
 "cells": [
  {
   "cell_type": "code",
   "execution_count": 12,
   "metadata": {},
   "outputs": [],
   "source": [
    "import os\n",
    "import subprocess\n",
    "\n",
    "# Set the working directory to the root of the Git repository\n",
    "current_dir = os.getcwd()\n",
    "git_root = subprocess.check_output([\"git\", \"rev-parse\", \"--show-toplevel\"], cwd=current_dir)\n",
    "git_root = git_root.decode(\"utf-8\").strip()\n",
    "os.chdir(git_root)\n",
    "cwd = os.getcwd()"
   ]
  },
  {
   "cell_type": "code",
   "execution_count": 27,
   "metadata": {},
   "outputs": [],
   "source": [
    "import pandas as pd\n",
    "import numpy as np\n",
    "import math\n",
    "from datetime import date\n",
    "import calendar\n",
    "import numpy as np\n",
    "import torch\n",
    "import torch.nn as nn\n",
    "import torch.optim as optim\n",
    "import plotly.graph_objects as go\n",
    "from sklearn.model_selection import train_test_split\n",
    "from sklearn.preprocessing import KBinsDiscretizer\n",
    "from sklearn.preprocessing import MinMaxScaler\n",
    "from sklearn.metrics import mean_squared_error\n",
    "from torch.utils.data import DataLoader, TensorDataset\n",
    "import joblib\n",
    "from sklearn.preprocessing import OneHotEncoder"
   ]
  },
  {
   "cell_type": "markdown",
   "metadata": {},
   "source": [
    "### Read Data"
   ]
  },
  {
   "cell_type": "code",
   "execution_count": 14,
   "metadata": {},
   "outputs": [],
   "source": [
    "df = pd.read_parquet('data/processed/data_building_n.parquet')\n",
    "\n",
    "def project_date_to_unit_circle(input_date: date):\n",
    "    year = input_date.year\n",
    "    passed_days = (input_date - date(year, 1, 1)).days + 1\n",
    "    nr_of_days_per_year = 366 if calendar.isleap(year) else 365\n",
    "    position_within_year = passed_days / nr_of_days_per_year\n",
    "    alpha = position_within_year * math.pi * 2\n",
    "    year_circle_x = (math.sin(alpha) + 1) / 2\n",
    "    year_circle_y = (math.cos(alpha) + 1) / 2\n",
    "    return year_circle_x, year_circle_y\n",
    "\n",
    "def project_day_of_week_to_unit_circle(input_day_of_week: int):\n",
    "    alpha = input_day_of_week / 7 * math.pi * 2\n",
    "    day_of_week_circle_x = (math.sin(alpha) + 1) / 2\n",
    "    day_of_week_circle_y = (math.cos(alpha) + 1) / 2\n",
    "    return day_of_week_circle_x, day_of_week_circle_y\n",
    "\n",
    "# Project the date to a unit circle (year)\n",
    "df['date_circle_x'], df['date_circle_y'] = zip(*df['date'].apply(project_date_to_unit_circle))\n",
    "\n",
    "# Project the day_of_week to a unit circle (week)\n",
    "df['day_of_week_circle_x'], df['day_of_week_circle_y'] = zip(*df['day_of_week'].apply(project_day_of_week_to_unit_circle))\n",
    "\n",
    "#----- One hot encoding ----------------------------------\n",
    "encoder = OneHotEncoder(sparse=False)\n",
    "encoded_columns = encoder.fit_transform(df[['season', 'floor']])\n",
    "\n",
    "# Neue Spaltennamen für One-Hot-Encoded-Spalten generieren\n",
    "encoded_column_names = encoder.get_feature_names_out(['season', 'floor'])\n",
    "\n",
    "# One-Hot-Encoded-Spalten in den DataFrame einfügen\n",
    "df_encoded = pd.DataFrame(encoded_columns, columns=encoded_column_names)\n",
    "df = pd.concat([df, df_encoded], axis=1).drop(['season', 'floor'], axis=1)"
   ]
  },
  {
   "cell_type": "markdown",
   "metadata": {},
   "source": [
    "### Resampling"
   ]
  },
  {
   "cell_type": "code",
   "execution_count": 15,
   "metadata": {},
   "outputs": [],
   "source": [
    "#----- Resampling ----------------------------------------\n",
    "df.set_index('date_time', inplace=True)\n",
    "df_daily = df.groupby('room').resample('D').mean().dropna()\n",
    "\n",
    "df_daily.reset_index(inplace=True)\n",
    "df_daily.set_index(['date_time'], inplace=True)\n",
    "\n",
    "df_daily = df_daily[[\n",
    "    'room', 'tmp', 'hum', 'CO2', 'VOC', 'outside_tmp', 'outside_hum', 'outside_rain',\n",
    "    'outside_snowfall', 'outside_wind_speed', 'outside_pressure',\n",
    "    'date_circle_x', 'date_circle_y', 'day_of_week_circle_x',\n",
    "    'day_of_week_circle_y', 'season_autumn', 'season_spring',\n",
    "    'season_summer', 'season_winter', 'floor_0', 'floor_1', 'floor_2',\n",
    "    'floor_3'\n",
    "    ]]"
   ]
  },
  {
   "cell_type": "markdown",
   "metadata": {},
   "source": [
    "### Create Input Data"
   ]
  },
  {
   "cell_type": "code",
   "execution_count": 16,
   "metadata": {},
   "outputs": [],
   "source": [
    "def create_sequences(data, features, sequence_length):\n",
    "    sequences = []\n",
    "    targets = []\n",
    "    \n",
    "    for room in data['room'].unique():\n",
    "        df_room = data[data['room'] == room].reset_index()\n",
    "        df_room.sort_values('date_time', inplace=True)\n",
    "        for i in range(len(df_room) - sequence_length):\n",
    "            # Prüfe, ob die Tage aufeinanderfolgend sind\n",
    "            if (df_room.loc[i + sequence_length - 1, 'date_time'] - df_room.loc[i, 'date_time']).days == sequence_length - 1:\n",
    "                sequences.append(df_room.loc[i:i+sequence_length-2, features].drop(columns=['room']).values)\n",
    "                targets.append(df_room.loc[i + sequence_length -1, 'tmp'])\n",
    "    \n",
    "    return np.array(sequences), np.array(targets)\n",
    "\n",
    "days_used_to_predict = 7 # e.g. when 7 is selected, 6 days are used to predict the 7th day\n",
    "X, y = create_sequences(df_daily, df_daily.columns, days_used_to_predict)"
   ]
  },
  {
   "cell_type": "markdown",
   "metadata": {},
   "source": [
    "### Train Test Split"
   ]
  },
  {
   "cell_type": "code",
   "execution_count": 17,
   "metadata": {},
   "outputs": [
    {
     "name": "stdout",
     "output_type": "stream",
     "text": [
      "Train Mean: 22.35377949909938 Train Std Dev: 1.8675394707221238\n",
      "Test Mean: 22.338341034378328 Test Std Dev: 1.866018212817115\n"
     ]
    }
   ],
   "source": [
    "n_bins = 5\n",
    "kbins = KBinsDiscretizer(n_bins=n_bins, encode='ordinal', strategy='uniform')\n",
    "y_binned = kbins.fit_transform(y.reshape(-1, 1)).astype(int).reshape(-1)\n",
    "\n",
    "# Use stratified sampling to split the data into training and test sets with the same distribution of bins\n",
    "X_train, X_test, y_train, y_test = train_test_split(X, y, test_size=0.2, random_state=42, stratify=y_binned)\n",
    "\n",
    "print(\"Train Mean:\", np.mean(y_train), \"Train Std Dev:\", np.std(y_train))\n",
    "print(\"Test Mean:\", np.mean(y_test), \"Test Std Dev:\", np.std(y_test))"
   ]
  },
  {
   "cell_type": "markdown",
   "metadata": {},
   "source": [
    "### Scaling"
   ]
  },
  {
   "cell_type": "code",
   "execution_count": 18,
   "metadata": {},
   "outputs": [
    {
     "name": "stdout",
     "output_type": "stream",
     "text": [
      "X_train_scaled shape: (1562, 6, 22)\n",
      "X_test_scaled shape: (391, 6, 22)\n",
      "y_train_scaled shape: (1562,)\n",
      "y_test_scaled shape: (391,)\n"
     ]
    },
    {
     "data": {
      "text/plain": [
       "['NeuralNetworks/models/2024-06-26_11-55-09/y_scaler.pkl']"
      ]
     },
     "execution_count": 18,
     "metadata": {},
     "output_type": "execute_result"
    }
   ],
   "source": [
    "x_scaler = MinMaxScaler()\n",
    "\n",
    "# Forme die Daten um, damit sie vom Scaler verarbeitet werden können\n",
    "n_samples, n_timesteps, n_features = X_train.shape\n",
    "X_train_reshaped = X_train.reshape(-1, n_features)\n",
    "X_test_reshaped = X_test.reshape(-1, n_features)\n",
    "\n",
    "# Skalierung basierend auf dem Trainingsdatensatz\n",
    "x_scaler.fit(X_train_reshaped)\n",
    "\n",
    "# Wende die Skalierung auf Trainings- und Testdatensatz an\n",
    "X_train_scaled = x_scaler.transform(X_train_reshaped).reshape(n_samples, n_timesteps, n_features)\n",
    "X_test_scaled = x_scaler.transform(X_test_reshaped).reshape(X_test.shape[0], n_timesteps, n_features)\n",
    "\n",
    "# Optional: Skalierung der Zielwerte (falls erforderlich)\n",
    "y_scaler = MinMaxScaler()\n",
    "y_train_scaled = y_scaler.fit_transform(y_train.reshape(-1, 1)).reshape(-1)\n",
    "y_test_scaled = y_scaler.transform(y_test.reshape(-1, 1)).reshape(-1)\n",
    "\n",
    "# Überprüfe die Formen der skalierten Daten\n",
    "print(\"X_train_scaled shape:\", X_train_scaled.shape)\n",
    "print(\"X_test_scaled shape:\", X_test_scaled.shape)\n",
    "print(\"y_train_scaled shape:\", y_train_scaled.shape)\n",
    "print(\"y_test_scaled shape:\", y_test_scaled.shape)"
   ]
  },
  {
   "cell_type": "code",
   "execution_count": 19,
   "metadata": {},
   "outputs": [],
   "source": [
    "device = torch.device(\"mps\") if torch.backends.mps.is_available() else torch.device(\"cpu\")\n",
    "\n",
    "# Convert data to float32\n",
    "X_train_scaled = X_train_scaled.astype(np.float32)\n",
    "X_test_scaled = X_test_scaled.astype(np.float32)\n",
    "y_train_scaled = y_train_scaled.astype(np.float32)\n",
    "y_test_scaled = y_test_scaled.astype(np.float32)\n",
    "\n",
    "# Convert numpy arrays to tensors\n",
    "X_train_scaled_tensor = torch.tensor(X_train_scaled, dtype=torch.float32).to(device)\n",
    "X_test_scaled_tensor = torch.tensor(X_test_scaled, dtype=torch.float32).to(device)\n",
    "y_train_scaled_tensor = torch.tensor(y_train_scaled, dtype=torch.float32).to(device)\n",
    "y_test_scaled_tensor = torch.tensor(y_test_scaled, dtype=torch.float32).to(device)"
   ]
  },
  {
   "cell_type": "code",
   "execution_count": 20,
   "metadata": {},
   "outputs": [],
   "source": [
    "batch_size = 32\n",
    "\n",
    "# Create TensorDataset and DataLoader\n",
    "train_dataset = TensorDataset(X_train_scaled_tensor, y_train_scaled_tensor)\n",
    "test_dataset = TensorDataset(X_test_scaled_tensor, y_test_scaled_tensor)\n",
    "\n",
    "train_loader = DataLoader(train_dataset, batch_size=batch_size, shuffle=True)\n",
    "test_loader = DataLoader(test_dataset, batch_size=batch_size, shuffle=False)\n",
    "\n",
    "# Define simple neural network\n",
    "class SimpleLSTM(nn.Module):\n",
    "    def __init__(self, input_size, hidden_size, output_size, num_layers=1, dropout_rate=0.2):\n",
    "        super(SimpleLSTM, self).__init__()\n",
    "        self.lstm = nn.LSTM(input_size, hidden_size, num_layers, batch_first=True, dropout=dropout_rate)\n",
    "        self.fc = nn.Linear(hidden_size, output_size)\n",
    "        self.dropout = nn.Dropout(dropout_rate)\n",
    "    \n",
    "    def forward(self, x):\n",
    "        h0 = torch.zeros(self.lstm.num_layers, x.size(0), self.lstm.hidden_size).to(x.device)\n",
    "        c0 = torch.zeros(self.lstm.num_layers, x.size(0), self.lstm.hidden_size).to(x.device)\n",
    "        out, _ = self.lstm(x, (h0, c0))\n",
    "        out = self.dropout(out[:, -1, :])\n",
    "        out = self.fc(out)\n",
    "        return out"
   ]
  },
  {
   "cell_type": "code",
   "execution_count": 21,
   "metadata": {},
   "outputs": [
    {
     "name": "stderr",
     "output_type": "stream",
     "text": [
      "/opt/anaconda3/lib/python3.9/site-packages/torch/nn/modules/rnn.py:83: UserWarning: dropout option adds dropout after all but last recurrent layer, so non-zero dropout expects num_layers greater than 1, but got dropout=0.2 and num_layers=1\n",
      "  warnings.warn(\"dropout option adds dropout after all but last \"\n"
     ]
    },
    {
     "name": "stdout",
     "output_type": "stream",
     "text": [
      "Epoch [10/100], Train Loss: 0.0024, Test Loss: 0.0015\n",
      "Epoch [20/100], Train Loss: 0.0019, Test Loss: 0.0011\n",
      "Epoch [30/100], Train Loss: 0.0015, Test Loss: 0.0010\n",
      "Epoch [40/100], Train Loss: 0.0015, Test Loss: 0.0010\n",
      "Epoch [50/100], Train Loss: 0.0013, Test Loss: 0.0009\n",
      "Epoch [60/100], Train Loss: 0.0011, Test Loss: 0.0008\n",
      "Epoch [70/100], Train Loss: 0.0010, Test Loss: 0.0008\n",
      "Epoch [80/100], Train Loss: 0.0009, Test Loss: 0.0008\n",
      "Epoch [90/100], Train Loss: 0.0010, Test Loss: 0.0007\n",
      "Epoch [100/100], Train Loss: 0.0009, Test Loss: 0.0007\n"
     ]
    },
    {
     "data": {
      "application/vnd.plotly.v1+json": {
       "config": {
        "plotlyServerURL": "https://plot.ly"
       },
       "data": [
        {
         "mode": "lines",
         "name": "Train Loss",
         "type": "scatter",
         "x": [
          1,
          2,
          3,
          4,
          5,
          6,
          7,
          8,
          9,
          10,
          11,
          12,
          13,
          14,
          15,
          16,
          17,
          18,
          19,
          20,
          21,
          22,
          23,
          24,
          25,
          26,
          27,
          28,
          29,
          30,
          31,
          32,
          33,
          34,
          35,
          36,
          37,
          38,
          39,
          40,
          41,
          42,
          43,
          44,
          45,
          46,
          47,
          48,
          49,
          50,
          51,
          52,
          53,
          54,
          55,
          56,
          57,
          58,
          59,
          60,
          61,
          62,
          63,
          64,
          65,
          66,
          67,
          68,
          69,
          70,
          71,
          72,
          73,
          74,
          75,
          76,
          77,
          78,
          79,
          80,
          81,
          82,
          83,
          84,
          85,
          86,
          87,
          88,
          89,
          90,
          91,
          92,
          93,
          94,
          95,
          96,
          97,
          98,
          99,
          100
         ],
         "y": [
          0.02488814642158698,
          0.008180068834323664,
          0.006498201902271534,
          0.004972081042217965,
          0.0040648380907404484,
          0.0033557027915720734,
          0.0029780143629569485,
          0.002813245200704099,
          0.0025943251961024895,
          0.002419433168050054,
          0.002564166850714507,
          0.002273723649393235,
          0.0022311612787865556,
          0.0021735351432913114,
          0.00205734350756571,
          0.002209529173750506,
          0.002014169182001176,
          0.0018241530479103023,
          0.002020921537947214,
          0.0018950891799806636,
          0.0018462717808707028,
          0.001873204308771053,
          0.001740417150989631,
          0.0018009782497942143,
          0.0018827699253107517,
          0.001724486367548911,
          0.0018281558224437187,
          0.0016207288492147867,
          0.0016136303798257544,
          0.0015055735426840885,
          0.0016473694751989476,
          0.0017080145569670262,
          0.0014698904040934785,
          0.0015004753795623475,
          0.001546734396358762,
          0.0014698681640153636,
          0.0013885665352323226,
          0.0014131130218239768,
          0.0014906632915918467,
          0.0014590975206003201,
          0.001429200383872554,
          0.0013220344387393976,
          0.0013043033256081445,
          0.0013100614531288799,
          0.001240270004408168,
          0.0011982752867898314,
          0.0012361400413840097,
          0.001353233663617082,
          0.0012409715647143976,
          0.0012672257536014884,
          0.0012406956223885016,
          0.0012249176138631847,
          0.0012647034576618854,
          0.0012009805935549037,
          0.0012611253163302128,
          0.0011346142029874406,
          0.001153463937879103,
          0.001121333263914234,
          0.0011338536082339302,
          0.0010954774108392243,
          0.0011497553840650208,
          0.0011653737064061345,
          0.0012010740085352896,
          0.0011092501868284782,
          0.0011186917913526449,
          0.0010288054520283274,
          0.0010494621600052913,
          0.0010506577352632064,
          0.0010133569261857442,
          0.001011794726411831,
          0.0010193870551361494,
          0.0010833516045787124,
          0.000983583648826889,
          0.0010952006239082891,
          0.001018160562700953,
          0.0009637960542839173,
          0.0009253115597542147,
          0.0009953400205668745,
          0.0009513816235548987,
          0.0009144232168850698,
          0.0009848224325818295,
          0.0009399193097903792,
          0.0009459965798186556,
          0.0009454343282636635,
          0.0009845245732897322,
          0.0009631456769242579,
          0.000917372034211662,
          0.000992842219955269,
          0.000929060539382757,
          0.0009692114770735557,
          0.0009318348050012956,
          0.0008907112232361901,
          0.0008896733812360587,
          0.0009493752749760312,
          0.0008853482942534041,
          0.000831315371716319,
          0.0009177379210346512,
          0.0009836075228771993,
          0.0009354657840401847,
          0.0009429612136398423
         ]
        },
        {
         "mode": "lines",
         "name": "Test Loss",
         "type": "scatter",
         "x": [
          1,
          2,
          3,
          4,
          5,
          6,
          7,
          8,
          9,
          10,
          11,
          12,
          13,
          14,
          15,
          16,
          17,
          18,
          19,
          20,
          21,
          22,
          23,
          24,
          25,
          26,
          27,
          28,
          29,
          30,
          31,
          32,
          33,
          34,
          35,
          36,
          37,
          38,
          39,
          40,
          41,
          42,
          43,
          44,
          45,
          46,
          47,
          48,
          49,
          50,
          51,
          52,
          53,
          54,
          55,
          56,
          57,
          58,
          59,
          60,
          61,
          62,
          63,
          64,
          65,
          66,
          67,
          68,
          69,
          70,
          71,
          72,
          73,
          74,
          75,
          76,
          77,
          78,
          79,
          80,
          81,
          82,
          83,
          84,
          85,
          86,
          87,
          88,
          89,
          90,
          91,
          92,
          93,
          94,
          95,
          96,
          97,
          98,
          99,
          100
         ],
         "y": [
          0.0077040912583470345,
          0.005290140988878333,
          0.003890098126318592,
          0.0028778679955464145,
          0.002125627683618894,
          0.0016212828430490424,
          0.0013767663017810823,
          0.0013915330726796617,
          0.0013553289105542577,
          0.001535409815215434,
          0.0012794556443203385,
          0.0014264332488752329,
          0.0012222996939761708,
          0.0012065623595844954,
          0.001172700717758674,
          0.0012107835836314524,
          0.0013127903176399951,
          0.0011294739826833112,
          0.0011518673474291484,
          0.0010556534084921272,
          0.0011025296474914425,
          0.0013357841526158154,
          0.0012260215858427377,
          0.0010528085538401054,
          0.0011071168634001738,
          0.0010220624793034333,
          0.0010740602514348351,
          0.001182377638402753,
          0.0010326949727291672,
          0.0009883231563995092,
          0.000935091408721816,
          0.0009220011751704777,
          0.0011938241391012876,
          0.0009231364708214712,
          0.0009734895474349076,
          0.0009159804321825504,
          0.0008996050813808464,
          0.0009438520848142126,
          0.0008989712693549406,
          0.0010240968191423095,
          0.001238947447675925,
          0.0008848815677293504,
          0.0008746016940746743,
          0.0009000947466120124,
          0.0008724757935851812,
          0.0008725429294057763,
          0.0008832406086954647,
          0.0008886118840354567,
          0.0008635001700335684,
          0.0009164294460788369,
          0.0011732832197314845,
          0.0008310559138548202,
          0.0008658074679820297,
          0.0008296028637022783,
          0.001070457927058809,
          0.0007688671869870562,
          0.001128720455408956,
          0.0008442481361831037,
          0.0008122901468036267,
          0.0008325638683835188,
          0.0007976544931387672,
          0.0008478413040463168,
          0.0007697857710389564,
          0.0008461240213364363,
          0.0009092969143799004,
          0.0007633199610819037,
          0.000748463720530988,
          0.0008174708547393003,
          0.0007844985946296499,
          0.0007960056783094143,
          0.0008401390044197727,
          0.0007497992975494036,
          0.0009658371429675474,
          0.0007896142633398995,
          0.0007565583241207955,
          0.000808551023230673,
          0.0008376477635465562,
          0.0007567332963495014,
          0.0007164836346279257,
          0.0007538674041055716,
          0.0007497417581572125,
          0.0007380217251081306,
          0.0007535336424972719,
          0.000744417081407916,
          0.0007330663793254644,
          0.0008856791873068477,
          0.0008340293548266905,
          0.0007766113043404543,
          0.0007345330914876496,
          0.000701416539064107,
          0.0007301842079659065,
          0.0007077801632336699,
          0.0007365903147729114,
          0.0007463995347139784,
          0.0007186059531075164,
          0.0008009260569591648,
          0.0007487054950056168,
          0.000846613861190585,
          0.0006839467275242966,
          0.000686812698124693
         ]
        }
       ],
       "layout": {
        "template": {
         "data": {
          "bar": [
           {
            "error_x": {
             "color": "#2a3f5f"
            },
            "error_y": {
             "color": "#2a3f5f"
            },
            "marker": {
             "line": {
              "color": "#E5ECF6",
              "width": 0.5
             },
             "pattern": {
              "fillmode": "overlay",
              "size": 10,
              "solidity": 0.2
             }
            },
            "type": "bar"
           }
          ],
          "barpolar": [
           {
            "marker": {
             "line": {
              "color": "#E5ECF6",
              "width": 0.5
             },
             "pattern": {
              "fillmode": "overlay",
              "size": 10,
              "solidity": 0.2
             }
            },
            "type": "barpolar"
           }
          ],
          "carpet": [
           {
            "aaxis": {
             "endlinecolor": "#2a3f5f",
             "gridcolor": "white",
             "linecolor": "white",
             "minorgridcolor": "white",
             "startlinecolor": "#2a3f5f"
            },
            "baxis": {
             "endlinecolor": "#2a3f5f",
             "gridcolor": "white",
             "linecolor": "white",
             "minorgridcolor": "white",
             "startlinecolor": "#2a3f5f"
            },
            "type": "carpet"
           }
          ],
          "choropleth": [
           {
            "colorbar": {
             "outlinewidth": 0,
             "ticks": ""
            },
            "type": "choropleth"
           }
          ],
          "contour": [
           {
            "colorbar": {
             "outlinewidth": 0,
             "ticks": ""
            },
            "colorscale": [
             [
              0,
              "#0d0887"
             ],
             [
              0.1111111111111111,
              "#46039f"
             ],
             [
              0.2222222222222222,
              "#7201a8"
             ],
             [
              0.3333333333333333,
              "#9c179e"
             ],
             [
              0.4444444444444444,
              "#bd3786"
             ],
             [
              0.5555555555555556,
              "#d8576b"
             ],
             [
              0.6666666666666666,
              "#ed7953"
             ],
             [
              0.7777777777777778,
              "#fb9f3a"
             ],
             [
              0.8888888888888888,
              "#fdca26"
             ],
             [
              1,
              "#f0f921"
             ]
            ],
            "type": "contour"
           }
          ],
          "contourcarpet": [
           {
            "colorbar": {
             "outlinewidth": 0,
             "ticks": ""
            },
            "type": "contourcarpet"
           }
          ],
          "heatmap": [
           {
            "colorbar": {
             "outlinewidth": 0,
             "ticks": ""
            },
            "colorscale": [
             [
              0,
              "#0d0887"
             ],
             [
              0.1111111111111111,
              "#46039f"
             ],
             [
              0.2222222222222222,
              "#7201a8"
             ],
             [
              0.3333333333333333,
              "#9c179e"
             ],
             [
              0.4444444444444444,
              "#bd3786"
             ],
             [
              0.5555555555555556,
              "#d8576b"
             ],
             [
              0.6666666666666666,
              "#ed7953"
             ],
             [
              0.7777777777777778,
              "#fb9f3a"
             ],
             [
              0.8888888888888888,
              "#fdca26"
             ],
             [
              1,
              "#f0f921"
             ]
            ],
            "type": "heatmap"
           }
          ],
          "heatmapgl": [
           {
            "colorbar": {
             "outlinewidth": 0,
             "ticks": ""
            },
            "colorscale": [
             [
              0,
              "#0d0887"
             ],
             [
              0.1111111111111111,
              "#46039f"
             ],
             [
              0.2222222222222222,
              "#7201a8"
             ],
             [
              0.3333333333333333,
              "#9c179e"
             ],
             [
              0.4444444444444444,
              "#bd3786"
             ],
             [
              0.5555555555555556,
              "#d8576b"
             ],
             [
              0.6666666666666666,
              "#ed7953"
             ],
             [
              0.7777777777777778,
              "#fb9f3a"
             ],
             [
              0.8888888888888888,
              "#fdca26"
             ],
             [
              1,
              "#f0f921"
             ]
            ],
            "type": "heatmapgl"
           }
          ],
          "histogram": [
           {
            "marker": {
             "pattern": {
              "fillmode": "overlay",
              "size": 10,
              "solidity": 0.2
             }
            },
            "type": "histogram"
           }
          ],
          "histogram2d": [
           {
            "colorbar": {
             "outlinewidth": 0,
             "ticks": ""
            },
            "colorscale": [
             [
              0,
              "#0d0887"
             ],
             [
              0.1111111111111111,
              "#46039f"
             ],
             [
              0.2222222222222222,
              "#7201a8"
             ],
             [
              0.3333333333333333,
              "#9c179e"
             ],
             [
              0.4444444444444444,
              "#bd3786"
             ],
             [
              0.5555555555555556,
              "#d8576b"
             ],
             [
              0.6666666666666666,
              "#ed7953"
             ],
             [
              0.7777777777777778,
              "#fb9f3a"
             ],
             [
              0.8888888888888888,
              "#fdca26"
             ],
             [
              1,
              "#f0f921"
             ]
            ],
            "type": "histogram2d"
           }
          ],
          "histogram2dcontour": [
           {
            "colorbar": {
             "outlinewidth": 0,
             "ticks": ""
            },
            "colorscale": [
             [
              0,
              "#0d0887"
             ],
             [
              0.1111111111111111,
              "#46039f"
             ],
             [
              0.2222222222222222,
              "#7201a8"
             ],
             [
              0.3333333333333333,
              "#9c179e"
             ],
             [
              0.4444444444444444,
              "#bd3786"
             ],
             [
              0.5555555555555556,
              "#d8576b"
             ],
             [
              0.6666666666666666,
              "#ed7953"
             ],
             [
              0.7777777777777778,
              "#fb9f3a"
             ],
             [
              0.8888888888888888,
              "#fdca26"
             ],
             [
              1,
              "#f0f921"
             ]
            ],
            "type": "histogram2dcontour"
           }
          ],
          "mesh3d": [
           {
            "colorbar": {
             "outlinewidth": 0,
             "ticks": ""
            },
            "type": "mesh3d"
           }
          ],
          "parcoords": [
           {
            "line": {
             "colorbar": {
              "outlinewidth": 0,
              "ticks": ""
             }
            },
            "type": "parcoords"
           }
          ],
          "pie": [
           {
            "automargin": true,
            "type": "pie"
           }
          ],
          "scatter": [
           {
            "fillpattern": {
             "fillmode": "overlay",
             "size": 10,
             "solidity": 0.2
            },
            "type": "scatter"
           }
          ],
          "scatter3d": [
           {
            "line": {
             "colorbar": {
              "outlinewidth": 0,
              "ticks": ""
             }
            },
            "marker": {
             "colorbar": {
              "outlinewidth": 0,
              "ticks": ""
             }
            },
            "type": "scatter3d"
           }
          ],
          "scattercarpet": [
           {
            "marker": {
             "colorbar": {
              "outlinewidth": 0,
              "ticks": ""
             }
            },
            "type": "scattercarpet"
           }
          ],
          "scattergeo": [
           {
            "marker": {
             "colorbar": {
              "outlinewidth": 0,
              "ticks": ""
             }
            },
            "type": "scattergeo"
           }
          ],
          "scattergl": [
           {
            "marker": {
             "colorbar": {
              "outlinewidth": 0,
              "ticks": ""
             }
            },
            "type": "scattergl"
           }
          ],
          "scattermapbox": [
           {
            "marker": {
             "colorbar": {
              "outlinewidth": 0,
              "ticks": ""
             }
            },
            "type": "scattermapbox"
           }
          ],
          "scatterpolar": [
           {
            "marker": {
             "colorbar": {
              "outlinewidth": 0,
              "ticks": ""
             }
            },
            "type": "scatterpolar"
           }
          ],
          "scatterpolargl": [
           {
            "marker": {
             "colorbar": {
              "outlinewidth": 0,
              "ticks": ""
             }
            },
            "type": "scatterpolargl"
           }
          ],
          "scatterternary": [
           {
            "marker": {
             "colorbar": {
              "outlinewidth": 0,
              "ticks": ""
             }
            },
            "type": "scatterternary"
           }
          ],
          "surface": [
           {
            "colorbar": {
             "outlinewidth": 0,
             "ticks": ""
            },
            "colorscale": [
             [
              0,
              "#0d0887"
             ],
             [
              0.1111111111111111,
              "#46039f"
             ],
             [
              0.2222222222222222,
              "#7201a8"
             ],
             [
              0.3333333333333333,
              "#9c179e"
             ],
             [
              0.4444444444444444,
              "#bd3786"
             ],
             [
              0.5555555555555556,
              "#d8576b"
             ],
             [
              0.6666666666666666,
              "#ed7953"
             ],
             [
              0.7777777777777778,
              "#fb9f3a"
             ],
             [
              0.8888888888888888,
              "#fdca26"
             ],
             [
              1,
              "#f0f921"
             ]
            ],
            "type": "surface"
           }
          ],
          "table": [
           {
            "cells": {
             "fill": {
              "color": "#EBF0F8"
             },
             "line": {
              "color": "white"
             }
            },
            "header": {
             "fill": {
              "color": "#C8D4E3"
             },
             "line": {
              "color": "white"
             }
            },
            "type": "table"
           }
          ]
         },
         "layout": {
          "annotationdefaults": {
           "arrowcolor": "#2a3f5f",
           "arrowhead": 0,
           "arrowwidth": 1
          },
          "autotypenumbers": "strict",
          "coloraxis": {
           "colorbar": {
            "outlinewidth": 0,
            "ticks": ""
           }
          },
          "colorscale": {
           "diverging": [
            [
             0,
             "#8e0152"
            ],
            [
             0.1,
             "#c51b7d"
            ],
            [
             0.2,
             "#de77ae"
            ],
            [
             0.3,
             "#f1b6da"
            ],
            [
             0.4,
             "#fde0ef"
            ],
            [
             0.5,
             "#f7f7f7"
            ],
            [
             0.6,
             "#e6f5d0"
            ],
            [
             0.7,
             "#b8e186"
            ],
            [
             0.8,
             "#7fbc41"
            ],
            [
             0.9,
             "#4d9221"
            ],
            [
             1,
             "#276419"
            ]
           ],
           "sequential": [
            [
             0,
             "#0d0887"
            ],
            [
             0.1111111111111111,
             "#46039f"
            ],
            [
             0.2222222222222222,
             "#7201a8"
            ],
            [
             0.3333333333333333,
             "#9c179e"
            ],
            [
             0.4444444444444444,
             "#bd3786"
            ],
            [
             0.5555555555555556,
             "#d8576b"
            ],
            [
             0.6666666666666666,
             "#ed7953"
            ],
            [
             0.7777777777777778,
             "#fb9f3a"
            ],
            [
             0.8888888888888888,
             "#fdca26"
            ],
            [
             1,
             "#f0f921"
            ]
           ],
           "sequentialminus": [
            [
             0,
             "#0d0887"
            ],
            [
             0.1111111111111111,
             "#46039f"
            ],
            [
             0.2222222222222222,
             "#7201a8"
            ],
            [
             0.3333333333333333,
             "#9c179e"
            ],
            [
             0.4444444444444444,
             "#bd3786"
            ],
            [
             0.5555555555555556,
             "#d8576b"
            ],
            [
             0.6666666666666666,
             "#ed7953"
            ],
            [
             0.7777777777777778,
             "#fb9f3a"
            ],
            [
             0.8888888888888888,
             "#fdca26"
            ],
            [
             1,
             "#f0f921"
            ]
           ]
          },
          "colorway": [
           "#636efa",
           "#EF553B",
           "#00cc96",
           "#ab63fa",
           "#FFA15A",
           "#19d3f3",
           "#FF6692",
           "#B6E880",
           "#FF97FF",
           "#FECB52"
          ],
          "font": {
           "color": "#2a3f5f"
          },
          "geo": {
           "bgcolor": "white",
           "lakecolor": "white",
           "landcolor": "#E5ECF6",
           "showlakes": true,
           "showland": true,
           "subunitcolor": "white"
          },
          "hoverlabel": {
           "align": "left"
          },
          "hovermode": "closest",
          "mapbox": {
           "style": "light"
          },
          "paper_bgcolor": "white",
          "plot_bgcolor": "#E5ECF6",
          "polar": {
           "angularaxis": {
            "gridcolor": "white",
            "linecolor": "white",
            "ticks": ""
           },
           "bgcolor": "#E5ECF6",
           "radialaxis": {
            "gridcolor": "white",
            "linecolor": "white",
            "ticks": ""
           }
          },
          "scene": {
           "xaxis": {
            "backgroundcolor": "#E5ECF6",
            "gridcolor": "white",
            "gridwidth": 2,
            "linecolor": "white",
            "showbackground": true,
            "ticks": "",
            "zerolinecolor": "white"
           },
           "yaxis": {
            "backgroundcolor": "#E5ECF6",
            "gridcolor": "white",
            "gridwidth": 2,
            "linecolor": "white",
            "showbackground": true,
            "ticks": "",
            "zerolinecolor": "white"
           },
           "zaxis": {
            "backgroundcolor": "#E5ECF6",
            "gridcolor": "white",
            "gridwidth": 2,
            "linecolor": "white",
            "showbackground": true,
            "ticks": "",
            "zerolinecolor": "white"
           }
          },
          "shapedefaults": {
           "line": {
            "color": "#2a3f5f"
           }
          },
          "ternary": {
           "aaxis": {
            "gridcolor": "white",
            "linecolor": "white",
            "ticks": ""
           },
           "baxis": {
            "gridcolor": "white",
            "linecolor": "white",
            "ticks": ""
           },
           "bgcolor": "#E5ECF6",
           "caxis": {
            "gridcolor": "white",
            "linecolor": "white",
            "ticks": ""
           }
          },
          "title": {
           "x": 0.05
          },
          "xaxis": {
           "automargin": true,
           "gridcolor": "white",
           "linecolor": "white",
           "ticks": "",
           "title": {
            "standoff": 15
           },
           "zerolinecolor": "white",
           "zerolinewidth": 2
          },
          "yaxis": {
           "automargin": true,
           "gridcolor": "white",
           "linecolor": "white",
           "ticks": "",
           "title": {
            "standoff": 15
           },
           "zerolinecolor": "white",
           "zerolinewidth": 2
          }
         }
        },
        "title": {
         "text": "Train and Test Loss over Epochs"
        },
        "xaxis": {
         "title": {
          "text": "Epoch"
         }
        },
        "yaxis": {
         "title": {
          "text": "Loss"
         }
        }
       }
      }
     },
     "metadata": {},
     "output_type": "display_data"
    },
    {
     "data": {
      "application/vnd.plotly.v1+json": {
       "config": {
        "plotlyServerURL": "https://plot.ly"
       },
       "data": [
        {
         "mode": "lines",
         "name": "Real Values",
         "type": "scatter",
         "x": [
          0,
          1,
          2,
          3,
          4,
          5,
          6,
          7,
          8,
          9,
          10,
          11,
          12,
          13,
          14,
          15,
          16,
          17,
          18,
          19,
          20,
          21,
          22,
          23,
          24,
          25,
          26,
          27,
          28,
          29,
          30,
          31,
          32,
          33,
          34,
          35,
          36,
          37,
          38,
          39,
          40,
          41,
          42,
          43,
          44,
          45,
          46,
          47,
          48,
          49,
          50,
          51,
          52,
          53,
          54,
          55,
          56,
          57,
          58,
          59,
          60,
          61,
          62,
          63,
          64,
          65,
          66,
          67,
          68,
          69,
          70,
          71,
          72,
          73,
          74,
          75,
          76,
          77,
          78,
          79,
          80,
          81,
          82,
          83,
          84,
          85,
          86,
          87,
          88,
          89,
          90,
          91,
          92,
          93,
          94,
          95,
          96,
          97,
          98,
          99,
          100,
          101,
          102,
          103,
          104,
          105,
          106,
          107,
          108,
          109,
          110,
          111,
          112,
          113,
          114,
          115,
          116,
          117,
          118,
          119,
          120,
          121,
          122,
          123,
          124,
          125,
          126,
          127,
          128,
          129,
          130,
          131,
          132,
          133,
          134,
          135,
          136,
          137,
          138,
          139,
          140,
          141,
          142,
          143,
          144,
          145,
          146,
          147,
          148,
          149,
          150,
          151,
          152,
          153,
          154,
          155,
          156,
          157,
          158,
          159,
          160,
          161,
          162,
          163,
          164,
          165,
          166,
          167,
          168,
          169,
          170,
          171,
          172,
          173,
          174,
          175,
          176,
          177,
          178,
          179,
          180,
          181,
          182,
          183,
          184,
          185,
          186,
          187,
          188,
          189,
          190,
          191,
          192,
          193,
          194,
          195,
          196,
          197,
          198,
          199,
          200,
          201,
          202,
          203,
          204,
          205,
          206,
          207,
          208,
          209,
          210,
          211,
          212,
          213,
          214,
          215,
          216,
          217,
          218,
          219,
          220,
          221,
          222,
          223,
          224,
          225,
          226,
          227,
          228,
          229,
          230,
          231,
          232,
          233,
          234,
          235,
          236,
          237,
          238,
          239,
          240,
          241,
          242,
          243,
          244,
          245,
          246,
          247,
          248,
          249,
          250,
          251,
          252,
          253,
          254,
          255,
          256,
          257,
          258,
          259,
          260,
          261,
          262,
          263,
          264,
          265,
          266,
          267,
          268,
          269,
          270,
          271,
          272,
          273,
          274,
          275,
          276,
          277,
          278,
          279,
          280,
          281,
          282,
          283,
          284,
          285,
          286,
          287,
          288,
          289,
          290,
          291,
          292,
          293,
          294,
          295,
          296,
          297,
          298,
          299,
          300,
          301,
          302,
          303,
          304,
          305,
          306,
          307,
          308,
          309,
          310,
          311,
          312,
          313,
          314,
          315,
          316,
          317,
          318,
          319,
          320,
          321,
          322,
          323,
          324,
          325,
          326,
          327,
          328,
          329,
          330,
          331,
          332,
          333,
          334,
          335,
          336,
          337,
          338,
          339,
          340,
          341,
          342,
          343,
          344,
          345,
          346,
          347,
          348,
          349,
          350,
          351,
          352,
          353,
          354,
          355,
          356,
          357,
          358,
          359,
          360,
          361,
          362,
          363,
          364,
          365,
          366,
          367,
          368,
          369,
          370,
          371,
          372,
          373,
          374,
          375,
          376,
          377,
          378,
          379,
          380,
          381,
          382,
          383,
          384,
          385,
          386,
          387,
          388,
          389,
          390
         ],
         "y": [
          0.24223491549491882,
          0.42608869075775146,
          0.22205127775669098,
          0.5275917649269104,
          0.5519580841064453,
          0.24119286239147186,
          0.3845413029193878,
          0.4831036329269409,
          0.42998093366622925,
          0.36236461997032166,
          0.5127766132354736,
          0.28244951367378235,
          0.2589622735977173,
          0.253878116607666,
          0.5641545057296753,
          0.2949446141719818,
          0.2924983501434326,
          0.6080266833305359,
          0.22919943928718567,
          0.26762497425079346,
          0.3030140995979309,
          0.27732622623443604,
          0.5367155075073242,
          0.2620601952075958,
          0.17242160439491272,
          0.24702270328998566,
          0.5012021064758301,
          0.4700617492198944,
          0.5593003034591675,
          0.21086707711219788,
          0.14408673346042633,
          0.38429054617881775,
          0.5807217359542847,
          0.16446438431739807,
          0.5369671583175659,
          0.4841208755970001,
          0.5974826812744141,
          0.3693191111087799,
          0.28944671154022217,
          0.296491801738739,
          0.2736298143863678,
          0.47619739174842834,
          0.6477101445198059,
          0.2517375349998474,
          0.2942807674407959,
          0.5527517199516296,
          0.270187646150589,
          0.37495312094688416,
          0.34028133749961853,
          0.2829951345920563,
          0.2492559254169464,
          0.619494616985321,
          0.3320934772491455,
          0.2628583014011383,
          0.41822847723960876,
          0.1493373066186905,
          0.5226121544837952,
          0.621790885925293,
          0.2274281084537506,
          0.6295977830886841,
          0.2888021469116211,
          0.22534848749637604,
          0.5726985931396484,
          0.5776389241218567,
          0.5612304210662842,
          0.23954525589942932,
          0.6094321608543396,
          0.30057376623153687,
          0.3545263409614563,
          0.5717468857765198,
          0.5876193642616272,
          0.6397043466567993,
          0.21981628239154816,
          0.3091451823711395,
          0.6137078404426575,
          0.3091033101081848,
          0.5520504713058472,
          0.5910874605178833,
          0.6161230802536011,
          0.26088228821754456,
          0.5376700758934021,
          0.6117147207260132,
          0.20740154385566711,
          0.7100719809532166,
          0.34959882497787476,
          0.2263709157705307,
          0.38176429271698,
          0.22886185348033905,
          0.2305484563112259,
          0.43678274750709534,
          0.19428350031375885,
          0.22851015627384186,
          0.29347026348114014,
          0.5641831159591675,
          0.6354027986526489,
          0.23204849660396576,
          0.1820416897535324,
          0.5629854202270508,
          0.31893083453178406,
          0.24456404149532318,
          0.3232937157154083,
          0.7764400243759155,
          0.27903714776039124,
          0.24325451254844666,
          0.5737965106964111,
          0.4352917969226837,
          0.2646847069263458,
          0.13029608130455017,
          0.43911126255989075,
          0.5650044679641724,
          0.32639846205711365,
          0.5913153886795044,
          0.5586671233177185,
          0.21472248435020447,
          0.34677326679229736,
          0.6179895997047424,
          0.5670650601387024,
          0.4445126950740814,
          0.5836840271949768,
          0.5475204586982727,
          0.5588937401771545,
          0.31120234727859497,
          0.5377780795097351,
          0.5730805993080139,
          0.5227208733558655,
          0.2056688368320465,
          0.5235403776168823,
          0.22607964277267456,
          0.5222705006599426,
          0.46869346499443054,
          0.42917507886886597,
          0.43837597966194153,
          0.24184080958366394,
          0.3441042900085449,
          0.25015199184417725,
          0.4852222204208374,
          0.21085725724697113,
          0.3867589235305786,
          0.47627830505371094,
          0.6420063972473145,
          0.5946022272109985,
          0.2693882882595062,
          0.4417757987976074,
          0.5278729200363159,
          0.2989502251148224,
          0.5756444334983826,
          0.5077252388000488,
          0.6124821305274963,
          0.23867569863796234,
          0.17866981029510498,
          0.21572473645210266,
          0.5779802203178406,
          0.37027642130851746,
          0.24414311349391937,
          0.23500628769397736,
          0.5895110368728638,
          0.6002395153045654,
          0.4514078199863434,
          0.4868397116661072,
          0.4844425320625305,
          0.25919216871261597,
          0.6000427603721619,
          0.348109632730484,
          0.2767839729785919,
          0.26990756392478943,
          0.5343978404998779,
          0.4647425711154938,
          0.3250971734523773,
          0.5202168226242065,
          0.5954022407531738,
          0.6089864373207092,
          0.31026336550712585,
          0.2495982050895691,
          0.29618382453918457,
          0.2741009294986725,
          0.4319726824760437,
          0.44277751445770264,
          0.4268600344657898,
          0.20888841152191162,
          0.6271999478340149,
          0.39623355865478516,
          0.3093153238296509,
          0.4611265957355499,
          0.5723116397857666,
          0.5154914855957031,
          0.668391227722168,
          0.29299381375312805,
          0.5005186200141907,
          0.392485648393631,
          0.614605188369751,
          0.2299882471561432,
          0.46340125799179077,
          0.24516916275024414,
          0.24303530156612396,
          0.5751451253890991,
          0.31654122471809387,
          0.4495657980442047,
          0.5312120914459229,
          0.1803184449672699,
          0.5418106317520142,
          0.631576418876648,
          0.2692451775074005,
          0.3113967478275299,
          0.24788612127304077,
          0.5519967079162598,
          0.24721038341522217,
          0.5901902318000793,
          0.3389321267604828,
          0.12678375840187073,
          0.4873913526535034,
          0.2612605690956116,
          0.2488836795091629,
          0.4694378972053528,
          0.27360108494758606,
          0.4082554280757904,
          0.5203203558921814,
          0.2845892906188965,
          0.34232741594314575,
          0.5789782404899597,
          0.38208526372909546,
          0.5333852767944336,
          0.6359643936157227,
          0.4883781671524048,
          0.26490387320518494,
          0.5190811157226562,
          0.49520647525787354,
          0.4976809620857239,
          0.5914170145988464,
          0.28896164894104004,
          0.5767848491668701,
          0.4008065462112427,
          0.3376440405845642,
          0.2752746641635895,
          0.30868256092071533,
          0.5591784119606018,
          0.1850128024816513,
          0.19974179565906525,
          0.326183557510376,
          0.18021763861179352,
          0.15057435631752014,
          0.5773782134056091,
          0.46826744079589844,
          0.5409542918205261,
          0.5898875594139099,
          0.6062044501304626,
          0.3246758282184601,
          0.348081111907959,
          0.6530339121818542,
          0.5119565725326538,
          0.4817073941230774,
          0.6248070001602173,
          0.5535215735435486,
          0.43120288848876953,
          0.32048553228378296,
          0.22959987819194794,
          0.4842115640640259,
          0.649846076965332,
          0.6382834315299988,
          0.8347709774971008,
          0.4737047255039215,
          0.5369952917098999,
          0.5535944700241089,
          0.44679397344589233,
          0.5372622013092041,
          0.5566117763519287,
          0.32082411646842957,
          0.23055657744407654,
          0.21013730764389038,
          0.5763538479804993,
          0.2314596325159073,
          0.5218005776405334,
          0.6272329688072205,
          0.4048265814781189,
          0.2019711434841156,
          0.5887772440910339,
          0.15846368670463562,
          0.14235873520374298,
          0.25880518555641174,
          0.606133222579956,
          0.47550684213638306,
          0.5595057010650635,
          0.47171416878700256,
          0.2506166696548462,
          0.7302350997924805,
          0.5807357430458069,
          0.5710042119026184,
          0.3607316017150879,
          0.31245505809783936,
          0.2291175276041031,
          0.2589961588382721,
          0.24415560066699982,
          0.23777994513511658,
          0.6415829062461853,
          0.37655332684516907,
          0.2697153389453888,
          0.6121076345443726,
          0.28469038009643555,
          0.351085364818573,
          0.22978192567825317,
          0.2451765090227127,
          0.25208011269569397,
          0.39731037616729736,
          0.34497901797294617,
          0.36178526282310486,
          0.5787196755409241,
          0.5807484984397888,
          0.24560827016830444,
          0.48912250995635986,
          0.5841387510299683,
          0.6062657833099365,
          0.2776964008808136,
          0.4542548358440399,
          0.21674275398254395,
          0.5661032795906067,
          0.2305411398410797,
          0.3622770309448242,
          0.5958937406539917,
          0.8331795930862427,
          0.27030906081199646,
          0.5356269478797913,
          0.614018440246582,
          0.2456405907869339,
          0.12328015267848969,
          0.5624092817306519,
          0.3298271596431732,
          0.5992351174354553,
          0.8202157020568848,
          0.2372455894947052,
          0.2436576783657074,
          0.16264349222183228,
          0.6222459673881531,
          0.22742190957069397,
          0.16266821324825287,
          0.3675781190395355,
          0.2532632052898407,
          0.23649334907531738,
          0.3070964813232422,
          0.1574917733669281,
          0.20716965198516846,
          0.2779582738876343,
          0.17716410756111145,
          0.28913170099258423,
          0.45504000782966614,
          0.2853850722312927,
          0.5308709144592285,
          0.5642408728599548,
          0.5917662382125854,
          0.537305474281311,
          0.7025721669197083,
          0.17118307948112488,
          0.511669933795929,
          0.22839497029781342,
          0.5448949933052063,
          0.5110718011856079,
          0.6785982251167297,
          0.3141237795352936,
          0.48990562558174133,
          0.40064164996147156,
          0.2723771929740906,
          0.22954314947128296,
          0.27130940556526184,
          0.24438360333442688,
          0.5911368131637573,
          0.45468682050704956,
          0.6309443116188049,
          0.2850792407989502,
          0.23475922644138336,
          0.1730796992778778,
          0.5302600860595703,
          0.6037067770957947,
          0.7455246448516846,
          0.29530149698257446,
          0.4773024320602417,
          0.2938559353351593,
          0.3213387727737427,
          0.2511932849884033,
          0.18908174335956573,
          0.8467186689376831,
          0.23549716174602509,
          0.2830685079097748,
          0.3287055194377899,
          0.24150124192237854,
          0.5406454205513,
          0.25594446063041687,
          0.2932642996311188,
          0.42662525177001953,
          0.23760715126991272,
          0.6372829675674438,
          0.27892857789993286,
          0.7774730324745178,
          0.5844287872314453
         ]
        },
        {
         "mode": "lines",
         "name": "Predicted Values",
         "type": "scatter",
         "x": [
          0,
          1,
          2,
          3,
          4,
          5,
          6,
          7,
          8,
          9,
          10,
          11,
          12,
          13,
          14,
          15,
          16,
          17,
          18,
          19,
          20,
          21,
          22,
          23,
          24,
          25,
          26,
          27,
          28,
          29,
          30,
          31,
          32,
          33,
          34,
          35,
          36,
          37,
          38,
          39,
          40,
          41,
          42,
          43,
          44,
          45,
          46,
          47,
          48,
          49,
          50,
          51,
          52,
          53,
          54,
          55,
          56,
          57,
          58,
          59,
          60,
          61,
          62,
          63,
          64,
          65,
          66,
          67,
          68,
          69,
          70,
          71,
          72,
          73,
          74,
          75,
          76,
          77,
          78,
          79,
          80,
          81,
          82,
          83,
          84,
          85,
          86,
          87,
          88,
          89,
          90,
          91,
          92,
          93,
          94,
          95,
          96,
          97,
          98,
          99,
          100,
          101,
          102,
          103,
          104,
          105,
          106,
          107,
          108,
          109,
          110,
          111,
          112,
          113,
          114,
          115,
          116,
          117,
          118,
          119,
          120,
          121,
          122,
          123,
          124,
          125,
          126,
          127,
          128,
          129,
          130,
          131,
          132,
          133,
          134,
          135,
          136,
          137,
          138,
          139,
          140,
          141,
          142,
          143,
          144,
          145,
          146,
          147,
          148,
          149,
          150,
          151,
          152,
          153,
          154,
          155,
          156,
          157,
          158,
          159,
          160,
          161,
          162,
          163,
          164,
          165,
          166,
          167,
          168,
          169,
          170,
          171,
          172,
          173,
          174,
          175,
          176,
          177,
          178,
          179,
          180,
          181,
          182,
          183,
          184,
          185,
          186,
          187,
          188,
          189,
          190,
          191,
          192,
          193,
          194,
          195,
          196,
          197,
          198,
          199,
          200,
          201,
          202,
          203,
          204,
          205,
          206,
          207,
          208,
          209,
          210,
          211,
          212,
          213,
          214,
          215,
          216,
          217,
          218,
          219,
          220,
          221,
          222,
          223,
          224,
          225,
          226,
          227,
          228,
          229,
          230,
          231,
          232,
          233,
          234,
          235,
          236,
          237,
          238,
          239,
          240,
          241,
          242,
          243,
          244,
          245,
          246,
          247,
          248,
          249,
          250,
          251,
          252,
          253,
          254,
          255,
          256,
          257,
          258,
          259,
          260,
          261,
          262,
          263,
          264,
          265,
          266,
          267,
          268,
          269,
          270,
          271,
          272,
          273,
          274,
          275,
          276,
          277,
          278,
          279,
          280,
          281,
          282,
          283,
          284,
          285,
          286,
          287,
          288,
          289,
          290,
          291,
          292,
          293,
          294,
          295,
          296,
          297,
          298,
          299,
          300,
          301,
          302,
          303,
          304,
          305,
          306,
          307,
          308,
          309,
          310,
          311,
          312,
          313,
          314,
          315,
          316,
          317,
          318,
          319,
          320,
          321,
          322,
          323,
          324,
          325,
          326,
          327,
          328,
          329,
          330,
          331,
          332,
          333,
          334,
          335,
          336,
          337,
          338,
          339,
          340,
          341,
          342,
          343,
          344,
          345,
          346,
          347,
          348,
          349,
          350,
          351,
          352,
          353,
          354,
          355,
          356,
          357,
          358,
          359,
          360,
          361,
          362,
          363,
          364,
          365,
          366,
          367,
          368,
          369,
          370,
          371,
          372,
          373,
          374,
          375,
          376,
          377,
          378,
          379,
          380,
          381,
          382,
          383,
          384,
          385,
          386,
          387,
          388,
          389,
          390
         ],
         "y": [
          0.26342862844467163,
          0.4431461691856384,
          0.20744377374649048,
          0.5256412625312805,
          0.4992183446884155,
          0.24654239416122437,
          0.40280595421791077,
          0.5033259987831116,
          0.425314337015152,
          0.35598456859588623,
          0.5295998454093933,
          0.28468263149261475,
          0.28313761949539185,
          0.2632930278778076,
          0.5592924952507019,
          0.2866961658000946,
          0.2815821170806885,
          0.6075708866119385,
          0.24337497353553772,
          0.22894375026226044,
          0.3051106631755829,
          0.2508089542388916,
          0.5133883953094482,
          0.2556306719779968,
          0.1681503802537918,
          0.2533683180809021,
          0.5413390398025513,
          0.476295530796051,
          0.5603029727935791,
          0.21829023957252502,
          0.172998309135437,
          0.4129321873188019,
          0.5609084963798523,
          0.15254898369312286,
          0.5265048742294312,
          0.4844457507133484,
          0.5819253325462341,
          0.3180481791496277,
          0.2859475016593933,
          0.27553021907806396,
          0.26658356189727783,
          0.4905586242675781,
          0.6339882612228394,
          0.25089117884635925,
          0.30112895369529724,
          0.5711300373077393,
          0.26728561520576477,
          0.3779200613498688,
          0.2634691298007965,
          0.29123684763908386,
          0.2639923691749573,
          0.5993072390556335,
          0.33147093653678894,
          0.2615951895713806,
          0.39066362380981445,
          0.18475747108459473,
          0.5257100462913513,
          0.6028295755386353,
          0.23468062281608582,
          0.6261019706726074,
          0.27887123823165894,
          0.23376138508319855,
          0.5489252209663391,
          0.5498314499855042,
          0.5369614958763123,
          0.22936883568763733,
          0.6111965179443359,
          0.3784874677658081,
          0.35618770122528076,
          0.5510657429695129,
          0.5970256328582764,
          0.6439850926399231,
          0.2161400318145752,
          0.3218848705291748,
          0.6179851293563843,
          0.29809048771858215,
          0.5578991174697876,
          0.569377064704895,
          0.5856231451034546,
          0.2555978000164032,
          0.5259239077568054,
          0.6120967864990234,
          0.25132808089256287,
          0.7029098272323608,
          0.38856226205825806,
          0.2408551275730133,
          0.37757608294487,
          0.23943063616752625,
          0.2576856017112732,
          0.4480687379837036,
          0.23500491678714752,
          0.1861094981431961,
          0.283674955368042,
          0.5774825811386108,
          0.6393173933029175,
          0.2377345860004425,
          0.1633037030696869,
          0.5534296035766602,
          0.32238540053367615,
          0.26506078243255615,
          0.3267780542373657,
          0.831077516078949,
          0.31474006175994873,
          0.23380881547927856,
          0.6007177829742432,
          0.44473910331726074,
          0.2682074308395386,
          0.30118054151535034,
          0.44698572158813477,
          0.580059289932251,
          0.35140877962112427,
          0.5849946141242981,
          0.5832301378250122,
          0.20095022022724152,
          0.36600461602211,
          0.6039249300956726,
          0.5610209703445435,
          0.4414037764072418,
          0.5653425455093384,
          0.5600257515907288,
          0.5695260167121887,
          0.2816089987754822,
          0.546812891960144,
          0.5624848008155823,
          0.5477383136749268,
          0.220522940158844,
          0.5404309034347534,
          0.256257563829422,
          0.5206857323646545,
          0.48665881156921387,
          0.4465632736682892,
          0.43982329964637756,
          0.24266603589057922,
          0.33065760135650635,
          0.2599802315235138,
          0.47539401054382324,
          0.24267777800559998,
          0.3403046429157257,
          0.4733479619026184,
          0.5982605218887329,
          0.6163805723190308,
          0.26064059138298035,
          0.4934587776660919,
          0.5246527791023254,
          0.306561142206192,
          0.565554678440094,
          0.5123306512832642,
          0.6066558957099915,
          0.24950875341892242,
          0.20684130489826202,
          0.21552878618240356,
          0.578227698802948,
          0.36222049593925476,
          0.26008376479148865,
          0.22871622443199158,
          0.5881600379943848,
          0.5721346735954285,
          0.5304100513458252,
          0.4963141083717346,
          0.4938441514968872,
          0.25744497776031494,
          0.6224236488342285,
          0.3547970950603485,
          0.27771639823913574,
          0.2725054621696472,
          0.5367709994316101,
          0.5217188596725464,
          0.33550408482551575,
          0.5055445432662964,
          0.6075682640075684,
          0.6340566873550415,
          0.32017895579338074,
          0.25154200196266174,
          0.3010401725769043,
          0.3141304552555084,
          0.45300865173339844,
          0.4420784115791321,
          0.43519124388694763,
          0.21083267033100128,
          0.6432863473892212,
          0.34265950322151184,
          0.29025378823280334,
          0.5333482623100281,
          0.5916584730148315,
          0.5263707041740417,
          0.6335449814796448,
          0.289306640625,
          0.49732035398483276,
          0.32869356870651245,
          0.614797830581665,
          0.23873955011367798,
          0.45993661880493164,
          0.24834036827087402,
          0.25009772181510925,
          0.5774189829826355,
          0.31170693039894104,
          0.498468816280365,
          0.5694390535354614,
          0.17911259829998016,
          0.5651469230651855,
          0.6120532751083374,
          0.2623712718486786,
          0.3249245285987854,
          0.24850338697433472,
          0.5542002320289612,
          0.25292685627937317,
          0.5875334143638611,
          0.3570724129676819,
          0.15568141639232635,
          0.495854914188385,
          0.2664710581302643,
          0.2660347819328308,
          0.47044962644577026,
          0.277474969625473,
          0.4091299772262573,
          0.5360437035560608,
          0.3447008430957794,
          0.33380040526390076,
          0.5813220143318176,
          0.36635419726371765,
          0.5442257523536682,
          0.6275002956390381,
          0.44786837697029114,
          0.2793648838996887,
          0.535057544708252,
          0.48561352491378784,
          0.4978184700012207,
          0.5970091819763184,
          0.2795669734477997,
          0.5490962862968445,
          0.3562887907028198,
          0.3146034777164459,
          0.24192893505096436,
          0.3622683882713318,
          0.577275812625885,
          0.1958601027727127,
          0.20576594769954681,
          0.3225955069065094,
          0.18832242488861084,
          0.2254233956336975,
          0.6428897380828857,
          0.47300851345062256,
          0.5317415595054626,
          0.6088533401489258,
          0.6155474781990051,
          0.3507806658744812,
          0.3612772822380066,
          0.6385658979415894,
          0.5179306268692017,
          0.5156822204589844,
          0.6061587333679199,
          0.5807541012763977,
          0.4465845227241516,
          0.3105250895023346,
          0.2569931149482727,
          0.4800889194011688,
          0.6590670943260193,
          0.5975378751754761,
          0.8213437795639038,
          0.5030924081802368,
          0.5737600922584534,
          0.5377639532089233,
          0.40395814180374146,
          0.5474116206169128,
          0.5572731494903564,
          0.3613271117210388,
          0.23712056875228882,
          0.21730606257915497,
          0.5904624462127686,
          0.22647525370121002,
          0.5195602774620056,
          0.6535725593566895,
          0.4429122805595398,
          0.21180032193660736,
          0.5911740064620972,
          0.17764179408550262,
          0.1651974767446518,
          0.24701663851737976,
          0.5614062547683716,
          0.4732910394668579,
          0.5437831282615662,
          0.482034295797348,
          0.24783188104629517,
          0.6967542171478271,
          0.570622980594635,
          0.587746798992157,
          0.37091127038002014,
          0.30650073289871216,
          0.2240906059741974,
          0.25659745931625366,
          0.25109583139419556,
          0.25145578384399414,
          0.6144980192184448,
          0.35507744550704956,
          0.27403420209884644,
          0.6002365350723267,
          0.2960866093635559,
          0.29823246598243713,
          0.23246824741363525,
          0.23907333612442017,
          0.2471851259469986,
          0.3774036169052124,
          0.3562428057193756,
          0.362557977437973,
          0.5674871206283569,
          0.5374228358268738,
          0.246403306722641,
          0.48138201236724854,
          0.6008849143981934,
          0.6057435870170593,
          0.2691621780395508,
          0.4493664503097534,
          0.212803453207016,
          0.5989000797271729,
          0.23637427389621735,
          0.3539685308933258,
          0.5775213241577148,
          0.7692958116531372,
          0.22153685986995697,
          0.5497563481330872,
          0.6134854555130005,
          0.2691512405872345,
          0.16340865194797516,
          0.5619279742240906,
          0.34543269872665405,
          0.5999837517738342,
          0.6929513812065125,
          0.24726393818855286,
          0.2341558337211609,
          0.16870857775211334,
          0.597022294998169,
          0.23799821734428406,
          0.17307531833648682,
          0.4105137884616852,
          0.2787540853023529,
          0.23956716060638428,
          0.30458778142929077,
          0.17742370069026947,
          0.22066091001033783,
          0.25940361618995667,
          0.3629830479621887,
          0.2913411557674408,
          0.45107460021972656,
          0.2742747664451599,
          0.48078209161758423,
          0.581354558467865,
          0.6126574277877808,
          0.49620282649993896,
          0.6739110946655273,
          0.18512874841690063,
          0.5230704545974731,
          0.2375769168138504,
          0.5377418398857117,
          0.5157809853553772,
          0.589253306388855,
          0.3194064497947693,
          0.5073451399803162,
          0.37547245621681213,
          0.27416616678237915,
          0.2288270890712738,
          0.2888632118701935,
          0.2526240348815918,
          0.6008105278015137,
          0.4689599871635437,
          0.6203685998916626,
          0.29694563150405884,
          0.23934268951416016,
          0.1686987280845642,
          0.524042546749115,
          0.656771719455719,
          0.6807406544685364,
          0.28705132007598877,
          0.46271342039108276,
          0.25181084871292114,
          0.3135583698749542,
          0.25168535113334656,
          0.19190438091754913,
          0.8210242986679077,
          0.23721182346343994,
          0.2601761221885681,
          0.28358763456344604,
          0.25758787989616394,
          0.5585843324661255,
          0.25137582421302795,
          0.2788836359977722,
          0.4181378185749054,
          0.26057660579681396,
          0.6390557885169983,
          0.2665715515613556,
          0.7812528610229492,
          0.5949137210845947
         ]
        }
       ],
       "layout": {
        "template": {
         "data": {
          "bar": [
           {
            "error_x": {
             "color": "#2a3f5f"
            },
            "error_y": {
             "color": "#2a3f5f"
            },
            "marker": {
             "line": {
              "color": "#E5ECF6",
              "width": 0.5
             },
             "pattern": {
              "fillmode": "overlay",
              "size": 10,
              "solidity": 0.2
             }
            },
            "type": "bar"
           }
          ],
          "barpolar": [
           {
            "marker": {
             "line": {
              "color": "#E5ECF6",
              "width": 0.5
             },
             "pattern": {
              "fillmode": "overlay",
              "size": 10,
              "solidity": 0.2
             }
            },
            "type": "barpolar"
           }
          ],
          "carpet": [
           {
            "aaxis": {
             "endlinecolor": "#2a3f5f",
             "gridcolor": "white",
             "linecolor": "white",
             "minorgridcolor": "white",
             "startlinecolor": "#2a3f5f"
            },
            "baxis": {
             "endlinecolor": "#2a3f5f",
             "gridcolor": "white",
             "linecolor": "white",
             "minorgridcolor": "white",
             "startlinecolor": "#2a3f5f"
            },
            "type": "carpet"
           }
          ],
          "choropleth": [
           {
            "colorbar": {
             "outlinewidth": 0,
             "ticks": ""
            },
            "type": "choropleth"
           }
          ],
          "contour": [
           {
            "colorbar": {
             "outlinewidth": 0,
             "ticks": ""
            },
            "colorscale": [
             [
              0,
              "#0d0887"
             ],
             [
              0.1111111111111111,
              "#46039f"
             ],
             [
              0.2222222222222222,
              "#7201a8"
             ],
             [
              0.3333333333333333,
              "#9c179e"
             ],
             [
              0.4444444444444444,
              "#bd3786"
             ],
             [
              0.5555555555555556,
              "#d8576b"
             ],
             [
              0.6666666666666666,
              "#ed7953"
             ],
             [
              0.7777777777777778,
              "#fb9f3a"
             ],
             [
              0.8888888888888888,
              "#fdca26"
             ],
             [
              1,
              "#f0f921"
             ]
            ],
            "type": "contour"
           }
          ],
          "contourcarpet": [
           {
            "colorbar": {
             "outlinewidth": 0,
             "ticks": ""
            },
            "type": "contourcarpet"
           }
          ],
          "heatmap": [
           {
            "colorbar": {
             "outlinewidth": 0,
             "ticks": ""
            },
            "colorscale": [
             [
              0,
              "#0d0887"
             ],
             [
              0.1111111111111111,
              "#46039f"
             ],
             [
              0.2222222222222222,
              "#7201a8"
             ],
             [
              0.3333333333333333,
              "#9c179e"
             ],
             [
              0.4444444444444444,
              "#bd3786"
             ],
             [
              0.5555555555555556,
              "#d8576b"
             ],
             [
              0.6666666666666666,
              "#ed7953"
             ],
             [
              0.7777777777777778,
              "#fb9f3a"
             ],
             [
              0.8888888888888888,
              "#fdca26"
             ],
             [
              1,
              "#f0f921"
             ]
            ],
            "type": "heatmap"
           }
          ],
          "heatmapgl": [
           {
            "colorbar": {
             "outlinewidth": 0,
             "ticks": ""
            },
            "colorscale": [
             [
              0,
              "#0d0887"
             ],
             [
              0.1111111111111111,
              "#46039f"
             ],
             [
              0.2222222222222222,
              "#7201a8"
             ],
             [
              0.3333333333333333,
              "#9c179e"
             ],
             [
              0.4444444444444444,
              "#bd3786"
             ],
             [
              0.5555555555555556,
              "#d8576b"
             ],
             [
              0.6666666666666666,
              "#ed7953"
             ],
             [
              0.7777777777777778,
              "#fb9f3a"
             ],
             [
              0.8888888888888888,
              "#fdca26"
             ],
             [
              1,
              "#f0f921"
             ]
            ],
            "type": "heatmapgl"
           }
          ],
          "histogram": [
           {
            "marker": {
             "pattern": {
              "fillmode": "overlay",
              "size": 10,
              "solidity": 0.2
             }
            },
            "type": "histogram"
           }
          ],
          "histogram2d": [
           {
            "colorbar": {
             "outlinewidth": 0,
             "ticks": ""
            },
            "colorscale": [
             [
              0,
              "#0d0887"
             ],
             [
              0.1111111111111111,
              "#46039f"
             ],
             [
              0.2222222222222222,
              "#7201a8"
             ],
             [
              0.3333333333333333,
              "#9c179e"
             ],
             [
              0.4444444444444444,
              "#bd3786"
             ],
             [
              0.5555555555555556,
              "#d8576b"
             ],
             [
              0.6666666666666666,
              "#ed7953"
             ],
             [
              0.7777777777777778,
              "#fb9f3a"
             ],
             [
              0.8888888888888888,
              "#fdca26"
             ],
             [
              1,
              "#f0f921"
             ]
            ],
            "type": "histogram2d"
           }
          ],
          "histogram2dcontour": [
           {
            "colorbar": {
             "outlinewidth": 0,
             "ticks": ""
            },
            "colorscale": [
             [
              0,
              "#0d0887"
             ],
             [
              0.1111111111111111,
              "#46039f"
             ],
             [
              0.2222222222222222,
              "#7201a8"
             ],
             [
              0.3333333333333333,
              "#9c179e"
             ],
             [
              0.4444444444444444,
              "#bd3786"
             ],
             [
              0.5555555555555556,
              "#d8576b"
             ],
             [
              0.6666666666666666,
              "#ed7953"
             ],
             [
              0.7777777777777778,
              "#fb9f3a"
             ],
             [
              0.8888888888888888,
              "#fdca26"
             ],
             [
              1,
              "#f0f921"
             ]
            ],
            "type": "histogram2dcontour"
           }
          ],
          "mesh3d": [
           {
            "colorbar": {
             "outlinewidth": 0,
             "ticks": ""
            },
            "type": "mesh3d"
           }
          ],
          "parcoords": [
           {
            "line": {
             "colorbar": {
              "outlinewidth": 0,
              "ticks": ""
             }
            },
            "type": "parcoords"
           }
          ],
          "pie": [
           {
            "automargin": true,
            "type": "pie"
           }
          ],
          "scatter": [
           {
            "fillpattern": {
             "fillmode": "overlay",
             "size": 10,
             "solidity": 0.2
            },
            "type": "scatter"
           }
          ],
          "scatter3d": [
           {
            "line": {
             "colorbar": {
              "outlinewidth": 0,
              "ticks": ""
             }
            },
            "marker": {
             "colorbar": {
              "outlinewidth": 0,
              "ticks": ""
             }
            },
            "type": "scatter3d"
           }
          ],
          "scattercarpet": [
           {
            "marker": {
             "colorbar": {
              "outlinewidth": 0,
              "ticks": ""
             }
            },
            "type": "scattercarpet"
           }
          ],
          "scattergeo": [
           {
            "marker": {
             "colorbar": {
              "outlinewidth": 0,
              "ticks": ""
             }
            },
            "type": "scattergeo"
           }
          ],
          "scattergl": [
           {
            "marker": {
             "colorbar": {
              "outlinewidth": 0,
              "ticks": ""
             }
            },
            "type": "scattergl"
           }
          ],
          "scattermapbox": [
           {
            "marker": {
             "colorbar": {
              "outlinewidth": 0,
              "ticks": ""
             }
            },
            "type": "scattermapbox"
           }
          ],
          "scatterpolar": [
           {
            "marker": {
             "colorbar": {
              "outlinewidth": 0,
              "ticks": ""
             }
            },
            "type": "scatterpolar"
           }
          ],
          "scatterpolargl": [
           {
            "marker": {
             "colorbar": {
              "outlinewidth": 0,
              "ticks": ""
             }
            },
            "type": "scatterpolargl"
           }
          ],
          "scatterternary": [
           {
            "marker": {
             "colorbar": {
              "outlinewidth": 0,
              "ticks": ""
             }
            },
            "type": "scatterternary"
           }
          ],
          "surface": [
           {
            "colorbar": {
             "outlinewidth": 0,
             "ticks": ""
            },
            "colorscale": [
             [
              0,
              "#0d0887"
             ],
             [
              0.1111111111111111,
              "#46039f"
             ],
             [
              0.2222222222222222,
              "#7201a8"
             ],
             [
              0.3333333333333333,
              "#9c179e"
             ],
             [
              0.4444444444444444,
              "#bd3786"
             ],
             [
              0.5555555555555556,
              "#d8576b"
             ],
             [
              0.6666666666666666,
              "#ed7953"
             ],
             [
              0.7777777777777778,
              "#fb9f3a"
             ],
             [
              0.8888888888888888,
              "#fdca26"
             ],
             [
              1,
              "#f0f921"
             ]
            ],
            "type": "surface"
           }
          ],
          "table": [
           {
            "cells": {
             "fill": {
              "color": "#EBF0F8"
             },
             "line": {
              "color": "white"
             }
            },
            "header": {
             "fill": {
              "color": "#C8D4E3"
             },
             "line": {
              "color": "white"
             }
            },
            "type": "table"
           }
          ]
         },
         "layout": {
          "annotationdefaults": {
           "arrowcolor": "#2a3f5f",
           "arrowhead": 0,
           "arrowwidth": 1
          },
          "autotypenumbers": "strict",
          "coloraxis": {
           "colorbar": {
            "outlinewidth": 0,
            "ticks": ""
           }
          },
          "colorscale": {
           "diverging": [
            [
             0,
             "#8e0152"
            ],
            [
             0.1,
             "#c51b7d"
            ],
            [
             0.2,
             "#de77ae"
            ],
            [
             0.3,
             "#f1b6da"
            ],
            [
             0.4,
             "#fde0ef"
            ],
            [
             0.5,
             "#f7f7f7"
            ],
            [
             0.6,
             "#e6f5d0"
            ],
            [
             0.7,
             "#b8e186"
            ],
            [
             0.8,
             "#7fbc41"
            ],
            [
             0.9,
             "#4d9221"
            ],
            [
             1,
             "#276419"
            ]
           ],
           "sequential": [
            [
             0,
             "#0d0887"
            ],
            [
             0.1111111111111111,
             "#46039f"
            ],
            [
             0.2222222222222222,
             "#7201a8"
            ],
            [
             0.3333333333333333,
             "#9c179e"
            ],
            [
             0.4444444444444444,
             "#bd3786"
            ],
            [
             0.5555555555555556,
             "#d8576b"
            ],
            [
             0.6666666666666666,
             "#ed7953"
            ],
            [
             0.7777777777777778,
             "#fb9f3a"
            ],
            [
             0.8888888888888888,
             "#fdca26"
            ],
            [
             1,
             "#f0f921"
            ]
           ],
           "sequentialminus": [
            [
             0,
             "#0d0887"
            ],
            [
             0.1111111111111111,
             "#46039f"
            ],
            [
             0.2222222222222222,
             "#7201a8"
            ],
            [
             0.3333333333333333,
             "#9c179e"
            ],
            [
             0.4444444444444444,
             "#bd3786"
            ],
            [
             0.5555555555555556,
             "#d8576b"
            ],
            [
             0.6666666666666666,
             "#ed7953"
            ],
            [
             0.7777777777777778,
             "#fb9f3a"
            ],
            [
             0.8888888888888888,
             "#fdca26"
            ],
            [
             1,
             "#f0f921"
            ]
           ]
          },
          "colorway": [
           "#636efa",
           "#EF553B",
           "#00cc96",
           "#ab63fa",
           "#FFA15A",
           "#19d3f3",
           "#FF6692",
           "#B6E880",
           "#FF97FF",
           "#FECB52"
          ],
          "font": {
           "color": "#2a3f5f"
          },
          "geo": {
           "bgcolor": "white",
           "lakecolor": "white",
           "landcolor": "#E5ECF6",
           "showlakes": true,
           "showland": true,
           "subunitcolor": "white"
          },
          "hoverlabel": {
           "align": "left"
          },
          "hovermode": "closest",
          "mapbox": {
           "style": "light"
          },
          "paper_bgcolor": "white",
          "plot_bgcolor": "#E5ECF6",
          "polar": {
           "angularaxis": {
            "gridcolor": "white",
            "linecolor": "white",
            "ticks": ""
           },
           "bgcolor": "#E5ECF6",
           "radialaxis": {
            "gridcolor": "white",
            "linecolor": "white",
            "ticks": ""
           }
          },
          "scene": {
           "xaxis": {
            "backgroundcolor": "#E5ECF6",
            "gridcolor": "white",
            "gridwidth": 2,
            "linecolor": "white",
            "showbackground": true,
            "ticks": "",
            "zerolinecolor": "white"
           },
           "yaxis": {
            "backgroundcolor": "#E5ECF6",
            "gridcolor": "white",
            "gridwidth": 2,
            "linecolor": "white",
            "showbackground": true,
            "ticks": "",
            "zerolinecolor": "white"
           },
           "zaxis": {
            "backgroundcolor": "#E5ECF6",
            "gridcolor": "white",
            "gridwidth": 2,
            "linecolor": "white",
            "showbackground": true,
            "ticks": "",
            "zerolinecolor": "white"
           }
          },
          "shapedefaults": {
           "line": {
            "color": "#2a3f5f"
           }
          },
          "ternary": {
           "aaxis": {
            "gridcolor": "white",
            "linecolor": "white",
            "ticks": ""
           },
           "baxis": {
            "gridcolor": "white",
            "linecolor": "white",
            "ticks": ""
           },
           "bgcolor": "#E5ECF6",
           "caxis": {
            "gridcolor": "white",
            "linecolor": "white",
            "ticks": ""
           }
          },
          "title": {
           "x": 0.05
          },
          "xaxis": {
           "automargin": true,
           "gridcolor": "white",
           "linecolor": "white",
           "ticks": "",
           "title": {
            "standoff": 15
           },
           "zerolinecolor": "white",
           "zerolinewidth": 2
          },
          "yaxis": {
           "automargin": true,
           "gridcolor": "white",
           "linecolor": "white",
           "ticks": "",
           "title": {
            "standoff": 15
           },
           "zerolinecolor": "white",
           "zerolinewidth": 2
          }
         }
        },
        "title": {
         "text": "Real vs Predicted Values"
        },
        "xaxis": {
         "title": {
          "text": "Sample Index"
         }
        },
        "yaxis": {
         "title": {
          "text": "Value"
         }
        }
       }
      }
     },
     "metadata": {},
     "output_type": "display_data"
    }
   ],
   "source": [
    "# Modellinstanziierung\n",
    "input_size = X_train_scaled.shape[2]\n",
    "hidden_size = 50\n",
    "output_size = 1\n",
    "num_layers = 1\n",
    "dropout_rate = 0.2\n",
    "\n",
    "model = SimpleLSTM(input_size, hidden_size, output_size, num_layers, dropout_rate).to(device)\n",
    "\n",
    "# Loss und Optimizer definieren\n",
    "criterion = nn.MSELoss()\n",
    "optimizer = optim.Adam(model.parameters(), lr=0.001)\n",
    "\n",
    "# Listen zur Speicherung der Verluste\n",
    "train_losses = []\n",
    "test_losses = []\n",
    "\n",
    "# Training des Modells\n",
    "num_epochs = 100\n",
    "for epoch in range(num_epochs):\n",
    "    model.train()\n",
    "    epoch_loss = 0.0\n",
    "    for batch_x, batch_y in train_loader:\n",
    "        batch_x, batch_y = batch_x.to(device), batch_y.to(device)\n",
    "        \n",
    "        # Forward pass\n",
    "        outputs = model(batch_x)\n",
    "        loss = criterion(outputs.squeeze(), batch_y)\n",
    "        \n",
    "        # Backward pass und Optimierung\n",
    "        optimizer.zero_grad()\n",
    "        loss.backward()\n",
    "        optimizer.step()\n",
    "        \n",
    "        epoch_loss += loss.item()\n",
    "    \n",
    "    avg_train_loss = epoch_loss / len(train_loader)\n",
    "    train_losses.append(avg_train_loss)\n",
    "    \n",
    "    # Testverlust berechnen\n",
    "    model.eval()\n",
    "    test_loss = 0.0\n",
    "    with torch.no_grad():\n",
    "        for batch_x, batch_y in test_loader:\n",
    "            batch_x, batch_y = batch_x.to(device), batch_y.to(device)\n",
    "            outputs = model(batch_x)\n",
    "            loss = criterion(outputs.squeeze(), batch_y)\n",
    "            test_loss += loss.item()\n",
    "    avg_test_loss = test_loss / len(test_loader)\n",
    "    test_losses.append(avg_test_loss)\n",
    "    \n",
    "    if (epoch + 1) % 10 == 0:\n",
    "        print(f'Epoch [{epoch + 1}/{num_epochs}], Train Loss: {avg_train_loss:.4f}, Test Loss: {avg_test_loss:.4f}')\n",
    "\n",
    "# Plotten der Verluste\n",
    "epochs = list(range(1, num_epochs + 1))\n",
    "fig = go.Figure()\n",
    "fig.add_trace(go.Scatter(x=epochs, y=train_losses, mode='lines', name='Train Loss'))\n",
    "fig.add_trace(go.Scatter(x=epochs, y=test_losses, mode='lines', name='Test Loss'))\n",
    "fig.update_layout(title='Train and Test Loss over Epochs',\n",
    "                   xaxis_title='Epoch',\n",
    "                   yaxis_title='Loss')\n",
    "fig.show()\n",
    "\n",
    "# Rücktransformation der skalierten Vorhersagen und realen Werte (falls erforderlich)\n",
    "scaler_y = MinMaxScaler()\n",
    "scaler_y.fit(y_train_scaled.reshape(-1, 1))\n",
    "\n",
    "all_predictions = []\n",
    "model.eval()\n",
    "with torch.no_grad():\n",
    "    for batch_x, batch_y in test_loader:\n",
    "        batch_x, batch_y = batch_x.to(device), batch_y.to(device)\n",
    "        outputs = model(batch_x)\n",
    "        all_predictions.append(outputs.cpu().numpy())\n",
    "\n",
    "all_predictions = np.concatenate(all_predictions, axis=0)\n",
    "\n",
    "y_pred = scaler_y.inverse_transform(all_predictions.reshape(-1, 1)).flatten()\n",
    "y_test_real = scaler_y.inverse_transform(y_test_scaled.reshape(-1, 1)).flatten()\n",
    "\n",
    "# Plotten der realen Werte und Vorhersagen\n",
    "fig = go.Figure()\n",
    "fig.add_trace(go.Scatter(x=list(range(len(y_test_real))), y=y_test_real, mode='lines', name='Real Values'))\n",
    "fig.add_trace(go.Scatter(x=list(range(len(y_test_real))), y=y_pred, mode='lines', name='Predicted Values'))\n",
    "fig.update_layout(title='Real vs Predicted Values',\n",
    "                   xaxis_title='Sample Index',\n",
    "                   yaxis_title='Value')\n",
    "fig.show()"
   ]
  },
  {
   "cell_type": "markdown",
   "metadata": {},
   "source": [
    "## Naive Approach\n",
    "To get a baseline model, we will use a naive approach.\n",
    "We will use the mean of the last 7 days as the prediction for the next day."
   ]
  },
  {
   "cell_type": "code",
   "execution_count": null,
   "metadata": {},
   "outputs": [
    {
     "name": "stdout",
     "output_type": "stream",
     "text": [
      "Mean Squared Error using last day values: 0.25\n"
     ]
    }
   ],
   "source": [
    "y_naive = []\n",
    "for sequence in X_test:\n",
    "    y_naive.append(sequence[:, 0].mean())\n",
    "\n",
    "mse_naive = mean_squared_error(y_test, y_naive)\n",
    "print(f'Mean Squared Error using last day values: {mse_naive:.2f}')"
   ]
  },
  {
   "cell_type": "code",
   "execution_count": 22,
   "metadata": {},
   "outputs": [
    {
     "name": "stdout",
     "output_type": "stream",
     "text": [
      "Mean Squared Error: 0.10\n"
     ]
    }
   ],
   "source": [
    "model.eval()\n",
    "with torch.no_grad():\n",
    "    X_test_tensor_flattened = X_test_scaled_tensor.view(X_test_scaled_tensor.size(0), -1)\n",
    "    y_pred_scaled = model(X_test_scaled_tensor).squeeze().cpu().numpy()\n",
    "\n",
    "# Rücktransformation der skalierten Vorhersagen\n",
    "y_pred = y_scaler.inverse_transform(y_pred_scaled.reshape(-1, 1)).flatten()\n",
    "y_test = y_scaler.inverse_transform(y_test_scaled.reshape(-1, 1)).flatten()\n",
    "\n",
    "# mse berechnen mit scikit-learn\n",
    "from sklearn.metrics import mean_squared_error\n",
    "\n",
    "mse = mean_squared_error(y_test, y_pred)\n",
    "print(f'Mean Squared Error: {mse:.2f}')\n"
   ]
  },
  {
   "cell_type": "code",
   "execution_count": 24,
   "metadata": {},
   "outputs": [
    {
     "data": {
      "text/html": [
       "<div>\n",
       "<style scoped>\n",
       "    .dataframe tbody tr th:only-of-type {\n",
       "        vertical-align: middle;\n",
       "    }\n",
       "\n",
       "    .dataframe tbody tr th {\n",
       "        vertical-align: top;\n",
       "    }\n",
       "\n",
       "    .dataframe thead th {\n",
       "        text-align: right;\n",
       "    }\n",
       "</style>\n",
       "<table border=\"1\" class=\"dataframe\">\n",
       "  <thead>\n",
       "    <tr style=\"text-align: right;\">\n",
       "      <th></th>\n",
       "      <th>Real</th>\n",
       "      <th>Predicted</th>\n",
       "      <th>Naive</th>\n",
       "    </tr>\n",
       "  </thead>\n",
       "  <tbody>\n",
       "    <tr>\n",
       "      <th>0</th>\n",
       "      <td>19.041290</td>\n",
       "      <td>19.505779</td>\n",
       "      <td>19.367550</td>\n",
       "    </tr>\n",
       "    <tr>\n",
       "      <th>1</th>\n",
       "      <td>19.081844</td>\n",
       "      <td>19.416338</td>\n",
       "      <td>18.965121</td>\n",
       "    </tr>\n",
       "    <tr>\n",
       "      <th>2</th>\n",
       "      <td>19.122499</td>\n",
       "      <td>21.100498</td>\n",
       "      <td>21.389051</td>\n",
       "    </tr>\n",
       "    <tr>\n",
       "      <th>3</th>\n",
       "      <td>19.262127</td>\n",
       "      <td>19.526485</td>\n",
       "      <td>19.538585</td>\n",
       "    </tr>\n",
       "    <tr>\n",
       "      <th>4</th>\n",
       "      <td>19.282127</td>\n",
       "      <td>19.616781</td>\n",
       "      <td>19.426512</td>\n",
       "    </tr>\n",
       "    <tr>\n",
       "      <th>...</th>\n",
       "      <td>...</td>\n",
       "      <td>...</td>\n",
       "      <td>...</td>\n",
       "    </tr>\n",
       "    <tr>\n",
       "      <th>386</th>\n",
       "      <td>26.613609</td>\n",
       "      <td>26.657362</td>\n",
       "      <td>26.678831</td>\n",
       "    </tr>\n",
       "    <tr>\n",
       "      <th>387</th>\n",
       "      <td>27.108358</td>\n",
       "      <td>25.635265</td>\n",
       "      <td>25.053971</td>\n",
       "    </tr>\n",
       "    <tr>\n",
       "      <th>388</th>\n",
       "      <td>27.258415</td>\n",
       "      <td>26.518957</td>\n",
       "      <td>26.662905</td>\n",
       "    </tr>\n",
       "    <tr>\n",
       "      <th>389</th>\n",
       "      <td>27.276836</td>\n",
       "      <td>27.121414</td>\n",
       "      <td>27.311575</td>\n",
       "    </tr>\n",
       "    <tr>\n",
       "      <th>390</th>\n",
       "      <td>27.415131</td>\n",
       "      <td>27.117716</td>\n",
       "      <td>27.204425</td>\n",
       "    </tr>\n",
       "  </tbody>\n",
       "</table>\n",
       "<p>391 rows × 3 columns</p>\n",
       "</div>"
      ],
      "text/plain": [
       "          Real  Predicted      Naive\n",
       "0    19.041290  19.505779  19.367550\n",
       "1    19.081844  19.416338  18.965121\n",
       "2    19.122499  21.100498  21.389051\n",
       "3    19.262127  19.526485  19.538585\n",
       "4    19.282127  19.616781  19.426512\n",
       "..         ...        ...        ...\n",
       "386  26.613609  26.657362  26.678831\n",
       "387  27.108358  25.635265  25.053971\n",
       "388  27.258415  26.518957  26.662905\n",
       "389  27.276836  27.121414  27.311575\n",
       "390  27.415131  27.117716  27.204425\n",
       "\n",
       "[391 rows x 3 columns]"
      ]
     },
     "execution_count": 24,
     "metadata": {},
     "output_type": "execute_result"
    }
   ],
   "source": [
    "df = pd.DataFrame({'Real': y_test, 'Predicted': y_pred, 'Naive': y_naive})\n",
    "df.sort_values(by='Real', inplace=True)\n",
    "df.reset_index(drop=True, inplace=True)\n",
    "df"
   ]
  },
  {
   "cell_type": "code",
   "execution_count": 28,
   "metadata": {},
   "outputs": [
    {
     "data": {
      "application/vnd.plotly.v1+json": {
       "config": {
        "plotlyServerURL": "https://plot.ly"
       },
       "data": [
        {
         "mode": "lines",
         "name": "Real Values",
         "type": "scatter",
         "x": [
          0,
          1,
          2,
          3,
          4,
          5,
          6,
          7,
          8,
          9,
          10,
          11,
          12,
          13,
          14,
          15,
          16,
          17,
          18,
          19,
          20,
          21,
          22,
          23,
          24,
          25,
          26,
          27,
          28,
          29,
          30,
          31,
          32,
          33,
          34,
          35,
          36,
          37,
          38,
          39,
          40,
          41,
          42,
          43,
          44,
          45,
          46,
          47,
          48,
          49,
          50,
          51,
          52,
          53,
          54,
          55,
          56,
          57,
          58,
          59,
          60,
          61,
          62,
          63,
          64,
          65,
          66,
          67,
          68,
          69,
          70,
          71,
          72,
          73,
          74,
          75,
          76,
          77,
          78,
          79,
          80,
          81,
          82,
          83,
          84,
          85,
          86,
          87,
          88,
          89,
          90,
          91,
          92,
          93,
          94,
          95,
          96,
          97,
          98,
          99,
          100,
          101,
          102,
          103,
          104,
          105,
          106,
          107,
          108,
          109,
          110,
          111,
          112,
          113,
          114,
          115,
          116,
          117,
          118,
          119,
          120,
          121,
          122,
          123,
          124,
          125,
          126,
          127,
          128,
          129,
          130,
          131,
          132,
          133,
          134,
          135,
          136,
          137,
          138,
          139,
          140,
          141,
          142,
          143,
          144,
          145,
          146,
          147,
          148,
          149,
          150,
          151,
          152,
          153,
          154,
          155,
          156,
          157,
          158,
          159,
          160,
          161,
          162,
          163,
          164,
          165,
          166,
          167,
          168,
          169,
          170,
          171,
          172,
          173,
          174,
          175,
          176,
          177,
          178,
          179,
          180,
          181,
          182,
          183,
          184,
          185,
          186,
          187,
          188,
          189,
          190,
          191,
          192,
          193,
          194,
          195,
          196,
          197,
          198,
          199,
          200,
          201,
          202,
          203,
          204,
          205,
          206,
          207,
          208,
          209,
          210,
          211,
          212,
          213,
          214,
          215,
          216,
          217,
          218,
          219,
          220,
          221,
          222,
          223,
          224,
          225,
          226,
          227,
          228,
          229,
          230,
          231,
          232,
          233,
          234,
          235,
          236,
          237,
          238,
          239,
          240,
          241,
          242,
          243,
          244,
          245,
          246,
          247,
          248,
          249,
          250,
          251,
          252,
          253,
          254,
          255,
          256,
          257,
          258,
          259,
          260,
          261,
          262,
          263,
          264,
          265,
          266,
          267,
          268,
          269,
          270,
          271,
          272,
          273,
          274,
          275,
          276,
          277,
          278,
          279,
          280,
          281,
          282,
          283,
          284,
          285,
          286,
          287,
          288,
          289,
          290,
          291,
          292,
          293,
          294,
          295,
          296,
          297,
          298,
          299,
          300,
          301,
          302,
          303,
          304,
          305,
          306,
          307,
          308,
          309,
          310,
          311,
          312,
          313,
          314,
          315,
          316,
          317,
          318,
          319,
          320,
          321,
          322,
          323,
          324,
          325,
          326,
          327,
          328,
          329,
          330,
          331,
          332,
          333,
          334,
          335,
          336,
          337,
          338,
          339,
          340,
          341,
          342,
          343,
          344,
          345,
          346,
          347,
          348,
          349,
          350,
          351,
          352,
          353,
          354,
          355,
          356,
          357,
          358,
          359,
          360,
          361,
          362,
          363,
          364,
          365,
          366,
          367,
          368,
          369,
          370,
          371,
          372,
          373,
          374,
          375,
          376,
          377,
          378,
          379,
          380,
          381,
          382,
          383,
          384,
          385,
          386,
          387,
          388,
          389,
          390
         ],
         "y": [
          19.041290283203125,
          19.081844329833984,
          19.122499465942383,
          19.262126922607422,
          19.282127380371094,
          19.34290313720703,
          19.357221603393555,
          19.437292098999023,
          19.44854164123535,
          19.496923446655273,
          19.497209548950195,
          19.51799964904785,
          19.59576988220215,
          19.610105514526367,
          19.61772346496582,
          19.66499900817871,
          19.68242835998535,
          19.70034408569336,
          19.70151138305664,
          19.721458435058594,
          19.755849838256836,
          19.802947998046875,
          19.863157272338867,
          19.92633819580078,
          19.9521427154541,
          19.994943618774414,
          20.01231575012207,
          20.014999389648438,
          20.032209396362305,
          20.046667098999023,
          20.05500030517578,
          20.055112838745117,
          20.099740982055664,
          20.11134147644043,
          20.123125076293945,
          20.158700942993164,
          20.1845703125,
          20.222736358642578,
          20.231201171875,
          20.23457145690918,
          20.246736526489258,
          20.246807098388672,
          20.257999420166016,
          20.25933265686035,
          20.263404846191406,
          20.2663631439209,
          20.267311096191406,
          20.271289825439453,
          20.271947860717773,
          20.27405548095703,
          20.27644157409668,
          20.282840728759766,
          20.282926559448242,
          20.28302001953125,
          20.293474197387695,
          20.300289154052734,
          20.331666946411133,
          20.33452606201172,
          20.340208053588867,
          20.35173988342285,
          20.360445022583008,
          20.36463165283203,
          20.36663246154785,
          20.37700080871582,
          20.38706398010254,
          20.406137466430664,
          20.409706115722656,
          20.413637161254883,
          20.418197631835938,
          20.42746353149414,
          20.43000030517578,
          20.434667587280273,
          20.440284729003906,
          20.4404296875,
          20.443069458007812,
          20.445158004760742,
          20.45216178894043,
          20.452247619628906,
          20.457244873046875,
          20.457618713378906,
          20.473617553710938,
          20.47579002380371,
          20.483612060546875,
          20.495159149169922,
          20.499465942382812,
          20.503429412841797,
          20.509838104248047,
          20.515216827392578,
          20.52189064025879,
          20.5281925201416,
          20.532155990600586,
          20.54585075378418,
          20.552968978881836,
          20.576887130737305,
          20.60999870300293,
          20.611818313598633,
          20.61220932006836,
          20.614479064941406,
          20.634042739868164,
          20.6384220123291,
          20.647676467895508,
          20.65691375732422,
          20.678054809570312,
          20.680593490600586,
          20.71208953857422,
          20.73084259033203,
          20.732500076293945,
          20.736284255981445,
          20.738510131835938,
          20.74175262451172,
          20.7431583404541,
          20.754735946655273,
          20.76709747314453,
          20.78126335144043,
          20.78159523010254,
          20.78704833984375,
          20.800634384155273,
          20.818105697631836,
          20.82438087463379,
          20.82866668701172,
          20.831697463989258,
          20.84292984008789,
          20.84418487548828,
          20.883684158325195,
          20.889999389648438,
          20.890850067138672,
          20.9084529876709,
          20.909622192382812,
          20.91412353515625,
          20.91766357421875,
          20.957216262817383,
          20.959062576293945,
          20.961030960083008,
          20.964677810668945,
          21,
          21.005735397338867,
          21.008865356445312,
          21.011249542236328,
          21.01571273803711,
          21.020631790161133,
          21.028316497802734,
          21.032447814941406,
          21.042659759521484,
          21.04622459411621,
          21.07468032836914,
          21.093473434448242,
          21.121721267700195,
          21.168973922729492,
          21.187332153320312,
          21.192203521728516,
          21.19268798828125,
          21.194656372070312,
          21.205631256103516,
          21.216501235961914,
          21.21875,
          21.230998992919922,
          21.250314712524414,
          21.278297424316406,
          21.305957794189453,
          21.32395362854004,
          21.32787322998047,
          21.333829879760742,
          21.356456756591797,
          21.372455596923828,
          21.37733268737793,
          21.389907836914062,
          21.39239501953125,
          21.419099807739258,
          21.432083129882812,
          21.458314895629883,
          21.522563934326172,
          21.537473678588867,
          21.553091049194336,
          21.57677459716797,
          21.597341537475586,
          21.607467651367188,
          21.62823486328125,
          21.643373489379883,
          21.64370346069336,
          21.66094207763672,
          21.67814826965332,
          21.71797752380371,
          21.789804458618164,
          21.802000045776367,
          21.80769157409668,
          21.808706283569336,
          21.86905288696289,
          21.889204025268555,
          21.900285720825195,
          21.954418182373047,
          21.97294044494629,
          22.03325843811035,
          22.03697395324707,
          22.0625,
          22.065401077270508,
          22.09107208251953,
          22.157358169555664,
          22.200740814208984,
          22.213205337524414,
          22.25176429748535,
          22.253673553466797,
          22.30020523071289,
          22.339895248413086,
          22.455333709716797,
          22.546316146850586,
          22.552526473999023,
          22.55524444580078,
          22.582040786743164,
          22.59136962890625,
          22.605512619018555,
          22.614423751831055,
          22.652841567993164,
          22.67009925842285,
          22.688541412353516,
          22.697052001953125,
          22.727893829345703,
          22.73948860168457,
          22.75957489013672,
          22.785980224609375,
          22.818063735961914,
          22.839385986328125,
          22.87234115600586,
          22.87734031677246,
          22.881427764892578,
          22.951881408691406,
          22.97821044921875,
          22.993736267089844,
          23.034536361694336,
          23.03946876525879,
          23.048086166381836,
          23.05530548095703,
          23.074432373046875,
          23.09747314453125,
          23.11833381652832,
          23.126325607299805,
          23.127262115478516,
          23.139118194580078,
          23.190105438232422,
          23.206266403198242,
          23.218042373657227,
          23.219091415405273,
          23.221765518188477,
          23.230789184570312,
          23.24951171875,
          23.255897521972656,
          23.267318725585938,
          23.275936126708984,
          23.285001754760742,
          23.346357345581055,
          23.375,
          23.407846450805664,
          23.41575813293457,
          23.49126434326172,
          23.529998779296875,
          23.536924362182617,
          23.540241241455078,
          23.549734115600586,
          23.581159591674805,
          23.622709274291992,
          23.635852813720703,
          23.63705062866211,
          23.654186248779297,
          23.659626007080078,
          23.6635799407959,
          23.664838790893555,
          23.67432403564453,
          23.721220016479492,
          23.72447395324707,
          23.752105712890625,
          23.75917625427246,
          23.763126373291016,
          23.788280487060547,
          23.80000114440918,
          23.814228057861328,
          23.826828002929688,
          23.829740524291992,
          23.83006477355957,
          23.83315658569336,
          23.833656311035156,
          23.837875366210938,
          23.83912467956543,
          23.872316360473633,
          23.875890731811523,
          23.88580322265625,
          23.921504974365234,
          23.951894760131836,
          24.00326156616211,
          24.00370979309082,
          24.004329681396484,
          24.0124454498291,
          24.0213565826416,
          24.022201538085938,
          24.05712890625,
          24.080917358398438,
          24.083541870117188,
          24.086837768554688,
          24.088247299194336,
          24.090625762939453,
          24.1105899810791,
          24.12423324584961,
          24.130903244018555,
          24.144433975219727,
          24.144765853881836,
          24.14543342590332,
          24.154273986816406,
          24.1669921875,
          24.178125381469727,
          24.22372055053711,
          24.232316970825195,
          24.238855361938477,
          24.24333381652832,
          24.24775505065918,
          24.25604248046875,
          24.271652221679688,
          24.27743148803711,
          24.285642623901367,
          24.290632247924805,
          24.29749870300293,
          24.300518035888672,
          24.304468154907227,
          24.31302833557129,
          24.31601905822754,
          24.336200714111328,
          24.33636474609375,
          24.336509704589844,
          24.37049102783203,
          24.37575340270996,
          24.379112243652344,
          24.41604232788086,
          24.429443359375,
          24.437938690185547,
          24.44229507446289,
          24.44580078125,
          24.45618438720703,
          24.456756591796875,
          24.458824157714844,
          24.459999084472656,
          24.46404266357422,
          24.496868133544922,
          24.50613021850586,
          24.511817932128906,
          24.53021240234375,
          24.550495147705078,
          24.559843063354492,
          24.562122344970703,
          24.602252960205078,
          24.630342483520508,
          24.63116455078125,
          24.63187599182129,
          24.65225601196289,
          24.663368225097656,
          24.66852569580078,
          24.6949462890625,
          24.699495315551758,
          24.70383071899414,
          24.718017578125,
          24.72161293029785,
          24.728404998779297,
          24.745973587036133,
          24.767580032348633,
          24.784997940063477,
          24.811580657958984,
          24.816844940185547,
          24.84649085998535,
          24.874189376831055,
          24.874570846557617,
          24.901945114135742,
          24.917531967163086,
          24.924846649169922,
          24.96913719177246,
          24.97563934326172,
          24.99090003967285,
          25.002479553222656,
          25.01892852783203,
          25.040672302246094,
          25.045576095581055,
          25.111597061157227,
          25.136320114135742,
          25.1732177734375,
          25.350982666015625,
          25.469127655029297,
          25.746627807617188,
          25.833436965942383,
          26.06682777404785,
          26.243804931640625,
          26.601652145385742,
          26.613609313964844,
          27.10835838317871,
          27.25841522216797,
          27.276836395263672,
          27.415130615234375
         ]
        },
        {
         "mode": "lines",
         "name": "Predicted Values",
         "type": "scatter",
         "x": [
          0,
          1,
          2,
          3,
          4,
          5,
          6,
          7,
          8,
          9,
          10,
          11,
          12,
          13,
          14,
          15,
          16,
          17,
          18,
          19,
          20,
          21,
          22,
          23,
          24,
          25,
          26,
          27,
          28,
          29,
          30,
          31,
          32,
          33,
          34,
          35,
          36,
          37,
          38,
          39,
          40,
          41,
          42,
          43,
          44,
          45,
          46,
          47,
          48,
          49,
          50,
          51,
          52,
          53,
          54,
          55,
          56,
          57,
          58,
          59,
          60,
          61,
          62,
          63,
          64,
          65,
          66,
          67,
          68,
          69,
          70,
          71,
          72,
          73,
          74,
          75,
          76,
          77,
          78,
          79,
          80,
          81,
          82,
          83,
          84,
          85,
          86,
          87,
          88,
          89,
          90,
          91,
          92,
          93,
          94,
          95,
          96,
          97,
          98,
          99,
          100,
          101,
          102,
          103,
          104,
          105,
          106,
          107,
          108,
          109,
          110,
          111,
          112,
          113,
          114,
          115,
          116,
          117,
          118,
          119,
          120,
          121,
          122,
          123,
          124,
          125,
          126,
          127,
          128,
          129,
          130,
          131,
          132,
          133,
          134,
          135,
          136,
          137,
          138,
          139,
          140,
          141,
          142,
          143,
          144,
          145,
          146,
          147,
          148,
          149,
          150,
          151,
          152,
          153,
          154,
          155,
          156,
          157,
          158,
          159,
          160,
          161,
          162,
          163,
          164,
          165,
          166,
          167,
          168,
          169,
          170,
          171,
          172,
          173,
          174,
          175,
          176,
          177,
          178,
          179,
          180,
          181,
          182,
          183,
          184,
          185,
          186,
          187,
          188,
          189,
          190,
          191,
          192,
          193,
          194,
          195,
          196,
          197,
          198,
          199,
          200,
          201,
          202,
          203,
          204,
          205,
          206,
          207,
          208,
          209,
          210,
          211,
          212,
          213,
          214,
          215,
          216,
          217,
          218,
          219,
          220,
          221,
          222,
          223,
          224,
          225,
          226,
          227,
          228,
          229,
          230,
          231,
          232,
          233,
          234,
          235,
          236,
          237,
          238,
          239,
          240,
          241,
          242,
          243,
          244,
          245,
          246,
          247,
          248,
          249,
          250,
          251,
          252,
          253,
          254,
          255,
          256,
          257,
          258,
          259,
          260,
          261,
          262,
          263,
          264,
          265,
          266,
          267,
          268,
          269,
          270,
          271,
          272,
          273,
          274,
          275,
          276,
          277,
          278,
          279,
          280,
          281,
          282,
          283,
          284,
          285,
          286,
          287,
          288,
          289,
          290,
          291,
          292,
          293,
          294,
          295,
          296,
          297,
          298,
          299,
          300,
          301,
          302,
          303,
          304,
          305,
          306,
          307,
          308,
          309,
          310,
          311,
          312,
          313,
          314,
          315,
          316,
          317,
          318,
          319,
          320,
          321,
          322,
          323,
          324,
          325,
          326,
          327,
          328,
          329,
          330,
          331,
          332,
          333,
          334,
          335,
          336,
          337,
          338,
          339,
          340,
          341,
          342,
          343,
          344,
          345,
          346,
          347,
          348,
          349,
          350,
          351,
          352,
          353,
          354,
          355,
          356,
          357,
          358,
          359,
          360,
          361,
          362,
          363,
          364,
          365,
          366,
          367,
          368,
          369,
          370,
          371,
          372,
          373,
          374,
          375,
          376,
          377,
          378,
          379,
          380,
          381,
          382,
          383,
          384,
          385,
          386,
          387,
          388,
          389,
          390
         ],
         "y": [
          19.505779266357422,
          19.416337966918945,
          21.10049819946289,
          19.526485443115234,
          19.61678123474121,
          19.752893447875977,
          20.223604202270508,
          19.668004989624023,
          19.670530319213867,
          19.567127227783203,
          19.617671966552734,
          19.38007926940918,
          19.757190704345703,
          19.560665130615234,
          19.567012786865234,
          21.81586456298828,
          20.008516311645508,
          19.794157028198242,
          19.68755531311035,
          19.50456428527832,
          19.881406784057617,
          19.83561897277832,
          20.334510803222656,
          19.99606704711914,
          20.065916061401367,
          20.166881561279297,
          20.16847801208496,
          20.523452758789062,
          20.054716110229492,
          20.12964630126953,
          20.423324584960938,
          20.141036987304688,
          19.940326690673828,
          20.109073638916016,
          20.07752799987793,
          20.116147994995117,
          20.01548957824707,
          20.32011604309082,
          20.58051109313965,
          20.402225494384766,
          20.369157791137695,
          20.33075714111328,
          20.364282608032227,
          19.768543243408203,
          20.385738372802734,
          20.208175659179688,
          20.431394577026367,
          20.263002395629883,
          20.589025497436523,
          20.30514907836914,
          20.37773895263672,
          20.350360870361328,
          20.597042083740234,
          20.358999252319336,
          20.23577880859375,
          20.366106033325195,
          20.384719848632812,
          20.26171875,
          20.360055923461914,
          20.387317657470703,
          20.476408004760742,
          20.630504608154297,
          20.52492904663086,
          20.50239372253418,
          20.269271850585938,
          20.46805763244629,
          20.595909118652344,
          20.423187255859375,
          20.663516998291016,
          20.50921058654785,
          20.32066535949707,
          20.324682235717773,
          20.624799728393555,
          20.520763397216797,
          20.5384521484375,
          20.682409286499023,
          20.488868713378906,
          20.381603240966797,
          20.466447830200195,
          20.729755401611328,
          20.547067642211914,
          20.54195785522461,
          20.49075698852539,
          20.693683624267578,
          20.670042037963867,
          20.525928497314453,
          20.623600006103516,
          20.48298454284668,
          20.527587890625,
          20.518394470214844,
          20.475496292114258,
          20.840909957885742,
          20.66194725036621,
          20.524003982543945,
          20.473546981811523,
          20.89164924621582,
          20.58444595336914,
          20.594255447387695,
          20.572874069213867,
          20.698732376098633,
          20.57325553894043,
          20.64229393005371,
          20.71883201599121,
          20.847980499267578,
          20.264352798461914,
          20.651277542114258,
          20.631244659423828,
          20.786277770996094,
          20.76858139038086,
          20.708160400390625,
          20.178617477416992,
          20.957921981811523,
          20.787803649902344,
          20.82610321044922,
          20.700035095214844,
          21.25039291381836,
          20.414655685424805,
          20.82889747619629,
          20.51744270324707,
          20.729883193969727,
          20.616926193237305,
          20.69989585876465,
          21.257448196411133,
          20.90953254699707,
          20.98539924621582,
          20.625869750976562,
          21.604246139526367,
          21.041534423828125,
          21.051477432250977,
          20.7890625,
          20.842266082763672,
          20.850318908691406,
          20.98660659790039,
          20.92417335510254,
          20.87364387512207,
          20.963056564331055,
          20.842409133911133,
          20.897869110107422,
          20.529041290283203,
          21.099899291992188,
          20.93284034729004,
          20.93695068359375,
          21.0988712310791,
          20.803592681884766,
          21.162776947021484,
          21.995328903198242,
          21.14598846435547,
          21.139936447143555,
          21.807592391967773,
          21.064729690551758,
          21.340150833129883,
          20.974018096923828,
          21.320404052734375,
          20.87395668029785,
          21.375335693359375,
          21.162078857421875,
          21.31146240234375,
          21.222339630126953,
          21.345945358276367,
          21.208660125732422,
          21.79669761657715,
          21.243770599365234,
          21.39678955078125,
          21.67462158203125,
          21.497793197631836,
          21.34837532043457,
          21.68189239501953,
          20.89685821533203,
          21.61271858215332,
          21.45111083984375,
          21.25586700439453,
          21.747447967529297,
          20.663984298706055,
          21.478073120117188,
          21.441696166992188,
          21.737844467163086,
          21.85083770751953,
          21.796119689941406,
          21.721111297607422,
          22.11194610595703,
          21.06637191772461,
          21.737207412719727,
          21.90763282775879,
          21.810943603515625,
          21.71152114868164,
          21.73485565185547,
          22.36603546142578,
          21.29574203491211,
          21.807037353515625,
          21.988759994506836,
          21.72435760498047,
          21.984779357910156,
          21.85488510131836,
          22.394027709960938,
          22.27681541442871,
          21.553359985351562,
          21.418962478637695,
          21.580617904663086,
          21.9827823638916,
          21.960430145263672,
          21.738378524780273,
          22.741050720214844,
          22.350017547607422,
          22.136268615722656,
          22.743757247924805,
          22.45428466796875,
          22.65167808532715,
          22.783309936523438,
          22.537351608276367,
          22.78355598449707,
          22.8579158782959,
          22.762195587158203,
          22.800735473632812,
          22.705293655395508,
          22.78820037841797,
          23.326128005981445,
          22.73139762878418,
          22.723588943481445,
          22.29015350341797,
          23.384119033813477,
          23.753841400146484,
          22.81575584411621,
          23.042552947998047,
          22.835529327392578,
          23.78784942626953,
          22.938106536865234,
          23.653240203857422,
          23.089414596557617,
          23.247419357299805,
          23.059797286987305,
          23.12746238708496,
          23.193889617919922,
          23.437637329101562,
          23.09268569946289,
          23.292560577392578,
          23.093345642089844,
          22.97024917602539,
          23.58336639404297,
          23.44034194946289,
          23.2218017578125,
          23.171369552612305,
          23.330589294433594,
          23.117027282714844,
          23.35917854309082,
          23.353864669799805,
          22.798416137695312,
          23.186338424682617,
          23.486862182617188,
          23.23531723022461,
          23.3765926361084,
          23.370824813842773,
          23.88034439086914,
          23.544570922851562,
          23.584508895874023,
          23.66888427734375,
          23.609390258789062,
          23.744461059570312,
          23.70708465576172,
          23.807636260986328,
          23.466020584106445,
          23.81905174255371,
          23.628253936767578,
          23.641281127929688,
          23.699438095092773,
          23.954418182373047,
          23.86983299255371,
          23.69864273071289,
          23.68720054626465,
          23.68013572692871,
          23.17939567565918,
          24.205604553222656,
          23.913759231567383,
          23.827468872070312,
          23.97777557373047,
          23.55681610107422,
          23.70863914489746,
          24.2556209564209,
          23.950634002685547,
          23.357891082763672,
          23.70191192626953,
          23.94370460510254,
          24.079959869384766,
          23.76925277709961,
          24.15592384338379,
          23.83870506286621,
          24.09664535522461,
          23.39279556274414,
          24.02921485900879,
          24.07202911376953,
          24.225177764892578,
          24.336576461791992,
          23.83896255493164,
          24.064783096313477,
          24.365236282348633,
          24.20661163330078,
          24.296316146850586,
          24.099853515625,
          23.908634185791016,
          23.829673767089844,
          24.118661880493164,
          24.020294189453125,
          24.08815574645996,
          24.298707962036133,
          24.343524932861328,
          24.328535079956055,
          24.54661750793457,
          24.108163833618164,
          24.417516708374023,
          23.992931365966797,
          24.46279525756836,
          23.968154907226562,
          24.12510871887207,
          24.567657470703125,
          24.297971725463867,
          24.160642623901367,
          24.448951721191406,
          23.970134735107422,
          25.055801391601562,
          23.97864532470703,
          24.307331085205078,
          24.18301010131836,
          24.343151092529297,
          24.106861114501953,
          24.219308853149414,
          23.83501434326172,
          24.158185958862305,
          24.56959342956543,
          24.50047492980957,
          24.524921417236328,
          24.45718765258789,
          24.42230224609375,
          24.661827087402344,
          24.41504669189453,
          24.204885482788086,
          24.5687313079834,
          24.38566017150879,
          24.524730682373047,
          24.70585823059082,
          24.74895477294922,
          24.646953582763672,
          24.299158096313477,
          24.35013198852539,
          24.559160232543945,
          24.818904876708984,
          24.236804962158203,
          25.21648406982422,
          24.11262321472168,
          24.73931121826172,
          24.625829696655273,
          24.646982192993164,
          24.953556060791016,
          24.688949584960938,
          24.699371337890625,
          24.56208610534668,
          24.636390686035156,
          24.767526626586914,
          24.715442657470703,
          24.730634689331055,
          24.392934799194336,
          24.604778289794922,
          24.551328659057617,
          24.592100143432617,
          24.524883270263672,
          24.630638122558594,
          25.06039047241211,
          25.179454803466797,
          24.861480712890625,
          24.795116424560547,
          24.69886589050293,
          25.014450073242188,
          24.877666473388672,
          25.01142120361328,
          24.53084945678711,
          25.068479537963867,
          24.727163314819336,
          24.539213180541992,
          24.9527645111084,
          25.243051528930664,
          25.00575065612793,
          24.947633743286133,
          24.434955596923828,
          25.414875030517578,
          25.75053596496582,
          25.679285049438477,
          25.493927001953125,
          27.23408317565918,
          26.65736198425293,
          25.635265350341797,
          26.518957138061523,
          27.121414184570312,
          27.11771583557129
         ]
        },
        {
         "mode": "lines",
         "name": "Naive",
         "type": "scatter",
         "x": [
          0,
          1,
          2,
          3,
          4,
          5,
          6,
          7,
          8,
          9,
          10,
          11,
          12,
          13,
          14,
          15,
          16,
          17,
          18,
          19,
          20,
          21,
          22,
          23,
          24,
          25,
          26,
          27,
          28,
          29,
          30,
          31,
          32,
          33,
          34,
          35,
          36,
          37,
          38,
          39,
          40,
          41,
          42,
          43,
          44,
          45,
          46,
          47,
          48,
          49,
          50,
          51,
          52,
          53,
          54,
          55,
          56,
          57,
          58,
          59,
          60,
          61,
          62,
          63,
          64,
          65,
          66,
          67,
          68,
          69,
          70,
          71,
          72,
          73,
          74,
          75,
          76,
          77,
          78,
          79,
          80,
          81,
          82,
          83,
          84,
          85,
          86,
          87,
          88,
          89,
          90,
          91,
          92,
          93,
          94,
          95,
          96,
          97,
          98,
          99,
          100,
          101,
          102,
          103,
          104,
          105,
          106,
          107,
          108,
          109,
          110,
          111,
          112,
          113,
          114,
          115,
          116,
          117,
          118,
          119,
          120,
          121,
          122,
          123,
          124,
          125,
          126,
          127,
          128,
          129,
          130,
          131,
          132,
          133,
          134,
          135,
          136,
          137,
          138,
          139,
          140,
          141,
          142,
          143,
          144,
          145,
          146,
          147,
          148,
          149,
          150,
          151,
          152,
          153,
          154,
          155,
          156,
          157,
          158,
          159,
          160,
          161,
          162,
          163,
          164,
          165,
          166,
          167,
          168,
          169,
          170,
          171,
          172,
          173,
          174,
          175,
          176,
          177,
          178,
          179,
          180,
          181,
          182,
          183,
          184,
          185,
          186,
          187,
          188,
          189,
          190,
          191,
          192,
          193,
          194,
          195,
          196,
          197,
          198,
          199,
          200,
          201,
          202,
          203,
          204,
          205,
          206,
          207,
          208,
          209,
          210,
          211,
          212,
          213,
          214,
          215,
          216,
          217,
          218,
          219,
          220,
          221,
          222,
          223,
          224,
          225,
          226,
          227,
          228,
          229,
          230,
          231,
          232,
          233,
          234,
          235,
          236,
          237,
          238,
          239,
          240,
          241,
          242,
          243,
          244,
          245,
          246,
          247,
          248,
          249,
          250,
          251,
          252,
          253,
          254,
          255,
          256,
          257,
          258,
          259,
          260,
          261,
          262,
          263,
          264,
          265,
          266,
          267,
          268,
          269,
          270,
          271,
          272,
          273,
          274,
          275,
          276,
          277,
          278,
          279,
          280,
          281,
          282,
          283,
          284,
          285,
          286,
          287,
          288,
          289,
          290,
          291,
          292,
          293,
          294,
          295,
          296,
          297,
          298,
          299,
          300,
          301,
          302,
          303,
          304,
          305,
          306,
          307,
          308,
          309,
          310,
          311,
          312,
          313,
          314,
          315,
          316,
          317,
          318,
          319,
          320,
          321,
          322,
          323,
          324,
          325,
          326,
          327,
          328,
          329,
          330,
          331,
          332,
          333,
          334,
          335,
          336,
          337,
          338,
          339,
          340,
          341,
          342,
          343,
          344,
          345,
          346,
          347,
          348,
          349,
          350,
          351,
          352,
          353,
          354,
          355,
          356,
          357,
          358,
          359,
          360,
          361,
          362,
          363,
          364,
          365,
          366,
          367,
          368,
          369,
          370,
          371,
          372,
          373,
          374,
          375,
          376,
          377,
          378,
          379,
          380,
          381,
          382,
          383,
          384,
          385,
          386,
          387,
          388,
          389,
          390
         ],
         "y": [
          19.367549899142798,
          18.96512094642635,
          21.389050925925925,
          19.538584528080776,
          19.42651166839697,
          20.00292946965264,
          20.008171996476946,
          19.594700014037358,
          19.538917593071627,
          19.43673163760365,
          19.56239241808856,
          18.820207067818746,
          19.598539325842697,
          19.470977865881636,
          19.601894585320114,
          21.827569444444446,
          20.06340061369473,
          19.959053123347243,
          19.711274795990697,
          19.290378497843495,
          19.451177960691698,
          19.68068676871531,
          20.678350515572998,
          19.845584647712354,
          19.974193378406863,
          19.955612998113,
          19.77467869189028,
          21.477638292290347,
          20.073626224026604,
          20.110553089475115,
          20.894576700394474,
          20.43182763400455,
          19.93829588490539,
          20.078141481191057,
          20.22819735838682,
          19.93941919191919,
          19.9956683540945,
          20.260828037263142,
          20.780004975666895,
          20.42569415839855,
          20.291160842043052,
          20.421173540380686,
          20.47723318322335,
          19.906985288336642,
          20.293084694226703,
          19.969811390416343,
          20.488241718959376,
          20.25446730745303,
          20.18524563106845,
          20.320433399069064,
          20.481823449103796,
          20.34312180258079,
          20.490224618399832,
          20.337247888671147,
          20.29109186782803,
          20.581249433041098,
          20.520529781069477,
          20.323288374501104,
          20.341126308055234,
          20.238545300941812,
          20.456024958530225,
          20.469821283361686,
          20.48183646128445,
          20.677590884371767,
          20.379101447857987,
          20.99364321023169,
          20.374226739560616,
          20.458640078457012,
          20.70860556032505,
          20.354542677552285,
          20.489549169366104,
          20.362006043188625,
          20.66905896387307,
          20.422284900563096,
          20.449393887423316,
          20.44694409037923,
          20.359659704443693,
          20.499652757116866,
          20.427261116397244,
          20.433206349206348,
          20.769649546147527,
          20.816738583407414,
          20.520153579782505,
          20.564065749480083,
          20.499198204582132,
          20.55160305991999,
          20.437481137621155,
          20.51426664983949,
          20.42145090020325,
          20.511095597092815,
          20.616659616945565,
          20.661893920716576,
          20.548035915896353,
          20.431024154945998,
          20.285648006651947,
          20.71981828147926,
          20.51240196035565,
          20.558730813127173,
          20.804934283617683,
          20.57690785474324,
          20.42761397544632,
          20.817843045582354,
          21.12244777318296,
          20.636493860801895,
          19.869755378452048,
          20.909769465488214,
          20.764610574906325,
          20.770406396101453,
          20.829816397429216,
          20.792721256464176,
          19.08441221490083,
          21.048177314037158,
          21.230447532538808,
          20.90931821186388,
          20.57775761399303,
          21.082579249812635,
          20.226459925608363,
          21.025651545197213,
          20.170057010174386,
          20.82344539598239,
          20.870682192584812,
          20.907648910793114,
          21.46240308997788,
          20.91318714509704,
          21.39221028511588,
          20.756729336170075,
          22.354706493381503,
          21.971509681342013,
          21.0114860719635,
          20.874438718767106,
          20.811005610768945,
          20.927560864604764,
          21.34113633199408,
          20.822987483749767,
          20.95704761904762,
          20.928888246500087,
          20.827245556255264,
          20.958492063492063,
          20.94556968889286,
          21.47938671601266,
          21.10068985434015,
          20.978598745698854,
          21.070472422462583,
          20.750842492797464,
          21.016858397100908,
          22.71701414395123,
          21.3919855934853,
          21.270583329444403,
          20.9413502936238,
          21.126832363918357,
          21.510844959250964,
          21.109261236415723,
          22.346449435832017,
          20.85026309310281,
          21.67724506100821,
          21.29821209101409,
          21.435766672135326,
          21.61090833379376,
          21.404403480677,
          21.310399330131563,
          22.02943790659444,
          21.01207923337667,
          21.568519197197805,
          22.1262201408744,
          21.875230493418027,
          21.51091315167351,
          21.878528706468614,
          20.754778729315728,
          21.714215890812046,
          21.665284762518805,
          21.297996931664517,
          21.713989506820926,
          20.63429374558785,
          21.792770510986752,
          21.760367690681864,
          21.92100409091982,
          20.9234555817162,
          21.848665068564163,
          21.68819835496961,
          20.96529162489557,
          20.85089411405588,
          21.976978932458582,
          21.383563024802005,
          21.63193248195374,
          21.81722204550303,
          21.76876442088347,
          22.81342830699479,
          20.983735205116997,
          21.74713104610282,
          22.01802924025617,
          21.614450415956608,
          22.218435839657214,
          21.847307685757468,
          22.66192283735536,
          22.964797995985496,
          21.854351657329598,
          21.085034015203302,
          21.783735413902406,
          22.423781432133584,
          21.92950282234106,
          21.772975705397275,
          23.222417514572385,
          22.606101684206717,
          23.28498118271826,
          23.140229376668028,
          22.81830068824192,
          22.66486135361552,
          22.636633270468838,
          21.25559972000939,
          22.69490746247742,
          21.737663404963367,
          22.692544471577865,
          23.00776469495049,
          22.96379566944916,
          23.061605480900834,
          24.020589672690548,
          22.657412954302462,
          22.995309410705104,
          21.49069692164666,
          23.52174122079447,
          24.328672390122666,
          22.827172296449664,
          22.834204545734224,
          22.93643129140042,
          24.298745721423405,
          23.200884455763063,
          23.683413538711708,
          23.50155052408701,
          23.909273195989016,
          22.789366228333236,
          23.6847117543911,
          23.203536487728112,
          22.187791889047286,
          22.79283028062082,
          23.385619484401346,
          23.293757940600756,
          22.840295536814807,
          23.62369095560872,
          23.040638760294172,
          22.624699665731658,
          23.148171163363404,
          23.02006686486934,
          23.46399687712261,
          23.498387994265595,
          23.453951137897025,
          22.75627364901264,
          22.805227385199547,
          22.99472745418328,
          23.68662537742996,
          23.21889412084995,
          23.19717675358743,
          23.58424296123373,
          23.644340621793088,
          23.842576075400448,
          23.704653091635482,
          23.586557827117606,
          23.910836229021523,
          23.60062132354747,
          22.468483121819176,
          23.67801370409275,
          23.724190703575616,
          23.740530508791966,
          22.412664419995252,
          23.3055980940356,
          23.75050559049014,
          23.946761270505775,
          23.493991391449054,
          24.042969625792654,
          24.505952986896876,
          22.833102326809534,
          23.378653399378056,
          24.163944076426684,
          23.7232118265745,
          24.792191179879683,
          23.10462981397687,
          23.549885794808336,
          24.970837694040906,
          23.825331503842392,
          23.576324097651575,
          23.761217498156853,
          24.055674601071726,
          23.94994134693593,
          24.11942476892153,
          23.916876510960197,
          23.229218999500976,
          22.977397199129786,
          23.552346353759024,
          23.910951982882864,
          24.532572877001027,
          24.10087126811233,
          23.95179466993362,
          24.316738656820576,
          24.335068686032702,
          23.96137894095104,
          24.40549991363127,
          24.17372092291679,
          23.92071959083569,
          23.824553784442063,
          23.789585443144215,
          24.66183843566314,
          24.27133047764387,
          24.125404517229622,
          24.724918126648124,
          24.199489415051303,
          24.710333644158343,
          25.124576707209144,
          23.76895178569278,
          24.125774771701227,
          24.30236563257417,
          24.528355544415746,
          24.080085282778764,
          23.812035181368653,
          25.50849384283219,
          24.53314208595241,
          24.19244776227338,
          24.312133163985276,
          23.746162467179857,
          24.28876067933742,
          24.03289725499063,
          24.446534112741464,
          24.599641107753786,
          23.7563142358787,
          24.009441888216088,
          24.45896257140461,
          22.66001322648982,
          23.992680539098263,
          24.090710330423025,
          24.2179635487136,
          24.59983268727024,
          24.556442332710958,
          24.516251154348428,
          24.678697827127824,
          24.30853793859649,
          24.568223313977423,
          24.608682700853084,
          23.752086527563563,
          24.78594084426066,
          24.251292104442967,
          24.00558338750903,
          24.809268851460445,
          22.839448025399506,
          24.794865308432374,
          24.883310922334193,
          24.893429533844596,
          24.579198807009135,
          24.449874214518857,
          24.222696479453944,
          24.696982050591256,
          24.85223527707484,
          24.813828227090685,
          25.121338177754804,
          24.77993324981411,
          24.920812015504396,
          24.437177656567837,
          25.12269818653525,
          24.970491638563193,
          25.039284819007275,
          24.970592974405992,
          24.652049446849446,
          25.103212633334753,
          24.929315804385453,
          24.048697533365587,
          24.76998259326039,
          24.272596475485457,
          24.73039213108382,
          25.304780659909948,
          24.421534564261353,
          24.743599817325926,
          25.136670464041984,
          25.056394461866347,
          25.333355518804108,
          24.401086319711023,
          25.164459424146468,
          24.70404153571427,
          24.73827049851603,
          24.718591294976207,
          25.161954986242876,
          25.056915834898053,
          24.934202011837858,
          24.255024347179184,
          24.110597357048984,
          25.98733143585588,
          25.930279458820934,
          25.78159978789867,
          25.504546588013465,
          28.21425123263299,
          26.678831233444612,
          25.05397076070122,
          26.662905434872012,
          27.311575195543224,
          27.204424715172546
         ]
        }
       ],
       "layout": {
        "template": {
         "data": {
          "bar": [
           {
            "error_x": {
             "color": "#2a3f5f"
            },
            "error_y": {
             "color": "#2a3f5f"
            },
            "marker": {
             "line": {
              "color": "#E5ECF6",
              "width": 0.5
             },
             "pattern": {
              "fillmode": "overlay",
              "size": 10,
              "solidity": 0.2
             }
            },
            "type": "bar"
           }
          ],
          "barpolar": [
           {
            "marker": {
             "line": {
              "color": "#E5ECF6",
              "width": 0.5
             },
             "pattern": {
              "fillmode": "overlay",
              "size": 10,
              "solidity": 0.2
             }
            },
            "type": "barpolar"
           }
          ],
          "carpet": [
           {
            "aaxis": {
             "endlinecolor": "#2a3f5f",
             "gridcolor": "white",
             "linecolor": "white",
             "minorgridcolor": "white",
             "startlinecolor": "#2a3f5f"
            },
            "baxis": {
             "endlinecolor": "#2a3f5f",
             "gridcolor": "white",
             "linecolor": "white",
             "minorgridcolor": "white",
             "startlinecolor": "#2a3f5f"
            },
            "type": "carpet"
           }
          ],
          "choropleth": [
           {
            "colorbar": {
             "outlinewidth": 0,
             "ticks": ""
            },
            "type": "choropleth"
           }
          ],
          "contour": [
           {
            "colorbar": {
             "outlinewidth": 0,
             "ticks": ""
            },
            "colorscale": [
             [
              0,
              "#0d0887"
             ],
             [
              0.1111111111111111,
              "#46039f"
             ],
             [
              0.2222222222222222,
              "#7201a8"
             ],
             [
              0.3333333333333333,
              "#9c179e"
             ],
             [
              0.4444444444444444,
              "#bd3786"
             ],
             [
              0.5555555555555556,
              "#d8576b"
             ],
             [
              0.6666666666666666,
              "#ed7953"
             ],
             [
              0.7777777777777778,
              "#fb9f3a"
             ],
             [
              0.8888888888888888,
              "#fdca26"
             ],
             [
              1,
              "#f0f921"
             ]
            ],
            "type": "contour"
           }
          ],
          "contourcarpet": [
           {
            "colorbar": {
             "outlinewidth": 0,
             "ticks": ""
            },
            "type": "contourcarpet"
           }
          ],
          "heatmap": [
           {
            "colorbar": {
             "outlinewidth": 0,
             "ticks": ""
            },
            "colorscale": [
             [
              0,
              "#0d0887"
             ],
             [
              0.1111111111111111,
              "#46039f"
             ],
             [
              0.2222222222222222,
              "#7201a8"
             ],
             [
              0.3333333333333333,
              "#9c179e"
             ],
             [
              0.4444444444444444,
              "#bd3786"
             ],
             [
              0.5555555555555556,
              "#d8576b"
             ],
             [
              0.6666666666666666,
              "#ed7953"
             ],
             [
              0.7777777777777778,
              "#fb9f3a"
             ],
             [
              0.8888888888888888,
              "#fdca26"
             ],
             [
              1,
              "#f0f921"
             ]
            ],
            "type": "heatmap"
           }
          ],
          "heatmapgl": [
           {
            "colorbar": {
             "outlinewidth": 0,
             "ticks": ""
            },
            "colorscale": [
             [
              0,
              "#0d0887"
             ],
             [
              0.1111111111111111,
              "#46039f"
             ],
             [
              0.2222222222222222,
              "#7201a8"
             ],
             [
              0.3333333333333333,
              "#9c179e"
             ],
             [
              0.4444444444444444,
              "#bd3786"
             ],
             [
              0.5555555555555556,
              "#d8576b"
             ],
             [
              0.6666666666666666,
              "#ed7953"
             ],
             [
              0.7777777777777778,
              "#fb9f3a"
             ],
             [
              0.8888888888888888,
              "#fdca26"
             ],
             [
              1,
              "#f0f921"
             ]
            ],
            "type": "heatmapgl"
           }
          ],
          "histogram": [
           {
            "marker": {
             "pattern": {
              "fillmode": "overlay",
              "size": 10,
              "solidity": 0.2
             }
            },
            "type": "histogram"
           }
          ],
          "histogram2d": [
           {
            "colorbar": {
             "outlinewidth": 0,
             "ticks": ""
            },
            "colorscale": [
             [
              0,
              "#0d0887"
             ],
             [
              0.1111111111111111,
              "#46039f"
             ],
             [
              0.2222222222222222,
              "#7201a8"
             ],
             [
              0.3333333333333333,
              "#9c179e"
             ],
             [
              0.4444444444444444,
              "#bd3786"
             ],
             [
              0.5555555555555556,
              "#d8576b"
             ],
             [
              0.6666666666666666,
              "#ed7953"
             ],
             [
              0.7777777777777778,
              "#fb9f3a"
             ],
             [
              0.8888888888888888,
              "#fdca26"
             ],
             [
              1,
              "#f0f921"
             ]
            ],
            "type": "histogram2d"
           }
          ],
          "histogram2dcontour": [
           {
            "colorbar": {
             "outlinewidth": 0,
             "ticks": ""
            },
            "colorscale": [
             [
              0,
              "#0d0887"
             ],
             [
              0.1111111111111111,
              "#46039f"
             ],
             [
              0.2222222222222222,
              "#7201a8"
             ],
             [
              0.3333333333333333,
              "#9c179e"
             ],
             [
              0.4444444444444444,
              "#bd3786"
             ],
             [
              0.5555555555555556,
              "#d8576b"
             ],
             [
              0.6666666666666666,
              "#ed7953"
             ],
             [
              0.7777777777777778,
              "#fb9f3a"
             ],
             [
              0.8888888888888888,
              "#fdca26"
             ],
             [
              1,
              "#f0f921"
             ]
            ],
            "type": "histogram2dcontour"
           }
          ],
          "mesh3d": [
           {
            "colorbar": {
             "outlinewidth": 0,
             "ticks": ""
            },
            "type": "mesh3d"
           }
          ],
          "parcoords": [
           {
            "line": {
             "colorbar": {
              "outlinewidth": 0,
              "ticks": ""
             }
            },
            "type": "parcoords"
           }
          ],
          "pie": [
           {
            "automargin": true,
            "type": "pie"
           }
          ],
          "scatter": [
           {
            "fillpattern": {
             "fillmode": "overlay",
             "size": 10,
             "solidity": 0.2
            },
            "type": "scatter"
           }
          ],
          "scatter3d": [
           {
            "line": {
             "colorbar": {
              "outlinewidth": 0,
              "ticks": ""
             }
            },
            "marker": {
             "colorbar": {
              "outlinewidth": 0,
              "ticks": ""
             }
            },
            "type": "scatter3d"
           }
          ],
          "scattercarpet": [
           {
            "marker": {
             "colorbar": {
              "outlinewidth": 0,
              "ticks": ""
             }
            },
            "type": "scattercarpet"
           }
          ],
          "scattergeo": [
           {
            "marker": {
             "colorbar": {
              "outlinewidth": 0,
              "ticks": ""
             }
            },
            "type": "scattergeo"
           }
          ],
          "scattergl": [
           {
            "marker": {
             "colorbar": {
              "outlinewidth": 0,
              "ticks": ""
             }
            },
            "type": "scattergl"
           }
          ],
          "scattermapbox": [
           {
            "marker": {
             "colorbar": {
              "outlinewidth": 0,
              "ticks": ""
             }
            },
            "type": "scattermapbox"
           }
          ],
          "scatterpolar": [
           {
            "marker": {
             "colorbar": {
              "outlinewidth": 0,
              "ticks": ""
             }
            },
            "type": "scatterpolar"
           }
          ],
          "scatterpolargl": [
           {
            "marker": {
             "colorbar": {
              "outlinewidth": 0,
              "ticks": ""
             }
            },
            "type": "scatterpolargl"
           }
          ],
          "scatterternary": [
           {
            "marker": {
             "colorbar": {
              "outlinewidth": 0,
              "ticks": ""
             }
            },
            "type": "scatterternary"
           }
          ],
          "surface": [
           {
            "colorbar": {
             "outlinewidth": 0,
             "ticks": ""
            },
            "colorscale": [
             [
              0,
              "#0d0887"
             ],
             [
              0.1111111111111111,
              "#46039f"
             ],
             [
              0.2222222222222222,
              "#7201a8"
             ],
             [
              0.3333333333333333,
              "#9c179e"
             ],
             [
              0.4444444444444444,
              "#bd3786"
             ],
             [
              0.5555555555555556,
              "#d8576b"
             ],
             [
              0.6666666666666666,
              "#ed7953"
             ],
             [
              0.7777777777777778,
              "#fb9f3a"
             ],
             [
              0.8888888888888888,
              "#fdca26"
             ],
             [
              1,
              "#f0f921"
             ]
            ],
            "type": "surface"
           }
          ],
          "table": [
           {
            "cells": {
             "fill": {
              "color": "#EBF0F8"
             },
             "line": {
              "color": "white"
             }
            },
            "header": {
             "fill": {
              "color": "#C8D4E3"
             },
             "line": {
              "color": "white"
             }
            },
            "type": "table"
           }
          ]
         },
         "layout": {
          "annotationdefaults": {
           "arrowcolor": "#2a3f5f",
           "arrowhead": 0,
           "arrowwidth": 1
          },
          "autotypenumbers": "strict",
          "coloraxis": {
           "colorbar": {
            "outlinewidth": 0,
            "ticks": ""
           }
          },
          "colorscale": {
           "diverging": [
            [
             0,
             "#8e0152"
            ],
            [
             0.1,
             "#c51b7d"
            ],
            [
             0.2,
             "#de77ae"
            ],
            [
             0.3,
             "#f1b6da"
            ],
            [
             0.4,
             "#fde0ef"
            ],
            [
             0.5,
             "#f7f7f7"
            ],
            [
             0.6,
             "#e6f5d0"
            ],
            [
             0.7,
             "#b8e186"
            ],
            [
             0.8,
             "#7fbc41"
            ],
            [
             0.9,
             "#4d9221"
            ],
            [
             1,
             "#276419"
            ]
           ],
           "sequential": [
            [
             0,
             "#0d0887"
            ],
            [
             0.1111111111111111,
             "#46039f"
            ],
            [
             0.2222222222222222,
             "#7201a8"
            ],
            [
             0.3333333333333333,
             "#9c179e"
            ],
            [
             0.4444444444444444,
             "#bd3786"
            ],
            [
             0.5555555555555556,
             "#d8576b"
            ],
            [
             0.6666666666666666,
             "#ed7953"
            ],
            [
             0.7777777777777778,
             "#fb9f3a"
            ],
            [
             0.8888888888888888,
             "#fdca26"
            ],
            [
             1,
             "#f0f921"
            ]
           ],
           "sequentialminus": [
            [
             0,
             "#0d0887"
            ],
            [
             0.1111111111111111,
             "#46039f"
            ],
            [
             0.2222222222222222,
             "#7201a8"
            ],
            [
             0.3333333333333333,
             "#9c179e"
            ],
            [
             0.4444444444444444,
             "#bd3786"
            ],
            [
             0.5555555555555556,
             "#d8576b"
            ],
            [
             0.6666666666666666,
             "#ed7953"
            ],
            [
             0.7777777777777778,
             "#fb9f3a"
            ],
            [
             0.8888888888888888,
             "#fdca26"
            ],
            [
             1,
             "#f0f921"
            ]
           ]
          },
          "colorway": [
           "#636efa",
           "#EF553B",
           "#00cc96",
           "#ab63fa",
           "#FFA15A",
           "#19d3f3",
           "#FF6692",
           "#B6E880",
           "#FF97FF",
           "#FECB52"
          ],
          "font": {
           "color": "#2a3f5f"
          },
          "geo": {
           "bgcolor": "white",
           "lakecolor": "white",
           "landcolor": "#E5ECF6",
           "showlakes": true,
           "showland": true,
           "subunitcolor": "white"
          },
          "hoverlabel": {
           "align": "left"
          },
          "hovermode": "closest",
          "mapbox": {
           "style": "light"
          },
          "paper_bgcolor": "white",
          "plot_bgcolor": "#E5ECF6",
          "polar": {
           "angularaxis": {
            "gridcolor": "white",
            "linecolor": "white",
            "ticks": ""
           },
           "bgcolor": "#E5ECF6",
           "radialaxis": {
            "gridcolor": "white",
            "linecolor": "white",
            "ticks": ""
           }
          },
          "scene": {
           "xaxis": {
            "backgroundcolor": "#E5ECF6",
            "gridcolor": "white",
            "gridwidth": 2,
            "linecolor": "white",
            "showbackground": true,
            "ticks": "",
            "zerolinecolor": "white"
           },
           "yaxis": {
            "backgroundcolor": "#E5ECF6",
            "gridcolor": "white",
            "gridwidth": 2,
            "linecolor": "white",
            "showbackground": true,
            "ticks": "",
            "zerolinecolor": "white"
           },
           "zaxis": {
            "backgroundcolor": "#E5ECF6",
            "gridcolor": "white",
            "gridwidth": 2,
            "linecolor": "white",
            "showbackground": true,
            "ticks": "",
            "zerolinecolor": "white"
           }
          },
          "shapedefaults": {
           "line": {
            "color": "#2a3f5f"
           }
          },
          "ternary": {
           "aaxis": {
            "gridcolor": "white",
            "linecolor": "white",
            "ticks": ""
           },
           "baxis": {
            "gridcolor": "white",
            "linecolor": "white",
            "ticks": ""
           },
           "bgcolor": "#E5ECF6",
           "caxis": {
            "gridcolor": "white",
            "linecolor": "white",
            "ticks": ""
           }
          },
          "title": {
           "x": 0.05
          },
          "xaxis": {
           "automargin": true,
           "gridcolor": "white",
           "linecolor": "white",
           "ticks": "",
           "title": {
            "standoff": 15
           },
           "zerolinecolor": "white",
           "zerolinewidth": 2
          },
          "yaxis": {
           "automargin": true,
           "gridcolor": "white",
           "linecolor": "white",
           "ticks": "",
           "title": {
            "standoff": 15
           },
           "zerolinecolor": "white",
           "zerolinewidth": 2
          }
         }
        },
        "title": {
         "text": "Real vs Predicted Values"
        },
        "xaxis": {
         "title": {
          "text": ""
         }
        },
        "yaxis": {
         "title": {
          "text": "Temerature"
         }
        }
       }
      }
     },
     "metadata": {},
     "output_type": "display_data"
    }
   ],
   "source": [
    "fig = go.Figure()\n",
    "fig.add_trace(go.Scatter(x=df.index, y=df['Real'], mode='lines', name='Real Values'))\n",
    "fig.add_trace(go.Scatter(x=df.index, y=df['Predicted'], mode='lines', name='Predicted Values'))\n",
    "fig.add_trace(go.Scatter(x=df.index, y=df['Naive'], mode='lines', name='Naive'))\n",
    "fig.update_layout(title='Real vs Predicted Values',\n",
    "                   xaxis_title='',\n",
    "                   yaxis_title='Temerature')\n",
    "\n"
   ]
  },
  {
   "cell_type": "code",
   "execution_count": 26,
   "metadata": {},
   "outputs": [
    {
     "data": {
      "text/plain": [
       "['NeuralNetworks/models/2024-06-26_11-58-05/encoder.pkl']"
      ]
     },
     "execution_count": 26,
     "metadata": {},
     "output_type": "execute_result"
    }
   ],
   "source": [
    "# save the current date and time in the format YYYY-MM-DD_HH-MM-SS\n",
    "time = str(pd.Timestamp.now().strftime('%Y-%m-%d_%H-%M-%S'))\n",
    "# create a directory to save the model\n",
    "os.makedirs(f'NeuralNetworks/models/{time}', exist_ok=True)\n",
    "fpath_model = f'NeuralNetworks/models/{time}/model.pt'\n",
    "fpath_x_scaler = f'NeuralNetworks/models/{time}/x_scaler.pkl'\n",
    "fpath_y_scaler = f'NeuralNetworks/models/{time}/y_scaler.pkl'\n",
    "fpath_encoder = f'NeuralNetworks/models/{time}/encoder.pkl'\n",
    "\n",
    "# Save the model\n",
    "torch.save(model, fpath_model)\n",
    "\n",
    "# Save the scalers\n",
    "joblib.dump(x_scaler, fpath_x_scaler)\n",
    "joblib.dump(y_scaler, fpath_y_scaler)\n",
    "\n",
    "# Save the encoder\n",
    "joblib.dump(encoder, fpath_encoder)"
   ]
  }
 ],
 "metadata": {
  "kernelspec": {
   "display_name": "base",
   "language": "python",
   "name": "python3"
  },
  "language_info": {
   "codemirror_mode": {
    "name": "ipython",
    "version": 3
   },
   "file_extension": ".py",
   "mimetype": "text/x-python",
   "name": "python",
   "nbconvert_exporter": "python",
   "pygments_lexer": "ipython3",
   "version": "3.9.7"
  }
 },
 "nbformat": 4,
 "nbformat_minor": 2
}
