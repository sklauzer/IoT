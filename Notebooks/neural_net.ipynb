{
 "cells": [
  {
   "cell_type": "code",
   "execution_count": 19,
   "metadata": {},
   "outputs": [],
   "source": [
    "import os\n",
    "import subprocess\n",
    "\n",
    "# Set the working directory to the root of the Git repository\n",
    "current_dir = os.getcwd()\n",
    "git_root = subprocess.check_output([\"git\", \"rev-parse\", \"--show-toplevel\"], cwd=current_dir)\n",
    "git_root = git_root.decode(\"utf-8\").strip()\n",
    "os.chdir(git_root)\n",
    "cwd = os.getcwd()"
   ]
  },
  {
   "cell_type": "code",
   "execution_count": 20,
   "metadata": {},
   "outputs": [],
   "source": [
    "import pandas as pd\n",
    "import numpy as np\n",
    "import math\n",
    "from datetime import date\n",
    "import calendar\n",
    "import numpy as np\n",
    "import torch\n",
    "import torch.nn as nn\n",
    "import torch.optim as optim\n",
    "import plotly.graph_objects as go\n",
    "from sklearn.model_selection import train_test_split\n",
    "from sklearn.preprocessing import KBinsDiscretizer\n",
    "from sklearn.preprocessing import MinMaxScaler\n",
    "from sklearn.metrics import mean_squared_error\n",
    "from torch.utils.data import DataLoader, TensorDataset\n",
    "import joblib\n",
    "from sklearn.preprocessing import OneHotEncoder"
   ]
  },
  {
   "cell_type": "markdown",
   "metadata": {},
   "source": [
    "### Read Data"
   ]
  },
  {
   "cell_type": "code",
   "execution_count": 21,
   "metadata": {},
   "outputs": [],
   "source": [
    "df = pd.read_parquet('data/processed/data_building_n.parquet')"
   ]
  },
  {
   "cell_type": "markdown",
   "metadata": {},
   "source": [
    "### Feature Engineering\n",
    "https://towardsdatascience.com/how-to-encode-periodic-time-features-7640d9b21332\n",
    "\n",
    "Credit to group B for this idea!"
   ]
  },
  {
   "cell_type": "code",
   "execution_count": 22,
   "metadata": {},
   "outputs": [],
   "source": [
    "def project_date_to_unit_circle(input_date: date):\n",
    "    year = input_date.year\n",
    "    passed_days = (input_date - date(year, 1, 1)).days + 1\n",
    "    nr_of_days_per_year = 366 if calendar.isleap(year) else 365\n",
    "    position_within_year = passed_days / nr_of_days_per_year\n",
    "    alpha = position_within_year * math.pi * 2\n",
    "    year_circle_x = (math.sin(alpha) + 1) / 2\n",
    "    year_circle_y = (math.cos(alpha) + 1) / 2\n",
    "    return year_circle_x, year_circle_y\n",
    "\n",
    "def project_day_of_week_to_unit_circle(input_day_of_week: int):\n",
    "    alpha = input_day_of_week / 7 * math.pi * 2\n",
    "    day_of_week_circle_x = (math.sin(alpha) + 1) / 2\n",
    "    day_of_week_circle_y = (math.cos(alpha) + 1) / 2\n",
    "    return day_of_week_circle_x, day_of_week_circle_y\n",
    "\n",
    "# Project the date to a unit circle (year)\n",
    "df['date_circle_x'], df['date_circle_y'] = zip(*df['date'].apply(project_date_to_unit_circle))\n",
    "\n",
    "# Project the day_of_week to a unit circle (week)\n",
    "df['day_of_week_circle_x'], df['day_of_week_circle_y'] = zip(*df['day_of_week'].apply(project_day_of_week_to_unit_circle))"
   ]
  },
  {
   "cell_type": "markdown",
   "metadata": {},
   "source": [
    "### One Hot Encoding"
   ]
  },
  {
   "cell_type": "code",
   "execution_count": 23,
   "metadata": {},
   "outputs": [],
   "source": [
    "#----- One hot encoding ----------------------------------\n",
    "encoder = OneHotEncoder(sparse=False)\n",
    "encoded_columns = encoder.fit_transform(df[['season', 'floor']])\n",
    "\n",
    "# Neue Spaltennamen für One-Hot-Encoded-Spalten generieren\n",
    "encoded_column_names = encoder.get_feature_names_out(['season', 'floor'])\n",
    "\n",
    "# One-Hot-Encoded-Spalten in den DataFrame einfügen\n",
    "df_encoded = pd.DataFrame(encoded_columns, columns=encoded_column_names)\n",
    "df = pd.concat([df, df_encoded], axis=1).drop(['season', 'floor'], axis=1)"
   ]
  },
  {
   "cell_type": "markdown",
   "metadata": {},
   "source": [
    "### Resampling"
   ]
  },
  {
   "cell_type": "code",
   "execution_count": 24,
   "metadata": {},
   "outputs": [],
   "source": [
    "#----- Resampling ----------------------------------------\n",
    "df.set_index('date_time', inplace=True)\n",
    "df_daily = df.groupby('room').resample('D').mean().dropna()\n",
    "\n",
    "df_daily.reset_index(inplace=True)\n",
    "df_daily.set_index(['date_time'], inplace=True)\n",
    "\n",
    "df_daily = df_daily[[\n",
    "    'room', 'tmp', 'hum', 'CO2', 'VOC', 'outside_tmp', 'outside_hum', 'outside_rain',\n",
    "    'outside_snowfall', 'outside_wind_speed', 'outside_pressure',\n",
    "    'date_circle_x', 'date_circle_y', 'day_of_week_circle_x',\n",
    "    'day_of_week_circle_y', 'season_autumn', 'season_spring',\n",
    "    'season_summer', 'season_winter', 'floor_0', 'floor_1', 'floor_2',\n",
    "    'floor_3'\n",
    "    ]]"
   ]
  },
  {
   "cell_type": "markdown",
   "metadata": {},
   "source": [
    "### Create Input Data"
   ]
  },
  {
   "cell_type": "markdown",
   "metadata": {},
   "source": [
    "We only want data where there are consecutive days of data. We use a rolling window to check if there are n days of data. If there are, we keep the data. If not, we discard the data. We then create a numpy array of sequences of n days of data."
   ]
  },
  {
   "cell_type": "code",
   "execution_count": 25,
   "metadata": {},
   "outputs": [],
   "source": [
    "def create_sequences(data, features, sequence_length):\n",
    "    sequences = []\n",
    "    targets = []\n",
    "    \n",
    "    for room in data['room'].unique():\n",
    "        df_room = data[data['room'] == room].reset_index()\n",
    "        df_room.sort_values('date_time', inplace=True)\n",
    "        for i in range(len(df_room) - sequence_length):\n",
    "            # Prüfe, ob die Tage aufeinanderfolgend sind\n",
    "            if (df_room.loc[i + sequence_length - 1, 'date_time'] - df_room.loc[i, 'date_time']).days == sequence_length - 1:\n",
    "                sequences.append(df_room.loc[i:i+sequence_length-2, features].drop(columns=['room']).values)\n",
    "                targets.append(df_room.loc[i + sequence_length -1, 'tmp'])\n",
    "    \n",
    "    return np.array(sequences), np.array(targets)\n",
    "\n",
    "# e.g. when 7 is selected, 6 days are used to predict the 7th day \n",
    "# (y is the tmp of the 7th day, X are the features of the 6 days before)\n",
    "days_used_to_predict = 7 \n",
    "X, y = create_sequences(df_daily, df_daily.columns, days_used_to_predict)"
   ]
  },
  {
   "cell_type": "markdown",
   "metadata": {},
   "source": [
    "### Train Test Split"
   ]
  },
  {
   "cell_type": "markdown",
   "metadata": {},
   "source": [
    "We split the data into training and testing data with a 80/20 split. Moreover we use KBinsDiscretizer to discretize the target variable to get a more balanced distribution of the target variable."
   ]
  },
  {
   "cell_type": "code",
   "execution_count": 26,
   "metadata": {},
   "outputs": [
    {
     "name": "stdout",
     "output_type": "stream",
     "text": [
      "Train Mean: 22.35377949909938 Train Std Dev: 1.8675394707221238\n",
      "Test Mean: 22.338341034378328 Test Std Dev: 1.866018212817115\n"
     ]
    }
   ],
   "source": [
    "n_bins = 5\n",
    "kbins = KBinsDiscretizer(n_bins=n_bins, encode='ordinal', strategy='uniform')\n",
    "y_binned = kbins.fit_transform(y.reshape(-1, 1)).astype(int).reshape(-1)\n",
    "\n",
    "# Use stratified sampling to split the data into training and test sets with the same distribution of bins\n",
    "X_train, X_test, y_train, y_test = train_test_split(X, y, test_size=0.2, random_state=42, stratify=y_binned)\n",
    "\n",
    "print(\"Train Mean:\", np.mean(y_train), \"Train Std Dev:\", np.std(y_train))\n",
    "print(\"Test Mean:\", np.mean(y_test), \"Test Std Dev:\", np.std(y_test))"
   ]
  },
  {
   "cell_type": "markdown",
   "metadata": {},
   "source": [
    "### Scaling"
   ]
  },
  {
   "cell_type": "markdown",
   "metadata": {},
   "source": [
    "For scaling, we use a MinMaxScaler."
   ]
  },
  {
   "cell_type": "code",
   "execution_count": 27,
   "metadata": {},
   "outputs": [],
   "source": [
    "x_scaler = MinMaxScaler()\n",
    "\n",
    "# Forme die Daten um, damit sie vom Scaler verarbeitet werden können\n",
    "n_samples, n_timesteps, n_features = X_train.shape\n",
    "X_train_reshaped = X_train.reshape(-1, n_features)\n",
    "X_test_reshaped = X_test.reshape(-1, n_features)\n",
    "\n",
    "# Skalierung basierend auf dem Trainingsdatensatz\n",
    "x_scaler.fit(X_train_reshaped)\n",
    "\n",
    "# Wende die Skalierung auf Trainings- und Testdatensatz an\n",
    "X_train_scaled = x_scaler.transform(X_train_reshaped).reshape(n_samples, n_timesteps, n_features)\n",
    "X_test_scaled = x_scaler.transform(X_test_reshaped).reshape(X_test.shape[0], n_timesteps, n_features)\n",
    "\n",
    "# Optional: Skalierung der Zielwerte (falls erforderlich)\n",
    "y_scaler = MinMaxScaler()\n",
    "y_train_scaled = y_scaler.fit_transform(y_train.reshape(-1, 1)).reshape(-1)\n",
    "y_test_scaled = y_scaler.transform(y_test.reshape(-1, 1)).reshape(-1)"
   ]
  },
  {
   "cell_type": "code",
   "execution_count": 28,
   "metadata": {},
   "outputs": [],
   "source": [
    "device = torch.device(\"mps\") if torch.backends.mps.is_available() else torch.device(\"cpu\")\n",
    "\n",
    "# Convert data to float32\n",
    "X_train_scaled = X_train_scaled.astype(np.float32)\n",
    "X_test_scaled = X_test_scaled.astype(np.float32)\n",
    "y_train_scaled = y_train_scaled.astype(np.float32)\n",
    "y_test_scaled = y_test_scaled.astype(np.float32)\n",
    "\n",
    "# Convert numpy arrays to tensors\n",
    "X_train_scaled_tensor = torch.tensor(X_train_scaled, dtype=torch.float32).to(device)\n",
    "X_test_scaled_tensor = torch.tensor(X_test_scaled, dtype=torch.float32).to(device)\n",
    "y_train_scaled_tensor = torch.tensor(y_train_scaled, dtype=torch.float32).to(device)\n",
    "y_test_scaled_tensor = torch.tensor(y_test_scaled, dtype=torch.float32).to(device)"
   ]
  },
  {
   "cell_type": "code",
   "execution_count": 29,
   "metadata": {},
   "outputs": [],
   "source": [
    "batch_size = 32\n",
    "\n",
    "# Create TensorDataset and DataLoader\n",
    "train_dataset = TensorDataset(X_train_scaled_tensor, y_train_scaled_tensor)\n",
    "test_dataset = TensorDataset(X_test_scaled_tensor, y_test_scaled_tensor)\n",
    "\n",
    "train_loader = DataLoader(train_dataset, batch_size=batch_size, shuffle=True)\n",
    "test_loader = DataLoader(test_dataset, batch_size=batch_size, shuffle=False)\n",
    "\n",
    "# Define simple neural network\n",
    "class SimpleLSTM(nn.Module):\n",
    "    def __init__(self, input_size, hidden_size, output_size, num_layers=1, dropout_rate=0.2):\n",
    "        super(SimpleLSTM, self).__init__()\n",
    "        self.lstm = nn.LSTM(input_size, hidden_size, num_layers, batch_first=True, dropout=dropout_rate)\n",
    "        self.fc = nn.Linear(hidden_size, output_size)\n",
    "        self.dropout = nn.Dropout(dropout_rate)\n",
    "    \n",
    "    def forward(self, x):\n",
    "        h0 = torch.zeros(self.lstm.num_layers, x.size(0), self.lstm.hidden_size).to(x.device)\n",
    "        c0 = torch.zeros(self.lstm.num_layers, x.size(0), self.lstm.hidden_size).to(x.device)\n",
    "        out, _ = self.lstm(x, (h0, c0))\n",
    "        out = self.dropout(out[:, -1, :])\n",
    "        out = self.fc(out)\n",
    "        return out"
   ]
  },
  {
   "cell_type": "code",
   "execution_count": 30,
   "metadata": {},
   "outputs": [
    {
     "name": "stderr",
     "output_type": "stream",
     "text": [
      "/opt/anaconda3/lib/python3.9/site-packages/torch/nn/modules/rnn.py:83: UserWarning:\n",
      "\n",
      "dropout option adds dropout after all but last recurrent layer, so non-zero dropout expects num_layers greater than 1, but got dropout=0.2 and num_layers=1\n",
      "\n",
      "/opt/anaconda3/lib/python3.9/site-packages/torch/nn/modules/loss.py:535: UserWarning:\n",
      "\n",
      "Using a target size (torch.Size([32])) that is different to the input size (torch.Size([32, 6])). This will likely lead to incorrect results due to broadcasting. Please ensure they have the same size.\n",
      "\n"
     ]
    },
    {
     "ename": "RuntimeError",
     "evalue": "The size of tensor a (6) must match the size of tensor b (32) at non-singleton dimension 1",
     "output_type": "error",
     "traceback": [
      "\u001b[0;31m---------------------------------------------------------------------------\u001b[0m",
      "\u001b[0;31mRuntimeError\u001b[0m                              Traceback (most recent call last)",
      "\u001b[0;32m/var/folders/4v/7n25rgnx2zz8qd1csgnh63vw0000gn/T/ipykernel_15334/3981299544.py\u001b[0m in \u001b[0;36m<module>\u001b[0;34m\u001b[0m\n\u001b[1;32m     26\u001b[0m         \u001b[0;31m# Forward pass\u001b[0m\u001b[0;34m\u001b[0m\u001b[0;34m\u001b[0m\u001b[0m\n\u001b[1;32m     27\u001b[0m         \u001b[0moutputs\u001b[0m \u001b[0;34m=\u001b[0m \u001b[0mmodel\u001b[0m\u001b[0;34m(\u001b[0m\u001b[0mbatch_x\u001b[0m\u001b[0;34m)\u001b[0m\u001b[0;34m\u001b[0m\u001b[0;34m\u001b[0m\u001b[0m\n\u001b[0;32m---> 28\u001b[0;31m         \u001b[0mloss\u001b[0m \u001b[0;34m=\u001b[0m \u001b[0mcriterion\u001b[0m\u001b[0;34m(\u001b[0m\u001b[0moutputs\u001b[0m\u001b[0;34m.\u001b[0m\u001b[0msqueeze\u001b[0m\u001b[0;34m(\u001b[0m\u001b[0;34m)\u001b[0m\u001b[0;34m,\u001b[0m \u001b[0mbatch_y\u001b[0m\u001b[0;34m)\u001b[0m\u001b[0;34m\u001b[0m\u001b[0;34m\u001b[0m\u001b[0m\n\u001b[0m\u001b[1;32m     29\u001b[0m \u001b[0;34m\u001b[0m\u001b[0m\n\u001b[1;32m     30\u001b[0m         \u001b[0;31m# Backward pass und Optimierung\u001b[0m\u001b[0;34m\u001b[0m\u001b[0;34m\u001b[0m\u001b[0m\n",
      "\u001b[0;32m/opt/anaconda3/lib/python3.9/site-packages/torch/nn/modules/module.py\u001b[0m in \u001b[0;36m_wrapped_call_impl\u001b[0;34m(self, *args, **kwargs)\u001b[0m\n\u001b[1;32m   1509\u001b[0m             \u001b[0;32mreturn\u001b[0m \u001b[0mself\u001b[0m\u001b[0;34m.\u001b[0m\u001b[0m_compiled_call_impl\u001b[0m\u001b[0;34m(\u001b[0m\u001b[0;34m*\u001b[0m\u001b[0margs\u001b[0m\u001b[0;34m,\u001b[0m \u001b[0;34m**\u001b[0m\u001b[0mkwargs\u001b[0m\u001b[0;34m)\u001b[0m  \u001b[0;31m# type: ignore[misc]\u001b[0m\u001b[0;34m\u001b[0m\u001b[0;34m\u001b[0m\u001b[0m\n\u001b[1;32m   1510\u001b[0m         \u001b[0;32melse\u001b[0m\u001b[0;34m:\u001b[0m\u001b[0;34m\u001b[0m\u001b[0;34m\u001b[0m\u001b[0m\n\u001b[0;32m-> 1511\u001b[0;31m             \u001b[0;32mreturn\u001b[0m \u001b[0mself\u001b[0m\u001b[0;34m.\u001b[0m\u001b[0m_call_impl\u001b[0m\u001b[0;34m(\u001b[0m\u001b[0;34m*\u001b[0m\u001b[0margs\u001b[0m\u001b[0;34m,\u001b[0m \u001b[0;34m**\u001b[0m\u001b[0mkwargs\u001b[0m\u001b[0;34m)\u001b[0m\u001b[0;34m\u001b[0m\u001b[0;34m\u001b[0m\u001b[0m\n\u001b[0m\u001b[1;32m   1512\u001b[0m \u001b[0;34m\u001b[0m\u001b[0m\n\u001b[1;32m   1513\u001b[0m     \u001b[0;32mdef\u001b[0m \u001b[0m_call_impl\u001b[0m\u001b[0;34m(\u001b[0m\u001b[0mself\u001b[0m\u001b[0;34m,\u001b[0m \u001b[0;34m*\u001b[0m\u001b[0margs\u001b[0m\u001b[0;34m,\u001b[0m \u001b[0;34m**\u001b[0m\u001b[0mkwargs\u001b[0m\u001b[0;34m)\u001b[0m\u001b[0;34m:\u001b[0m\u001b[0;34m\u001b[0m\u001b[0;34m\u001b[0m\u001b[0m\n",
      "\u001b[0;32m/opt/anaconda3/lib/python3.9/site-packages/torch/nn/modules/module.py\u001b[0m in \u001b[0;36m_call_impl\u001b[0;34m(self, *args, **kwargs)\u001b[0m\n\u001b[1;32m   1518\u001b[0m                 \u001b[0;32mor\u001b[0m \u001b[0m_global_backward_pre_hooks\u001b[0m \u001b[0;32mor\u001b[0m \u001b[0m_global_backward_hooks\u001b[0m\u001b[0;34m\u001b[0m\u001b[0;34m\u001b[0m\u001b[0m\n\u001b[1;32m   1519\u001b[0m                 or _global_forward_hooks or _global_forward_pre_hooks):\n\u001b[0;32m-> 1520\u001b[0;31m             \u001b[0;32mreturn\u001b[0m \u001b[0mforward_call\u001b[0m\u001b[0;34m(\u001b[0m\u001b[0;34m*\u001b[0m\u001b[0margs\u001b[0m\u001b[0;34m,\u001b[0m \u001b[0;34m**\u001b[0m\u001b[0mkwargs\u001b[0m\u001b[0;34m)\u001b[0m\u001b[0;34m\u001b[0m\u001b[0;34m\u001b[0m\u001b[0m\n\u001b[0m\u001b[1;32m   1521\u001b[0m \u001b[0;34m\u001b[0m\u001b[0m\n\u001b[1;32m   1522\u001b[0m         \u001b[0;32mtry\u001b[0m\u001b[0;34m:\u001b[0m\u001b[0;34m\u001b[0m\u001b[0;34m\u001b[0m\u001b[0m\n",
      "\u001b[0;32m/opt/anaconda3/lib/python3.9/site-packages/torch/nn/modules/loss.py\u001b[0m in \u001b[0;36mforward\u001b[0;34m(self, input, target)\u001b[0m\n\u001b[1;32m    533\u001b[0m \u001b[0;34m\u001b[0m\u001b[0m\n\u001b[1;32m    534\u001b[0m     \u001b[0;32mdef\u001b[0m \u001b[0mforward\u001b[0m\u001b[0;34m(\u001b[0m\u001b[0mself\u001b[0m\u001b[0;34m,\u001b[0m \u001b[0minput\u001b[0m\u001b[0;34m:\u001b[0m \u001b[0mTensor\u001b[0m\u001b[0;34m,\u001b[0m \u001b[0mtarget\u001b[0m\u001b[0;34m:\u001b[0m \u001b[0mTensor\u001b[0m\u001b[0;34m)\u001b[0m \u001b[0;34m->\u001b[0m \u001b[0mTensor\u001b[0m\u001b[0;34m:\u001b[0m\u001b[0;34m\u001b[0m\u001b[0;34m\u001b[0m\u001b[0m\n\u001b[0;32m--> 535\u001b[0;31m         \u001b[0;32mreturn\u001b[0m \u001b[0mF\u001b[0m\u001b[0;34m.\u001b[0m\u001b[0mmse_loss\u001b[0m\u001b[0;34m(\u001b[0m\u001b[0minput\u001b[0m\u001b[0;34m,\u001b[0m \u001b[0mtarget\u001b[0m\u001b[0;34m,\u001b[0m \u001b[0mreduction\u001b[0m\u001b[0;34m=\u001b[0m\u001b[0mself\u001b[0m\u001b[0;34m.\u001b[0m\u001b[0mreduction\u001b[0m\u001b[0;34m)\u001b[0m\u001b[0;34m\u001b[0m\u001b[0;34m\u001b[0m\u001b[0m\n\u001b[0m\u001b[1;32m    536\u001b[0m \u001b[0;34m\u001b[0m\u001b[0m\n\u001b[1;32m    537\u001b[0m \u001b[0;34m\u001b[0m\u001b[0m\n",
      "\u001b[0;32m/opt/anaconda3/lib/python3.9/site-packages/torch/nn/functional.py\u001b[0m in \u001b[0;36mmse_loss\u001b[0;34m(input, target, size_average, reduce, reduction)\u001b[0m\n\u001b[1;32m   3336\u001b[0m         \u001b[0mreduction\u001b[0m \u001b[0;34m=\u001b[0m \u001b[0m_Reduction\u001b[0m\u001b[0;34m.\u001b[0m\u001b[0mlegacy_get_string\u001b[0m\u001b[0;34m(\u001b[0m\u001b[0msize_average\u001b[0m\u001b[0;34m,\u001b[0m \u001b[0mreduce\u001b[0m\u001b[0;34m)\u001b[0m\u001b[0;34m\u001b[0m\u001b[0;34m\u001b[0m\u001b[0m\n\u001b[1;32m   3337\u001b[0m \u001b[0;34m\u001b[0m\u001b[0m\n\u001b[0;32m-> 3338\u001b[0;31m     \u001b[0mexpanded_input\u001b[0m\u001b[0;34m,\u001b[0m \u001b[0mexpanded_target\u001b[0m \u001b[0;34m=\u001b[0m \u001b[0mtorch\u001b[0m\u001b[0;34m.\u001b[0m\u001b[0mbroadcast_tensors\u001b[0m\u001b[0;34m(\u001b[0m\u001b[0minput\u001b[0m\u001b[0;34m,\u001b[0m \u001b[0mtarget\u001b[0m\u001b[0;34m)\u001b[0m\u001b[0;34m\u001b[0m\u001b[0;34m\u001b[0m\u001b[0m\n\u001b[0m\u001b[1;32m   3339\u001b[0m     \u001b[0;32mreturn\u001b[0m \u001b[0mtorch\u001b[0m\u001b[0;34m.\u001b[0m\u001b[0m_C\u001b[0m\u001b[0;34m.\u001b[0m\u001b[0m_nn\u001b[0m\u001b[0;34m.\u001b[0m\u001b[0mmse_loss\u001b[0m\u001b[0;34m(\u001b[0m\u001b[0mexpanded_input\u001b[0m\u001b[0;34m,\u001b[0m \u001b[0mexpanded_target\u001b[0m\u001b[0;34m,\u001b[0m \u001b[0m_Reduction\u001b[0m\u001b[0;34m.\u001b[0m\u001b[0mget_enum\u001b[0m\u001b[0;34m(\u001b[0m\u001b[0mreduction\u001b[0m\u001b[0;34m)\u001b[0m\u001b[0;34m)\u001b[0m\u001b[0;34m\u001b[0m\u001b[0;34m\u001b[0m\u001b[0m\n\u001b[1;32m   3340\u001b[0m \u001b[0;34m\u001b[0m\u001b[0m\n",
      "\u001b[0;32m/opt/anaconda3/lib/python3.9/site-packages/torch/functional.py\u001b[0m in \u001b[0;36mbroadcast_tensors\u001b[0;34m(*tensors)\u001b[0m\n\u001b[1;32m     74\u001b[0m     \u001b[0;32mif\u001b[0m \u001b[0mhas_torch_function\u001b[0m\u001b[0;34m(\u001b[0m\u001b[0mtensors\u001b[0m\u001b[0;34m)\u001b[0m\u001b[0;34m:\u001b[0m\u001b[0;34m\u001b[0m\u001b[0;34m\u001b[0m\u001b[0m\n\u001b[1;32m     75\u001b[0m         \u001b[0;32mreturn\u001b[0m \u001b[0mhandle_torch_function\u001b[0m\u001b[0;34m(\u001b[0m\u001b[0mbroadcast_tensors\u001b[0m\u001b[0;34m,\u001b[0m \u001b[0mtensors\u001b[0m\u001b[0;34m,\u001b[0m \u001b[0;34m*\u001b[0m\u001b[0mtensors\u001b[0m\u001b[0;34m)\u001b[0m\u001b[0;34m\u001b[0m\u001b[0;34m\u001b[0m\u001b[0m\n\u001b[0;32m---> 76\u001b[0;31m     \u001b[0;32mreturn\u001b[0m \u001b[0m_VF\u001b[0m\u001b[0;34m.\u001b[0m\u001b[0mbroadcast_tensors\u001b[0m\u001b[0;34m(\u001b[0m\u001b[0mtensors\u001b[0m\u001b[0;34m)\u001b[0m  \u001b[0;31m# type: ignore[attr-defined]\u001b[0m\u001b[0;34m\u001b[0m\u001b[0;34m\u001b[0m\u001b[0m\n\u001b[0m\u001b[1;32m     77\u001b[0m \u001b[0;34m\u001b[0m\u001b[0m\n\u001b[1;32m     78\u001b[0m \u001b[0;34m\u001b[0m\u001b[0m\n",
      "\u001b[0;31mRuntimeError\u001b[0m: The size of tensor a (6) must match the size of tensor b (32) at non-singleton dimension 1"
     ]
    }
   ],
   "source": [
    "# Modellinstanziierung\n",
    "input_size = X_train_scaled.shape[2]\n",
    "hidden_size = 50\n",
    "output_size = 1\n",
    "num_layers = 1\n",
    "dropout_rate = 0.2\n",
    "\n",
    "model = SimpleLSTM(input_size, hidden_size, output_size, num_layers, dropout_rate).to(device)\n",
    "\n",
    "# Loss und Optimizer definieren\n",
    "criterion = nn.MSELoss()\n",
    "optimizer = optim.Adam(model.parameters(), lr=0.001)\n",
    "\n",
    "# Listen zur Speicherung der Verluste\n",
    "train_losses = []\n",
    "test_losses = []\n",
    "\n",
    "# Training des Modells\n",
    "num_epochs = 100\n",
    "for epoch in range(num_epochs):\n",
    "    model.train()\n",
    "    epoch_loss = 0.0\n",
    "    for batch_x, batch_y in train_loader:\n",
    "        batch_x, batch_y = batch_x.to(device), batch_y.to(device)\n",
    "        \n",
    "        # Forward pass\n",
    "        outputs = model(batch_x)\n",
    "        loss = criterion(outputs.squeeze(), batch_y)\n",
    "        \n",
    "        # Backward pass und Optimierung\n",
    "        optimizer.zero_grad()\n",
    "        loss.backward()\n",
    "        optimizer.step()\n",
    "        \n",
    "        epoch_loss += loss.item()\n",
    "    \n",
    "    avg_train_loss = epoch_loss / len(train_loader)\n",
    "    train_losses.append(avg_train_loss)\n",
    "    \n",
    "    # Testverlust berechnen\n",
    "    model.eval()\n",
    "    test_loss = 0.0\n",
    "    with torch.no_grad():\n",
    "        for batch_x, batch_y in test_loader:\n",
    "            batch_x, batch_y = batch_x.to(device), batch_y.to(device)\n",
    "            outputs = model(batch_x)\n",
    "            loss = criterion(outputs.squeeze(), batch_y)\n",
    "            test_loss += loss.item()\n",
    "    avg_test_loss = test_loss / len(test_loader)\n",
    "    test_losses.append(avg_test_loss)\n",
    "    \n",
    "    if (epoch + 1) % 10 == 0:\n",
    "        print(f'Epoch [{epoch + 1}/{num_epochs}], Train Loss: {avg_train_loss:.4f}, Test Loss: {avg_test_loss:.4f}')"
   ]
  },
  {
   "cell_type": "markdown",
   "metadata": {},
   "source": [
    "# Evaluation"
   ]
  },
  {
   "cell_type": "code",
   "execution_count": null,
   "metadata": {},
   "outputs": [
    {
     "data": {
      "application/vnd.plotly.v1+json": {
       "config": {
        "plotlyServerURL": "https://plot.ly"
       },
       "data": [
        {
         "mode": "lines",
         "name": "Train Loss",
         "type": "scatter",
         "x": [
          1,
          2,
          3,
          4,
          5,
          6,
          7,
          8,
          9,
          10,
          11,
          12,
          13,
          14,
          15,
          16,
          17,
          18,
          19,
          20,
          21,
          22,
          23,
          24,
          25,
          26,
          27,
          28,
          29,
          30,
          31,
          32,
          33,
          34,
          35,
          36,
          37,
          38,
          39,
          40,
          41,
          42,
          43,
          44,
          45,
          46,
          47,
          48,
          49,
          50,
          51,
          52,
          53,
          54,
          55,
          56,
          57,
          58,
          59,
          60,
          61,
          62,
          63,
          64,
          65,
          66,
          67,
          68,
          69,
          70,
          71,
          72,
          73,
          74,
          75,
          76,
          77,
          78,
          79,
          80,
          81,
          82,
          83,
          84,
          85,
          86,
          87,
          88,
          89,
          90,
          91,
          92,
          93,
          94,
          95,
          96,
          97,
          98,
          99,
          100
         ],
         "y": [
          0.02999026798738205,
          0.008953179061716917,
          0.007357097169080255,
          0.006409296984499206,
          0.004750579676343774,
          0.0038457871438479243,
          0.0036085154005915535,
          0.0034112591362957445,
          0.00313016732356378,
          0.003035035554547699,
          0.002840301889108912,
          0.0027735317220949395,
          0.0025349764619022608,
          0.002777842068284446,
          0.0026150159300209917,
          0.0026278045308795205,
          0.002595413656791254,
          0.002628164073661426,
          0.0023902792837565802,
          0.0024071667611846054,
          0.0023375776767426606,
          0.0021862807916477323,
          0.0023285831842685535,
          0.002043603004754654,
          0.001924161915667355,
          0.002062122172400431,
          0.001893134956362144,
          0.002100901204227869,
          0.0019260848924631672,
          0.0020378254620092256,
          0.0018185508599010657,
          0.0019209258999599486,
          0.0019143034480702207,
          0.0017814976721526865,
          0.001781545244442413,
          0.001680411127566987,
          0.0017374229845495857,
          0.0016905157909994678,
          0.0018808198296845111,
          0.0017672491019914802,
          0.0016752554766586696,
          0.001663576815115782,
          0.0016242794737656961,
          0.0015848521808428423,
          0.001513275637395908,
          0.00149088678881526,
          0.0014617570808955602,
          0.0014797035207952925,
          0.0014123481185156473,
          0.001479082854882795,
          0.0014143384593938077,
          0.0015247043136659326,
          0.0014801237587246817,
          0.0014192852588389448,
          0.0013486175496150187,
          0.0013415523203641024,
          0.0013906692703520612,
          0.0012891921226638465,
          0.0013592005707323551,
          0.001464230241253972,
          0.001201567250750579,
          0.0012171823954285712,
          0.0011889880204725327,
          0.001226281888583409,
          0.0012868413326273464,
          0.0011951724757506912,
          0.0011057742795317757,
          0.0011815540759814714,
          0.0011704303407376365,
          0.001178644131275122,
          0.0011410113312399052,
          0.0011429870988204315,
          0.0011284393359365283,
          0.0010658018029656034,
          0.0011155495814484905,
          0.0010404333564908985,
          0.001052412478257997,
          0.0010271206378167001,
          0.0010700575943218963,
          0.0010445468633777785,
          0.0010298200994634963,
          0.0010762718554861769,
          0.00119071225493158,
          0.0010859695939128573,
          0.0009959147321250365,
          0.0009931285380937007,
          0.0011287508282943495,
          0.0010158208012343288,
          0.0009541806024831853,
          0.0009858128157377774,
          0.001006383136418477,
          0.0009571167406369457,
          0.0009838067688884176,
          0.0009370984887343128,
          0.0009583187139859157,
          0.0010237272517584568,
          0.000987281023800297,
          0.0009682396675070406,
          0.0008945912110847326,
          0.0009874553290167253
         ]
        },
        {
         "mode": "lines",
         "name": "Test Loss",
         "type": "scatter",
         "x": [
          1,
          2,
          3,
          4,
          5,
          6,
          7,
          8,
          9,
          10,
          11,
          12,
          13,
          14,
          15,
          16,
          17,
          18,
          19,
          20,
          21,
          22,
          23,
          24,
          25,
          26,
          27,
          28,
          29,
          30,
          31,
          32,
          33,
          34,
          35,
          36,
          37,
          38,
          39,
          40,
          41,
          42,
          43,
          44,
          45,
          46,
          47,
          48,
          49,
          50,
          51,
          52,
          53,
          54,
          55,
          56,
          57,
          58,
          59,
          60,
          61,
          62,
          63,
          64,
          65,
          66,
          67,
          68,
          69,
          70,
          71,
          72,
          73,
          74,
          75,
          76,
          77,
          78,
          79,
          80,
          81,
          82,
          83,
          84,
          85,
          86,
          87,
          88,
          89,
          90,
          91,
          92,
          93,
          94,
          95,
          96,
          97,
          98,
          99,
          100
         ],
         "y": [
          0.007331115265305226,
          0.005570407580727568,
          0.004716945292714696,
          0.0034011690250526252,
          0.0019755173976031635,
          0.0016773719824134158,
          0.0015001847641542554,
          0.001513199576248343,
          0.001637861463957681,
          0.001283083088660183,
          0.0012896806225538827,
          0.0013882663691989505,
          0.0013702754558135683,
          0.0013105099787935615,
          0.00137833331245929,
          0.0012564943172037601,
          0.002110257073162267,
          0.001641036718725585,
          0.001809962998287609,
          0.0012142408321289201,
          0.0011731813608023983,
          0.0018394280207128478,
          0.0011368146605001618,
          0.0011883674753614916,
          0.001224322257957493,
          0.001078995880491745,
          0.0010899719647848262,
          0.001041566881422813,
          0.0011419697816913517,
          0.0010152169404766308,
          0.0010832187836058438,
          0.0009976953151635826,
          0.001051950255014862,
          0.0010132438373357917,
          0.0009920841011290366,
          0.0010893492189307625,
          0.0009600050241435663,
          0.0011969667483264436,
          0.001164278422947973,
          0.0010928800329566002,
          0.0013368520975256194,
          0.0010060125720114089,
          0.0009478982403659477,
          0.001016405805085714,
          0.0009153055367418206,
          0.0009248698121294952,
          0.0009640150775129979,
          0.0009148925802527139,
          0.0010368806139852565,
          0.0009639743500604079,
          0.000954540607591088,
          0.0012353158224588977,
          0.0009444713068660349,
          0.0008611265489330086,
          0.0008489562225384781,
          0.001186226499087822,
          0.0009113721271905189,
          0.0008660531759512826,
          0.0015619363223847288,
          0.000826615419310446,
          0.0008341255978358766,
          0.0010163877114581948,
          0.000862870936264069,
          0.0008679544732261163,
          0.0008066546792039075,
          0.0008198890158942399,
          0.000862441343577722,
          0.0007821604981122968,
          0.0008010485908016562,
          0.0007753965283672397,
          0.0007925384897344674,
          0.0007621639020866356,
          0.0008298729707558567,
          0.0007887020183261484,
          0.0008727421742290831,
          0.0007608479958994744,
          0.0008032927692581255,
          0.0008118483618510744,
          0.0008373870021806887,
          0.0009407984101786637,
          0.000747542651459718,
          0.0008254835534339341,
          0.0008602315009249231,
          0.0007818656852647949,
          0.0007997524494735094,
          0.000770721123374712,
          0.0007790987035080504,
          0.0007826271534073525,
          0.0007748394138896122,
          0.0007861281404844844,
          0.0007327934615134906,
          0.0007434383990655008,
          0.0007597789248953072,
          0.0007277984875075233,
          0.0007568918831216601,
          0.0008548308351936822,
          0.0007161665092168662,
          0.0007782324929184352,
          0.0007078397947435195,
          0.0008212178475402582
         ]
        }
       ],
       "layout": {
        "template": {
         "data": {
          "bar": [
           {
            "error_x": {
             "color": "#2a3f5f"
            },
            "error_y": {
             "color": "#2a3f5f"
            },
            "marker": {
             "line": {
              "color": "#E5ECF6",
              "width": 0.5
             },
             "pattern": {
              "fillmode": "overlay",
              "size": 10,
              "solidity": 0.2
             }
            },
            "type": "bar"
           }
          ],
          "barpolar": [
           {
            "marker": {
             "line": {
              "color": "#E5ECF6",
              "width": 0.5
             },
             "pattern": {
              "fillmode": "overlay",
              "size": 10,
              "solidity": 0.2
             }
            },
            "type": "barpolar"
           }
          ],
          "carpet": [
           {
            "aaxis": {
             "endlinecolor": "#2a3f5f",
             "gridcolor": "white",
             "linecolor": "white",
             "minorgridcolor": "white",
             "startlinecolor": "#2a3f5f"
            },
            "baxis": {
             "endlinecolor": "#2a3f5f",
             "gridcolor": "white",
             "linecolor": "white",
             "minorgridcolor": "white",
             "startlinecolor": "#2a3f5f"
            },
            "type": "carpet"
           }
          ],
          "choropleth": [
           {
            "colorbar": {
             "outlinewidth": 0,
             "ticks": ""
            },
            "type": "choropleth"
           }
          ],
          "contour": [
           {
            "colorbar": {
             "outlinewidth": 0,
             "ticks": ""
            },
            "colorscale": [
             [
              0,
              "#0d0887"
             ],
             [
              0.1111111111111111,
              "#46039f"
             ],
             [
              0.2222222222222222,
              "#7201a8"
             ],
             [
              0.3333333333333333,
              "#9c179e"
             ],
             [
              0.4444444444444444,
              "#bd3786"
             ],
             [
              0.5555555555555556,
              "#d8576b"
             ],
             [
              0.6666666666666666,
              "#ed7953"
             ],
             [
              0.7777777777777778,
              "#fb9f3a"
             ],
             [
              0.8888888888888888,
              "#fdca26"
             ],
             [
              1,
              "#f0f921"
             ]
            ],
            "type": "contour"
           }
          ],
          "contourcarpet": [
           {
            "colorbar": {
             "outlinewidth": 0,
             "ticks": ""
            },
            "type": "contourcarpet"
           }
          ],
          "heatmap": [
           {
            "colorbar": {
             "outlinewidth": 0,
             "ticks": ""
            },
            "colorscale": [
             [
              0,
              "#0d0887"
             ],
             [
              0.1111111111111111,
              "#46039f"
             ],
             [
              0.2222222222222222,
              "#7201a8"
             ],
             [
              0.3333333333333333,
              "#9c179e"
             ],
             [
              0.4444444444444444,
              "#bd3786"
             ],
             [
              0.5555555555555556,
              "#d8576b"
             ],
             [
              0.6666666666666666,
              "#ed7953"
             ],
             [
              0.7777777777777778,
              "#fb9f3a"
             ],
             [
              0.8888888888888888,
              "#fdca26"
             ],
             [
              1,
              "#f0f921"
             ]
            ],
            "type": "heatmap"
           }
          ],
          "heatmapgl": [
           {
            "colorbar": {
             "outlinewidth": 0,
             "ticks": ""
            },
            "colorscale": [
             [
              0,
              "#0d0887"
             ],
             [
              0.1111111111111111,
              "#46039f"
             ],
             [
              0.2222222222222222,
              "#7201a8"
             ],
             [
              0.3333333333333333,
              "#9c179e"
             ],
             [
              0.4444444444444444,
              "#bd3786"
             ],
             [
              0.5555555555555556,
              "#d8576b"
             ],
             [
              0.6666666666666666,
              "#ed7953"
             ],
             [
              0.7777777777777778,
              "#fb9f3a"
             ],
             [
              0.8888888888888888,
              "#fdca26"
             ],
             [
              1,
              "#f0f921"
             ]
            ],
            "type": "heatmapgl"
           }
          ],
          "histogram": [
           {
            "marker": {
             "pattern": {
              "fillmode": "overlay",
              "size": 10,
              "solidity": 0.2
             }
            },
            "type": "histogram"
           }
          ],
          "histogram2d": [
           {
            "colorbar": {
             "outlinewidth": 0,
             "ticks": ""
            },
            "colorscale": [
             [
              0,
              "#0d0887"
             ],
             [
              0.1111111111111111,
              "#46039f"
             ],
             [
              0.2222222222222222,
              "#7201a8"
             ],
             [
              0.3333333333333333,
              "#9c179e"
             ],
             [
              0.4444444444444444,
              "#bd3786"
             ],
             [
              0.5555555555555556,
              "#d8576b"
             ],
             [
              0.6666666666666666,
              "#ed7953"
             ],
             [
              0.7777777777777778,
              "#fb9f3a"
             ],
             [
              0.8888888888888888,
              "#fdca26"
             ],
             [
              1,
              "#f0f921"
             ]
            ],
            "type": "histogram2d"
           }
          ],
          "histogram2dcontour": [
           {
            "colorbar": {
             "outlinewidth": 0,
             "ticks": ""
            },
            "colorscale": [
             [
              0,
              "#0d0887"
             ],
             [
              0.1111111111111111,
              "#46039f"
             ],
             [
              0.2222222222222222,
              "#7201a8"
             ],
             [
              0.3333333333333333,
              "#9c179e"
             ],
             [
              0.4444444444444444,
              "#bd3786"
             ],
             [
              0.5555555555555556,
              "#d8576b"
             ],
             [
              0.6666666666666666,
              "#ed7953"
             ],
             [
              0.7777777777777778,
              "#fb9f3a"
             ],
             [
              0.8888888888888888,
              "#fdca26"
             ],
             [
              1,
              "#f0f921"
             ]
            ],
            "type": "histogram2dcontour"
           }
          ],
          "mesh3d": [
           {
            "colorbar": {
             "outlinewidth": 0,
             "ticks": ""
            },
            "type": "mesh3d"
           }
          ],
          "parcoords": [
           {
            "line": {
             "colorbar": {
              "outlinewidth": 0,
              "ticks": ""
             }
            },
            "type": "parcoords"
           }
          ],
          "pie": [
           {
            "automargin": true,
            "type": "pie"
           }
          ],
          "scatter": [
           {
            "fillpattern": {
             "fillmode": "overlay",
             "size": 10,
             "solidity": 0.2
            },
            "type": "scatter"
           }
          ],
          "scatter3d": [
           {
            "line": {
             "colorbar": {
              "outlinewidth": 0,
              "ticks": ""
             }
            },
            "marker": {
             "colorbar": {
              "outlinewidth": 0,
              "ticks": ""
             }
            },
            "type": "scatter3d"
           }
          ],
          "scattercarpet": [
           {
            "marker": {
             "colorbar": {
              "outlinewidth": 0,
              "ticks": ""
             }
            },
            "type": "scattercarpet"
           }
          ],
          "scattergeo": [
           {
            "marker": {
             "colorbar": {
              "outlinewidth": 0,
              "ticks": ""
             }
            },
            "type": "scattergeo"
           }
          ],
          "scattergl": [
           {
            "marker": {
             "colorbar": {
              "outlinewidth": 0,
              "ticks": ""
             }
            },
            "type": "scattergl"
           }
          ],
          "scattermapbox": [
           {
            "marker": {
             "colorbar": {
              "outlinewidth": 0,
              "ticks": ""
             }
            },
            "type": "scattermapbox"
           }
          ],
          "scatterpolar": [
           {
            "marker": {
             "colorbar": {
              "outlinewidth": 0,
              "ticks": ""
             }
            },
            "type": "scatterpolar"
           }
          ],
          "scatterpolargl": [
           {
            "marker": {
             "colorbar": {
              "outlinewidth": 0,
              "ticks": ""
             }
            },
            "type": "scatterpolargl"
           }
          ],
          "scatterternary": [
           {
            "marker": {
             "colorbar": {
              "outlinewidth": 0,
              "ticks": ""
             }
            },
            "type": "scatterternary"
           }
          ],
          "surface": [
           {
            "colorbar": {
             "outlinewidth": 0,
             "ticks": ""
            },
            "colorscale": [
             [
              0,
              "#0d0887"
             ],
             [
              0.1111111111111111,
              "#46039f"
             ],
             [
              0.2222222222222222,
              "#7201a8"
             ],
             [
              0.3333333333333333,
              "#9c179e"
             ],
             [
              0.4444444444444444,
              "#bd3786"
             ],
             [
              0.5555555555555556,
              "#d8576b"
             ],
             [
              0.6666666666666666,
              "#ed7953"
             ],
             [
              0.7777777777777778,
              "#fb9f3a"
             ],
             [
              0.8888888888888888,
              "#fdca26"
             ],
             [
              1,
              "#f0f921"
             ]
            ],
            "type": "surface"
           }
          ],
          "table": [
           {
            "cells": {
             "fill": {
              "color": "#EBF0F8"
             },
             "line": {
              "color": "white"
             }
            },
            "header": {
             "fill": {
              "color": "#C8D4E3"
             },
             "line": {
              "color": "white"
             }
            },
            "type": "table"
           }
          ]
         },
         "layout": {
          "annotationdefaults": {
           "arrowcolor": "#2a3f5f",
           "arrowhead": 0,
           "arrowwidth": 1
          },
          "autotypenumbers": "strict",
          "coloraxis": {
           "colorbar": {
            "outlinewidth": 0,
            "ticks": ""
           }
          },
          "colorscale": {
           "diverging": [
            [
             0,
             "#8e0152"
            ],
            [
             0.1,
             "#c51b7d"
            ],
            [
             0.2,
             "#de77ae"
            ],
            [
             0.3,
             "#f1b6da"
            ],
            [
             0.4,
             "#fde0ef"
            ],
            [
             0.5,
             "#f7f7f7"
            ],
            [
             0.6,
             "#e6f5d0"
            ],
            [
             0.7,
             "#b8e186"
            ],
            [
             0.8,
             "#7fbc41"
            ],
            [
             0.9,
             "#4d9221"
            ],
            [
             1,
             "#276419"
            ]
           ],
           "sequential": [
            [
             0,
             "#0d0887"
            ],
            [
             0.1111111111111111,
             "#46039f"
            ],
            [
             0.2222222222222222,
             "#7201a8"
            ],
            [
             0.3333333333333333,
             "#9c179e"
            ],
            [
             0.4444444444444444,
             "#bd3786"
            ],
            [
             0.5555555555555556,
             "#d8576b"
            ],
            [
             0.6666666666666666,
             "#ed7953"
            ],
            [
             0.7777777777777778,
             "#fb9f3a"
            ],
            [
             0.8888888888888888,
             "#fdca26"
            ],
            [
             1,
             "#f0f921"
            ]
           ],
           "sequentialminus": [
            [
             0,
             "#0d0887"
            ],
            [
             0.1111111111111111,
             "#46039f"
            ],
            [
             0.2222222222222222,
             "#7201a8"
            ],
            [
             0.3333333333333333,
             "#9c179e"
            ],
            [
             0.4444444444444444,
             "#bd3786"
            ],
            [
             0.5555555555555556,
             "#d8576b"
            ],
            [
             0.6666666666666666,
             "#ed7953"
            ],
            [
             0.7777777777777778,
             "#fb9f3a"
            ],
            [
             0.8888888888888888,
             "#fdca26"
            ],
            [
             1,
             "#f0f921"
            ]
           ]
          },
          "colorway": [
           "#636efa",
           "#EF553B",
           "#00cc96",
           "#ab63fa",
           "#FFA15A",
           "#19d3f3",
           "#FF6692",
           "#B6E880",
           "#FF97FF",
           "#FECB52"
          ],
          "font": {
           "color": "#2a3f5f"
          },
          "geo": {
           "bgcolor": "white",
           "lakecolor": "white",
           "landcolor": "#E5ECF6",
           "showlakes": true,
           "showland": true,
           "subunitcolor": "white"
          },
          "hoverlabel": {
           "align": "left"
          },
          "hovermode": "closest",
          "mapbox": {
           "style": "light"
          },
          "paper_bgcolor": "white",
          "plot_bgcolor": "#E5ECF6",
          "polar": {
           "angularaxis": {
            "gridcolor": "white",
            "linecolor": "white",
            "ticks": ""
           },
           "bgcolor": "#E5ECF6",
           "radialaxis": {
            "gridcolor": "white",
            "linecolor": "white",
            "ticks": ""
           }
          },
          "scene": {
           "xaxis": {
            "backgroundcolor": "#E5ECF6",
            "gridcolor": "white",
            "gridwidth": 2,
            "linecolor": "white",
            "showbackground": true,
            "ticks": "",
            "zerolinecolor": "white"
           },
           "yaxis": {
            "backgroundcolor": "#E5ECF6",
            "gridcolor": "white",
            "gridwidth": 2,
            "linecolor": "white",
            "showbackground": true,
            "ticks": "",
            "zerolinecolor": "white"
           },
           "zaxis": {
            "backgroundcolor": "#E5ECF6",
            "gridcolor": "white",
            "gridwidth": 2,
            "linecolor": "white",
            "showbackground": true,
            "ticks": "",
            "zerolinecolor": "white"
           }
          },
          "shapedefaults": {
           "line": {
            "color": "#2a3f5f"
           }
          },
          "ternary": {
           "aaxis": {
            "gridcolor": "white",
            "linecolor": "white",
            "ticks": ""
           },
           "baxis": {
            "gridcolor": "white",
            "linecolor": "white",
            "ticks": ""
           },
           "bgcolor": "#E5ECF6",
           "caxis": {
            "gridcolor": "white",
            "linecolor": "white",
            "ticks": ""
           }
          },
          "title": {
           "x": 0.05
          },
          "xaxis": {
           "automargin": true,
           "gridcolor": "white",
           "linecolor": "white",
           "ticks": "",
           "title": {
            "standoff": 15
           },
           "zerolinecolor": "white",
           "zerolinewidth": 2
          },
          "yaxis": {
           "automargin": true,
           "gridcolor": "white",
           "linecolor": "white",
           "ticks": "",
           "title": {
            "standoff": 15
           },
           "zerolinecolor": "white",
           "zerolinewidth": 2
          }
         }
        },
        "title": {
         "text": "Train and Test Loss over Epochs"
        },
        "xaxis": {
         "title": {
          "text": "Epoch"
         }
        },
        "yaxis": {
         "title": {
          "text": "Loss"
         }
        }
       }
      }
     },
     "metadata": {},
     "output_type": "display_data"
    }
   ],
   "source": [
    "# Plotten der Verluste\n",
    "epochs = list(range(1, num_epochs + 1))\n",
    "fig = go.Figure()\n",
    "fig.add_trace(go.Scatter(x=epochs, y=train_losses, mode='lines', name='Train Loss'))\n",
    "fig.add_trace(go.Scatter(x=epochs, y=test_losses, mode='lines', name='Test Loss'))\n",
    "fig.update_layout(title='Train and Test Loss over Epochs',\n",
    "                   xaxis_title='Epoch',\n",
    "                   yaxis_title='Loss')\n",
    "fig.show()"
   ]
  },
  {
   "cell_type": "code",
   "execution_count": null,
   "metadata": {},
   "outputs": [],
   "source": [
    "\n",
    "# Rücktransformation der skalierten Vorhersagen und realen Werte (falls erforderlich)\n",
    "scaler_y = MinMaxScaler()\n",
    "scaler_y.fit(y_train_scaled.reshape(-1, 1))\n",
    "\n",
    "all_predictions = []\n",
    "model.eval()\n",
    "with torch.no_grad():\n",
    "    for batch_x, batch_y in test_loader:\n",
    "        batch_x, batch_y = batch_x.to(device), batch_y.to(device)\n",
    "        outputs = model(batch_x)\n",
    "        all_predictions.append(outputs.cpu().numpy())\n",
    "\n",
    "all_predictions = np.concatenate(all_predictions, axis=0)\n",
    "\n",
    "y_pred = scaler_y.inverse_transform(all_predictions.reshape(-1, 1)).flatten()\n",
    "y_test_real = scaler_y.inverse_transform(y_test_scaled.reshape(-1, 1)).flatten()"
   ]
  },
  {
   "cell_type": "markdown",
   "metadata": {},
   "source": [
    "### Naive Approach\n",
    "To get a baseline model, we will use a naive approach.\n",
    "We will use the mean of the last 7 days as the prediction for the next day."
   ]
  },
  {
   "cell_type": "code",
   "execution_count": null,
   "metadata": {},
   "outputs": [
    {
     "name": "stdout",
     "output_type": "stream",
     "text": [
      "Mean Squared Error using the mean of the 6 days before: 0.25\n"
     ]
    }
   ],
   "source": [
    "y_naive = []\n",
    "for sequence in X_test:\n",
    "    y_naive.append(sequence[:, 0].mean())\n",
    "\n",
    "mse_naive = mean_squared_error(y_test, y_naive)\n",
    "print(f'Mean Squared Error using the mean of the 6 days before: {mse_naive:.2f}')"
   ]
  },
  {
   "cell_type": "code",
   "execution_count": null,
   "metadata": {},
   "outputs": [
    {
     "name": "stdout",
     "output_type": "stream",
     "text": [
      "Mean Squared Error: 0.11\n"
     ]
    }
   ],
   "source": [
    "model.eval()\n",
    "with torch.no_grad():\n",
    "    X_test_tensor_flattened = X_test_scaled_tensor.view(X_test_scaled_tensor.size(0), -1)\n",
    "    y_pred_scaled = model(X_test_scaled_tensor).squeeze().cpu().numpy()\n",
    "\n",
    "# Rücktransformation der skalierten Vorhersagen\n",
    "y_pred = y_scaler.inverse_transform(y_pred_scaled.reshape(-1, 1)).flatten()\n",
    "y_test = y_scaler.inverse_transform(y_test_scaled.reshape(-1, 1)).flatten()\n",
    "\n",
    "# mse berechnen mit scikit-learn\n",
    "from sklearn.metrics import mean_squared_error\n",
    "\n",
    "mse = mean_squared_error(y_test, y_pred)\n",
    "print(f'Mean Squared Error: {mse:.2f}')\n"
   ]
  },
  {
   "cell_type": "code",
   "execution_count": null,
   "metadata": {},
   "outputs": [
    {
     "data": {
      "application/vnd.plotly.v1+json": {
       "config": {
        "plotlyServerURL": "https://plot.ly"
       },
       "data": [
        {
         "mode": "lines",
         "name": "Real Values",
         "type": "scatter",
         "x": [
          0,
          1,
          2,
          3,
          4,
          5,
          6,
          7,
          8,
          9,
          10,
          11,
          12,
          13,
          14,
          15,
          16,
          17,
          18,
          19,
          20,
          21,
          22,
          23,
          24,
          25,
          26,
          27,
          28,
          29,
          30,
          31,
          32,
          33,
          34,
          35,
          36,
          37,
          38,
          39,
          40,
          41,
          42,
          43,
          44,
          45,
          46,
          47,
          48,
          49,
          50,
          51,
          52,
          53,
          54,
          55,
          56,
          57,
          58,
          59,
          60,
          61,
          62,
          63,
          64,
          65,
          66,
          67,
          68,
          69,
          70,
          71,
          72,
          73,
          74,
          75,
          76,
          77,
          78,
          79,
          80,
          81,
          82,
          83,
          84,
          85,
          86,
          87,
          88,
          89,
          90,
          91,
          92,
          93,
          94,
          95,
          96,
          97,
          98,
          99,
          100,
          101,
          102,
          103,
          104,
          105,
          106,
          107,
          108,
          109,
          110,
          111,
          112,
          113,
          114,
          115,
          116,
          117,
          118,
          119,
          120,
          121,
          122,
          123,
          124,
          125,
          126,
          127,
          128,
          129,
          130,
          131,
          132,
          133,
          134,
          135,
          136,
          137,
          138,
          139,
          140,
          141,
          142,
          143,
          144,
          145,
          146,
          147,
          148,
          149,
          150,
          151,
          152,
          153,
          154,
          155,
          156,
          157,
          158,
          159,
          160,
          161,
          162,
          163,
          164,
          165,
          166,
          167,
          168,
          169,
          170,
          171,
          172,
          173,
          174,
          175,
          176,
          177,
          178,
          179,
          180,
          181,
          182,
          183,
          184,
          185,
          186,
          187,
          188,
          189,
          190,
          191,
          192,
          193,
          194,
          195,
          196,
          197,
          198,
          199,
          200,
          201,
          202,
          203,
          204,
          205,
          206,
          207,
          208,
          209,
          210,
          211,
          212,
          213,
          214,
          215,
          216,
          217,
          218,
          219,
          220,
          221,
          222,
          223,
          224,
          225,
          226,
          227,
          228,
          229,
          230,
          231,
          232,
          233,
          234,
          235,
          236,
          237,
          238,
          239,
          240,
          241,
          242,
          243,
          244,
          245,
          246,
          247,
          248,
          249,
          250,
          251,
          252,
          253,
          254,
          255,
          256,
          257,
          258,
          259,
          260,
          261,
          262,
          263,
          264,
          265,
          266,
          267,
          268,
          269,
          270,
          271,
          272,
          273,
          274,
          275,
          276,
          277,
          278,
          279,
          280,
          281,
          282,
          283,
          284,
          285,
          286,
          287,
          288,
          289,
          290,
          291,
          292,
          293,
          294,
          295,
          296,
          297,
          298,
          299,
          300,
          301,
          302,
          303,
          304,
          305,
          306,
          307,
          308,
          309,
          310,
          311,
          312,
          313,
          314,
          315,
          316,
          317,
          318,
          319,
          320,
          321,
          322,
          323,
          324,
          325,
          326,
          327,
          328,
          329,
          330,
          331,
          332,
          333,
          334,
          335,
          336,
          337,
          338,
          339,
          340,
          341,
          342,
          343,
          344,
          345,
          346,
          347,
          348,
          349,
          350,
          351,
          352,
          353,
          354,
          355,
          356,
          357,
          358,
          359,
          360,
          361,
          362,
          363,
          364,
          365,
          366,
          367,
          368,
          369,
          370,
          371,
          372,
          373,
          374,
          375,
          376,
          377,
          378,
          379,
          380,
          381,
          382,
          383,
          384,
          385,
          386,
          387,
          388,
          389,
          390
         ],
         "y": [
          19.041290283203125,
          19.081844329833984,
          19.122499465942383,
          19.262126922607422,
          19.282127380371094,
          19.34290313720703,
          19.357221603393555,
          19.437292098999023,
          19.44854164123535,
          19.496923446655273,
          19.497209548950195,
          19.51799964904785,
          19.59576988220215,
          19.610105514526367,
          19.61772346496582,
          19.66499900817871,
          19.68242835998535,
          19.70034408569336,
          19.70151138305664,
          19.721458435058594,
          19.755849838256836,
          19.802947998046875,
          19.863157272338867,
          19.92633819580078,
          19.9521427154541,
          19.994943618774414,
          20.01231575012207,
          20.014999389648438,
          20.032209396362305,
          20.046667098999023,
          20.05500030517578,
          20.055112838745117,
          20.099740982055664,
          20.11134147644043,
          20.123125076293945,
          20.158700942993164,
          20.1845703125,
          20.222736358642578,
          20.231201171875,
          20.23457145690918,
          20.246736526489258,
          20.246807098388672,
          20.257999420166016,
          20.25933265686035,
          20.263404846191406,
          20.2663631439209,
          20.267311096191406,
          20.271289825439453,
          20.271947860717773,
          20.27405548095703,
          20.27644157409668,
          20.282840728759766,
          20.282926559448242,
          20.28302001953125,
          20.293474197387695,
          20.300289154052734,
          20.331666946411133,
          20.33452606201172,
          20.340208053588867,
          20.35173988342285,
          20.360445022583008,
          20.36463165283203,
          20.36663246154785,
          20.37700080871582,
          20.38706398010254,
          20.406137466430664,
          20.409706115722656,
          20.413637161254883,
          20.418197631835938,
          20.42746353149414,
          20.43000030517578,
          20.434667587280273,
          20.440284729003906,
          20.4404296875,
          20.443069458007812,
          20.445158004760742,
          20.45216178894043,
          20.452247619628906,
          20.457244873046875,
          20.457618713378906,
          20.473617553710938,
          20.47579002380371,
          20.483612060546875,
          20.495159149169922,
          20.499465942382812,
          20.503429412841797,
          20.509838104248047,
          20.515216827392578,
          20.52189064025879,
          20.5281925201416,
          20.532155990600586,
          20.54585075378418,
          20.552968978881836,
          20.576887130737305,
          20.60999870300293,
          20.611818313598633,
          20.61220932006836,
          20.614479064941406,
          20.634042739868164,
          20.6384220123291,
          20.647676467895508,
          20.65691375732422,
          20.678054809570312,
          20.680593490600586,
          20.71208953857422,
          20.73084259033203,
          20.732500076293945,
          20.736284255981445,
          20.738510131835938,
          20.74175262451172,
          20.7431583404541,
          20.754735946655273,
          20.76709747314453,
          20.78126335144043,
          20.78159523010254,
          20.78704833984375,
          20.800634384155273,
          20.818105697631836,
          20.82438087463379,
          20.82866668701172,
          20.831697463989258,
          20.84292984008789,
          20.84418487548828,
          20.883684158325195,
          20.889999389648438,
          20.890850067138672,
          20.9084529876709,
          20.909622192382812,
          20.91412353515625,
          20.91766357421875,
          20.957216262817383,
          20.959062576293945,
          20.961030960083008,
          20.964677810668945,
          21,
          21.005735397338867,
          21.008865356445312,
          21.011249542236328,
          21.01571273803711,
          21.020631790161133,
          21.028316497802734,
          21.032447814941406,
          21.042659759521484,
          21.04622459411621,
          21.07468032836914,
          21.093473434448242,
          21.121721267700195,
          21.168973922729492,
          21.187332153320312,
          21.192203521728516,
          21.19268798828125,
          21.194656372070312,
          21.205631256103516,
          21.216501235961914,
          21.21875,
          21.230998992919922,
          21.250314712524414,
          21.278297424316406,
          21.305957794189453,
          21.32395362854004,
          21.32787322998047,
          21.333829879760742,
          21.356456756591797,
          21.372455596923828,
          21.37733268737793,
          21.389907836914062,
          21.39239501953125,
          21.419099807739258,
          21.432083129882812,
          21.458314895629883,
          21.522563934326172,
          21.537473678588867,
          21.553091049194336,
          21.57677459716797,
          21.597341537475586,
          21.607467651367188,
          21.62823486328125,
          21.643373489379883,
          21.64370346069336,
          21.66094207763672,
          21.67814826965332,
          21.71797752380371,
          21.789804458618164,
          21.802000045776367,
          21.80769157409668,
          21.808706283569336,
          21.86905288696289,
          21.889204025268555,
          21.900285720825195,
          21.954418182373047,
          21.97294044494629,
          22.03325843811035,
          22.03697395324707,
          22.0625,
          22.065401077270508,
          22.09107208251953,
          22.157358169555664,
          22.200740814208984,
          22.213205337524414,
          22.25176429748535,
          22.253673553466797,
          22.30020523071289,
          22.339895248413086,
          22.455333709716797,
          22.546316146850586,
          22.552526473999023,
          22.55524444580078,
          22.582040786743164,
          22.59136962890625,
          22.605512619018555,
          22.614423751831055,
          22.652841567993164,
          22.67009925842285,
          22.688541412353516,
          22.697052001953125,
          22.727893829345703,
          22.73948860168457,
          22.75957489013672,
          22.785980224609375,
          22.818063735961914,
          22.839385986328125,
          22.87234115600586,
          22.87734031677246,
          22.881427764892578,
          22.951881408691406,
          22.97821044921875,
          22.993736267089844,
          23.034536361694336,
          23.03946876525879,
          23.048086166381836,
          23.05530548095703,
          23.074432373046875,
          23.09747314453125,
          23.11833381652832,
          23.126325607299805,
          23.127262115478516,
          23.139118194580078,
          23.190105438232422,
          23.206266403198242,
          23.218042373657227,
          23.219091415405273,
          23.221765518188477,
          23.230789184570312,
          23.24951171875,
          23.255897521972656,
          23.267318725585938,
          23.275936126708984,
          23.285001754760742,
          23.346357345581055,
          23.375,
          23.407846450805664,
          23.41575813293457,
          23.49126434326172,
          23.529998779296875,
          23.536924362182617,
          23.540241241455078,
          23.549734115600586,
          23.581159591674805,
          23.622709274291992,
          23.635852813720703,
          23.63705062866211,
          23.654186248779297,
          23.659626007080078,
          23.6635799407959,
          23.664838790893555,
          23.67432403564453,
          23.721220016479492,
          23.72447395324707,
          23.752105712890625,
          23.75917625427246,
          23.763126373291016,
          23.788280487060547,
          23.80000114440918,
          23.814228057861328,
          23.826828002929688,
          23.829740524291992,
          23.83006477355957,
          23.83315658569336,
          23.833656311035156,
          23.837875366210938,
          23.83912467956543,
          23.872316360473633,
          23.875890731811523,
          23.88580322265625,
          23.921504974365234,
          23.951894760131836,
          24.00326156616211,
          24.00370979309082,
          24.004329681396484,
          24.0124454498291,
          24.0213565826416,
          24.022201538085938,
          24.05712890625,
          24.080917358398438,
          24.083541870117188,
          24.086837768554688,
          24.088247299194336,
          24.090625762939453,
          24.1105899810791,
          24.12423324584961,
          24.130903244018555,
          24.144433975219727,
          24.144765853881836,
          24.14543342590332,
          24.154273986816406,
          24.1669921875,
          24.178125381469727,
          24.22372055053711,
          24.232316970825195,
          24.238855361938477,
          24.24333381652832,
          24.24775505065918,
          24.25604248046875,
          24.271652221679688,
          24.27743148803711,
          24.285642623901367,
          24.290632247924805,
          24.29749870300293,
          24.300518035888672,
          24.304468154907227,
          24.31302833557129,
          24.31601905822754,
          24.336200714111328,
          24.33636474609375,
          24.336509704589844,
          24.37049102783203,
          24.37575340270996,
          24.379112243652344,
          24.41604232788086,
          24.429443359375,
          24.437938690185547,
          24.44229507446289,
          24.44580078125,
          24.45618438720703,
          24.456756591796875,
          24.458824157714844,
          24.459999084472656,
          24.46404266357422,
          24.496868133544922,
          24.50613021850586,
          24.511817932128906,
          24.53021240234375,
          24.550495147705078,
          24.559843063354492,
          24.562122344970703,
          24.602252960205078,
          24.630342483520508,
          24.63116455078125,
          24.63187599182129,
          24.65225601196289,
          24.663368225097656,
          24.66852569580078,
          24.6949462890625,
          24.699495315551758,
          24.70383071899414,
          24.718017578125,
          24.72161293029785,
          24.728404998779297,
          24.745973587036133,
          24.767580032348633,
          24.784997940063477,
          24.811580657958984,
          24.816844940185547,
          24.84649085998535,
          24.874189376831055,
          24.874570846557617,
          24.901945114135742,
          24.917531967163086,
          24.924846649169922,
          24.96913719177246,
          24.97563934326172,
          24.99090003967285,
          25.002479553222656,
          25.01892852783203,
          25.040672302246094,
          25.045576095581055,
          25.111597061157227,
          25.136320114135742,
          25.1732177734375,
          25.350982666015625,
          25.469127655029297,
          25.746627807617188,
          25.833436965942383,
          26.06682777404785,
          26.243804931640625,
          26.601652145385742,
          26.613609313964844,
          27.10835838317871,
          27.25841522216797,
          27.276836395263672,
          27.415130615234375
         ]
        },
        {
         "mode": "lines",
         "name": "Predicted Values",
         "type": "scatter",
         "x": [
          0,
          1,
          2,
          3,
          4,
          5,
          6,
          7,
          8,
          9,
          10,
          11,
          12,
          13,
          14,
          15,
          16,
          17,
          18,
          19,
          20,
          21,
          22,
          23,
          24,
          25,
          26,
          27,
          28,
          29,
          30,
          31,
          32,
          33,
          34,
          35,
          36,
          37,
          38,
          39,
          40,
          41,
          42,
          43,
          44,
          45,
          46,
          47,
          48,
          49,
          50,
          51,
          52,
          53,
          54,
          55,
          56,
          57,
          58,
          59,
          60,
          61,
          62,
          63,
          64,
          65,
          66,
          67,
          68,
          69,
          70,
          71,
          72,
          73,
          74,
          75,
          76,
          77,
          78,
          79,
          80,
          81,
          82,
          83,
          84,
          85,
          86,
          87,
          88,
          89,
          90,
          91,
          92,
          93,
          94,
          95,
          96,
          97,
          98,
          99,
          100,
          101,
          102,
          103,
          104,
          105,
          106,
          107,
          108,
          109,
          110,
          111,
          112,
          113,
          114,
          115,
          116,
          117,
          118,
          119,
          120,
          121,
          122,
          123,
          124,
          125,
          126,
          127,
          128,
          129,
          130,
          131,
          132,
          133,
          134,
          135,
          136,
          137,
          138,
          139,
          140,
          141,
          142,
          143,
          144,
          145,
          146,
          147,
          148,
          149,
          150,
          151,
          152,
          153,
          154,
          155,
          156,
          157,
          158,
          159,
          160,
          161,
          162,
          163,
          164,
          165,
          166,
          167,
          168,
          169,
          170,
          171,
          172,
          173,
          174,
          175,
          176,
          177,
          178,
          179,
          180,
          181,
          182,
          183,
          184,
          185,
          186,
          187,
          188,
          189,
          190,
          191,
          192,
          193,
          194,
          195,
          196,
          197,
          198,
          199,
          200,
          201,
          202,
          203,
          204,
          205,
          206,
          207,
          208,
          209,
          210,
          211,
          212,
          213,
          214,
          215,
          216,
          217,
          218,
          219,
          220,
          221,
          222,
          223,
          224,
          225,
          226,
          227,
          228,
          229,
          230,
          231,
          232,
          233,
          234,
          235,
          236,
          237,
          238,
          239,
          240,
          241,
          242,
          243,
          244,
          245,
          246,
          247,
          248,
          249,
          250,
          251,
          252,
          253,
          254,
          255,
          256,
          257,
          258,
          259,
          260,
          261,
          262,
          263,
          264,
          265,
          266,
          267,
          268,
          269,
          270,
          271,
          272,
          273,
          274,
          275,
          276,
          277,
          278,
          279,
          280,
          281,
          282,
          283,
          284,
          285,
          286,
          287,
          288,
          289,
          290,
          291,
          292,
          293,
          294,
          295,
          296,
          297,
          298,
          299,
          300,
          301,
          302,
          303,
          304,
          305,
          306,
          307,
          308,
          309,
          310,
          311,
          312,
          313,
          314,
          315,
          316,
          317,
          318,
          319,
          320,
          321,
          322,
          323,
          324,
          325,
          326,
          327,
          328,
          329,
          330,
          331,
          332,
          333,
          334,
          335,
          336,
          337,
          338,
          339,
          340,
          341,
          342,
          343,
          344,
          345,
          346,
          347,
          348,
          349,
          350,
          351,
          352,
          353,
          354,
          355,
          356,
          357,
          358,
          359,
          360,
          361,
          362,
          363,
          364,
          365,
          366,
          367,
          368,
          369,
          370,
          371,
          372,
          373,
          374,
          375,
          376,
          377,
          378,
          379,
          380,
          381,
          382,
          383,
          384,
          385,
          386,
          387,
          388,
          389,
          390
         ],
         "y": [
          19.60103988647461,
          19.30815315246582,
          21.217458724975586,
          19.733421325683594,
          19.774795532226562,
          19.894546508789062,
          20.073942184448242,
          19.86701774597168,
          19.786434173583984,
          19.66144561767578,
          19.706483840942383,
          19.404964447021484,
          19.849018096923828,
          19.72323226928711,
          19.687070846557617,
          22.02582359313965,
          20.11952781677246,
          19.88634490966797,
          19.761701583862305,
          19.64369773864746,
          19.953433990478516,
          20.017257690429688,
          20.238298416137695,
          20.175798416137695,
          20.227079391479492,
          20.3438720703125,
          20.43064308166504,
          20.581449508666992,
          20.197267532348633,
          20.20414161682129,
          20.514604568481445,
          20.209251403808594,
          20.001544952392578,
          20.26348114013672,
          20.306617736816406,
          20.33314323425293,
          20.09391975402832,
          20.471973419189453,
          20.52132225036621,
          20.563827514648438,
          20.579334259033203,
          20.52481460571289,
          20.52073860168457,
          19.80732536315918,
          20.565793991088867,
          20.113615036010742,
          20.66923713684082,
          20.445032119750977,
          20.826833724975586,
          20.452232360839844,
          20.479293823242188,
          20.440921783447266,
          20.69767189025879,
          20.48303985595703,
          20.335817337036133,
          20.532466888427734,
          20.549297332763672,
          20.35049819946289,
          20.558650970458984,
          20.53574562072754,
          20.547603607177734,
          20.77590560913086,
          20.676162719726562,
          20.724210739135742,
          20.38412857055664,
          20.6177978515625,
          20.76285743713379,
          20.55670166015625,
          20.803964614868164,
          20.701902389526367,
          20.467466354370117,
          20.563690185546875,
          20.696378707885742,
          20.65250587463379,
          20.749610900878906,
          20.848190307617188,
          20.672361373901367,
          20.515445709228516,
          20.70833396911621,
          20.907577514648438,
          20.584333419799805,
          20.765487670898438,
          20.6185302734375,
          20.85694122314453,
          20.930368423461914,
          20.59872817993164,
          20.792402267456055,
          20.61020851135254,
          20.725961685180664,
          20.617992401123047,
          20.614219665527344,
          20.901052474975586,
          20.807716369628906,
          20.755769729614258,
          20.598339080810547,
          20.92901039123535,
          20.853195190429688,
          20.78792953491211,
          20.725984573364258,
          20.862150192260742,
          20.833450317382812,
          20.852270126342773,
          20.843923568725586,
          20.93312644958496,
          20.514432907104492,
          20.78603744506836,
          20.751420974731445,
          20.92975425720215,
          20.89171600341797,
          20.8627986907959,
          20.23110580444336,
          21.15949821472168,
          20.973209381103516,
          20.87691307067871,
          20.956575393676758,
          21.42909049987793,
          20.551822662353516,
          21.09349822998047,
          20.685523986816406,
          20.973787307739258,
          20.77327537536621,
          20.84834098815918,
          21.369304656982422,
          21.02609634399414,
          21.114286422729492,
          20.72494125366211,
          21.616296768188477,
          21.126628875732422,
          21.152511596679688,
          20.903358459472656,
          21.054292678833008,
          21.06366729736328,
          21.157115936279297,
          21.108840942382812,
          20.90930938720703,
          21.16048240661621,
          21.06462860107422,
          21.01360321044922,
          20.702009201049805,
          21.24979591369629,
          21.073209762573242,
          21.150421142578125,
          21.168621063232422,
          20.921916961669922,
          21.333890914916992,
          21.952306747436523,
          21.344661712646484,
          21.309053421020508,
          22.043947219848633,
          21.254039764404297,
          21.488719940185547,
          21.173702239990234,
          21.40020751953125,
          21.070667266845703,
          21.242605209350586,
          21.278244018554688,
          21.50005531311035,
          21.379100799560547,
          21.36237144470215,
          21.340946197509766,
          21.86078643798828,
          21.369178771972656,
          21.494592666625977,
          21.776409149169922,
          21.55687141418457,
          21.634939193725586,
          21.8122501373291,
          21.11972427368164,
          21.802045822143555,
          21.718795776367188,
          21.197303771972656,
          21.785839080810547,
          20.717304229736328,
          21.604578018188477,
          21.691354751586914,
          22.042837142944336,
          21.915124893188477,
          21.95650863647461,
          22.054615020751953,
          22.20421600341797,
          21.210453033447266,
          21.934410095214844,
          22.07359504699707,
          22.137351989746094,
          21.81786346435547,
          22.00761604309082,
          22.300830841064453,
          21.349525451660156,
          21.9996395111084,
          22.186357498168945,
          21.93302345275879,
          22.20355224609375,
          22.01262092590332,
          22.514385223388672,
          22.233543395996094,
          21.667043685913086,
          21.418100357055664,
          21.768129348754883,
          22.111310958862305,
          22.15619659423828,
          21.848054885864258,
          22.725446701049805,
          22.418437957763672,
          22.258617401123047,
          22.72693634033203,
          22.41221046447754,
          22.692157745361328,
          22.729835510253906,
          22.57618522644043,
          22.78787612915039,
          22.91605567932129,
          22.69415283203125,
          22.7579288482666,
          22.71114730834961,
          22.728960037231445,
          23.33298683166504,
          22.66027069091797,
          22.803123474121094,
          22.415679931640625,
          23.42584800720215,
          23.65890884399414,
          22.737823486328125,
          22.951021194458008,
          22.779375076293945,
          23.68399429321289,
          22.86456871032715,
          23.58997917175293,
          23.090559005737305,
          23.257837295532227,
          23.03331756591797,
          23.169755935668945,
          23.1471004486084,
          23.37055778503418,
          23.08612823486328,
          23.334001541137695,
          23.20052146911621,
          23.02132797241211,
          23.592987060546875,
          23.45111083984375,
          23.204593658447266,
          23.10951805114746,
          23.323450088500977,
          23.16164207458496,
          23.324302673339844,
          23.352144241333008,
          22.759592056274414,
          23.099952697753906,
          23.67009925842285,
          23.203399658203125,
          23.513534545898438,
          23.479900360107422,
          23.906076431274414,
          23.401885986328125,
          23.43398666381836,
          23.6400089263916,
          23.65237045288086,
          23.76102638244629,
          23.638303756713867,
          23.72568702697754,
          23.553606033325195,
          23.830184936523438,
          23.617656707763672,
          23.728897094726562,
          23.69891929626465,
          23.928308486938477,
          23.981430053710938,
          23.75701904296875,
          23.693103790283203,
          23.710264205932617,
          23.09146499633789,
          24.309253692626953,
          23.89863395690918,
          23.795011520385742,
          23.97298812866211,
          23.742265701293945,
          23.785476684570312,
          24.298295974731445,
          24.018442153930664,
          23.31710433959961,
          23.60946273803711,
          23.90142822265625,
          24.068941116333008,
          23.8590145111084,
          24.044414520263672,
          23.795055389404297,
          24.101181030273438,
          23.3593807220459,
          24.092695236206055,
          24.019607543945312,
          24.25010871887207,
          24.475488662719727,
          23.890995025634766,
          23.961729049682617,
          24.49492645263672,
          24.092496871948242,
          24.255552291870117,
          24.066301345825195,
          23.91182518005371,
          23.909215927124023,
          24.06655502319336,
          24.12676429748535,
          24.107173919677734,
          24.285202026367188,
          24.224773406982422,
          24.3016414642334,
          24.56975746154785,
          24.083627700805664,
          24.439687728881836,
          23.945451736450195,
          24.491973876953125,
          24.058523178100586,
          24.26825523376465,
          24.51614761352539,
          24.306316375732422,
          24.119810104370117,
          24.566728591918945,
          23.826438903808594,
          25.06198501586914,
          24.033260345458984,
          24.239891052246094,
          24.068645477294922,
          24.33990478515625,
          24.14202880859375,
          24.324050903320312,
          23.86473274230957,
          24.16082000732422,
          24.62646484375,
          24.63026237487793,
          24.448728561401367,
          24.468002319335938,
          24.35341453552246,
          24.70372200012207,
          24.371984481811523,
          24.26686668395996,
          24.64813995361328,
          24.373117446899414,
          24.380815505981445,
          24.655738830566406,
          24.904373168945312,
          24.568531036376953,
          24.395292282104492,
          24.41590118408203,
          24.41176414489746,
          24.83043670654297,
          24.339366912841797,
          25.434110641479492,
          24.206823348999023,
          24.710168838500977,
          24.547042846679688,
          24.546154022216797,
          24.987382888793945,
          24.70796775817871,
          24.596681594848633,
          24.496883392333984,
          24.650197982788086,
          24.690744400024414,
          24.7322940826416,
          24.607728958129883,
          24.50653076171875,
          24.577777862548828,
          24.544233322143555,
          24.620779037475586,
          24.557464599609375,
          24.770675659179688,
          25.169902801513672,
          25.165462493896484,
          24.8349609375,
          24.808767318725586,
          24.538267135620117,
          25.009674072265625,
          24.723899841308594,
          25.161272048950195,
          24.58915138244629,
          25.207143783569336,
          24.901994705200195,
          24.635866165161133,
          25.008468627929688,
          25.205337524414062,
          24.96934700012207,
          25.013097763061523,
          24.462013244628906,
          25.371883392333984,
          25.65204620361328,
          25.561100006103516,
          25.479494094848633,
          27.116140365600586,
          26.689285278320312,
          25.663320541381836,
          26.433460235595703,
          27.058286666870117,
          27.112302780151367
         ]
        },
        {
         "mode": "lines",
         "name": "Naive",
         "type": "scatter",
         "x": [
          0,
          1,
          2,
          3,
          4,
          5,
          6,
          7,
          8,
          9,
          10,
          11,
          12,
          13,
          14,
          15,
          16,
          17,
          18,
          19,
          20,
          21,
          22,
          23,
          24,
          25,
          26,
          27,
          28,
          29,
          30,
          31,
          32,
          33,
          34,
          35,
          36,
          37,
          38,
          39,
          40,
          41,
          42,
          43,
          44,
          45,
          46,
          47,
          48,
          49,
          50,
          51,
          52,
          53,
          54,
          55,
          56,
          57,
          58,
          59,
          60,
          61,
          62,
          63,
          64,
          65,
          66,
          67,
          68,
          69,
          70,
          71,
          72,
          73,
          74,
          75,
          76,
          77,
          78,
          79,
          80,
          81,
          82,
          83,
          84,
          85,
          86,
          87,
          88,
          89,
          90,
          91,
          92,
          93,
          94,
          95,
          96,
          97,
          98,
          99,
          100,
          101,
          102,
          103,
          104,
          105,
          106,
          107,
          108,
          109,
          110,
          111,
          112,
          113,
          114,
          115,
          116,
          117,
          118,
          119,
          120,
          121,
          122,
          123,
          124,
          125,
          126,
          127,
          128,
          129,
          130,
          131,
          132,
          133,
          134,
          135,
          136,
          137,
          138,
          139,
          140,
          141,
          142,
          143,
          144,
          145,
          146,
          147,
          148,
          149,
          150,
          151,
          152,
          153,
          154,
          155,
          156,
          157,
          158,
          159,
          160,
          161,
          162,
          163,
          164,
          165,
          166,
          167,
          168,
          169,
          170,
          171,
          172,
          173,
          174,
          175,
          176,
          177,
          178,
          179,
          180,
          181,
          182,
          183,
          184,
          185,
          186,
          187,
          188,
          189,
          190,
          191,
          192,
          193,
          194,
          195,
          196,
          197,
          198,
          199,
          200,
          201,
          202,
          203,
          204,
          205,
          206,
          207,
          208,
          209,
          210,
          211,
          212,
          213,
          214,
          215,
          216,
          217,
          218,
          219,
          220,
          221,
          222,
          223,
          224,
          225,
          226,
          227,
          228,
          229,
          230,
          231,
          232,
          233,
          234,
          235,
          236,
          237,
          238,
          239,
          240,
          241,
          242,
          243,
          244,
          245,
          246,
          247,
          248,
          249,
          250,
          251,
          252,
          253,
          254,
          255,
          256,
          257,
          258,
          259,
          260,
          261,
          262,
          263,
          264,
          265,
          266,
          267,
          268,
          269,
          270,
          271,
          272,
          273,
          274,
          275,
          276,
          277,
          278,
          279,
          280,
          281,
          282,
          283,
          284,
          285,
          286,
          287,
          288,
          289,
          290,
          291,
          292,
          293,
          294,
          295,
          296,
          297,
          298,
          299,
          300,
          301,
          302,
          303,
          304,
          305,
          306,
          307,
          308,
          309,
          310,
          311,
          312,
          313,
          314,
          315,
          316,
          317,
          318,
          319,
          320,
          321,
          322,
          323,
          324,
          325,
          326,
          327,
          328,
          329,
          330,
          331,
          332,
          333,
          334,
          335,
          336,
          337,
          338,
          339,
          340,
          341,
          342,
          343,
          344,
          345,
          346,
          347,
          348,
          349,
          350,
          351,
          352,
          353,
          354,
          355,
          356,
          357,
          358,
          359,
          360,
          361,
          362,
          363,
          364,
          365,
          366,
          367,
          368,
          369,
          370,
          371,
          372,
          373,
          374,
          375,
          376,
          377,
          378,
          379,
          380,
          381,
          382,
          383,
          384,
          385,
          386,
          387,
          388,
          389,
          390
         ],
         "y": [
          19.367549899142798,
          18.96512094642635,
          21.389050925925925,
          19.538584528080776,
          19.42651166839697,
          20.00292946965264,
          20.008171996476946,
          19.594700014037358,
          19.538917593071627,
          19.43673163760365,
          19.56239241808856,
          18.820207067818746,
          19.598539325842697,
          19.470977865881636,
          19.601894585320114,
          21.827569444444446,
          20.06340061369473,
          19.959053123347243,
          19.711274795990697,
          19.290378497843495,
          19.451177960691698,
          19.68068676871531,
          20.678350515572998,
          19.845584647712354,
          19.974193378406863,
          19.955612998113,
          19.77467869189028,
          21.477638292290347,
          20.073626224026604,
          20.110553089475115,
          20.894576700394474,
          20.43182763400455,
          19.93829588490539,
          20.078141481191057,
          20.22819735838682,
          19.93941919191919,
          19.9956683540945,
          20.260828037263142,
          20.780004975666895,
          20.42569415839855,
          20.291160842043052,
          20.421173540380686,
          20.47723318322335,
          19.906985288336642,
          20.293084694226703,
          19.969811390416343,
          20.488241718959376,
          20.25446730745303,
          20.18524563106845,
          20.320433399069064,
          20.481823449103796,
          20.34312180258079,
          20.490224618399832,
          20.337247888671147,
          20.29109186782803,
          20.581249433041098,
          20.520529781069477,
          20.323288374501104,
          20.341126308055234,
          20.238545300941812,
          20.456024958530225,
          20.469821283361686,
          20.48183646128445,
          20.677590884371767,
          20.379101447857987,
          20.99364321023169,
          20.374226739560616,
          20.458640078457012,
          20.70860556032505,
          20.354542677552285,
          20.489549169366104,
          20.362006043188625,
          20.66905896387307,
          20.422284900563096,
          20.449393887423316,
          20.44694409037923,
          20.359659704443693,
          20.499652757116866,
          20.427261116397244,
          20.433206349206348,
          20.769649546147527,
          20.816738583407414,
          20.520153579782505,
          20.564065749480083,
          20.499198204582132,
          20.55160305991999,
          20.437481137621155,
          20.51426664983949,
          20.42145090020325,
          20.511095597092815,
          20.616659616945565,
          20.661893920716576,
          20.548035915896353,
          20.431024154945998,
          20.285648006651947,
          20.71981828147926,
          20.51240196035565,
          20.558730813127173,
          20.804934283617683,
          20.57690785474324,
          20.42761397544632,
          20.817843045582354,
          21.12244777318296,
          20.636493860801895,
          19.869755378452048,
          20.909769465488214,
          20.764610574906325,
          20.770406396101453,
          20.829816397429216,
          20.792721256464176,
          19.08441221490083,
          21.048177314037158,
          21.230447532538808,
          20.90931821186388,
          20.57775761399303,
          21.082579249812635,
          20.226459925608363,
          21.025651545197213,
          20.170057010174386,
          20.82344539598239,
          20.870682192584812,
          20.907648910793114,
          21.46240308997788,
          20.91318714509704,
          21.39221028511588,
          20.756729336170075,
          22.354706493381503,
          21.971509681342013,
          21.0114860719635,
          20.874438718767106,
          20.811005610768945,
          20.927560864604764,
          21.34113633199408,
          20.822987483749767,
          20.95704761904762,
          20.928888246500087,
          20.827245556255264,
          20.958492063492063,
          20.94556968889286,
          21.47938671601266,
          21.10068985434015,
          20.978598745698854,
          21.070472422462583,
          20.750842492797464,
          21.016858397100908,
          22.71701414395123,
          21.3919855934853,
          21.270583329444403,
          20.9413502936238,
          21.126832363918357,
          21.510844959250964,
          21.109261236415723,
          22.346449435832017,
          20.85026309310281,
          21.67724506100821,
          21.29821209101409,
          21.435766672135326,
          21.61090833379376,
          21.404403480677,
          21.310399330131563,
          22.02943790659444,
          21.01207923337667,
          21.568519197197805,
          22.1262201408744,
          21.875230493418027,
          21.51091315167351,
          21.878528706468614,
          20.754778729315728,
          21.714215890812046,
          21.665284762518805,
          21.297996931664517,
          21.713989506820926,
          20.63429374558785,
          21.792770510986752,
          21.760367690681864,
          21.92100409091982,
          20.9234555817162,
          21.848665068564163,
          21.68819835496961,
          20.96529162489557,
          20.85089411405588,
          21.976978932458582,
          21.383563024802005,
          21.63193248195374,
          21.81722204550303,
          21.76876442088347,
          22.81342830699479,
          20.983735205116997,
          21.74713104610282,
          22.01802924025617,
          21.614450415956608,
          22.218435839657214,
          21.847307685757468,
          22.66192283735536,
          22.964797995985496,
          21.854351657329598,
          21.085034015203302,
          21.783735413902406,
          22.423781432133584,
          21.92950282234106,
          21.772975705397275,
          23.222417514572385,
          22.606101684206717,
          23.28498118271826,
          23.140229376668028,
          22.81830068824192,
          22.66486135361552,
          22.636633270468838,
          21.25559972000939,
          22.69490746247742,
          21.737663404963367,
          22.692544471577865,
          23.00776469495049,
          22.96379566944916,
          23.061605480900834,
          24.020589672690548,
          22.657412954302462,
          22.995309410705104,
          21.49069692164666,
          23.52174122079447,
          24.328672390122666,
          22.827172296449664,
          22.834204545734224,
          22.93643129140042,
          24.298745721423405,
          23.200884455763063,
          23.683413538711708,
          23.50155052408701,
          23.909273195989016,
          22.789366228333236,
          23.6847117543911,
          23.203536487728112,
          22.187791889047286,
          22.79283028062082,
          23.385619484401346,
          23.293757940600756,
          22.840295536814807,
          23.62369095560872,
          23.040638760294172,
          22.624699665731658,
          23.148171163363404,
          23.02006686486934,
          23.46399687712261,
          23.498387994265595,
          23.453951137897025,
          22.75627364901264,
          22.805227385199547,
          22.99472745418328,
          23.68662537742996,
          23.21889412084995,
          23.19717675358743,
          23.58424296123373,
          23.644340621793088,
          23.842576075400448,
          23.704653091635482,
          23.586557827117606,
          23.910836229021523,
          23.60062132354747,
          22.468483121819176,
          23.67801370409275,
          23.724190703575616,
          23.740530508791966,
          22.412664419995252,
          23.3055980940356,
          23.75050559049014,
          23.946761270505775,
          23.493991391449054,
          24.042969625792654,
          24.505952986896876,
          22.833102326809534,
          23.378653399378056,
          24.163944076426684,
          23.7232118265745,
          24.792191179879683,
          23.10462981397687,
          23.549885794808336,
          24.970837694040906,
          23.825331503842392,
          23.576324097651575,
          23.761217498156853,
          24.055674601071726,
          23.94994134693593,
          24.11942476892153,
          23.916876510960197,
          23.229218999500976,
          22.977397199129786,
          23.552346353759024,
          23.910951982882864,
          24.532572877001027,
          24.10087126811233,
          23.95179466993362,
          24.316738656820576,
          24.335068686032702,
          23.96137894095104,
          24.40549991363127,
          24.17372092291679,
          23.92071959083569,
          23.824553784442063,
          23.789585443144215,
          24.66183843566314,
          24.27133047764387,
          24.125404517229622,
          24.724918126648124,
          24.199489415051303,
          24.710333644158343,
          25.124576707209144,
          23.76895178569278,
          24.125774771701227,
          24.30236563257417,
          24.528355544415746,
          24.080085282778764,
          23.812035181368653,
          25.50849384283219,
          24.53314208595241,
          24.19244776227338,
          24.312133163985276,
          23.746162467179857,
          24.28876067933742,
          24.03289725499063,
          24.446534112741464,
          24.599641107753786,
          23.7563142358787,
          24.009441888216088,
          24.45896257140461,
          22.66001322648982,
          23.992680539098263,
          24.090710330423025,
          24.2179635487136,
          24.59983268727024,
          24.556442332710958,
          24.516251154348428,
          24.678697827127824,
          24.30853793859649,
          24.568223313977423,
          24.608682700853084,
          23.752086527563563,
          24.78594084426066,
          24.251292104442967,
          24.00558338750903,
          24.809268851460445,
          22.839448025399506,
          24.794865308432374,
          24.883310922334193,
          24.893429533844596,
          24.579198807009135,
          24.449874214518857,
          24.222696479453944,
          24.696982050591256,
          24.85223527707484,
          24.813828227090685,
          25.121338177754804,
          24.77993324981411,
          24.920812015504396,
          24.437177656567837,
          25.12269818653525,
          24.970491638563193,
          25.039284819007275,
          24.970592974405992,
          24.652049446849446,
          25.103212633334753,
          24.929315804385453,
          24.048697533365587,
          24.76998259326039,
          24.272596475485457,
          24.73039213108382,
          25.304780659909948,
          24.421534564261353,
          24.743599817325926,
          25.136670464041984,
          25.056394461866347,
          25.333355518804108,
          24.401086319711023,
          25.164459424146468,
          24.70404153571427,
          24.73827049851603,
          24.718591294976207,
          25.161954986242876,
          25.056915834898053,
          24.934202011837858,
          24.255024347179184,
          24.110597357048984,
          25.98733143585588,
          25.930279458820934,
          25.78159978789867,
          25.504546588013465,
          28.21425123263299,
          26.678831233444612,
          25.05397076070122,
          26.662905434872012,
          27.311575195543224,
          27.204424715172546
         ]
        }
       ],
       "layout": {
        "template": {
         "data": {
          "bar": [
           {
            "error_x": {
             "color": "#2a3f5f"
            },
            "error_y": {
             "color": "#2a3f5f"
            },
            "marker": {
             "line": {
              "color": "#E5ECF6",
              "width": 0.5
             },
             "pattern": {
              "fillmode": "overlay",
              "size": 10,
              "solidity": 0.2
             }
            },
            "type": "bar"
           }
          ],
          "barpolar": [
           {
            "marker": {
             "line": {
              "color": "#E5ECF6",
              "width": 0.5
             },
             "pattern": {
              "fillmode": "overlay",
              "size": 10,
              "solidity": 0.2
             }
            },
            "type": "barpolar"
           }
          ],
          "carpet": [
           {
            "aaxis": {
             "endlinecolor": "#2a3f5f",
             "gridcolor": "white",
             "linecolor": "white",
             "minorgridcolor": "white",
             "startlinecolor": "#2a3f5f"
            },
            "baxis": {
             "endlinecolor": "#2a3f5f",
             "gridcolor": "white",
             "linecolor": "white",
             "minorgridcolor": "white",
             "startlinecolor": "#2a3f5f"
            },
            "type": "carpet"
           }
          ],
          "choropleth": [
           {
            "colorbar": {
             "outlinewidth": 0,
             "ticks": ""
            },
            "type": "choropleth"
           }
          ],
          "contour": [
           {
            "colorbar": {
             "outlinewidth": 0,
             "ticks": ""
            },
            "colorscale": [
             [
              0,
              "#0d0887"
             ],
             [
              0.1111111111111111,
              "#46039f"
             ],
             [
              0.2222222222222222,
              "#7201a8"
             ],
             [
              0.3333333333333333,
              "#9c179e"
             ],
             [
              0.4444444444444444,
              "#bd3786"
             ],
             [
              0.5555555555555556,
              "#d8576b"
             ],
             [
              0.6666666666666666,
              "#ed7953"
             ],
             [
              0.7777777777777778,
              "#fb9f3a"
             ],
             [
              0.8888888888888888,
              "#fdca26"
             ],
             [
              1,
              "#f0f921"
             ]
            ],
            "type": "contour"
           }
          ],
          "contourcarpet": [
           {
            "colorbar": {
             "outlinewidth": 0,
             "ticks": ""
            },
            "type": "contourcarpet"
           }
          ],
          "heatmap": [
           {
            "colorbar": {
             "outlinewidth": 0,
             "ticks": ""
            },
            "colorscale": [
             [
              0,
              "#0d0887"
             ],
             [
              0.1111111111111111,
              "#46039f"
             ],
             [
              0.2222222222222222,
              "#7201a8"
             ],
             [
              0.3333333333333333,
              "#9c179e"
             ],
             [
              0.4444444444444444,
              "#bd3786"
             ],
             [
              0.5555555555555556,
              "#d8576b"
             ],
             [
              0.6666666666666666,
              "#ed7953"
             ],
             [
              0.7777777777777778,
              "#fb9f3a"
             ],
             [
              0.8888888888888888,
              "#fdca26"
             ],
             [
              1,
              "#f0f921"
             ]
            ],
            "type": "heatmap"
           }
          ],
          "heatmapgl": [
           {
            "colorbar": {
             "outlinewidth": 0,
             "ticks": ""
            },
            "colorscale": [
             [
              0,
              "#0d0887"
             ],
             [
              0.1111111111111111,
              "#46039f"
             ],
             [
              0.2222222222222222,
              "#7201a8"
             ],
             [
              0.3333333333333333,
              "#9c179e"
             ],
             [
              0.4444444444444444,
              "#bd3786"
             ],
             [
              0.5555555555555556,
              "#d8576b"
             ],
             [
              0.6666666666666666,
              "#ed7953"
             ],
             [
              0.7777777777777778,
              "#fb9f3a"
             ],
             [
              0.8888888888888888,
              "#fdca26"
             ],
             [
              1,
              "#f0f921"
             ]
            ],
            "type": "heatmapgl"
           }
          ],
          "histogram": [
           {
            "marker": {
             "pattern": {
              "fillmode": "overlay",
              "size": 10,
              "solidity": 0.2
             }
            },
            "type": "histogram"
           }
          ],
          "histogram2d": [
           {
            "colorbar": {
             "outlinewidth": 0,
             "ticks": ""
            },
            "colorscale": [
             [
              0,
              "#0d0887"
             ],
             [
              0.1111111111111111,
              "#46039f"
             ],
             [
              0.2222222222222222,
              "#7201a8"
             ],
             [
              0.3333333333333333,
              "#9c179e"
             ],
             [
              0.4444444444444444,
              "#bd3786"
             ],
             [
              0.5555555555555556,
              "#d8576b"
             ],
             [
              0.6666666666666666,
              "#ed7953"
             ],
             [
              0.7777777777777778,
              "#fb9f3a"
             ],
             [
              0.8888888888888888,
              "#fdca26"
             ],
             [
              1,
              "#f0f921"
             ]
            ],
            "type": "histogram2d"
           }
          ],
          "histogram2dcontour": [
           {
            "colorbar": {
             "outlinewidth": 0,
             "ticks": ""
            },
            "colorscale": [
             [
              0,
              "#0d0887"
             ],
             [
              0.1111111111111111,
              "#46039f"
             ],
             [
              0.2222222222222222,
              "#7201a8"
             ],
             [
              0.3333333333333333,
              "#9c179e"
             ],
             [
              0.4444444444444444,
              "#bd3786"
             ],
             [
              0.5555555555555556,
              "#d8576b"
             ],
             [
              0.6666666666666666,
              "#ed7953"
             ],
             [
              0.7777777777777778,
              "#fb9f3a"
             ],
             [
              0.8888888888888888,
              "#fdca26"
             ],
             [
              1,
              "#f0f921"
             ]
            ],
            "type": "histogram2dcontour"
           }
          ],
          "mesh3d": [
           {
            "colorbar": {
             "outlinewidth": 0,
             "ticks": ""
            },
            "type": "mesh3d"
           }
          ],
          "parcoords": [
           {
            "line": {
             "colorbar": {
              "outlinewidth": 0,
              "ticks": ""
             }
            },
            "type": "parcoords"
           }
          ],
          "pie": [
           {
            "automargin": true,
            "type": "pie"
           }
          ],
          "scatter": [
           {
            "fillpattern": {
             "fillmode": "overlay",
             "size": 10,
             "solidity": 0.2
            },
            "type": "scatter"
           }
          ],
          "scatter3d": [
           {
            "line": {
             "colorbar": {
              "outlinewidth": 0,
              "ticks": ""
             }
            },
            "marker": {
             "colorbar": {
              "outlinewidth": 0,
              "ticks": ""
             }
            },
            "type": "scatter3d"
           }
          ],
          "scattercarpet": [
           {
            "marker": {
             "colorbar": {
              "outlinewidth": 0,
              "ticks": ""
             }
            },
            "type": "scattercarpet"
           }
          ],
          "scattergeo": [
           {
            "marker": {
             "colorbar": {
              "outlinewidth": 0,
              "ticks": ""
             }
            },
            "type": "scattergeo"
           }
          ],
          "scattergl": [
           {
            "marker": {
             "colorbar": {
              "outlinewidth": 0,
              "ticks": ""
             }
            },
            "type": "scattergl"
           }
          ],
          "scattermapbox": [
           {
            "marker": {
             "colorbar": {
              "outlinewidth": 0,
              "ticks": ""
             }
            },
            "type": "scattermapbox"
           }
          ],
          "scatterpolar": [
           {
            "marker": {
             "colorbar": {
              "outlinewidth": 0,
              "ticks": ""
             }
            },
            "type": "scatterpolar"
           }
          ],
          "scatterpolargl": [
           {
            "marker": {
             "colorbar": {
              "outlinewidth": 0,
              "ticks": ""
             }
            },
            "type": "scatterpolargl"
           }
          ],
          "scatterternary": [
           {
            "marker": {
             "colorbar": {
              "outlinewidth": 0,
              "ticks": ""
             }
            },
            "type": "scatterternary"
           }
          ],
          "surface": [
           {
            "colorbar": {
             "outlinewidth": 0,
             "ticks": ""
            },
            "colorscale": [
             [
              0,
              "#0d0887"
             ],
             [
              0.1111111111111111,
              "#46039f"
             ],
             [
              0.2222222222222222,
              "#7201a8"
             ],
             [
              0.3333333333333333,
              "#9c179e"
             ],
             [
              0.4444444444444444,
              "#bd3786"
             ],
             [
              0.5555555555555556,
              "#d8576b"
             ],
             [
              0.6666666666666666,
              "#ed7953"
             ],
             [
              0.7777777777777778,
              "#fb9f3a"
             ],
             [
              0.8888888888888888,
              "#fdca26"
             ],
             [
              1,
              "#f0f921"
             ]
            ],
            "type": "surface"
           }
          ],
          "table": [
           {
            "cells": {
             "fill": {
              "color": "#EBF0F8"
             },
             "line": {
              "color": "white"
             }
            },
            "header": {
             "fill": {
              "color": "#C8D4E3"
             },
             "line": {
              "color": "white"
             }
            },
            "type": "table"
           }
          ]
         },
         "layout": {
          "annotationdefaults": {
           "arrowcolor": "#2a3f5f",
           "arrowhead": 0,
           "arrowwidth": 1
          },
          "autotypenumbers": "strict",
          "coloraxis": {
           "colorbar": {
            "outlinewidth": 0,
            "ticks": ""
           }
          },
          "colorscale": {
           "diverging": [
            [
             0,
             "#8e0152"
            ],
            [
             0.1,
             "#c51b7d"
            ],
            [
             0.2,
             "#de77ae"
            ],
            [
             0.3,
             "#f1b6da"
            ],
            [
             0.4,
             "#fde0ef"
            ],
            [
             0.5,
             "#f7f7f7"
            ],
            [
             0.6,
             "#e6f5d0"
            ],
            [
             0.7,
             "#b8e186"
            ],
            [
             0.8,
             "#7fbc41"
            ],
            [
             0.9,
             "#4d9221"
            ],
            [
             1,
             "#276419"
            ]
           ],
           "sequential": [
            [
             0,
             "#0d0887"
            ],
            [
             0.1111111111111111,
             "#46039f"
            ],
            [
             0.2222222222222222,
             "#7201a8"
            ],
            [
             0.3333333333333333,
             "#9c179e"
            ],
            [
             0.4444444444444444,
             "#bd3786"
            ],
            [
             0.5555555555555556,
             "#d8576b"
            ],
            [
             0.6666666666666666,
             "#ed7953"
            ],
            [
             0.7777777777777778,
             "#fb9f3a"
            ],
            [
             0.8888888888888888,
             "#fdca26"
            ],
            [
             1,
             "#f0f921"
            ]
           ],
           "sequentialminus": [
            [
             0,
             "#0d0887"
            ],
            [
             0.1111111111111111,
             "#46039f"
            ],
            [
             0.2222222222222222,
             "#7201a8"
            ],
            [
             0.3333333333333333,
             "#9c179e"
            ],
            [
             0.4444444444444444,
             "#bd3786"
            ],
            [
             0.5555555555555556,
             "#d8576b"
            ],
            [
             0.6666666666666666,
             "#ed7953"
            ],
            [
             0.7777777777777778,
             "#fb9f3a"
            ],
            [
             0.8888888888888888,
             "#fdca26"
            ],
            [
             1,
             "#f0f921"
            ]
           ]
          },
          "colorway": [
           "#636efa",
           "#EF553B",
           "#00cc96",
           "#ab63fa",
           "#FFA15A",
           "#19d3f3",
           "#FF6692",
           "#B6E880",
           "#FF97FF",
           "#FECB52"
          ],
          "font": {
           "color": "#2a3f5f"
          },
          "geo": {
           "bgcolor": "white",
           "lakecolor": "white",
           "landcolor": "#E5ECF6",
           "showlakes": true,
           "showland": true,
           "subunitcolor": "white"
          },
          "hoverlabel": {
           "align": "left"
          },
          "hovermode": "closest",
          "mapbox": {
           "style": "light"
          },
          "paper_bgcolor": "white",
          "plot_bgcolor": "#E5ECF6",
          "polar": {
           "angularaxis": {
            "gridcolor": "white",
            "linecolor": "white",
            "ticks": ""
           },
           "bgcolor": "#E5ECF6",
           "radialaxis": {
            "gridcolor": "white",
            "linecolor": "white",
            "ticks": ""
           }
          },
          "scene": {
           "xaxis": {
            "backgroundcolor": "#E5ECF6",
            "gridcolor": "white",
            "gridwidth": 2,
            "linecolor": "white",
            "showbackground": true,
            "ticks": "",
            "zerolinecolor": "white"
           },
           "yaxis": {
            "backgroundcolor": "#E5ECF6",
            "gridcolor": "white",
            "gridwidth": 2,
            "linecolor": "white",
            "showbackground": true,
            "ticks": "",
            "zerolinecolor": "white"
           },
           "zaxis": {
            "backgroundcolor": "#E5ECF6",
            "gridcolor": "white",
            "gridwidth": 2,
            "linecolor": "white",
            "showbackground": true,
            "ticks": "",
            "zerolinecolor": "white"
           }
          },
          "shapedefaults": {
           "line": {
            "color": "#2a3f5f"
           }
          },
          "ternary": {
           "aaxis": {
            "gridcolor": "white",
            "linecolor": "white",
            "ticks": ""
           },
           "baxis": {
            "gridcolor": "white",
            "linecolor": "white",
            "ticks": ""
           },
           "bgcolor": "#E5ECF6",
           "caxis": {
            "gridcolor": "white",
            "linecolor": "white",
            "ticks": ""
           }
          },
          "title": {
           "x": 0.05
          },
          "xaxis": {
           "automargin": true,
           "gridcolor": "white",
           "linecolor": "white",
           "ticks": "",
           "title": {
            "standoff": 15
           },
           "zerolinecolor": "white",
           "zerolinewidth": 2
          },
          "yaxis": {
           "automargin": true,
           "gridcolor": "white",
           "linecolor": "white",
           "ticks": "",
           "title": {
            "standoff": 15
           },
           "zerolinecolor": "white",
           "zerolinewidth": 2
          }
         }
        },
        "title": {
         "text": "Real vs Predicted Values"
        },
        "xaxis": {
         "title": {
          "text": ""
         }
        },
        "yaxis": {
         "title": {
          "text": "Temerature"
         }
        }
       }
      }
     },
     "metadata": {},
     "output_type": "display_data"
    }
   ],
   "source": [
    "df = pd.DataFrame({'Real': y_test, 'Predicted': y_pred, 'Naive': y_naive})\n",
    "df.sort_values(by='Real', inplace=True)\n",
    "df.reset_index(drop=True, inplace=True)\n",
    "\n",
    "fig = go.Figure()\n",
    "fig.add_trace(go.Scatter(x=df.index, y=df['Real'], mode='lines', name='Real Values'))\n",
    "fig.add_trace(go.Scatter(x=df.index, y=df['Predicted'], mode='lines', name='Predicted Values'))\n",
    "fig.add_trace(go.Scatter(x=df.index, y=df['Naive'], mode='lines', name='Naive'))\n",
    "fig.update_layout(title='Real vs Predicted Values',\n",
    "                   xaxis_title='',\n",
    "                   yaxis_title='Temerature')\n",
    "\n"
   ]
  },
  {
   "cell_type": "code",
   "execution_count": null,
   "metadata": {},
   "outputs": [
    {
     "data": {
      "text/plain": [
       "['NeuralNetworks/models/2024-06-26_13-30-44/encoder.pkl']"
      ]
     },
     "execution_count": 18,
     "metadata": {},
     "output_type": "execute_result"
    }
   ],
   "source": [
    "# save the current date and time in the format YYYY-MM-DD_HH-MM-SS\n",
    "time = str(pd.Timestamp.now().strftime('%Y-%m-%d_%H-%M-%S'))\n",
    "# create a directory to save the model\n",
    "os.makedirs(f'NeuralNetworks/models/{time}', exist_ok=True)\n",
    "fpath_model = f'NeuralNetworks/models/{time}/model.pt'\n",
    "fpath_x_scaler = f'NeuralNetworks/models/{time}/x_scaler.pkl'\n",
    "fpath_y_scaler = f'NeuralNetworks/models/{time}/y_scaler.pkl'\n",
    "fpath_encoder = f'NeuralNetworks/models/{time}/encoder.pkl'\n",
    "\n",
    "# Save the model\n",
    "torch.save(model, fpath_model)\n",
    "\n",
    "# Save the scalers\n",
    "joblib.dump(x_scaler, fpath_x_scaler)\n",
    "joblib.dump(y_scaler, fpath_y_scaler)\n",
    "\n",
    "# Save the encoder\n",
    "joblib.dump(encoder, fpath_encoder)"
   ]
  }
 ],
 "metadata": {
  "kernelspec": {
   "display_name": "base",
   "language": "python",
   "name": "python3"
  },
  "language_info": {
   "codemirror_mode": {
    "name": "ipython",
    "version": 3
   },
   "file_extension": ".py",
   "mimetype": "text/x-python",
   "name": "python",
   "nbconvert_exporter": "python",
   "pygments_lexer": "ipython3",
   "version": "3.9.7"
  }
 },
 "nbformat": 4,
 "nbformat_minor": 2
}
