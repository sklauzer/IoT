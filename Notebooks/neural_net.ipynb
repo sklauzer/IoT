{
 "cells": [
  {
   "cell_type": "code",
   "execution_count": 1,
   "metadata": {},
   "outputs": [],
   "source": [
    "import os\n",
    "import subprocess\n",
    "\n",
    "# Set the working directory to the root of the Git repository\n",
    "current_dir = os.getcwd()\n",
    "git_root = subprocess.check_output([\"git\", \"rev-parse\", \"--show-toplevel\"], cwd=current_dir)\n",
    "git_root = git_root.decode(\"utf-8\").strip()\n",
    "os.chdir(git_root)\n",
    "cwd = os.getcwd()"
   ]
  },
  {
   "cell_type": "code",
   "execution_count": 2,
   "metadata": {},
   "outputs": [
    {
     "name": "stderr",
     "output_type": "stream",
     "text": [
      "/opt/anaconda3/envs/iot/lib/python3.9/site-packages/threadpoolctl.py:1214: RuntimeWarning: \n",
      "Found Intel OpenMP ('libiomp') and LLVM OpenMP ('libomp') loaded at\n",
      "the same time. Both libraries are known to be incompatible and this\n",
      "can cause random crashes or deadlocks on Linux when loaded in the\n",
      "same Python program.\n",
      "Using threadpoolctl may cause crashes or deadlocks. For more\n",
      "information and possible workarounds, please see\n",
      "    https://github.com/joblib/threadpoolctl/blob/master/multiple_openmp.md\n",
      "\n",
      "  warnings.warn(msg, RuntimeWarning)\n"
     ]
    }
   ],
   "source": [
    "import pandas as pd\n",
    "import math\n",
    "from datetime import date\n",
    "import calendar\n",
    "import numpy as np\n",
    "import torch\n",
    "import torch.nn as nn\n",
    "import torch.optim as optim\n",
    "import plotly.graph_objects as go\n",
    "from sklearn.model_selection import train_test_split\n",
    "from sklearn.preprocessing import KBinsDiscretizer\n",
    "from sklearn.preprocessing import MinMaxScaler\n",
    "from sklearn.metrics import mean_squared_error\n",
    "from torch.utils.data import DataLoader, TensorDataset\n",
    "import joblib\n",
    "from sklearn.preprocessing import OneHotEncoder"
   ]
  },
  {
   "cell_type": "markdown",
   "metadata": {},
   "source": [
    "### Read Data"
   ]
  },
  {
   "cell_type": "code",
   "execution_count": 3,
   "metadata": {},
   "outputs": [],
   "source": [
    "df = pd.read_parquet('data/processed/data_building_n.parquet')"
   ]
  },
  {
   "cell_type": "markdown",
   "metadata": {},
   "source": [
    "### Feature Engineering\n",
    "https://towardsdatascience.com/how-to-encode-periodic-time-features-7640d9b21332\n",
    "\n",
    "Credit to group B for this idea!"
   ]
  },
  {
   "cell_type": "code",
   "execution_count": 4,
   "metadata": {},
   "outputs": [],
   "source": [
    "def project_date_to_unit_circle(input_date: date):\n",
    "    year = input_date.year\n",
    "    passed_days = (input_date - date(year, 1, 1)).days + 1\n",
    "    nr_of_days_per_year = 366 if calendar.isleap(year) else 365\n",
    "    position_within_year = passed_days / nr_of_days_per_year\n",
    "    alpha = position_within_year * math.pi * 2\n",
    "    year_circle_x = (math.sin(alpha) + 1) / 2\n",
    "    year_circle_y = (math.cos(alpha) + 1) / 2\n",
    "    return year_circle_x, year_circle_y\n",
    "\n",
    "def project_day_of_week_to_unit_circle(input_day_of_week: int):\n",
    "    alpha = input_day_of_week / 7 * math.pi * 2\n",
    "    day_of_week_circle_x = (math.sin(alpha) + 1) / 2\n",
    "    day_of_week_circle_y = (math.cos(alpha) + 1) / 2\n",
    "    return day_of_week_circle_x, day_of_week_circle_y\n",
    "\n",
    "# Project the date to a unit circle (year)\n",
    "df['date_circle_x'], df['date_circle_y'] = zip(*df['date'].apply(project_date_to_unit_circle))\n",
    "\n",
    "# Project the day_of_week to a unit circle (week)\n",
    "df['day_of_week_circle_x'], df['day_of_week_circle_y'] = zip(*df['day_of_week'].apply(project_day_of_week_to_unit_circle))"
   ]
  },
  {
   "cell_type": "markdown",
   "metadata": {},
   "source": [
    "### One Hot Encoding"
   ]
  },
  {
   "cell_type": "code",
   "execution_count": 5,
   "metadata": {},
   "outputs": [],
   "source": [
    "#----- One hot encoding ----------------------------------\n",
    "encoder = OneHotEncoder(sparse_output=False)\n",
    "encoded_columns = encoder.fit_transform(df[['season', 'floor']])\n",
    "\n",
    "# Neue Spaltennamen für One-Hot-Encoded-Spalten generieren\n",
    "encoded_column_names = encoder.get_feature_names_out(['season', 'floor'])\n",
    "\n",
    "# One-Hot-Encoded-Spalten in den DataFrame einfügen\n",
    "df_encoded = pd.DataFrame(encoded_columns, columns=encoded_column_names, index=df.index)\n",
    "df = pd.concat([df, df_encoded], axis=1).drop(['season', 'floor'], axis=1)"
   ]
  },
  {
   "cell_type": "markdown",
   "metadata": {},
   "source": [
    "### Resampling"
   ]
  },
  {
   "cell_type": "code",
   "execution_count": 6,
   "metadata": {},
   "outputs": [],
   "source": [
    "#----- Resampling ----------------------------------------\n",
    "df = df[[\n",
    "    'date_time','room', 'tmp', 'hum', 'CO2', 'VOC', 'outside_tmp', 'outside_hum', 'outside_rain',\n",
    "    'outside_snowfall', 'outside_wind_speed', 'outside_pressure',\n",
    "    'date_circle_x', 'date_circle_y', 'day_of_week_circle_x',\n",
    "    'day_of_week_circle_y', 'season_autumn', 'season_spring',\n",
    "    'season_summer', 'season_winter', 'floor_0', 'floor_1', 'floor_2',\n",
    "    'floor_3'\n",
    "    ]]\n",
    "\n",
    "df.set_index('date_time', inplace=True)\n",
    "df_daily = df.groupby('room').resample('D').mean().dropna()\n",
    "\n",
    "df_daily.reset_index(inplace=True)\n",
    "df_daily.set_index(['date_time'], inplace=True)\n"
   ]
  },
  {
   "cell_type": "markdown",
   "metadata": {},
   "source": [
    "### Create Input Data"
   ]
  },
  {
   "cell_type": "markdown",
   "metadata": {},
   "source": [
    "We only want data where there are consecutive days of data. We use a rolling window to check if there are n days of data. If there are, we keep the data. If not, we discard the data. We then create a numpy array of sequences of n days of data."
   ]
  },
  {
   "cell_type": "code",
   "execution_count": 7,
   "metadata": {},
   "outputs": [],
   "source": [
    "def create_sequences(data, features, sequence_length):\n",
    "    sequences = []\n",
    "    targets = []\n",
    "    \n",
    "    for room in data['room'].unique():\n",
    "        df_room = data[data['room'] == room].reset_index()\n",
    "        df_room.sort_values('date_time', inplace=True)\n",
    "        for i in range(len(df_room) - sequence_length):\n",
    "            # Prüfe, ob die Tage aufeinanderfolgend sind\n",
    "            if (df_room.loc[i + sequence_length - 1, 'date_time'] - df_room.loc[i, 'date_time']).days == sequence_length - 1:\n",
    "                sequences.append(df_room.loc[i:i+sequence_length-2, features].drop(columns=['room']).values)\n",
    "                targets.append(df_room.loc[i + sequence_length -1, 'tmp'])\n",
    "    \n",
    "    return np.array(sequences), np.array(targets)\n",
    "\n",
    "# e.g. when 7 is selected, 6 days are used to predict the 7th day \n",
    "# (y is the tmp of the 7th day, X are the features of the 6 days before)\n",
    "days_used_to_predict = 7 \n",
    "X, y = create_sequences(df_daily, df_daily.columns, days_used_to_predict)"
   ]
  },
  {
   "cell_type": "markdown",
   "metadata": {},
   "source": [
    "### Train Test Split"
   ]
  },
  {
   "cell_type": "markdown",
   "metadata": {},
   "source": [
    "We split the data into training and testing data with a 80/20 split. Moreover we use KBinsDiscretizer to discretize the target variable to get a more balanced distribution of the target variable."
   ]
  },
  {
   "cell_type": "code",
   "execution_count": 8,
   "metadata": {},
   "outputs": [
    {
     "name": "stdout",
     "output_type": "stream",
     "text": [
      "Train Mean: 22.35377949909938 Train Std Dev: 1.8675394707221238\n",
      "Test Mean: 22.338341034378328 Test Std Dev: 1.866018212817115\n"
     ]
    }
   ],
   "source": [
    "n_bins = 5\n",
    "kbins = KBinsDiscretizer(n_bins=n_bins, encode='ordinal', strategy='uniform')\n",
    "y_binned = kbins.fit_transform(y.reshape(-1, 1)).astype(int).reshape(-1)\n",
    "\n",
    "# Use stratified sampling to split the data into training and test sets with the same distribution of bins\n",
    "X_train, X_test, y_train, y_test = train_test_split(X, y, test_size=0.2, random_state=42, stratify=y_binned)\n",
    "\n",
    "print(\"Train Mean:\", np.mean(y_train), \"Train Std Dev:\", np.std(y_train))\n",
    "print(\"Test Mean:\", np.mean(y_test), \"Test Std Dev:\", np.std(y_test))"
   ]
  },
  {
   "cell_type": "markdown",
   "metadata": {},
   "source": [
    "### Scaling"
   ]
  },
  {
   "cell_type": "markdown",
   "metadata": {},
   "source": [
    "For scaling, we use a MinMaxScaler."
   ]
  },
  {
   "cell_type": "code",
   "execution_count": 9,
   "metadata": {},
   "outputs": [],
   "source": [
    "x_scaler = MinMaxScaler()\n",
    "\n",
    "# Forme die Daten um, damit sie vom Scaler verarbeitet werden können\n",
    "n_samples, n_timesteps, n_features = X_train.shape\n",
    "X_train_reshaped = X_train.reshape(-1, n_features)\n",
    "X_test_reshaped = X_test.reshape(-1, n_features)\n",
    "\n",
    "# Skalierung basierend auf dem Trainingsdatensatz\n",
    "x_scaler.fit(X_train_reshaped)\n",
    "\n",
    "# Wende die Skalierung auf Trainings- und Testdatensatz an\n",
    "X_train_scaled = x_scaler.transform(X_train_reshaped).reshape(n_samples, n_timesteps, n_features)\n",
    "X_test_scaled = x_scaler.transform(X_test_reshaped).reshape(X_test.shape[0], n_timesteps, n_features)\n",
    "\n",
    "# Optional: Skalierung der Zielwerte (falls erforderlich)\n",
    "y_scaler = MinMaxScaler()\n",
    "y_train_scaled = y_scaler.fit_transform(y_train.reshape(-1, 1)).reshape(-1)\n",
    "y_test_scaled = y_scaler.transform(y_test.reshape(-1, 1)).reshape(-1)"
   ]
  },
  {
   "cell_type": "code",
   "execution_count": 10,
   "metadata": {},
   "outputs": [],
   "source": [
    "device = torch.device(\"mps\") if torch.backends.mps.is_available() else torch.device(\"cpu\")\n",
    "\n",
    "# Convert data to float32\n",
    "X_train_scaled = X_train_scaled.astype(np.float32)\n",
    "X_test_scaled = X_test_scaled.astype(np.float32)\n",
    "y_train_scaled = y_train_scaled.astype(np.float32)\n",
    "y_test_scaled = y_test_scaled.astype(np.float32)\n",
    "\n",
    "# Convert numpy arrays to tensors\n",
    "X_train_scaled_tensor = torch.tensor(X_train_scaled, dtype=torch.float32).to(device)\n",
    "X_test_scaled_tensor = torch.tensor(X_test_scaled, dtype=torch.float32).to(device)\n",
    "y_train_scaled_tensor = torch.tensor(y_train_scaled, dtype=torch.float32).to(device)\n",
    "y_test_scaled_tensor = torch.tensor(y_test_scaled, dtype=torch.float32).to(device)"
   ]
  },
  {
   "cell_type": "code",
   "execution_count": 11,
   "metadata": {},
   "outputs": [],
   "source": [
    "batch_size = 32\n",
    "\n",
    "# Create TensorDataset and DataLoader\n",
    "train_dataset = TensorDataset(X_train_scaled_tensor, y_train_scaled_tensor)\n",
    "test_dataset = TensorDataset(X_test_scaled_tensor, y_test_scaled_tensor)\n",
    "\n",
    "train_loader = DataLoader(train_dataset, batch_size=batch_size, shuffle=True)\n",
    "test_loader = DataLoader(test_dataset, batch_size=batch_size, shuffle=False)\n",
    "\n",
    "# Define simple neural network\n",
    "class SimpleLSTM(nn.Module):\n",
    "    def __init__(self, input_size, hidden_size, output_size, num_layers=1, dropout_rate=0.2):\n",
    "        super(SimpleLSTM, self).__init__()\n",
    "        self.lstm = nn.LSTM(input_size, hidden_size, num_layers, batch_first=True, dropout=dropout_rate)\n",
    "        self.fc = nn.Linear(hidden_size, output_size)\n",
    "    \n",
    "    def forward(self, x):\n",
    "        h0 = torch.zeros(self.lstm.num_layers, x.size(0), self.lstm.hidden_size).to(x.device)\n",
    "        c0 = torch.zeros(self.lstm.num_layers, x.size(0), self.lstm.hidden_size).to(x.device)\n",
    "        out, _ = self.lstm(x, (h0, c0))\n",
    "        out = out[:, -1, :]\n",
    "        out = self.fc(out)\n",
    "        return out"
   ]
  },
  {
   "cell_type": "code",
   "execution_count": 12,
   "metadata": {},
   "outputs": [
    {
     "name": "stderr",
     "output_type": "stream",
     "text": [
      "/opt/anaconda3/envs/iot/lib/python3.9/site-packages/torch/nn/modules/rnn.py:83: UserWarning: dropout option adds dropout after all but last recurrent layer, so non-zero dropout expects num_layers greater than 1, but got dropout=0.2 and num_layers=1\n",
      "  warnings.warn(\"dropout option adds dropout after all but last \"\n"
     ]
    },
    {
     "name": "stdout",
     "output_type": "stream",
     "text": [
      "Epoch [10/50], Train Loss: 0.0014, Test Loss: 0.0013\n",
      "Epoch [20/50], Train Loss: 0.0011, Test Loss: 0.0011\n",
      "Epoch [30/50], Train Loss: 0.0009, Test Loss: 0.0009\n",
      "Epoch [40/50], Train Loss: 0.0008, Test Loss: 0.0009\n",
      "Epoch [50/50], Train Loss: 0.0007, Test Loss: 0.0008\n"
     ]
    }
   ],
   "source": [
    "# Modellinstanziierung\n",
    "input_size = X_train_scaled.shape[2]\n",
    "hidden_size = 50\n",
    "output_size = 1\n",
    "num_layers = 1\n",
    "dropout_rate = 0.2\n",
    "\n",
    "model = SimpleLSTM(input_size, hidden_size, output_size, num_layers, dropout_rate).to(device)\n",
    "\n",
    "# Loss und Optimizer definieren\n",
    "criterion = nn.MSELoss()\n",
    "optimizer = optim.Adam(model.parameters(), lr=0.001)\n",
    "\n",
    "# Listen zur Speicherung der Verluste\n",
    "train_losses = []\n",
    "test_losses = []\n",
    "\n",
    "# Training des Modells\n",
    "num_epochs = 50\n",
    "for epoch in range(num_epochs):\n",
    "    model.train()\n",
    "    epoch_loss = 0.0\n",
    "    for batch_x, batch_y in train_loader:\n",
    "        batch_x, batch_y = batch_x.to(device), batch_y.to(device)\n",
    "        \n",
    "        # Forward pass\n",
    "        outputs = model(batch_x)\n",
    "        loss = criterion(outputs.squeeze(), batch_y)\n",
    "        \n",
    "        # Backward pass und Optimierung\n",
    "        optimizer.zero_grad()\n",
    "        loss.backward()\n",
    "        optimizer.step()\n",
    "        \n",
    "        epoch_loss += loss.item()\n",
    "    \n",
    "    avg_train_loss = epoch_loss / len(train_loader)\n",
    "    train_losses.append(avg_train_loss)\n",
    "    \n",
    "    # Testverlust berechnen\n",
    "    model.eval()\n",
    "    test_loss = 0.0\n",
    "    with torch.no_grad():\n",
    "        for batch_x, batch_y in test_loader:\n",
    "            batch_x, batch_y = batch_x.to(device), batch_y.to(device)\n",
    "            outputs = model(batch_x)\n",
    "            loss = criterion(outputs.squeeze(), batch_y)\n",
    "            test_loss += loss.item()\n",
    "    avg_test_loss = test_loss / len(test_loader)\n",
    "    test_losses.append(avg_test_loss)\n",
    "    \n",
    "    if (epoch + 1) % 10 == 0:\n",
    "        print(f'Epoch [{epoch + 1}/{num_epochs}], Train Loss: {avg_train_loss:.4f}, Test Loss: {avg_test_loss:.4f}')"
   ]
  },
  {
   "cell_type": "markdown",
   "metadata": {},
   "source": [
    "# Evaluation"
   ]
  },
  {
   "cell_type": "code",
   "execution_count": 13,
   "metadata": {},
   "outputs": [
    {
     "data": {
      "application/vnd.plotly.v1+json": {
       "config": {
        "plotlyServerURL": "https://plot.ly"
       },
       "data": [
        {
         "mode": "lines",
         "name": "Train Loss",
         "type": "scatter",
         "x": [
          1,
          2,
          3,
          4,
          5,
          6,
          7,
          8,
          9,
          10,
          11,
          12,
          13,
          14,
          15,
          16,
          17,
          18,
          19,
          20,
          21,
          22,
          23,
          24,
          25,
          26,
          27,
          28,
          29,
          30,
          31,
          32,
          33,
          34,
          35,
          36,
          37,
          38,
          39,
          40,
          41,
          42,
          43,
          44,
          45,
          46,
          47,
          48,
          49,
          50
         ],
         "y": [
          0.022759796680920586,
          0.005908108449407986,
          0.004242016114199496,
          0.003239470914158286,
          0.002172997285497888,
          0.0018925039045398636,
          0.0016341405096273794,
          0.0015838226773871146,
          0.0015572602373585865,
          0.0014065098936897607,
          0.001346686574017477,
          0.001347433111026921,
          0.0012733632644011202,
          0.0013810298364010773,
          0.0012004775914591641,
          0.0011532577954479779,
          0.0011531830449322505,
          0.0010984965596509604,
          0.0011126096532632578,
          0.0010551593340078027,
          0.001067013464326381,
          0.001039746357009233,
          0.0010375458377708054,
          0.0010090420291074837,
          0.001046417768075302,
          0.0009844757673539678,
          0.0010418984605408065,
          0.0011270405072481276,
          0.0011283496688167583,
          0.0009248272975555107,
          0.0009780726621250566,
          0.001073342940427971,
          0.0009165228491801084,
          0.0009013985376329903,
          0.0009474840997575725,
          0.0008768517861370834,
          0.0008179495617158103,
          0.0008298014813311854,
          0.0008392168181634755,
          0.0008056035630015315,
          0.0008635394957049616,
          0.0008147134034590302,
          0.0008323487047015747,
          0.0007624885231275492,
          0.0007660973048531356,
          0.000792426645176067,
          0.000767593008907968,
          0.0007899637777733674,
          0.0007846833103364903,
          0.0007288196517335137
         ]
        },
        {
         "mode": "lines",
         "name": "Test Loss",
         "type": "scatter",
         "x": [
          1,
          2,
          3,
          4,
          5,
          6,
          7,
          8,
          9,
          10,
          11,
          12,
          13,
          14,
          15,
          16,
          17,
          18,
          19,
          20,
          21,
          22,
          23,
          24,
          25,
          26,
          27,
          28,
          29,
          30,
          31,
          32,
          33,
          34,
          35,
          36,
          37,
          38,
          39,
          40,
          41,
          42,
          43,
          44,
          45,
          46,
          47,
          48,
          49,
          50
         ],
         "y": [
          0.006455669179558754,
          0.004646038761935555,
          0.003731112604817519,
          0.0025599836371839046,
          0.0018763561159945452,
          0.0018668257488081087,
          0.00132484133176219,
          0.001631581023013076,
          0.001249270818124597,
          0.0012672069312359851,
          0.001329311120431297,
          0.0011397596188964178,
          0.0012869774095284252,
          0.0011277507605532615,
          0.0011440165958797128,
          0.001151999279570121,
          0.001080307863258685,
          0.0010454132570885122,
          0.0010368883242615713,
          0.0011111790887438334,
          0.0010356490831607236,
          0.0010298524284735322,
          0.0011637227188867445,
          0.0009493990353523538,
          0.001144764837450706,
          0.0012375791557133198,
          0.0009839964108183407,
          0.0015505504472037922,
          0.0008990977702733988,
          0.0008978525158734276,
          0.001263912794036934,
          0.0012568270187610043,
          0.000880507944832341,
          0.0008892907935660332,
          0.001082483531298259,
          0.001076114408743496,
          0.0008753156401396084,
          0.0008659161663112732,
          0.0008443860614743943,
          0.0008730105249784314,
          0.0011351884683020986,
          0.0008983952127611981,
          0.0010821545102561896,
          0.0008647663388938571,
          0.0007870796611174368,
          0.0008299229487490195,
          0.0008473216305271938,
          0.0007786020287312567,
          0.0008611773731760108,
          0.0008004030387382954
         ]
        }
       ],
       "layout": {
        "template": {
         "data": {
          "bar": [
           {
            "error_x": {
             "color": "#2a3f5f"
            },
            "error_y": {
             "color": "#2a3f5f"
            },
            "marker": {
             "line": {
              "color": "#E5ECF6",
              "width": 0.5
             },
             "pattern": {
              "fillmode": "overlay",
              "size": 10,
              "solidity": 0.2
             }
            },
            "type": "bar"
           }
          ],
          "barpolar": [
           {
            "marker": {
             "line": {
              "color": "#E5ECF6",
              "width": 0.5
             },
             "pattern": {
              "fillmode": "overlay",
              "size": 10,
              "solidity": 0.2
             }
            },
            "type": "barpolar"
           }
          ],
          "carpet": [
           {
            "aaxis": {
             "endlinecolor": "#2a3f5f",
             "gridcolor": "white",
             "linecolor": "white",
             "minorgridcolor": "white",
             "startlinecolor": "#2a3f5f"
            },
            "baxis": {
             "endlinecolor": "#2a3f5f",
             "gridcolor": "white",
             "linecolor": "white",
             "minorgridcolor": "white",
             "startlinecolor": "#2a3f5f"
            },
            "type": "carpet"
           }
          ],
          "choropleth": [
           {
            "colorbar": {
             "outlinewidth": 0,
             "ticks": ""
            },
            "type": "choropleth"
           }
          ],
          "contour": [
           {
            "colorbar": {
             "outlinewidth": 0,
             "ticks": ""
            },
            "colorscale": [
             [
              0,
              "#0d0887"
             ],
             [
              0.1111111111111111,
              "#46039f"
             ],
             [
              0.2222222222222222,
              "#7201a8"
             ],
             [
              0.3333333333333333,
              "#9c179e"
             ],
             [
              0.4444444444444444,
              "#bd3786"
             ],
             [
              0.5555555555555556,
              "#d8576b"
             ],
             [
              0.6666666666666666,
              "#ed7953"
             ],
             [
              0.7777777777777778,
              "#fb9f3a"
             ],
             [
              0.8888888888888888,
              "#fdca26"
             ],
             [
              1,
              "#f0f921"
             ]
            ],
            "type": "contour"
           }
          ],
          "contourcarpet": [
           {
            "colorbar": {
             "outlinewidth": 0,
             "ticks": ""
            },
            "type": "contourcarpet"
           }
          ],
          "heatmap": [
           {
            "colorbar": {
             "outlinewidth": 0,
             "ticks": ""
            },
            "colorscale": [
             [
              0,
              "#0d0887"
             ],
             [
              0.1111111111111111,
              "#46039f"
             ],
             [
              0.2222222222222222,
              "#7201a8"
             ],
             [
              0.3333333333333333,
              "#9c179e"
             ],
             [
              0.4444444444444444,
              "#bd3786"
             ],
             [
              0.5555555555555556,
              "#d8576b"
             ],
             [
              0.6666666666666666,
              "#ed7953"
             ],
             [
              0.7777777777777778,
              "#fb9f3a"
             ],
             [
              0.8888888888888888,
              "#fdca26"
             ],
             [
              1,
              "#f0f921"
             ]
            ],
            "type": "heatmap"
           }
          ],
          "heatmapgl": [
           {
            "colorbar": {
             "outlinewidth": 0,
             "ticks": ""
            },
            "colorscale": [
             [
              0,
              "#0d0887"
             ],
             [
              0.1111111111111111,
              "#46039f"
             ],
             [
              0.2222222222222222,
              "#7201a8"
             ],
             [
              0.3333333333333333,
              "#9c179e"
             ],
             [
              0.4444444444444444,
              "#bd3786"
             ],
             [
              0.5555555555555556,
              "#d8576b"
             ],
             [
              0.6666666666666666,
              "#ed7953"
             ],
             [
              0.7777777777777778,
              "#fb9f3a"
             ],
             [
              0.8888888888888888,
              "#fdca26"
             ],
             [
              1,
              "#f0f921"
             ]
            ],
            "type": "heatmapgl"
           }
          ],
          "histogram": [
           {
            "marker": {
             "pattern": {
              "fillmode": "overlay",
              "size": 10,
              "solidity": 0.2
             }
            },
            "type": "histogram"
           }
          ],
          "histogram2d": [
           {
            "colorbar": {
             "outlinewidth": 0,
             "ticks": ""
            },
            "colorscale": [
             [
              0,
              "#0d0887"
             ],
             [
              0.1111111111111111,
              "#46039f"
             ],
             [
              0.2222222222222222,
              "#7201a8"
             ],
             [
              0.3333333333333333,
              "#9c179e"
             ],
             [
              0.4444444444444444,
              "#bd3786"
             ],
             [
              0.5555555555555556,
              "#d8576b"
             ],
             [
              0.6666666666666666,
              "#ed7953"
             ],
             [
              0.7777777777777778,
              "#fb9f3a"
             ],
             [
              0.8888888888888888,
              "#fdca26"
             ],
             [
              1,
              "#f0f921"
             ]
            ],
            "type": "histogram2d"
           }
          ],
          "histogram2dcontour": [
           {
            "colorbar": {
             "outlinewidth": 0,
             "ticks": ""
            },
            "colorscale": [
             [
              0,
              "#0d0887"
             ],
             [
              0.1111111111111111,
              "#46039f"
             ],
             [
              0.2222222222222222,
              "#7201a8"
             ],
             [
              0.3333333333333333,
              "#9c179e"
             ],
             [
              0.4444444444444444,
              "#bd3786"
             ],
             [
              0.5555555555555556,
              "#d8576b"
             ],
             [
              0.6666666666666666,
              "#ed7953"
             ],
             [
              0.7777777777777778,
              "#fb9f3a"
             ],
             [
              0.8888888888888888,
              "#fdca26"
             ],
             [
              1,
              "#f0f921"
             ]
            ],
            "type": "histogram2dcontour"
           }
          ],
          "mesh3d": [
           {
            "colorbar": {
             "outlinewidth": 0,
             "ticks": ""
            },
            "type": "mesh3d"
           }
          ],
          "parcoords": [
           {
            "line": {
             "colorbar": {
              "outlinewidth": 0,
              "ticks": ""
             }
            },
            "type": "parcoords"
           }
          ],
          "pie": [
           {
            "automargin": true,
            "type": "pie"
           }
          ],
          "scatter": [
           {
            "fillpattern": {
             "fillmode": "overlay",
             "size": 10,
             "solidity": 0.2
            },
            "type": "scatter"
           }
          ],
          "scatter3d": [
           {
            "line": {
             "colorbar": {
              "outlinewidth": 0,
              "ticks": ""
             }
            },
            "marker": {
             "colorbar": {
              "outlinewidth": 0,
              "ticks": ""
             }
            },
            "type": "scatter3d"
           }
          ],
          "scattercarpet": [
           {
            "marker": {
             "colorbar": {
              "outlinewidth": 0,
              "ticks": ""
             }
            },
            "type": "scattercarpet"
           }
          ],
          "scattergeo": [
           {
            "marker": {
             "colorbar": {
              "outlinewidth": 0,
              "ticks": ""
             }
            },
            "type": "scattergeo"
           }
          ],
          "scattergl": [
           {
            "marker": {
             "colorbar": {
              "outlinewidth": 0,
              "ticks": ""
             }
            },
            "type": "scattergl"
           }
          ],
          "scattermapbox": [
           {
            "marker": {
             "colorbar": {
              "outlinewidth": 0,
              "ticks": ""
             }
            },
            "type": "scattermapbox"
           }
          ],
          "scatterpolar": [
           {
            "marker": {
             "colorbar": {
              "outlinewidth": 0,
              "ticks": ""
             }
            },
            "type": "scatterpolar"
           }
          ],
          "scatterpolargl": [
           {
            "marker": {
             "colorbar": {
              "outlinewidth": 0,
              "ticks": ""
             }
            },
            "type": "scatterpolargl"
           }
          ],
          "scatterternary": [
           {
            "marker": {
             "colorbar": {
              "outlinewidth": 0,
              "ticks": ""
             }
            },
            "type": "scatterternary"
           }
          ],
          "surface": [
           {
            "colorbar": {
             "outlinewidth": 0,
             "ticks": ""
            },
            "colorscale": [
             [
              0,
              "#0d0887"
             ],
             [
              0.1111111111111111,
              "#46039f"
             ],
             [
              0.2222222222222222,
              "#7201a8"
             ],
             [
              0.3333333333333333,
              "#9c179e"
             ],
             [
              0.4444444444444444,
              "#bd3786"
             ],
             [
              0.5555555555555556,
              "#d8576b"
             ],
             [
              0.6666666666666666,
              "#ed7953"
             ],
             [
              0.7777777777777778,
              "#fb9f3a"
             ],
             [
              0.8888888888888888,
              "#fdca26"
             ],
             [
              1,
              "#f0f921"
             ]
            ],
            "type": "surface"
           }
          ],
          "table": [
           {
            "cells": {
             "fill": {
              "color": "#EBF0F8"
             },
             "line": {
              "color": "white"
             }
            },
            "header": {
             "fill": {
              "color": "#C8D4E3"
             },
             "line": {
              "color": "white"
             }
            },
            "type": "table"
           }
          ]
         },
         "layout": {
          "annotationdefaults": {
           "arrowcolor": "#2a3f5f",
           "arrowhead": 0,
           "arrowwidth": 1
          },
          "autotypenumbers": "strict",
          "coloraxis": {
           "colorbar": {
            "outlinewidth": 0,
            "ticks": ""
           }
          },
          "colorscale": {
           "diverging": [
            [
             0,
             "#8e0152"
            ],
            [
             0.1,
             "#c51b7d"
            ],
            [
             0.2,
             "#de77ae"
            ],
            [
             0.3,
             "#f1b6da"
            ],
            [
             0.4,
             "#fde0ef"
            ],
            [
             0.5,
             "#f7f7f7"
            ],
            [
             0.6,
             "#e6f5d0"
            ],
            [
             0.7,
             "#b8e186"
            ],
            [
             0.8,
             "#7fbc41"
            ],
            [
             0.9,
             "#4d9221"
            ],
            [
             1,
             "#276419"
            ]
           ],
           "sequential": [
            [
             0,
             "#0d0887"
            ],
            [
             0.1111111111111111,
             "#46039f"
            ],
            [
             0.2222222222222222,
             "#7201a8"
            ],
            [
             0.3333333333333333,
             "#9c179e"
            ],
            [
             0.4444444444444444,
             "#bd3786"
            ],
            [
             0.5555555555555556,
             "#d8576b"
            ],
            [
             0.6666666666666666,
             "#ed7953"
            ],
            [
             0.7777777777777778,
             "#fb9f3a"
            ],
            [
             0.8888888888888888,
             "#fdca26"
            ],
            [
             1,
             "#f0f921"
            ]
           ],
           "sequentialminus": [
            [
             0,
             "#0d0887"
            ],
            [
             0.1111111111111111,
             "#46039f"
            ],
            [
             0.2222222222222222,
             "#7201a8"
            ],
            [
             0.3333333333333333,
             "#9c179e"
            ],
            [
             0.4444444444444444,
             "#bd3786"
            ],
            [
             0.5555555555555556,
             "#d8576b"
            ],
            [
             0.6666666666666666,
             "#ed7953"
            ],
            [
             0.7777777777777778,
             "#fb9f3a"
            ],
            [
             0.8888888888888888,
             "#fdca26"
            ],
            [
             1,
             "#f0f921"
            ]
           ]
          },
          "colorway": [
           "#636efa",
           "#EF553B",
           "#00cc96",
           "#ab63fa",
           "#FFA15A",
           "#19d3f3",
           "#FF6692",
           "#B6E880",
           "#FF97FF",
           "#FECB52"
          ],
          "font": {
           "color": "#2a3f5f"
          },
          "geo": {
           "bgcolor": "white",
           "lakecolor": "white",
           "landcolor": "#E5ECF6",
           "showlakes": true,
           "showland": true,
           "subunitcolor": "white"
          },
          "hoverlabel": {
           "align": "left"
          },
          "hovermode": "closest",
          "mapbox": {
           "style": "light"
          },
          "paper_bgcolor": "white",
          "plot_bgcolor": "#E5ECF6",
          "polar": {
           "angularaxis": {
            "gridcolor": "white",
            "linecolor": "white",
            "ticks": ""
           },
           "bgcolor": "#E5ECF6",
           "radialaxis": {
            "gridcolor": "white",
            "linecolor": "white",
            "ticks": ""
           }
          },
          "scene": {
           "xaxis": {
            "backgroundcolor": "#E5ECF6",
            "gridcolor": "white",
            "gridwidth": 2,
            "linecolor": "white",
            "showbackground": true,
            "ticks": "",
            "zerolinecolor": "white"
           },
           "yaxis": {
            "backgroundcolor": "#E5ECF6",
            "gridcolor": "white",
            "gridwidth": 2,
            "linecolor": "white",
            "showbackground": true,
            "ticks": "",
            "zerolinecolor": "white"
           },
           "zaxis": {
            "backgroundcolor": "#E5ECF6",
            "gridcolor": "white",
            "gridwidth": 2,
            "linecolor": "white",
            "showbackground": true,
            "ticks": "",
            "zerolinecolor": "white"
           }
          },
          "shapedefaults": {
           "line": {
            "color": "#2a3f5f"
           }
          },
          "ternary": {
           "aaxis": {
            "gridcolor": "white",
            "linecolor": "white",
            "ticks": ""
           },
           "baxis": {
            "gridcolor": "white",
            "linecolor": "white",
            "ticks": ""
           },
           "bgcolor": "#E5ECF6",
           "caxis": {
            "gridcolor": "white",
            "linecolor": "white",
            "ticks": ""
           }
          },
          "title": {
           "x": 0.05
          },
          "xaxis": {
           "automargin": true,
           "gridcolor": "white",
           "linecolor": "white",
           "ticks": "",
           "title": {
            "standoff": 15
           },
           "zerolinecolor": "white",
           "zerolinewidth": 2
          },
          "yaxis": {
           "automargin": true,
           "gridcolor": "white",
           "linecolor": "white",
           "ticks": "",
           "title": {
            "standoff": 15
           },
           "zerolinecolor": "white",
           "zerolinewidth": 2
          }
         }
        },
        "title": {
         "text": "Train and Test Loss over Epochs"
        },
        "xaxis": {
         "title": {
          "text": "Epoch"
         }
        },
        "yaxis": {
         "title": {
          "text": "Loss"
         }
        }
       }
      }
     },
     "metadata": {},
     "output_type": "display_data"
    }
   ],
   "source": [
    "# Plotten der Verluste\n",
    "epochs = list(range(1, num_epochs + 1))\n",
    "fig = go.Figure()\n",
    "fig.add_trace(go.Scatter(x=epochs, y=train_losses, mode='lines', name='Train Loss'))\n",
    "fig.add_trace(go.Scatter(x=epochs, y=test_losses, mode='lines', name='Test Loss'))\n",
    "fig.update_layout(title='Train and Test Loss over Epochs',\n",
    "                   xaxis_title='Epoch',\n",
    "                   yaxis_title='Loss')\n",
    "fig.show()"
   ]
  },
  {
   "cell_type": "code",
   "execution_count": 17,
   "metadata": {},
   "outputs": [],
   "source": [
    "\n",
    "# Rücktransformation der skalierten Vorhersagen und realen Werte (falls erforderlich)\n",
    "all_predictions = []\n",
    "model.eval()\n",
    "with torch.no_grad():\n",
    "    for batch_x, batch_y in test_loader:\n",
    "        batch_x, batch_y = batch_x.to(device), batch_y.to(device)\n",
    "        outputs = model(batch_x)\n",
    "        all_predictions.append(outputs.cpu().numpy())\n",
    "\n",
    "all_predictions = np.concatenate(all_predictions, axis=0)\n",
    "\n",
    "y_pred = y_scaler.inverse_transform(all_predictions.reshape(-1, 1)).flatten()\n",
    "y_test_real = y_scaler.inverse_transform(y_test_scaled.reshape(-1, 1)).flatten()"
   ]
  },
  {
   "cell_type": "markdown",
   "metadata": {},
   "source": [
    "### Naive Approach\n",
    "To get a baseline model, we will use a naive approach.\n",
    "We will use the mean of the last 7 days as the prediction for the next day."
   ]
  },
  {
   "cell_type": "code",
   "execution_count": 18,
   "metadata": {},
   "outputs": [
    {
     "name": "stdout",
     "output_type": "stream",
     "text": [
      "Mean Squared Error using the mean of the 6 days before: 0.25\n"
     ]
    }
   ],
   "source": [
    "y_naive = []\n",
    "for sequence in X_test:\n",
    "    y_naive.append(sequence[:, 0].mean())\n",
    "\n",
    "mse_naive = mean_squared_error(y_test, y_naive)\n",
    "print(f'Mean Squared Error using the mean of the 6 days before: {mse_naive:.2f}')"
   ]
  },
  {
   "cell_type": "code",
   "execution_count": 19,
   "metadata": {},
   "outputs": [
    {
     "name": "stdout",
     "output_type": "stream",
     "text": [
      "Mean Squared Error: 0.11\n"
     ]
    }
   ],
   "source": [
    "model.eval()\n",
    "with torch.no_grad():\n",
    "    X_test_tensor_flattened = X_test_scaled_tensor.view(X_test_scaled_tensor.size(0), -1)\n",
    "    y_pred_scaled = model(X_test_scaled_tensor).squeeze().cpu().numpy()\n",
    "\n",
    "# Rücktransformation der skalierten Vorhersagen\n",
    "y_pred = y_scaler.inverse_transform(y_pred_scaled.reshape(-1, 1)).flatten()\n",
    "y_test = y_scaler.inverse_transform(y_test_scaled.reshape(-1, 1)).flatten()\n",
    "\n",
    "# mse berechnen mit scikit-learn\n",
    "from sklearn.metrics import mean_squared_error\n",
    "\n",
    "mse = mean_squared_error(y_test, y_pred)\n",
    "print(f'Mean Squared Error: {mse:.2f}')\n"
   ]
  },
  {
   "cell_type": "code",
   "execution_count": 20,
   "metadata": {},
   "outputs": [
    {
     "data": {
      "application/vnd.plotly.v1+json": {
       "config": {
        "plotlyServerURL": "https://plot.ly"
       },
       "data": [
        {
         "mode": "lines",
         "name": "Real Values",
         "type": "scatter",
         "x": [
          0,
          1,
          2,
          3,
          4,
          5,
          6,
          7,
          8,
          9,
          10,
          11,
          12,
          13,
          14,
          15,
          16,
          17,
          18,
          19,
          20,
          21,
          22,
          23,
          24,
          25,
          26,
          27,
          28,
          29,
          30,
          31,
          32,
          33,
          34,
          35,
          36,
          37,
          38,
          39,
          40,
          41,
          42,
          43,
          44,
          45,
          46,
          47,
          48,
          49,
          50,
          51,
          52,
          53,
          54,
          55,
          56,
          57,
          58,
          59,
          60,
          61,
          62,
          63,
          64,
          65,
          66,
          67,
          68,
          69,
          70,
          71,
          72,
          73,
          74,
          75,
          76,
          77,
          78,
          79,
          80,
          81,
          82,
          83,
          84,
          85,
          86,
          87,
          88,
          89,
          90,
          91,
          92,
          93,
          94,
          95,
          96,
          97,
          98,
          99,
          100,
          101,
          102,
          103,
          104,
          105,
          106,
          107,
          108,
          109,
          110,
          111,
          112,
          113,
          114,
          115,
          116,
          117,
          118,
          119,
          120,
          121,
          122,
          123,
          124,
          125,
          126,
          127,
          128,
          129,
          130,
          131,
          132,
          133,
          134,
          135,
          136,
          137,
          138,
          139,
          140,
          141,
          142,
          143,
          144,
          145,
          146,
          147,
          148,
          149,
          150,
          151,
          152,
          153,
          154,
          155,
          156,
          157,
          158,
          159,
          160,
          161,
          162,
          163,
          164,
          165,
          166,
          167,
          168,
          169,
          170,
          171,
          172,
          173,
          174,
          175,
          176,
          177,
          178,
          179,
          180,
          181,
          182,
          183,
          184,
          185,
          186,
          187,
          188,
          189,
          190,
          191,
          192,
          193,
          194,
          195,
          196,
          197,
          198,
          199,
          200,
          201,
          202,
          203,
          204,
          205,
          206,
          207,
          208,
          209,
          210,
          211,
          212,
          213,
          214,
          215,
          216,
          217,
          218,
          219,
          220,
          221,
          222,
          223,
          224,
          225,
          226,
          227,
          228,
          229,
          230,
          231,
          232,
          233,
          234,
          235,
          236,
          237,
          238,
          239,
          240,
          241,
          242,
          243,
          244,
          245,
          246,
          247,
          248,
          249,
          250,
          251,
          252,
          253,
          254,
          255,
          256,
          257,
          258,
          259,
          260,
          261,
          262,
          263,
          264,
          265,
          266,
          267,
          268,
          269,
          270,
          271,
          272,
          273,
          274,
          275,
          276,
          277,
          278,
          279,
          280,
          281,
          282,
          283,
          284,
          285,
          286,
          287,
          288,
          289,
          290,
          291,
          292,
          293,
          294,
          295,
          296,
          297,
          298,
          299,
          300,
          301,
          302,
          303,
          304,
          305,
          306,
          307,
          308,
          309,
          310,
          311,
          312,
          313,
          314,
          315,
          316,
          317,
          318,
          319,
          320,
          321,
          322,
          323,
          324,
          325,
          326,
          327,
          328,
          329,
          330,
          331,
          332,
          333,
          334,
          335,
          336,
          337,
          338,
          339,
          340,
          341,
          342,
          343,
          344,
          345,
          346,
          347,
          348,
          349,
          350,
          351,
          352,
          353,
          354,
          355,
          356,
          357,
          358,
          359,
          360,
          361,
          362,
          363,
          364,
          365,
          366,
          367,
          368,
          369,
          370,
          371,
          372,
          373,
          374,
          375,
          376,
          377,
          378,
          379,
          380,
          381,
          382,
          383,
          384,
          385,
          386,
          387,
          388,
          389,
          390
         ],
         "y": [
          19.041290283203125,
          19.081844329833984,
          19.122499465942383,
          19.262126922607422,
          19.282127380371094,
          19.34290313720703,
          19.357221603393555,
          19.437292098999023,
          19.44854164123535,
          19.496923446655273,
          19.497209548950195,
          19.51799964904785,
          19.59576988220215,
          19.610105514526367,
          19.61772346496582,
          19.66499900817871,
          19.68242835998535,
          19.70034408569336,
          19.70151138305664,
          19.721458435058594,
          19.755849838256836,
          19.802947998046875,
          19.863157272338867,
          19.92633819580078,
          19.9521427154541,
          19.994943618774414,
          20.01231575012207,
          20.014999389648438,
          20.032209396362305,
          20.046667098999023,
          20.05500030517578,
          20.055112838745117,
          20.099740982055664,
          20.11134147644043,
          20.123125076293945,
          20.158700942993164,
          20.1845703125,
          20.222736358642578,
          20.231201171875,
          20.23457145690918,
          20.246736526489258,
          20.246807098388672,
          20.257999420166016,
          20.25933265686035,
          20.263404846191406,
          20.2663631439209,
          20.267311096191406,
          20.271289825439453,
          20.271947860717773,
          20.27405548095703,
          20.27644157409668,
          20.282840728759766,
          20.282926559448242,
          20.28302001953125,
          20.293474197387695,
          20.300289154052734,
          20.331666946411133,
          20.33452606201172,
          20.340208053588867,
          20.35173988342285,
          20.360445022583008,
          20.36463165283203,
          20.36663246154785,
          20.37700080871582,
          20.38706398010254,
          20.406137466430664,
          20.409706115722656,
          20.413637161254883,
          20.418197631835938,
          20.42746353149414,
          20.43000030517578,
          20.434667587280273,
          20.440284729003906,
          20.4404296875,
          20.443069458007812,
          20.445158004760742,
          20.45216178894043,
          20.452247619628906,
          20.457244873046875,
          20.457618713378906,
          20.473617553710938,
          20.47579002380371,
          20.483612060546875,
          20.495159149169922,
          20.499465942382812,
          20.503429412841797,
          20.509838104248047,
          20.515216827392578,
          20.52189064025879,
          20.5281925201416,
          20.532155990600586,
          20.54585075378418,
          20.552968978881836,
          20.576887130737305,
          20.60999870300293,
          20.611818313598633,
          20.61220932006836,
          20.614479064941406,
          20.634042739868164,
          20.6384220123291,
          20.647676467895508,
          20.65691375732422,
          20.678054809570312,
          20.680593490600586,
          20.71208953857422,
          20.73084259033203,
          20.732500076293945,
          20.736284255981445,
          20.738510131835938,
          20.74175262451172,
          20.7431583404541,
          20.754735946655273,
          20.76709747314453,
          20.78126335144043,
          20.78159523010254,
          20.78704833984375,
          20.800634384155273,
          20.818105697631836,
          20.82438087463379,
          20.82866668701172,
          20.831697463989258,
          20.84292984008789,
          20.84418487548828,
          20.883684158325195,
          20.889999389648438,
          20.890850067138672,
          20.9084529876709,
          20.909622192382812,
          20.91412353515625,
          20.91766357421875,
          20.957216262817383,
          20.959062576293945,
          20.961030960083008,
          20.964677810668945,
          21,
          21.005735397338867,
          21.008865356445312,
          21.011249542236328,
          21.01571273803711,
          21.020631790161133,
          21.028316497802734,
          21.032447814941406,
          21.042659759521484,
          21.04622459411621,
          21.07468032836914,
          21.093473434448242,
          21.121721267700195,
          21.168973922729492,
          21.187332153320312,
          21.192203521728516,
          21.19268798828125,
          21.194656372070312,
          21.205631256103516,
          21.216501235961914,
          21.21875,
          21.230998992919922,
          21.250314712524414,
          21.278297424316406,
          21.305957794189453,
          21.32395362854004,
          21.32787322998047,
          21.333829879760742,
          21.356456756591797,
          21.372455596923828,
          21.37733268737793,
          21.389907836914062,
          21.39239501953125,
          21.419099807739258,
          21.432083129882812,
          21.458314895629883,
          21.522563934326172,
          21.537473678588867,
          21.553091049194336,
          21.57677459716797,
          21.597341537475586,
          21.607467651367188,
          21.62823486328125,
          21.643373489379883,
          21.64370346069336,
          21.66094207763672,
          21.67814826965332,
          21.71797752380371,
          21.789804458618164,
          21.802000045776367,
          21.80769157409668,
          21.808706283569336,
          21.86905288696289,
          21.889204025268555,
          21.900285720825195,
          21.954418182373047,
          21.97294044494629,
          22.03325843811035,
          22.03697395324707,
          22.0625,
          22.065401077270508,
          22.09107208251953,
          22.157358169555664,
          22.200740814208984,
          22.213205337524414,
          22.25176429748535,
          22.253673553466797,
          22.30020523071289,
          22.339895248413086,
          22.455333709716797,
          22.546316146850586,
          22.552526473999023,
          22.55524444580078,
          22.582040786743164,
          22.59136962890625,
          22.605512619018555,
          22.614423751831055,
          22.652841567993164,
          22.67009925842285,
          22.688541412353516,
          22.697052001953125,
          22.727893829345703,
          22.73948860168457,
          22.75957489013672,
          22.785980224609375,
          22.818063735961914,
          22.839385986328125,
          22.87234115600586,
          22.87734031677246,
          22.881427764892578,
          22.951881408691406,
          22.97821044921875,
          22.993736267089844,
          23.034536361694336,
          23.03946876525879,
          23.048086166381836,
          23.05530548095703,
          23.074432373046875,
          23.09747314453125,
          23.11833381652832,
          23.126325607299805,
          23.127262115478516,
          23.139118194580078,
          23.190105438232422,
          23.206266403198242,
          23.218042373657227,
          23.219091415405273,
          23.221765518188477,
          23.230789184570312,
          23.24951171875,
          23.255897521972656,
          23.267318725585938,
          23.275936126708984,
          23.285001754760742,
          23.346357345581055,
          23.375,
          23.407846450805664,
          23.41575813293457,
          23.49126434326172,
          23.529998779296875,
          23.536924362182617,
          23.540241241455078,
          23.549734115600586,
          23.581159591674805,
          23.622709274291992,
          23.635852813720703,
          23.63705062866211,
          23.654186248779297,
          23.659626007080078,
          23.6635799407959,
          23.664838790893555,
          23.67432403564453,
          23.721220016479492,
          23.72447395324707,
          23.752105712890625,
          23.75917625427246,
          23.763126373291016,
          23.788280487060547,
          23.80000114440918,
          23.814228057861328,
          23.826828002929688,
          23.829740524291992,
          23.83006477355957,
          23.83315658569336,
          23.833656311035156,
          23.837875366210938,
          23.83912467956543,
          23.872316360473633,
          23.875890731811523,
          23.88580322265625,
          23.921504974365234,
          23.951894760131836,
          24.00326156616211,
          24.00370979309082,
          24.004329681396484,
          24.0124454498291,
          24.0213565826416,
          24.022201538085938,
          24.05712890625,
          24.080917358398438,
          24.083541870117188,
          24.086837768554688,
          24.088247299194336,
          24.090625762939453,
          24.1105899810791,
          24.12423324584961,
          24.130903244018555,
          24.144433975219727,
          24.144765853881836,
          24.14543342590332,
          24.154273986816406,
          24.1669921875,
          24.178125381469727,
          24.22372055053711,
          24.232316970825195,
          24.238855361938477,
          24.24333381652832,
          24.24775505065918,
          24.25604248046875,
          24.271652221679688,
          24.27743148803711,
          24.285642623901367,
          24.290632247924805,
          24.29749870300293,
          24.300518035888672,
          24.304468154907227,
          24.31302833557129,
          24.31601905822754,
          24.336200714111328,
          24.33636474609375,
          24.336509704589844,
          24.37049102783203,
          24.37575340270996,
          24.379112243652344,
          24.41604232788086,
          24.429443359375,
          24.437938690185547,
          24.44229507446289,
          24.44580078125,
          24.45618438720703,
          24.456756591796875,
          24.458824157714844,
          24.459999084472656,
          24.46404266357422,
          24.496868133544922,
          24.50613021850586,
          24.511817932128906,
          24.53021240234375,
          24.550495147705078,
          24.559843063354492,
          24.562122344970703,
          24.602252960205078,
          24.630342483520508,
          24.63116455078125,
          24.63187599182129,
          24.65225601196289,
          24.663368225097656,
          24.66852569580078,
          24.6949462890625,
          24.699495315551758,
          24.70383071899414,
          24.718017578125,
          24.72161293029785,
          24.728404998779297,
          24.745973587036133,
          24.767580032348633,
          24.784997940063477,
          24.811580657958984,
          24.816844940185547,
          24.84649085998535,
          24.874189376831055,
          24.874570846557617,
          24.901945114135742,
          24.917531967163086,
          24.924846649169922,
          24.96913719177246,
          24.97563934326172,
          24.99090003967285,
          25.002479553222656,
          25.01892852783203,
          25.040672302246094,
          25.045576095581055,
          25.111597061157227,
          25.136320114135742,
          25.1732177734375,
          25.350982666015625,
          25.469127655029297,
          25.746627807617188,
          25.833436965942383,
          26.06682777404785,
          26.243804931640625,
          26.601652145385742,
          26.613609313964844,
          27.10835838317871,
          27.25841522216797,
          27.276836395263672,
          27.415130615234375
         ]
        },
        {
         "mode": "lines",
         "name": "Predicted Values",
         "type": "scatter",
         "x": [
          0,
          1,
          2,
          3,
          4,
          5,
          6,
          7,
          8,
          9,
          10,
          11,
          12,
          13,
          14,
          15,
          16,
          17,
          18,
          19,
          20,
          21,
          22,
          23,
          24,
          25,
          26,
          27,
          28,
          29,
          30,
          31,
          32,
          33,
          34,
          35,
          36,
          37,
          38,
          39,
          40,
          41,
          42,
          43,
          44,
          45,
          46,
          47,
          48,
          49,
          50,
          51,
          52,
          53,
          54,
          55,
          56,
          57,
          58,
          59,
          60,
          61,
          62,
          63,
          64,
          65,
          66,
          67,
          68,
          69,
          70,
          71,
          72,
          73,
          74,
          75,
          76,
          77,
          78,
          79,
          80,
          81,
          82,
          83,
          84,
          85,
          86,
          87,
          88,
          89,
          90,
          91,
          92,
          93,
          94,
          95,
          96,
          97,
          98,
          99,
          100,
          101,
          102,
          103,
          104,
          105,
          106,
          107,
          108,
          109,
          110,
          111,
          112,
          113,
          114,
          115,
          116,
          117,
          118,
          119,
          120,
          121,
          122,
          123,
          124,
          125,
          126,
          127,
          128,
          129,
          130,
          131,
          132,
          133,
          134,
          135,
          136,
          137,
          138,
          139,
          140,
          141,
          142,
          143,
          144,
          145,
          146,
          147,
          148,
          149,
          150,
          151,
          152,
          153,
          154,
          155,
          156,
          157,
          158,
          159,
          160,
          161,
          162,
          163,
          164,
          165,
          166,
          167,
          168,
          169,
          170,
          171,
          172,
          173,
          174,
          175,
          176,
          177,
          178,
          179,
          180,
          181,
          182,
          183,
          184,
          185,
          186,
          187,
          188,
          189,
          190,
          191,
          192,
          193,
          194,
          195,
          196,
          197,
          198,
          199,
          200,
          201,
          202,
          203,
          204,
          205,
          206,
          207,
          208,
          209,
          210,
          211,
          212,
          213,
          214,
          215,
          216,
          217,
          218,
          219,
          220,
          221,
          222,
          223,
          224,
          225,
          226,
          227,
          228,
          229,
          230,
          231,
          232,
          233,
          234,
          235,
          236,
          237,
          238,
          239,
          240,
          241,
          242,
          243,
          244,
          245,
          246,
          247,
          248,
          249,
          250,
          251,
          252,
          253,
          254,
          255,
          256,
          257,
          258,
          259,
          260,
          261,
          262,
          263,
          264,
          265,
          266,
          267,
          268,
          269,
          270,
          271,
          272,
          273,
          274,
          275,
          276,
          277,
          278,
          279,
          280,
          281,
          282,
          283,
          284,
          285,
          286,
          287,
          288,
          289,
          290,
          291,
          292,
          293,
          294,
          295,
          296,
          297,
          298,
          299,
          300,
          301,
          302,
          303,
          304,
          305,
          306,
          307,
          308,
          309,
          310,
          311,
          312,
          313,
          314,
          315,
          316,
          317,
          318,
          319,
          320,
          321,
          322,
          323,
          324,
          325,
          326,
          327,
          328,
          329,
          330,
          331,
          332,
          333,
          334,
          335,
          336,
          337,
          338,
          339,
          340,
          341,
          342,
          343,
          344,
          345,
          346,
          347,
          348,
          349,
          350,
          351,
          352,
          353,
          354,
          355,
          356,
          357,
          358,
          359,
          360,
          361,
          362,
          363,
          364,
          365,
          366,
          367,
          368,
          369,
          370,
          371,
          372,
          373,
          374,
          375,
          376,
          377,
          378,
          379,
          380,
          381,
          382,
          383,
          384,
          385,
          386,
          387,
          388,
          389,
          390
         ],
         "y": [
          19.277841567993164,
          19.30307960510254,
          20.978837966918945,
          19.466062545776367,
          19.543437957763672,
          19.690128326416016,
          20.133665084838867,
          19.63503646850586,
          19.56612205505371,
          19.543628692626953,
          19.517894744873047,
          19.39365577697754,
          19.495180130004883,
          19.44344711303711,
          19.453170776367188,
          21.80335807800293,
          20.061067581176758,
          19.822223663330078,
          19.428756713867188,
          19.394044876098633,
          19.574399948120117,
          19.657102584838867,
          20.273658752441406,
          19.913414001464844,
          20.012327194213867,
          20.235206604003906,
          19.915752410888672,
          20.463111877441406,
          20.04557991027832,
          19.99515151977539,
          20.598743438720703,
          20.143739700317383,
          19.879337310791016,
          20.118820190429688,
          20.036401748657227,
          20.254188537597656,
          20.117856979370117,
          20.246484756469727,
          20.534469604492188,
          20.175180435180664,
          20.333250045776367,
          20.26106071472168,
          20.12057876586914,
          19.642269134521484,
          20.340261459350586,
          20.129974365234375,
          20.26331329345703,
          20.176225662231445,
          20.432209014892578,
          20.28662872314453,
          20.281888961791992,
          20.284276962280273,
          20.70526885986328,
          20.303306579589844,
          20.22562599182129,
          20.17892837524414,
          20.12446403503418,
          20.204404830932617,
          20.419525146484375,
          20.309789657592773,
          20.190383911132812,
          20.5533447265625,
          20.30552864074707,
          20.43861198425293,
          20.240421295166016,
          20.48289680480957,
          20.46419906616211,
          20.335336685180664,
          20.578964233398438,
          20.30560874938965,
          20.21004295349121,
          20.332324981689453,
          20.596094131469727,
          20.372705459594727,
          20.495882034301758,
          20.67399787902832,
          20.252275466918945,
          20.431421279907227,
          20.209030151367188,
          20.50429344177246,
          20.42999267578125,
          20.55741310119629,
          20.433197021484375,
          20.499881744384766,
          20.601572036743164,
          20.39853286743164,
          20.395370483398438,
          20.48044776916504,
          20.39987564086914,
          20.478822708129883,
          20.39136505126953,
          20.56654167175293,
          20.420578002929688,
          20.339460372924805,
          20.336244583129883,
          20.653411865234375,
          20.402803421020508,
          20.509532928466797,
          20.539600372314453,
          20.46335220336914,
          20.331666946411133,
          20.63936996459961,
          20.603212356567383,
          20.660415649414062,
          20.079654693603516,
          20.601585388183594,
          20.56254005432129,
          20.734458923339844,
          20.725740432739258,
          20.697490692138672,
          20.10799789428711,
          20.760757446289062,
          20.907106399536133,
          20.668813705444336,
          20.570053100585938,
          21.050668716430664,
          20.36285972595215,
          20.755748748779297,
          20.358985900878906,
          20.558958053588867,
          20.54633140563965,
          20.596223831176758,
          21.069963455200195,
          20.712589263916016,
          20.958145141601562,
          20.47562026977539,
          21.56862449645996,
          20.904869079589844,
          20.786514282226562,
          20.54787826538086,
          20.795562744140625,
          20.859132766723633,
          20.868717193603516,
          20.68320655822754,
          20.978376388549805,
          20.67138671875,
          20.5667667388916,
          21.063312530517578,
          20.30472755432129,
          21.130569458007812,
          20.831436157226562,
          20.752424240112305,
          20.952545166015625,
          20.72747230529785,
          21.116016387939453,
          21.923011779785156,
          21.278804779052734,
          21.067331314086914,
          21.961647033691406,
          21.090757369995117,
          21.210683822631836,
          21.011844635009766,
          21.24957275390625,
          20.842927932739258,
          21.355350494384766,
          21.024188995361328,
          21.190725326538086,
          21.282184600830078,
          21.014328002929688,
          21.088064193725586,
          21.574838638305664,
          21.098426818847656,
          21.327795028686523,
          21.84187889099121,
          21.420745849609375,
          21.234981536865234,
          21.412721633911133,
          20.815818786621094,
          21.38465690612793,
          21.3151912689209,
          21.328105926513672,
          21.455881118774414,
          20.61929702758789,
          21.591949462890625,
          21.566240310668945,
          21.86139678955078,
          21.88001823425293,
          21.97060203552246,
          21.871973037719727,
          21.76890754699707,
          20.847400665283203,
          22.074138641357422,
          21.58620262145996,
          21.864238739013672,
          21.868959426879883,
          21.795482635498047,
          22.279909133911133,
          20.99993133544922,
          21.998367309570312,
          22.303133010864258,
          21.715726852416992,
          22.30193328857422,
          21.85243797302246,
          22.288761138916016,
          22.42076873779297,
          21.499940872192383,
          21.087909698486328,
          21.66185188293457,
          22.09809112548828,
          21.94327163696289,
          21.753170013427734,
          22.72386932373047,
          22.21992301940918,
          22.113677978515625,
          22.634628295898438,
          22.412879943847656,
          22.607561111450195,
          22.600120544433594,
          22.426301956176758,
          22.666454315185547,
          22.854873657226562,
          22.819211959838867,
          22.798158645629883,
          22.555391311645508,
          22.793773651123047,
          23.511402130126953,
          22.75389862060547,
          22.58295249938965,
          22.3420467376709,
          23.228422164916992,
          23.799903869628906,
          22.833866119384766,
          23.005584716796875,
          22.86448097229004,
          23.85335922241211,
          22.965967178344727,
          23.719919204711914,
          22.917570114135742,
          23.18462562561035,
          22.97838592529297,
          23.008941650390625,
          22.97675895690918,
          23.14300537109375,
          22.98945426940918,
          23.237804412841797,
          22.94270896911621,
          22.956769943237305,
          23.535886764526367,
          23.45642852783203,
          23.204130172729492,
          23.03963851928711,
          23.391599655151367,
          22.954524993896484,
          23.285524368286133,
          23.308008193969727,
          22.689979553222656,
          23.24888801574707,
          23.526168823242188,
          23.128564834594727,
          23.49013328552246,
          23.444307327270508,
          23.81456184387207,
          23.475900650024414,
          23.520748138427734,
          23.649293899536133,
          23.652679443359375,
          23.791404724121094,
          23.66899299621582,
          23.48587989807129,
          23.536605834960938,
          23.792129516601562,
          23.579788208007812,
          23.53685760498047,
          23.677608489990234,
          24.00647735595703,
          23.96078109741211,
          23.757667541503906,
          23.66535186767578,
          23.54743766784668,
          23.225204467773438,
          24.114398956298828,
          23.84104347229004,
          23.726242065429688,
          24.33820152282715,
          23.59910774230957,
          23.767826080322266,
          24.681304931640625,
          24.343929290771484,
          23.367515563964844,
          23.730884552001953,
          23.731708526611328,
          24.081323623657227,
          23.810808181762695,
          24.126867294311523,
          23.650352478027344,
          23.877918243408203,
          23.414682388305664,
          24.10712432861328,
          23.996763229370117,
          24.37310218811035,
          24.376365661621094,
          23.846588134765625,
          24.049236297607422,
          24.272302627563477,
          24.167583465576172,
          24.37221908569336,
          23.954172134399414,
          23.905057907104492,
          24.209455490112305,
          24.026987075805664,
          24.20097541809082,
          24.007471084594727,
          24.55422019958496,
          24.329256057739258,
          24.206390380859375,
          24.704925537109375,
          24.152393341064453,
          24.60249900817871,
          24.144729614257812,
          24.80615234375,
          24.187881469726562,
          24.247434616088867,
          24.640625,
          24.283449172973633,
          24.205730438232422,
          24.344703674316406,
          23.84101676940918,
          25.301483154296875,
          24.1682186126709,
          24.383319854736328,
          24.21070098876953,
          24.222007751464844,
          24.280120849609375,
          24.357648849487305,
          23.678138732910156,
          24.117544174194336,
          24.460641860961914,
          24.607999801635742,
          24.520761489868164,
          24.521352767944336,
          24.471498489379883,
          24.84548568725586,
          24.48639488220215,
          24.394908905029297,
          24.937944412231445,
          24.229328155517578,
          24.555675506591797,
          24.585050582885742,
          24.56679916381836,
          24.654281616210938,
          23.965330123901367,
          24.617929458618164,
          24.605037689208984,
          24.905261993408203,
          24.300018310546875,
          25.19036102294922,
          24.321685791015625,
          24.728261947631836,
          24.657114028930664,
          24.684995651245117,
          25.06399917602539,
          24.64995574951172,
          24.758056640625,
          24.651790618896484,
          25.1313419342041,
          24.84939956665039,
          24.89811134338379,
          24.661163330078125,
          24.431318283081055,
          24.767980575561523,
          24.745922088623047,
          24.479116439819336,
          24.497053146362305,
          24.659337997436523,
          25.215011596679688,
          25.324663162231445,
          25.091398239135742,
          24.914194107055664,
          24.759849548339844,
          25.092838287353516,
          24.940412521362305,
          24.96804428100586,
          24.64459228515625,
          25.09432029724121,
          25.237977981567383,
          24.89459800720215,
          25.143823623657227,
          25.321483612060547,
          24.992765426635742,
          24.779586791992188,
          24.74267578125,
          25.313518524169922,
          25.779529571533203,
          25.784393310546875,
          25.65142250061035,
          27.520248413085938,
          26.8663272857666,
          25.550031661987305,
          26.663345336914062,
          27.27277374267578,
          27.237201690673828
         ]
        },
        {
         "mode": "lines",
         "name": "Naive",
         "type": "scatter",
         "x": [
          0,
          1,
          2,
          3,
          4,
          5,
          6,
          7,
          8,
          9,
          10,
          11,
          12,
          13,
          14,
          15,
          16,
          17,
          18,
          19,
          20,
          21,
          22,
          23,
          24,
          25,
          26,
          27,
          28,
          29,
          30,
          31,
          32,
          33,
          34,
          35,
          36,
          37,
          38,
          39,
          40,
          41,
          42,
          43,
          44,
          45,
          46,
          47,
          48,
          49,
          50,
          51,
          52,
          53,
          54,
          55,
          56,
          57,
          58,
          59,
          60,
          61,
          62,
          63,
          64,
          65,
          66,
          67,
          68,
          69,
          70,
          71,
          72,
          73,
          74,
          75,
          76,
          77,
          78,
          79,
          80,
          81,
          82,
          83,
          84,
          85,
          86,
          87,
          88,
          89,
          90,
          91,
          92,
          93,
          94,
          95,
          96,
          97,
          98,
          99,
          100,
          101,
          102,
          103,
          104,
          105,
          106,
          107,
          108,
          109,
          110,
          111,
          112,
          113,
          114,
          115,
          116,
          117,
          118,
          119,
          120,
          121,
          122,
          123,
          124,
          125,
          126,
          127,
          128,
          129,
          130,
          131,
          132,
          133,
          134,
          135,
          136,
          137,
          138,
          139,
          140,
          141,
          142,
          143,
          144,
          145,
          146,
          147,
          148,
          149,
          150,
          151,
          152,
          153,
          154,
          155,
          156,
          157,
          158,
          159,
          160,
          161,
          162,
          163,
          164,
          165,
          166,
          167,
          168,
          169,
          170,
          171,
          172,
          173,
          174,
          175,
          176,
          177,
          178,
          179,
          180,
          181,
          182,
          183,
          184,
          185,
          186,
          187,
          188,
          189,
          190,
          191,
          192,
          193,
          194,
          195,
          196,
          197,
          198,
          199,
          200,
          201,
          202,
          203,
          204,
          205,
          206,
          207,
          208,
          209,
          210,
          211,
          212,
          213,
          214,
          215,
          216,
          217,
          218,
          219,
          220,
          221,
          222,
          223,
          224,
          225,
          226,
          227,
          228,
          229,
          230,
          231,
          232,
          233,
          234,
          235,
          236,
          237,
          238,
          239,
          240,
          241,
          242,
          243,
          244,
          245,
          246,
          247,
          248,
          249,
          250,
          251,
          252,
          253,
          254,
          255,
          256,
          257,
          258,
          259,
          260,
          261,
          262,
          263,
          264,
          265,
          266,
          267,
          268,
          269,
          270,
          271,
          272,
          273,
          274,
          275,
          276,
          277,
          278,
          279,
          280,
          281,
          282,
          283,
          284,
          285,
          286,
          287,
          288,
          289,
          290,
          291,
          292,
          293,
          294,
          295,
          296,
          297,
          298,
          299,
          300,
          301,
          302,
          303,
          304,
          305,
          306,
          307,
          308,
          309,
          310,
          311,
          312,
          313,
          314,
          315,
          316,
          317,
          318,
          319,
          320,
          321,
          322,
          323,
          324,
          325,
          326,
          327,
          328,
          329,
          330,
          331,
          332,
          333,
          334,
          335,
          336,
          337,
          338,
          339,
          340,
          341,
          342,
          343,
          344,
          345,
          346,
          347,
          348,
          349,
          350,
          351,
          352,
          353,
          354,
          355,
          356,
          357,
          358,
          359,
          360,
          361,
          362,
          363,
          364,
          365,
          366,
          367,
          368,
          369,
          370,
          371,
          372,
          373,
          374,
          375,
          376,
          377,
          378,
          379,
          380,
          381,
          382,
          383,
          384,
          385,
          386,
          387,
          388,
          389,
          390
         ],
         "y": [
          19.367549899142798,
          18.96512094642635,
          21.389050925925925,
          19.538584528080776,
          19.42651166839697,
          20.00292946965264,
          20.008171996476946,
          19.594700014037358,
          19.538917593071627,
          19.43673163760365,
          19.56239241808856,
          18.820207067818746,
          19.598539325842697,
          19.470977865881636,
          19.601894585320114,
          21.827569444444446,
          20.06340061369473,
          19.959053123347243,
          19.711274795990697,
          19.290378497843495,
          19.451177960691698,
          19.68068676871531,
          20.678350515572998,
          19.845584647712354,
          19.974193378406863,
          19.955612998113,
          19.77467869189028,
          21.477638292290347,
          20.073626224026604,
          20.110553089475115,
          20.894576700394474,
          20.43182763400455,
          19.93829588490539,
          20.078141481191057,
          20.22819735838682,
          19.93941919191919,
          19.9956683540945,
          20.260828037263142,
          20.780004975666895,
          20.42569415839855,
          20.291160842043052,
          20.421173540380686,
          20.47723318322335,
          19.906985288336642,
          20.293084694226703,
          19.969811390416343,
          20.488241718959376,
          20.25446730745303,
          20.18524563106845,
          20.320433399069064,
          20.481823449103796,
          20.34312180258079,
          20.490224618399832,
          20.337247888671147,
          20.29109186782803,
          20.581249433041098,
          20.520529781069477,
          20.323288374501104,
          20.341126308055234,
          20.238545300941812,
          20.456024958530225,
          20.469821283361686,
          20.48183646128445,
          20.677590884371767,
          20.379101447857987,
          20.99364321023169,
          20.374226739560616,
          20.458640078457012,
          20.70860556032505,
          20.354542677552285,
          20.489549169366104,
          20.362006043188625,
          20.66905896387307,
          20.422284900563096,
          20.449393887423316,
          20.44694409037923,
          20.359659704443693,
          20.499652757116866,
          20.427261116397244,
          20.433206349206348,
          20.769649546147527,
          20.816738583407414,
          20.520153579782505,
          20.564065749480083,
          20.499198204582132,
          20.55160305991999,
          20.437481137621155,
          20.51426664983949,
          20.42145090020325,
          20.511095597092815,
          20.616659616945565,
          20.661893920716576,
          20.548035915896353,
          20.431024154945998,
          20.285648006651947,
          20.71981828147926,
          20.51240196035565,
          20.558730813127173,
          20.804934283617683,
          20.57690785474324,
          20.42761397544632,
          20.817843045582354,
          21.12244777318296,
          20.636493860801895,
          19.869755378452048,
          20.909769465488214,
          20.764610574906325,
          20.770406396101453,
          20.829816397429216,
          20.792721256464176,
          19.08441221490083,
          21.048177314037158,
          21.230447532538808,
          20.90931821186388,
          20.57775761399303,
          21.082579249812635,
          20.226459925608363,
          21.025651545197213,
          20.170057010174386,
          20.82344539598239,
          20.870682192584812,
          20.907648910793114,
          21.46240308997788,
          20.91318714509704,
          21.39221028511588,
          20.756729336170075,
          22.354706493381503,
          21.971509681342013,
          21.0114860719635,
          20.874438718767106,
          20.811005610768945,
          20.927560864604764,
          21.34113633199408,
          20.822987483749767,
          20.95704761904762,
          20.928888246500087,
          20.827245556255264,
          20.958492063492063,
          20.94556968889286,
          21.47938671601266,
          21.10068985434015,
          20.978598745698854,
          21.070472422462583,
          20.750842492797464,
          21.016858397100908,
          22.71701414395123,
          21.3919855934853,
          21.270583329444403,
          20.9413502936238,
          21.126832363918357,
          21.510844959250964,
          21.109261236415723,
          22.346449435832017,
          20.85026309310281,
          21.67724506100821,
          21.29821209101409,
          21.435766672135326,
          21.61090833379376,
          21.404403480677,
          21.310399330131563,
          22.02943790659444,
          21.01207923337667,
          21.568519197197805,
          22.1262201408744,
          21.875230493418027,
          21.51091315167351,
          21.878528706468614,
          20.754778729315728,
          21.714215890812046,
          21.665284762518805,
          21.297996931664517,
          21.713989506820926,
          20.63429374558785,
          21.792770510986752,
          21.760367690681864,
          21.92100409091982,
          20.9234555817162,
          21.848665068564163,
          21.68819835496961,
          20.96529162489557,
          20.85089411405588,
          21.976978932458582,
          21.383563024802005,
          21.63193248195374,
          21.81722204550303,
          21.76876442088347,
          22.81342830699479,
          20.983735205116997,
          21.74713104610282,
          22.01802924025617,
          21.614450415956608,
          22.218435839657214,
          21.847307685757468,
          22.66192283735536,
          22.964797995985496,
          21.854351657329598,
          21.085034015203302,
          21.783735413902406,
          22.423781432133584,
          21.92950282234106,
          21.772975705397275,
          23.222417514572385,
          22.606101684206717,
          23.28498118271826,
          23.140229376668028,
          22.81830068824192,
          22.66486135361552,
          22.636633270468838,
          21.25559972000939,
          22.69490746247742,
          21.737663404963367,
          22.692544471577865,
          23.00776469495049,
          22.96379566944916,
          23.061605480900834,
          24.020589672690548,
          22.657412954302462,
          22.995309410705104,
          21.49069692164666,
          23.52174122079447,
          24.328672390122666,
          22.827172296449664,
          22.834204545734224,
          22.93643129140042,
          24.298745721423405,
          23.200884455763063,
          23.683413538711708,
          23.50155052408701,
          23.909273195989016,
          22.789366228333236,
          23.6847117543911,
          23.203536487728112,
          22.187791889047286,
          22.79283028062082,
          23.385619484401346,
          23.293757940600756,
          22.840295536814807,
          23.62369095560872,
          23.040638760294172,
          22.624699665731658,
          23.148171163363404,
          23.02006686486934,
          23.46399687712261,
          23.498387994265595,
          23.453951137897025,
          22.75627364901264,
          22.805227385199547,
          22.99472745418328,
          23.68662537742996,
          23.21889412084995,
          23.19717675358743,
          23.58424296123373,
          23.644340621793088,
          23.842576075400448,
          23.704653091635482,
          23.586557827117606,
          23.910836229021523,
          23.60062132354747,
          22.468483121819176,
          23.67801370409275,
          23.724190703575616,
          23.740530508791966,
          22.412664419995252,
          23.3055980940356,
          23.75050559049014,
          23.946761270505775,
          23.493991391449054,
          24.042969625792654,
          24.505952986896876,
          22.833102326809534,
          23.378653399378056,
          24.163944076426684,
          23.7232118265745,
          24.792191179879683,
          23.10462981397687,
          23.549885794808336,
          24.970837694040906,
          23.825331503842392,
          23.576324097651575,
          23.761217498156853,
          24.055674601071726,
          23.94994134693593,
          24.11942476892153,
          23.916876510960197,
          23.229218999500976,
          22.977397199129786,
          23.552346353759024,
          23.910951982882864,
          24.532572877001027,
          24.10087126811233,
          23.95179466993362,
          24.316738656820576,
          24.335068686032702,
          23.96137894095104,
          24.40549991363127,
          24.17372092291679,
          23.92071959083569,
          23.824553784442063,
          23.789585443144215,
          24.66183843566314,
          24.27133047764387,
          24.125404517229622,
          24.724918126648124,
          24.199489415051303,
          24.710333644158343,
          25.124576707209144,
          23.76895178569278,
          24.125774771701227,
          24.30236563257417,
          24.528355544415746,
          24.080085282778764,
          23.812035181368653,
          25.50849384283219,
          24.53314208595241,
          24.19244776227338,
          24.312133163985276,
          23.746162467179857,
          24.28876067933742,
          24.03289725499063,
          24.446534112741464,
          24.599641107753786,
          23.7563142358787,
          24.009441888216088,
          24.45896257140461,
          22.66001322648982,
          23.992680539098263,
          24.090710330423025,
          24.2179635487136,
          24.59983268727024,
          24.556442332710958,
          24.516251154348428,
          24.678697827127824,
          24.30853793859649,
          24.568223313977423,
          24.608682700853084,
          23.752086527563563,
          24.78594084426066,
          24.251292104442967,
          24.00558338750903,
          24.809268851460445,
          22.839448025399506,
          24.794865308432374,
          24.883310922334193,
          24.893429533844596,
          24.579198807009135,
          24.449874214518857,
          24.222696479453944,
          24.696982050591256,
          24.85223527707484,
          24.813828227090685,
          25.121338177754804,
          24.77993324981411,
          24.920812015504396,
          24.437177656567837,
          25.12269818653525,
          24.970491638563193,
          25.039284819007275,
          24.970592974405992,
          24.652049446849446,
          25.103212633334753,
          24.929315804385453,
          24.048697533365587,
          24.76998259326039,
          24.272596475485457,
          24.73039213108382,
          25.304780659909948,
          24.421534564261353,
          24.743599817325926,
          25.136670464041984,
          25.056394461866347,
          25.333355518804108,
          24.401086319711023,
          25.164459424146468,
          24.70404153571427,
          24.73827049851603,
          24.718591294976207,
          25.161954986242876,
          25.056915834898053,
          24.934202011837858,
          24.255024347179184,
          24.110597357048984,
          25.98733143585588,
          25.930279458820934,
          25.78159978789867,
          25.504546588013465,
          28.21425123263299,
          26.678831233444612,
          25.05397076070122,
          26.662905434872012,
          27.311575195543224,
          27.204424715172546
         ]
        }
       ],
       "layout": {
        "template": {
         "data": {
          "bar": [
           {
            "error_x": {
             "color": "#2a3f5f"
            },
            "error_y": {
             "color": "#2a3f5f"
            },
            "marker": {
             "line": {
              "color": "#E5ECF6",
              "width": 0.5
             },
             "pattern": {
              "fillmode": "overlay",
              "size": 10,
              "solidity": 0.2
             }
            },
            "type": "bar"
           }
          ],
          "barpolar": [
           {
            "marker": {
             "line": {
              "color": "#E5ECF6",
              "width": 0.5
             },
             "pattern": {
              "fillmode": "overlay",
              "size": 10,
              "solidity": 0.2
             }
            },
            "type": "barpolar"
           }
          ],
          "carpet": [
           {
            "aaxis": {
             "endlinecolor": "#2a3f5f",
             "gridcolor": "white",
             "linecolor": "white",
             "minorgridcolor": "white",
             "startlinecolor": "#2a3f5f"
            },
            "baxis": {
             "endlinecolor": "#2a3f5f",
             "gridcolor": "white",
             "linecolor": "white",
             "minorgridcolor": "white",
             "startlinecolor": "#2a3f5f"
            },
            "type": "carpet"
           }
          ],
          "choropleth": [
           {
            "colorbar": {
             "outlinewidth": 0,
             "ticks": ""
            },
            "type": "choropleth"
           }
          ],
          "contour": [
           {
            "colorbar": {
             "outlinewidth": 0,
             "ticks": ""
            },
            "colorscale": [
             [
              0,
              "#0d0887"
             ],
             [
              0.1111111111111111,
              "#46039f"
             ],
             [
              0.2222222222222222,
              "#7201a8"
             ],
             [
              0.3333333333333333,
              "#9c179e"
             ],
             [
              0.4444444444444444,
              "#bd3786"
             ],
             [
              0.5555555555555556,
              "#d8576b"
             ],
             [
              0.6666666666666666,
              "#ed7953"
             ],
             [
              0.7777777777777778,
              "#fb9f3a"
             ],
             [
              0.8888888888888888,
              "#fdca26"
             ],
             [
              1,
              "#f0f921"
             ]
            ],
            "type": "contour"
           }
          ],
          "contourcarpet": [
           {
            "colorbar": {
             "outlinewidth": 0,
             "ticks": ""
            },
            "type": "contourcarpet"
           }
          ],
          "heatmap": [
           {
            "colorbar": {
             "outlinewidth": 0,
             "ticks": ""
            },
            "colorscale": [
             [
              0,
              "#0d0887"
             ],
             [
              0.1111111111111111,
              "#46039f"
             ],
             [
              0.2222222222222222,
              "#7201a8"
             ],
             [
              0.3333333333333333,
              "#9c179e"
             ],
             [
              0.4444444444444444,
              "#bd3786"
             ],
             [
              0.5555555555555556,
              "#d8576b"
             ],
             [
              0.6666666666666666,
              "#ed7953"
             ],
             [
              0.7777777777777778,
              "#fb9f3a"
             ],
             [
              0.8888888888888888,
              "#fdca26"
             ],
             [
              1,
              "#f0f921"
             ]
            ],
            "type": "heatmap"
           }
          ],
          "heatmapgl": [
           {
            "colorbar": {
             "outlinewidth": 0,
             "ticks": ""
            },
            "colorscale": [
             [
              0,
              "#0d0887"
             ],
             [
              0.1111111111111111,
              "#46039f"
             ],
             [
              0.2222222222222222,
              "#7201a8"
             ],
             [
              0.3333333333333333,
              "#9c179e"
             ],
             [
              0.4444444444444444,
              "#bd3786"
             ],
             [
              0.5555555555555556,
              "#d8576b"
             ],
             [
              0.6666666666666666,
              "#ed7953"
             ],
             [
              0.7777777777777778,
              "#fb9f3a"
             ],
             [
              0.8888888888888888,
              "#fdca26"
             ],
             [
              1,
              "#f0f921"
             ]
            ],
            "type": "heatmapgl"
           }
          ],
          "histogram": [
           {
            "marker": {
             "pattern": {
              "fillmode": "overlay",
              "size": 10,
              "solidity": 0.2
             }
            },
            "type": "histogram"
           }
          ],
          "histogram2d": [
           {
            "colorbar": {
             "outlinewidth": 0,
             "ticks": ""
            },
            "colorscale": [
             [
              0,
              "#0d0887"
             ],
             [
              0.1111111111111111,
              "#46039f"
             ],
             [
              0.2222222222222222,
              "#7201a8"
             ],
             [
              0.3333333333333333,
              "#9c179e"
             ],
             [
              0.4444444444444444,
              "#bd3786"
             ],
             [
              0.5555555555555556,
              "#d8576b"
             ],
             [
              0.6666666666666666,
              "#ed7953"
             ],
             [
              0.7777777777777778,
              "#fb9f3a"
             ],
             [
              0.8888888888888888,
              "#fdca26"
             ],
             [
              1,
              "#f0f921"
             ]
            ],
            "type": "histogram2d"
           }
          ],
          "histogram2dcontour": [
           {
            "colorbar": {
             "outlinewidth": 0,
             "ticks": ""
            },
            "colorscale": [
             [
              0,
              "#0d0887"
             ],
             [
              0.1111111111111111,
              "#46039f"
             ],
             [
              0.2222222222222222,
              "#7201a8"
             ],
             [
              0.3333333333333333,
              "#9c179e"
             ],
             [
              0.4444444444444444,
              "#bd3786"
             ],
             [
              0.5555555555555556,
              "#d8576b"
             ],
             [
              0.6666666666666666,
              "#ed7953"
             ],
             [
              0.7777777777777778,
              "#fb9f3a"
             ],
             [
              0.8888888888888888,
              "#fdca26"
             ],
             [
              1,
              "#f0f921"
             ]
            ],
            "type": "histogram2dcontour"
           }
          ],
          "mesh3d": [
           {
            "colorbar": {
             "outlinewidth": 0,
             "ticks": ""
            },
            "type": "mesh3d"
           }
          ],
          "parcoords": [
           {
            "line": {
             "colorbar": {
              "outlinewidth": 0,
              "ticks": ""
             }
            },
            "type": "parcoords"
           }
          ],
          "pie": [
           {
            "automargin": true,
            "type": "pie"
           }
          ],
          "scatter": [
           {
            "fillpattern": {
             "fillmode": "overlay",
             "size": 10,
             "solidity": 0.2
            },
            "type": "scatter"
           }
          ],
          "scatter3d": [
           {
            "line": {
             "colorbar": {
              "outlinewidth": 0,
              "ticks": ""
             }
            },
            "marker": {
             "colorbar": {
              "outlinewidth": 0,
              "ticks": ""
             }
            },
            "type": "scatter3d"
           }
          ],
          "scattercarpet": [
           {
            "marker": {
             "colorbar": {
              "outlinewidth": 0,
              "ticks": ""
             }
            },
            "type": "scattercarpet"
           }
          ],
          "scattergeo": [
           {
            "marker": {
             "colorbar": {
              "outlinewidth": 0,
              "ticks": ""
             }
            },
            "type": "scattergeo"
           }
          ],
          "scattergl": [
           {
            "marker": {
             "colorbar": {
              "outlinewidth": 0,
              "ticks": ""
             }
            },
            "type": "scattergl"
           }
          ],
          "scattermapbox": [
           {
            "marker": {
             "colorbar": {
              "outlinewidth": 0,
              "ticks": ""
             }
            },
            "type": "scattermapbox"
           }
          ],
          "scatterpolar": [
           {
            "marker": {
             "colorbar": {
              "outlinewidth": 0,
              "ticks": ""
             }
            },
            "type": "scatterpolar"
           }
          ],
          "scatterpolargl": [
           {
            "marker": {
             "colorbar": {
              "outlinewidth": 0,
              "ticks": ""
             }
            },
            "type": "scatterpolargl"
           }
          ],
          "scatterternary": [
           {
            "marker": {
             "colorbar": {
              "outlinewidth": 0,
              "ticks": ""
             }
            },
            "type": "scatterternary"
           }
          ],
          "surface": [
           {
            "colorbar": {
             "outlinewidth": 0,
             "ticks": ""
            },
            "colorscale": [
             [
              0,
              "#0d0887"
             ],
             [
              0.1111111111111111,
              "#46039f"
             ],
             [
              0.2222222222222222,
              "#7201a8"
             ],
             [
              0.3333333333333333,
              "#9c179e"
             ],
             [
              0.4444444444444444,
              "#bd3786"
             ],
             [
              0.5555555555555556,
              "#d8576b"
             ],
             [
              0.6666666666666666,
              "#ed7953"
             ],
             [
              0.7777777777777778,
              "#fb9f3a"
             ],
             [
              0.8888888888888888,
              "#fdca26"
             ],
             [
              1,
              "#f0f921"
             ]
            ],
            "type": "surface"
           }
          ],
          "table": [
           {
            "cells": {
             "fill": {
              "color": "#EBF0F8"
             },
             "line": {
              "color": "white"
             }
            },
            "header": {
             "fill": {
              "color": "#C8D4E3"
             },
             "line": {
              "color": "white"
             }
            },
            "type": "table"
           }
          ]
         },
         "layout": {
          "annotationdefaults": {
           "arrowcolor": "#2a3f5f",
           "arrowhead": 0,
           "arrowwidth": 1
          },
          "autotypenumbers": "strict",
          "coloraxis": {
           "colorbar": {
            "outlinewidth": 0,
            "ticks": ""
           }
          },
          "colorscale": {
           "diverging": [
            [
             0,
             "#8e0152"
            ],
            [
             0.1,
             "#c51b7d"
            ],
            [
             0.2,
             "#de77ae"
            ],
            [
             0.3,
             "#f1b6da"
            ],
            [
             0.4,
             "#fde0ef"
            ],
            [
             0.5,
             "#f7f7f7"
            ],
            [
             0.6,
             "#e6f5d0"
            ],
            [
             0.7,
             "#b8e186"
            ],
            [
             0.8,
             "#7fbc41"
            ],
            [
             0.9,
             "#4d9221"
            ],
            [
             1,
             "#276419"
            ]
           ],
           "sequential": [
            [
             0,
             "#0d0887"
            ],
            [
             0.1111111111111111,
             "#46039f"
            ],
            [
             0.2222222222222222,
             "#7201a8"
            ],
            [
             0.3333333333333333,
             "#9c179e"
            ],
            [
             0.4444444444444444,
             "#bd3786"
            ],
            [
             0.5555555555555556,
             "#d8576b"
            ],
            [
             0.6666666666666666,
             "#ed7953"
            ],
            [
             0.7777777777777778,
             "#fb9f3a"
            ],
            [
             0.8888888888888888,
             "#fdca26"
            ],
            [
             1,
             "#f0f921"
            ]
           ],
           "sequentialminus": [
            [
             0,
             "#0d0887"
            ],
            [
             0.1111111111111111,
             "#46039f"
            ],
            [
             0.2222222222222222,
             "#7201a8"
            ],
            [
             0.3333333333333333,
             "#9c179e"
            ],
            [
             0.4444444444444444,
             "#bd3786"
            ],
            [
             0.5555555555555556,
             "#d8576b"
            ],
            [
             0.6666666666666666,
             "#ed7953"
            ],
            [
             0.7777777777777778,
             "#fb9f3a"
            ],
            [
             0.8888888888888888,
             "#fdca26"
            ],
            [
             1,
             "#f0f921"
            ]
           ]
          },
          "colorway": [
           "#636efa",
           "#EF553B",
           "#00cc96",
           "#ab63fa",
           "#FFA15A",
           "#19d3f3",
           "#FF6692",
           "#B6E880",
           "#FF97FF",
           "#FECB52"
          ],
          "font": {
           "color": "#2a3f5f"
          },
          "geo": {
           "bgcolor": "white",
           "lakecolor": "white",
           "landcolor": "#E5ECF6",
           "showlakes": true,
           "showland": true,
           "subunitcolor": "white"
          },
          "hoverlabel": {
           "align": "left"
          },
          "hovermode": "closest",
          "mapbox": {
           "style": "light"
          },
          "paper_bgcolor": "white",
          "plot_bgcolor": "#E5ECF6",
          "polar": {
           "angularaxis": {
            "gridcolor": "white",
            "linecolor": "white",
            "ticks": ""
           },
           "bgcolor": "#E5ECF6",
           "radialaxis": {
            "gridcolor": "white",
            "linecolor": "white",
            "ticks": ""
           }
          },
          "scene": {
           "xaxis": {
            "backgroundcolor": "#E5ECF6",
            "gridcolor": "white",
            "gridwidth": 2,
            "linecolor": "white",
            "showbackground": true,
            "ticks": "",
            "zerolinecolor": "white"
           },
           "yaxis": {
            "backgroundcolor": "#E5ECF6",
            "gridcolor": "white",
            "gridwidth": 2,
            "linecolor": "white",
            "showbackground": true,
            "ticks": "",
            "zerolinecolor": "white"
           },
           "zaxis": {
            "backgroundcolor": "#E5ECF6",
            "gridcolor": "white",
            "gridwidth": 2,
            "linecolor": "white",
            "showbackground": true,
            "ticks": "",
            "zerolinecolor": "white"
           }
          },
          "shapedefaults": {
           "line": {
            "color": "#2a3f5f"
           }
          },
          "ternary": {
           "aaxis": {
            "gridcolor": "white",
            "linecolor": "white",
            "ticks": ""
           },
           "baxis": {
            "gridcolor": "white",
            "linecolor": "white",
            "ticks": ""
           },
           "bgcolor": "#E5ECF6",
           "caxis": {
            "gridcolor": "white",
            "linecolor": "white",
            "ticks": ""
           }
          },
          "title": {
           "x": 0.05
          },
          "xaxis": {
           "automargin": true,
           "gridcolor": "white",
           "linecolor": "white",
           "ticks": "",
           "title": {
            "standoff": 15
           },
           "zerolinecolor": "white",
           "zerolinewidth": 2
          },
          "yaxis": {
           "automargin": true,
           "gridcolor": "white",
           "linecolor": "white",
           "ticks": "",
           "title": {
            "standoff": 15
           },
           "zerolinecolor": "white",
           "zerolinewidth": 2
          }
         }
        },
        "title": {
         "text": "Real vs Predicted Values"
        },
        "xaxis": {
         "title": {
          "text": ""
         }
        },
        "yaxis": {
         "title": {
          "text": "Temerature"
         }
        }
       }
      }
     },
     "metadata": {},
     "output_type": "display_data"
    }
   ],
   "source": [
    "df = pd.DataFrame({'Real': y_test, 'Predicted': y_pred, 'Naive': y_naive})\n",
    "df.sort_values(by='Real', inplace=True)\n",
    "df.reset_index(drop=True, inplace=True)\n",
    "\n",
    "fig = go.Figure()\n",
    "fig.add_trace(go.Scatter(x=df.index, y=df['Real'], mode='lines', name='Real Values'))\n",
    "fig.add_trace(go.Scatter(x=df.index, y=df['Predicted'], mode='lines', name='Predicted Values'))\n",
    "fig.add_trace(go.Scatter(x=df.index, y=df['Naive'], mode='lines', name='Naive'))\n",
    "fig.update_layout(title='Real vs Predicted Values',\n",
    "                   xaxis_title='',\n",
    "                   yaxis_title='Temerature')\n",
    "\n"
   ]
  },
  {
   "cell_type": "code",
   "execution_count": 21,
   "metadata": {},
   "outputs": [
    {
     "data": {
      "text/plain": [
       "['NeuralNetworks/models/2024-06-27_03-19-14/encoder.pkl']"
      ]
     },
     "execution_count": 21,
     "metadata": {},
     "output_type": "execute_result"
    }
   ],
   "source": [
    "# save the current date and time in the format YYYY-MM-DD_HH-MM-SS\n",
    "time = str(pd.Timestamp.now().strftime('%Y-%m-%d_%H-%M-%S'))\n",
    "# create a directory to save the model\n",
    "os.makedirs(f'NeuralNetworks/models/{time}', exist_ok=True)\n",
    "fpath_model = f'NeuralNetworks/models/{time}/model.pt'\n",
    "fpath_x_scaler = f'NeuralNetworks/models/{time}/x_scaler.pkl'\n",
    "fpath_y_scaler = f'NeuralNetworks/models/{time}/y_scaler.pkl'\n",
    "fpath_encoder = f'NeuralNetworks/models/{time}/encoder.pkl'\n",
    "\n",
    "# Save the model\n",
    "torch.save(model, fpath_model)\n",
    "\n",
    "# Save the scalers\n",
    "joblib.dump(x_scaler, fpath_x_scaler)\n",
    "joblib.dump(y_scaler, fpath_y_scaler)\n",
    "\n",
    "# Save the encoder\n",
    "joblib.dump(encoder, fpath_encoder)"
   ]
  }
 ],
 "metadata": {
  "kernelspec": {
   "display_name": "base",
   "language": "python",
   "name": "python3"
  },
  "language_info": {
   "codemirror_mode": {
    "name": "ipython",
    "version": 3
   },
   "file_extension": ".py",
   "mimetype": "text/x-python",
   "name": "python",
   "nbconvert_exporter": "python",
   "pygments_lexer": "ipython3",
   "version": "3.9.19"
  }
 },
 "nbformat": 4,
 "nbformat_minor": 2
}
